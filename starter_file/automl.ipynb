{
  "cells": [
    {
      "cell_type": "markdown",
      "source": [
        "# Automated ML\n",
        "\n",
        "TODO: Import Dependencies. In the cell below, import all the dependencies that you will need to complete the project."
      ],
      "metadata": {
        "id": "m16UdA-A1j-o"
      }
    },
    {
      "cell_type": "code",
      "source": [
        "from azureml.core import Workspace, Experiment\n",
        "from azureml.core.compute import ComputeTarget, AmlCompute\n",
        "from azureml.core.compute_target import ComputeTargetException\n",
        "from azureml.core import Dataset\n",
        "from azureml.train.automl.utilities import get_primary_metrics\n",
        "from azureml.train.automl import AutoMLConfig\n",
        "from azureml.pipeline.steps import AutoMLStep\n",
        "from azureml.widgets import RunDetails\n",
        "import os\n",
        "import joblib"
      ],
      "outputs": [],
      "execution_count": 1,
      "metadata": {
        "gather": {
          "logged": 1612605865904
        },
        "jupyter": {
          "outputs_hidden": false,
          "source_hidden": false
        },
        "nteract": {
          "transient": {
            "deleting": false
          }
        },
        "colab": {
          "base_uri": "https://localhost:8080/",
          "height": 367
        },
        "id": "CnAPTg4q1j-7",
        "outputId": "cdeee3da-7ce4-4e48-c865-11b7a874145b"
      }
    },
    {
      "cell_type": "markdown",
      "source": [
        "## Dataset\n",
        "\n",
        "### Overview\n",
        "TODO: In this markdown cell, give an overview of the dataset you are using. Also mention the task you will be performing.\n",
        "\n",
        "\n",
        "TODO: Get data. In the cell below, write code to access the data you will be using in this project. Remember that the dataset needs to be external."
      ],
      "metadata": {
        "id": "VqJfYVVO1j-8"
      }
    },
    {
      "cell_type": "code",
      "source": [
        "ws = Workspace.from_config()\n",
        "\n",
        "# choose a name for experiment\n",
        "experiment_name = 'automl_hr_analytics'\n",
        "\n",
        "experiment=Experiment(ws, experiment_name)"
      ],
      "outputs": [],
      "execution_count": 2,
      "metadata": {
        "gather": {
          "logged": 1612605869508
        },
        "jupyter": {
          "outputs_hidden": false,
          "source_hidden": false
        },
        "nteract": {
          "transient": {
            "deleting": false
          }
        },
        "id": "jySGoEP91j-8"
      }
    },
    {
      "cell_type": "code",
      "source": [
        "ws"
      ],
      "outputs": [
        {
          "output_type": "execute_result",
          "execution_count": 3,
          "data": {
            "text/plain": "Workspace.create(name='quick-starts-ws-137424', subscription_id='f9d5a085-54dc-4215-9ba6-dad5d86e60a0', resource_group='aml-quickstarts-137424')"
          },
          "metadata": {}
        }
      ],
      "execution_count": 3,
      "metadata": {
        "id": "NVvCYLMA1-XM",
        "gather": {
          "logged": 1612605873571
        }
      }
    },
    {
      "cell_type": "code",
      "source": [
        "cpu_cluster_name = \"compute-cluster\"\n",
        "vm_size = \"Standard_DS3_V2\"\n",
        "try:\n",
        "    compute_target = ComputeTarget(workspace = ws, name= cpu_cluster_name)\n",
        "    print(\"Found already existing\")\n",
        "except ComputeTargetException:\n",
        "    compute_config = AmlCompute.provisioning_configuration(vm_size=vm_size, max_nodes=4)\n",
        "    compute_target = ComputeTarget.create(ws, cpu_cluster_name, compute_config)\n",
        "\n",
        "compute_target.wait_for_completion(show_output=True)"
      ],
      "outputs": [
        {
          "output_type": "stream",
          "name": "stdout",
          "text": [
            "Found already existing\n",
            "\n",
            "Running\n"
          ]
        }
      ],
      "execution_count": 4,
      "metadata": {
        "gather": {
          "logged": 1612605881433
        },
        "jupyter": {
          "outputs_hidden": false,
          "source_hidden": false
        },
        "nteract": {
          "transient": {
            "deleting": false
          }
        },
        "id": "tLovR45p1j-9"
      }
    },
    {
      "cell_type": "code",
      "source": [
        "dataset = Dataset.get_by_name(ws, name='data')\n",
        "dataset.to_pandas_dataframe()"
      ],
      "outputs": [
        {
          "output_type": "execute_result",
          "execution_count": 5,
          "data": {
            "text/plain": "       enrollee_id      city  city_development_index gender  \\\n0             8949  city_103                   0.920   Male   \n1            29725   city_40                   0.776   Male   \n2            11561   city_21                   0.624   None   \n3            33241  city_115                   0.789   None   \n4              666  city_162                   0.767   Male   \n...            ...       ...                     ...    ...   \n19153         7386  city_173                   0.878   Male   \n19154        31398  city_103                   0.920   Male   \n19155        24576  city_103                   0.920   Male   \n19156         5756   city_65                   0.802   Male   \n19157        23834   city_67                   0.855   None   \n\n           relevent_experience enrolled_university education_level  \\\n0      Has relevent experience       no_enrollment        Graduate   \n1       No relevent experience       no_enrollment        Graduate   \n2       No relevent experience    Full time course        Graduate   \n3       No relevent experience                None        Graduate   \n4      Has relevent experience       no_enrollment         Masters   \n...                        ...                 ...             ...   \n19153   No relevent experience       no_enrollment        Graduate   \n19154  Has relevent experience       no_enrollment        Graduate   \n19155  Has relevent experience       no_enrollment        Graduate   \n19156  Has relevent experience       no_enrollment     High School   \n19157   No relevent experience       no_enrollment  Primary School   \n\n      major_discipline experience company_size    company_type last_new_job  \\\n0                 STEM        >20         None            None            1   \n1                 STEM         15        50-99         Pvt Ltd           >4   \n2                 STEM          5         None            None        never   \n3      Business Degree         <1         None         Pvt Ltd        never   \n4                 STEM        >20        50-99  Funded Startup            4   \n...                ...        ...          ...             ...          ...   \n19153       Humanities         14         None            None            1   \n19154             STEM         14         None            None            4   \n19155             STEM        >20        50-99         Pvt Ltd            4   \n19156             None         <1      500-999         Pvt Ltd            2   \n19157             None          2         None            None            1   \n\n       training_hours  target  \n0                  36     1.0  \n1                  47     0.0  \n2                  83     0.0  \n3                  52     1.0  \n4                   8     0.0  \n...               ...     ...  \n19153              42     1.0  \n19154              52     1.0  \n19155              44     0.0  \n19156              97     0.0  \n19157             127     0.0  \n\n[19158 rows x 14 columns]",
            "text/html": "<div>\n<style scoped>\n    .dataframe tbody tr th:only-of-type {\n        vertical-align: middle;\n    }\n\n    .dataframe tbody tr th {\n        vertical-align: top;\n    }\n\n    .dataframe thead th {\n        text-align: right;\n    }\n</style>\n<table border=\"1\" class=\"dataframe\">\n  <thead>\n    <tr style=\"text-align: right;\">\n      <th></th>\n      <th>enrollee_id</th>\n      <th>city</th>\n      <th>city_development_index</th>\n      <th>gender</th>\n      <th>relevent_experience</th>\n      <th>enrolled_university</th>\n      <th>education_level</th>\n      <th>major_discipline</th>\n      <th>experience</th>\n      <th>company_size</th>\n      <th>company_type</th>\n      <th>last_new_job</th>\n      <th>training_hours</th>\n      <th>target</th>\n    </tr>\n  </thead>\n  <tbody>\n    <tr>\n      <th>0</th>\n      <td>8949</td>\n      <td>city_103</td>\n      <td>0.920</td>\n      <td>Male</td>\n      <td>Has relevent experience</td>\n      <td>no_enrollment</td>\n      <td>Graduate</td>\n      <td>STEM</td>\n      <td>&gt;20</td>\n      <td>None</td>\n      <td>None</td>\n      <td>1</td>\n      <td>36</td>\n      <td>1.0</td>\n    </tr>\n    <tr>\n      <th>1</th>\n      <td>29725</td>\n      <td>city_40</td>\n      <td>0.776</td>\n      <td>Male</td>\n      <td>No relevent experience</td>\n      <td>no_enrollment</td>\n      <td>Graduate</td>\n      <td>STEM</td>\n      <td>15</td>\n      <td>50-99</td>\n      <td>Pvt Ltd</td>\n      <td>&gt;4</td>\n      <td>47</td>\n      <td>0.0</td>\n    </tr>\n    <tr>\n      <th>2</th>\n      <td>11561</td>\n      <td>city_21</td>\n      <td>0.624</td>\n      <td>None</td>\n      <td>No relevent experience</td>\n      <td>Full time course</td>\n      <td>Graduate</td>\n      <td>STEM</td>\n      <td>5</td>\n      <td>None</td>\n      <td>None</td>\n      <td>never</td>\n      <td>83</td>\n      <td>0.0</td>\n    </tr>\n    <tr>\n      <th>3</th>\n      <td>33241</td>\n      <td>city_115</td>\n      <td>0.789</td>\n      <td>None</td>\n      <td>No relevent experience</td>\n      <td>None</td>\n      <td>Graduate</td>\n      <td>Business Degree</td>\n      <td>&lt;1</td>\n      <td>None</td>\n      <td>Pvt Ltd</td>\n      <td>never</td>\n      <td>52</td>\n      <td>1.0</td>\n    </tr>\n    <tr>\n      <th>4</th>\n      <td>666</td>\n      <td>city_162</td>\n      <td>0.767</td>\n      <td>Male</td>\n      <td>Has relevent experience</td>\n      <td>no_enrollment</td>\n      <td>Masters</td>\n      <td>STEM</td>\n      <td>&gt;20</td>\n      <td>50-99</td>\n      <td>Funded Startup</td>\n      <td>4</td>\n      <td>8</td>\n      <td>0.0</td>\n    </tr>\n    <tr>\n      <th>...</th>\n      <td>...</td>\n      <td>...</td>\n      <td>...</td>\n      <td>...</td>\n      <td>...</td>\n      <td>...</td>\n      <td>...</td>\n      <td>...</td>\n      <td>...</td>\n      <td>...</td>\n      <td>...</td>\n      <td>...</td>\n      <td>...</td>\n      <td>...</td>\n    </tr>\n    <tr>\n      <th>19153</th>\n      <td>7386</td>\n      <td>city_173</td>\n      <td>0.878</td>\n      <td>Male</td>\n      <td>No relevent experience</td>\n      <td>no_enrollment</td>\n      <td>Graduate</td>\n      <td>Humanities</td>\n      <td>14</td>\n      <td>None</td>\n      <td>None</td>\n      <td>1</td>\n      <td>42</td>\n      <td>1.0</td>\n    </tr>\n    <tr>\n      <th>19154</th>\n      <td>31398</td>\n      <td>city_103</td>\n      <td>0.920</td>\n      <td>Male</td>\n      <td>Has relevent experience</td>\n      <td>no_enrollment</td>\n      <td>Graduate</td>\n      <td>STEM</td>\n      <td>14</td>\n      <td>None</td>\n      <td>None</td>\n      <td>4</td>\n      <td>52</td>\n      <td>1.0</td>\n    </tr>\n    <tr>\n      <th>19155</th>\n      <td>24576</td>\n      <td>city_103</td>\n      <td>0.920</td>\n      <td>Male</td>\n      <td>Has relevent experience</td>\n      <td>no_enrollment</td>\n      <td>Graduate</td>\n      <td>STEM</td>\n      <td>&gt;20</td>\n      <td>50-99</td>\n      <td>Pvt Ltd</td>\n      <td>4</td>\n      <td>44</td>\n      <td>0.0</td>\n    </tr>\n    <tr>\n      <th>19156</th>\n      <td>5756</td>\n      <td>city_65</td>\n      <td>0.802</td>\n      <td>Male</td>\n      <td>Has relevent experience</td>\n      <td>no_enrollment</td>\n      <td>High School</td>\n      <td>None</td>\n      <td>&lt;1</td>\n      <td>500-999</td>\n      <td>Pvt Ltd</td>\n      <td>2</td>\n      <td>97</td>\n      <td>0.0</td>\n    </tr>\n    <tr>\n      <th>19157</th>\n      <td>23834</td>\n      <td>city_67</td>\n      <td>0.855</td>\n      <td>None</td>\n      <td>No relevent experience</td>\n      <td>no_enrollment</td>\n      <td>Primary School</td>\n      <td>None</td>\n      <td>2</td>\n      <td>None</td>\n      <td>None</td>\n      <td>1</td>\n      <td>127</td>\n      <td>0.0</td>\n    </tr>\n  </tbody>\n</table>\n<p>19158 rows × 14 columns</p>\n</div>"
          },
          "metadata": {}
        }
      ],
      "execution_count": 5,
      "metadata": {
        "id": "PEZ0rTEU2IO8",
        "gather": {
          "logged": 1612605888870
        }
      }
    },
    {
      "cell_type": "code",
      "source": [
        "dataset =dataset.drop_columns([\"enrollee_id\",\"city\"])"
      ],
      "outputs": [],
      "execution_count": 6,
      "metadata": {
        "id": "1lnyck-m2L_S",
        "gather": {
          "logged": 1612605892261
        }
      }
    },
    {
      "cell_type": "markdown",
      "source": [
        "## AutoML Configuration\n",
        "\n",
        "TODO: Explain why you chose the automl settings and cofiguration you used below."
      ],
      "metadata": {
        "id": "qo5Drc4y1j-9"
      }
    },
    {
      "cell_type": "code",
      "source": [
        "# TODO: Put your automl settings here\n",
        "automl_settings = {\n",
        "    \"experiment_timeout_minutes\": 30,\n",
        "    \"task\": \"classification\", \n",
        "    \"primary_metric\": \"accuracy\",\n",
        "    \"training_data\": dataset,\n",
        "    \"label_column_name\": \"target\"    \n",
        "}\n",
        "\n",
        "# TODO: Put your automl config here\n",
        "automl_config = AutoMLConfig(\n",
        "    n_cross_validations= 6,\n",
        "    enable_early_stopping= True,\n",
        "    compute_target= compute_target,\n",
        "    max_cores_per_iteration= -1,\n",
        "    max_concurrent_iterations= 4,\n",
        "    featurization= \"auto\",\n",
        "    \n",
        "    **automl_settings\n",
        "    )"
      ],
      "outputs": [],
      "execution_count": 7,
      "metadata": {
        "id": "iokpiJb52M4Y",
        "gather": {
          "logged": 1612605907644
        }
      }
    },
    {
      "cell_type": "code",
      "source": [
        "# TODO: Submit your experiment\n",
        "remote_run = experiment.submit(automl_config, show_output=True)"
      ],
      "outputs": [
        {
          "output_type": "stream",
          "name": "stdout",
          "text": [
            "Running on remote.\n",
            "No run_configuration provided, running on compute-cluster with default configuration\n",
            "Running on remote compute: compute-cluster\n",
            "Parent Run ID: AutoML_0c070b7f-286b-4e1b-8072-1c188058bed8\n",
            "\n",
            "Current status: FeaturesGeneration. Generating features for the dataset.\n",
            "Current status: DatasetCrossValidationSplit. Generating individually featurized CV splits.\n",
            "Current status: ModelSelection. Beginning model selection.\n",
            "\n",
            "****************************************************************************************************\n",
            "DATA GUARDRAILS: \n",
            "\n",
            "TYPE:         Class balancing detection\n",
            "STATUS:       PASSED\n",
            "DESCRIPTION:  Your inputs were analyzed, and all classes are balanced in your training data.\n",
            "              Learn more about imbalanced data: https://aka.ms/AutomatedMLImbalancedData\n",
            "\n",
            "****************************************************************************************************\n",
            "\n",
            "TYPE:         Missing feature values imputation\n",
            "STATUS:       DONE\n",
            "DESCRIPTION:  If the missing values are expected, let the run complete. Otherwise cancel the current run and use a script to customize the handling of missing feature values that may be more appropriate based on the data type and business requirement.\n",
            "              Learn more about missing value imputation: https://aka.ms/AutomatedMLFeaturization\n",
            "DETAILS:      \n",
            "+---------------------------------+---------------------------------+\n",
            "|Column name                      |Missing value count              |\n",
            "+=================================+=================================+\n",
            "|gender                           |4508                             |\n",
            "|enrolled_university              |386                              |\n",
            "|education_level                  |460                              |\n",
            "|major_discipline                 |2813                             |\n",
            "|experience                       |65                               |\n",
            "|company_size                     |5938                             |\n",
            "|company_type                     |6140                             |\n",
            "|last_new_job                     |423                              |\n",
            "+---------------------------------+---------------------------------+\n",
            "\n",
            "****************************************************************************************************\n",
            "\n",
            "TYPE:         High cardinality feature detection\n",
            "STATUS:       PASSED\n",
            "DESCRIPTION:  Your inputs were analyzed, and no high cardinality features were detected.\n",
            "              Learn more about high cardinality feature handling: https://aka.ms/AutomatedMLFeaturization\n",
            "\n",
            "****************************************************************************************************\n",
            "\n",
            "****************************************************************************************************\n",
            "ITERATION: The iteration being evaluated.\n",
            "PIPELINE: A summary description of the pipeline being evaluated.\n",
            "DURATION: Time taken for the current iteration.\n",
            "METRIC: The result of computing score on the fitted pipeline.\n",
            "BEST: The best observed score thus far.\n",
            "****************************************************************************************************\n",
            "\n",
            " ITERATION   PIPELINE                                       DURATION      METRIC      BEST\n",
            "         2   MaxAbsScaler RandomForest                      0:00:51       0.7758    0.7758\n",
            "         3   MaxAbsScaler RandomForest                      0:00:50       0.7608    0.7758\n",
            "         0   MaxAbsScaler LightGBM                          0:00:58       0.7967    0.7967\n",
            "         1   MaxAbsScaler XGBoostClassifier                 0:01:04       0.7929    0.7967\n",
            "         5   MaxAbsScaler RandomForest                      0:00:52       0.6867    0.7967\n",
            "         4   MaxAbsScaler RandomForest                      0:00:58       0.7560    0.7967\n",
            "         6   SparseNormalizer XGBoostClassifier             0:01:06       0.7809    0.7967\n",
            "         7   SparseNormalizer XGBoostClassifier             0:01:21       0.7800    0.7967\n",
            "         9   SparseNormalizer XGBoostClassifier             0:00:58       0.7829    0.7967\n",
            "        10   StandardScalerWrapper RandomForest             0:00:58       0.7782    0.7967\n",
            "         8   SparseNormalizer XGBoostClassifier             0:01:07       0.7825    0.7967\n",
            "        11   MaxAbsScaler RandomForest                      0:01:02       0.7823    0.7967\n",
            "        12   SparseNormalizer XGBoostClassifier             0:00:49       0.7568    0.7967\n",
            "        13   MaxAbsScaler LightGBM                          0:00:49       0.7620    0.7967\n",
            "        14   MaxAbsScaler LogisticRegression                0:01:25       0.7722    0.7967\n",
            "        15   MaxAbsScaler ExtremeRandomTrees                0:01:15       0.7550    0.7967\n",
            "        17   MaxAbsScaler LightGBM                          0:00:50       0.7763    0.7967\n",
            "        16   MaxAbsScaler LightGBM                          0:01:03       0.7759    0.7967\n",
            "        18   MaxAbsScaler LightGBM                          0:00:52       0.7694    0.7967\n",
            "        20   SparseNormalizer LightGBM                      0:00:49       0.7674    0.7967\n",
            "        19   SparseNormalizer XGBoostClassifier             0:01:09       0.7828    0.7967\n",
            "        21   StandardScalerWrapper LightGBM                 0:00:48       0.7807    0.7967\n",
            "        22   MaxAbsScaler ExtremeRandomTrees                0:01:08       0.7604    0.7967\n",
            "        24   MaxAbsScaler LightGBM                          0:00:59       0.7934    0.7967\n",
            "        23   MaxAbsScaler GradientBoosting                  0:01:40       0.7745    0.7967\n",
            "        25   StandardScalerWrapper LightGBM                 0:01:25       0.7507    0.7967\n",
            "        26   StandardScalerWrapper XGBoostClassifier        0:00:52       0.7844    0.7967\n",
            "        27   StandardScalerWrapper LightGBM                 0:00:43       0.7507    0.7967\n",
            "        29   TruncatedSVDWrapper LightGBM                   0:00:54       0.7707    0.7967\n",
            "        28   SparseNormalizer LightGBM                      0:01:02       0.7760    0.7967\n",
            "        30   MaxAbsScaler LightGBM                          0:00:58       0.7507    0.7967\n",
            "        31   StandardScalerWrapper XGBoostClassifier        0:00:50       0.7507    0.7967\n",
            "        32   StandardScalerWrapper ExtremeRandomTrees       0:01:05       0.7626    0.7967\n",
            "        33   StandardScalerWrapper LightGBM                 0:00:51       0.7658    0.7967\n",
            "        34   SparseNormalizer LightGBM                      0:00:45       0.7581    0.7967\n",
            "        35   SparseNormalizer LightGBM                      0:00:37       0.7507    0.7967\n",
            "        36    VotingEnsemble                                0:01:45       0.7992    0.7992\n",
            "        37    StackEnsemble                                 0:03:05       0.7938    0.7992\n"
          ]
        }
      ],
      "execution_count": 8,
      "metadata": {
        "gather": {
          "logged": 1612607131317
        },
        "jupyter": {
          "outputs_hidden": false,
          "source_hidden": false
        },
        "nteract": {
          "transient": {
            "deleting": false
          }
        },
        "id": "rFgQUK0s1j--"
      }
    },
    {
      "cell_type": "markdown",
      "source": [
        "## Run Details\n",
        "\n",
        "OPTIONAL: Write about the different models trained and their performance. Why do you think some models did better than others?\n",
        "\n",
        "TODO: In the cell below, use the `RunDetails` widget to show the different experiments."
      ],
      "metadata": {
        "id": "GPleLBD31j--"
      }
    },
    {
      "cell_type": "code",
      "source": [
        "RunDetails(remote_run).show()"
      ],
      "outputs": [
        {
          "output_type": "display_data",
          "data": {
            "text/plain": "_AutoMLWidget(widget_settings={'childWidgetDisplay': 'popup', 'send_telemetry': False, 'log_level': 'INFO', 's…",
            "application/vnd.jupyter.widget-view+json": {
              "version_major": 2,
              "version_minor": 0,
              "model_id": "23862b7609bc400e99f6570fa4121d14"
            }
          },
          "metadata": {}
        },
        {
          "output_type": "display_data",
          "data": {
            "application/aml.mini.widget.v1": "{\"status\": \"Completed\", \"workbench_run_details_uri\": \"https://ml.azure.com/experiments/automl_hr_analytics/runs/AutoML_0c070b7f-286b-4e1b-8072-1c188058bed8?wsid=/subscriptions/f9d5a085-54dc-4215-9ba6-dad5d86e60a0/resourcegroups/aml-quickstarts-137424/workspaces/quick-starts-ws-137424\", \"run_id\": \"AutoML_0c070b7f-286b-4e1b-8072-1c188058bed8\", \"run_properties\": {\"run_id\": \"AutoML_0c070b7f-286b-4e1b-8072-1c188058bed8\", \"created_utc\": \"2021-02-06T10:05:12.707709Z\", \"properties\": {\"num_iterations\": \"1000\", \"training_type\": \"TrainFull\", \"acquisition_function\": \"EI\", \"primary_metric\": \"accuracy\", \"train_split\": \"0\", \"acquisition_parameter\": \"0\", \"num_cross_validation\": \"6\", \"target\": \"compute-cluster\", \"AMLSettingsJsonString\": \"{\\\"path\\\":null,\\\"name\\\":\\\"automl_hr_analytics\\\",\\\"subscription_id\\\":\\\"f9d5a085-54dc-4215-9ba6-dad5d86e60a0\\\",\\\"resource_group\\\":\\\"aml-quickstarts-137424\\\",\\\"workspace_name\\\":\\\"quick-starts-ws-137424\\\",\\\"region\\\":\\\"southcentralus\\\",\\\"compute_target\\\":\\\"compute-cluster\\\",\\\"spark_service\\\":null,\\\"azure_service\\\":\\\"remote\\\",\\\"many_models\\\":false,\\\"pipeline_fetch_max_batch_size\\\":1,\\\"iterations\\\":1000,\\\"primary_metric\\\":\\\"accuracy\\\",\\\"task_type\\\":\\\"classification\\\",\\\"data_script\\\":null,\\\"validation_size\\\":0.0,\\\"n_cross_validations\\\":6,\\\"y_min\\\":null,\\\"y_max\\\":null,\\\"num_classes\\\":null,\\\"featurization\\\":\\\"auto\\\",\\\"_ignore_package_version_incompatibilities\\\":false,\\\"is_timeseries\\\":false,\\\"max_cores_per_iteration\\\":-1,\\\"max_concurrent_iterations\\\":4,\\\"iteration_timeout_minutes\\\":null,\\\"mem_in_mb\\\":null,\\\"enforce_time_on_windows\\\":false,\\\"experiment_timeout_minutes\\\":30,\\\"experiment_exit_score\\\":null,\\\"whitelist_models\\\":null,\\\"blacklist_algos\\\":[\\\"TensorFlowLinearClassifier\\\",\\\"TensorFlowDNN\\\"],\\\"supported_models\\\":[\\\"BernoulliNaiveBayes\\\",\\\"MultinomialNaiveBayes\\\",\\\"GradientBoosting\\\",\\\"KNN\\\",\\\"TensorFlowDNN\\\",\\\"TensorFlowLinearClassifier\\\",\\\"DecisionTree\\\",\\\"SGD\\\",\\\"AveragedPerceptronClassifier\\\",\\\"SVM\\\",\\\"XGBoostClassifier\\\",\\\"ExtremeRandomTrees\\\",\\\"RandomForest\\\",\\\"LinearSVM\\\",\\\"LogisticRegression\\\",\\\"LightGBM\\\"],\\\"auto_blacklist\\\":true,\\\"blacklist_samples_reached\\\":false,\\\"exclude_nan_labels\\\":true,\\\"verbosity\\\":20,\\\"_debug_log\\\":\\\"azureml_automl.log\\\",\\\"show_warnings\\\":false,\\\"model_explainability\\\":true,\\\"service_url\\\":null,\\\"sdk_url\\\":null,\\\"sdk_packages\\\":null,\\\"enable_onnx_compatible_models\\\":false,\\\"enable_split_onnx_featurizer_estimator_models\\\":false,\\\"vm_type\\\":\\\"STANDARD_DS3_V2\\\",\\\"telemetry_verbosity\\\":20,\\\"send_telemetry\\\":true,\\\"enable_dnn\\\":false,\\\"scenario\\\":\\\"SDK-1.13.0\\\",\\\"environment_label\\\":null,\\\"force_text_dnn\\\":false,\\\"enable_feature_sweeping\\\":true,\\\"enable_early_stopping\\\":true,\\\"early_stopping_n_iters\\\":10,\\\"metrics\\\":null,\\\"enable_ensembling\\\":true,\\\"enable_stack_ensembling\\\":true,\\\"ensemble_iterations\\\":15,\\\"enable_tf\\\":false,\\\"enable_subsampling\\\":null,\\\"subsample_seed\\\":null,\\\"enable_nimbusml\\\":false,\\\"enable_streaming\\\":false,\\\"force_streaming\\\":false,\\\"track_child_runs\\\":true,\\\"allowed_private_models\\\":[],\\\"label_column_name\\\":\\\"target\\\",\\\"weight_column_name\\\":null,\\\"cv_split_column_names\\\":null,\\\"enable_local_managed\\\":false,\\\"_local_managed_run_id\\\":null,\\\"cost_mode\\\":1,\\\"lag_length\\\":0,\\\"metric_operation\\\":\\\"maximize\\\",\\\"preprocess\\\":true}\", \"DataPrepJsonString\": \"{\\\\\\\"training_data\\\\\\\": \\\\\\\"{\\\\\\\\\\\\\\\"blocks\\\\\\\\\\\\\\\": [{\\\\\\\\\\\\\\\"id\\\\\\\\\\\\\\\": \\\\\\\\\\\\\\\"3627aab8-d37e-4c05-b70a-417963e49ea4\\\\\\\\\\\\\\\", \\\\\\\\\\\\\\\"type\\\\\\\\\\\\\\\": \\\\\\\\\\\\\\\"Microsoft.DPrep.GetDatastoreFilesBlock\\\\\\\\\\\\\\\", \\\\\\\\\\\\\\\"arguments\\\\\\\\\\\\\\\": {\\\\\\\\\\\\\\\"datastores\\\\\\\\\\\\\\\": [{\\\\\\\\\\\\\\\"datastoreName\\\\\\\\\\\\\\\": \\\\\\\\\\\\\\\"workspaceblobstore\\\\\\\\\\\\\\\", \\\\\\\\\\\\\\\"path\\\\\\\\\\\\\\\": \\\\\\\\\\\\\\\"UI/02-06-2021_074509_UTC/data.csv\\\\\\\\\\\\\\\", \\\\\\\\\\\\\\\"resourceGroup\\\\\\\\\\\\\\\": \\\\\\\\\\\\\\\"aml-quickstarts-137424\\\\\\\\\\\\\\\", \\\\\\\\\\\\\\\"subscription\\\\\\\\\\\\\\\": \\\\\\\\\\\\\\\"f9d5a085-54dc-4215-9ba6-dad5d86e60a0\\\\\\\\\\\\\\\", \\\\\\\\\\\\\\\"workspaceName\\\\\\\\\\\\\\\": \\\\\\\\\\\\\\\"quick-starts-ws-137424\\\\\\\\\\\\\\\"}]}, \\\\\\\\\\\\\\\"localData\\\\\\\\\\\\\\\": {}, \\\\\\\\\\\\\\\"isEnabled\\\\\\\\\\\\\\\": true, \\\\\\\\\\\\\\\"name\\\\\\\\\\\\\\\": null, \\\\\\\\\\\\\\\"annotation\\\\\\\\\\\\\\\": null}, {\\\\\\\\\\\\\\\"id\\\\\\\\\\\\\\\": \\\\\\\\\\\\\\\"3552212f-5683-42e2-a7ff-0529a83c21a2\\\\\\\\\\\\\\\", \\\\\\\\\\\\\\\"type\\\\\\\\\\\\\\\": \\\\\\\\\\\\\\\"Microsoft.DPrep.ParseDelimitedBlock\\\\\\\\\\\\\\\", \\\\\\\\\\\\\\\"arguments\\\\\\\\\\\\\\\": {\\\\\\\\\\\\\\\"columnHeadersMode\\\\\\\\\\\\\\\": 1, \\\\\\\\\\\\\\\"fileEncoding\\\\\\\\\\\\\\\": 0, \\\\\\\\\\\\\\\"handleQuotedLineBreaks\\\\\\\\\\\\\\\": false, \\\\\\\\\\\\\\\"preview\\\\\\\\\\\\\\\": false, \\\\\\\\\\\\\\\"separator\\\\\\\\\\\\\\\": \\\\\\\\\\\\\\\",\\\\\\\\\\\\\\\", \\\\\\\\\\\\\\\"skipRows\\\\\\\\\\\\\\\": 0, \\\\\\\\\\\\\\\"skipRowsMode\\\\\\\\\\\\\\\": 0}, \\\\\\\\\\\\\\\"localData\\\\\\\\\\\\\\\": {}, \\\\\\\\\\\\\\\"isEnabled\\\\\\\\\\\\\\\": true, \\\\\\\\\\\\\\\"name\\\\\\\\\\\\\\\": null, \\\\\\\\\\\\\\\"annotation\\\\\\\\\\\\\\\": null}, {\\\\\\\\\\\\\\\"id\\\\\\\\\\\\\\\": \\\\\\\\\\\\\\\"2f1220d4-70df-4776-9668-70c48a66c04a\\\\\\\\\\\\\\\", \\\\\\\\\\\\\\\"type\\\\\\\\\\\\\\\": \\\\\\\\\\\\\\\"Microsoft.DPrep.DropColumnsBlock\\\\\\\\\\\\\\\", \\\\\\\\\\\\\\\"arguments\\\\\\\\\\\\\\\": {\\\\\\\\\\\\\\\"columns\\\\\\\\\\\\\\\": {\\\\\\\\\\\\\\\"type\\\\\\\\\\\\\\\": 0, \\\\\\\\\\\\\\\"details\\\\\\\\\\\\\\\": {\\\\\\\\\\\\\\\"selectedColumns\\\\\\\\\\\\\\\": [\\\\\\\\\\\\\\\"Path\\\\\\\\\\\\\\\"]}}}, \\\\\\\\\\\\\\\"localData\\\\\\\\\\\\\\\": {}, \\\\\\\\\\\\\\\"isEnabled\\\\\\\\\\\\\\\": true, \\\\\\\\\\\\\\\"name\\\\\\\\\\\\\\\": null, \\\\\\\\\\\\\\\"annotation\\\\\\\\\\\\\\\": null}, {\\\\\\\\\\\\\\\"id\\\\\\\\\\\\\\\": \\\\\\\\\\\\\\\"bac6154b-fe74-474f-ae38-0a23e49ab2ea\\\\\\\\\\\\\\\", \\\\\\\\\\\\\\\"type\\\\\\\\\\\\\\\": \\\\\\\\\\\\\\\"Microsoft.DPrep.SetColumnTypesBlock\\\\\\\\\\\\\\\", \\\\\\\\\\\\\\\"arguments\\\\\\\\\\\\\\\": {\\\\\\\\\\\\\\\"columnConversion\\\\\\\\\\\\\\\": [{\\\\\\\\\\\\\\\"column\\\\\\\\\\\\\\\": {\\\\\\\\\\\\\\\"type\\\\\\\\\\\\\\\": 2, \\\\\\\\\\\\\\\"details\\\\\\\\\\\\\\\": {\\\\\\\\\\\\\\\"selectedColumn\\\\\\\\\\\\\\\": \\\\\\\\\\\\\\\"Path\\\\\\\\\\\\\\\"}}, \\\\\\\\\\\\\\\"typeProperty\\\\\\\\\\\\\\\": 0}, {\\\\\\\\\\\\\\\"column\\\\\\\\\\\\\\\": {\\\\\\\\\\\\\\\"type\\\\\\\\\\\\\\\": 2, \\\\\\\\\\\\\\\"details\\\\\\\\\\\\\\\": {\\\\\\\\\\\\\\\"selectedColumn\\\\\\\\\\\\\\\": \\\\\\\\\\\\\\\"enrollee_id\\\\\\\\\\\\\\\"}}, \\\\\\\\\\\\\\\"typeProperty\\\\\\\\\\\\\\\": 2}, {\\\\\\\\\\\\\\\"column\\\\\\\\\\\\\\\": {\\\\\\\\\\\\\\\"type\\\\\\\\\\\\\\\": 2, \\\\\\\\\\\\\\\"details\\\\\\\\\\\\\\\": {\\\\\\\\\\\\\\\"selectedColumn\\\\\\\\\\\\\\\": \\\\\\\\\\\\\\\"city\\\\\\\\\\\\\\\"}}, \\\\\\\\\\\\\\\"typeProperty\\\\\\\\\\\\\\\": 0}, {\\\\\\\\\\\\\\\"column\\\\\\\\\\\\\\\": {\\\\\\\\\\\\\\\"type\\\\\\\\\\\\\\\": 2, \\\\\\\\\\\\\\\"details\\\\\\\\\\\\\\\": {\\\\\\\\\\\\\\\"selectedColumn\\\\\\\\\\\\\\\": \\\\\\\\\\\\\\\"city_development_index\\\\\\\\\\\\\\\"}}, \\\\\\\\\\\\\\\"typeProperty\\\\\\\\\\\\\\\": 3}, {\\\\\\\\\\\\\\\"column\\\\\\\\\\\\\\\": {\\\\\\\\\\\\\\\"type\\\\\\\\\\\\\\\": 2, \\\\\\\\\\\\\\\"details\\\\\\\\\\\\\\\": {\\\\\\\\\\\\\\\"selectedColumn\\\\\\\\\\\\\\\": \\\\\\\\\\\\\\\"gender\\\\\\\\\\\\\\\"}}, \\\\\\\\\\\\\\\"typeProperty\\\\\\\\\\\\\\\": 0}, {\\\\\\\\\\\\\\\"column\\\\\\\\\\\\\\\": {\\\\\\\\\\\\\\\"type\\\\\\\\\\\\\\\": 2, \\\\\\\\\\\\\\\"details\\\\\\\\\\\\\\\": {\\\\\\\\\\\\\\\"selectedColumn\\\\\\\\\\\\\\\": \\\\\\\\\\\\\\\"relevent_experience\\\\\\\\\\\\\\\"}}, \\\\\\\\\\\\\\\"typeProperty\\\\\\\\\\\\\\\": 0}, {\\\\\\\\\\\\\\\"column\\\\\\\\\\\\\\\": {\\\\\\\\\\\\\\\"type\\\\\\\\\\\\\\\": 2, \\\\\\\\\\\\\\\"details\\\\\\\\\\\\\\\": {\\\\\\\\\\\\\\\"selectedColumn\\\\\\\\\\\\\\\": \\\\\\\\\\\\\\\"enrolled_university\\\\\\\\\\\\\\\"}}, \\\\\\\\\\\\\\\"typeProperty\\\\\\\\\\\\\\\": 0}, {\\\\\\\\\\\\\\\"column\\\\\\\\\\\\\\\": {\\\\\\\\\\\\\\\"type\\\\\\\\\\\\\\\": 2, \\\\\\\\\\\\\\\"details\\\\\\\\\\\\\\\": {\\\\\\\\\\\\\\\"selectedColumn\\\\\\\\\\\\\\\": \\\\\\\\\\\\\\\"education_level\\\\\\\\\\\\\\\"}}, \\\\\\\\\\\\\\\"typeProperty\\\\\\\\\\\\\\\": 0}, {\\\\\\\\\\\\\\\"column\\\\\\\\\\\\\\\": {\\\\\\\\\\\\\\\"type\\\\\\\\\\\\\\\": 2, \\\\\\\\\\\\\\\"details\\\\\\\\\\\\\\\": {\\\\\\\\\\\\\\\"selectedColumn\\\\\\\\\\\\\\\": \\\\\\\\\\\\\\\"major_discipline\\\\\\\\\\\\\\\"}}, \\\\\\\\\\\\\\\"typeProperty\\\\\\\\\\\\\\\": 0}, {\\\\\\\\\\\\\\\"column\\\\\\\\\\\\\\\": {\\\\\\\\\\\\\\\"type\\\\\\\\\\\\\\\": 2, \\\\\\\\\\\\\\\"details\\\\\\\\\\\\\\\": {\\\\\\\\\\\\\\\"selectedColumn\\\\\\\\\\\\\\\": \\\\\\\\\\\\\\\"experience\\\\\\\\\\\\\\\"}}, \\\\\\\\\\\\\\\"typeProperty\\\\\\\\\\\\\\\": 0}, {\\\\\\\\\\\\\\\"column\\\\\\\\\\\\\\\": {\\\\\\\\\\\\\\\"type\\\\\\\\\\\\\\\": 2, \\\\\\\\\\\\\\\"details\\\\\\\\\\\\\\\": {\\\\\\\\\\\\\\\"selectedColumn\\\\\\\\\\\\\\\": \\\\\\\\\\\\\\\"company_size\\\\\\\\\\\\\\\"}}, \\\\\\\\\\\\\\\"typeProperty\\\\\\\\\\\\\\\": 0}, {\\\\\\\\\\\\\\\"column\\\\\\\\\\\\\\\": {\\\\\\\\\\\\\\\"type\\\\\\\\\\\\\\\": 2, \\\\\\\\\\\\\\\"details\\\\\\\\\\\\\\\": {\\\\\\\\\\\\\\\"selectedColumn\\\\\\\\\\\\\\\": \\\\\\\\\\\\\\\"company_type\\\\\\\\\\\\\\\"}}, \\\\\\\\\\\\\\\"typeProperty\\\\\\\\\\\\\\\": 0}, {\\\\\\\\\\\\\\\"column\\\\\\\\\\\\\\\": {\\\\\\\\\\\\\\\"type\\\\\\\\\\\\\\\": 2, \\\\\\\\\\\\\\\"details\\\\\\\\\\\\\\\": {\\\\\\\\\\\\\\\"selectedColumn\\\\\\\\\\\\\\\": \\\\\\\\\\\\\\\"last_new_job\\\\\\\\\\\\\\\"}}, \\\\\\\\\\\\\\\"typeProperty\\\\\\\\\\\\\\\": 0}, {\\\\\\\\\\\\\\\"column\\\\\\\\\\\\\\\": {\\\\\\\\\\\\\\\"type\\\\\\\\\\\\\\\": 2, \\\\\\\\\\\\\\\"details\\\\\\\\\\\\\\\": {\\\\\\\\\\\\\\\"selectedColumn\\\\\\\\\\\\\\\": \\\\\\\\\\\\\\\"training_hours\\\\\\\\\\\\\\\"}}, \\\\\\\\\\\\\\\"typeProperty\\\\\\\\\\\\\\\": 2}, {\\\\\\\\\\\\\\\"column\\\\\\\\\\\\\\\": {\\\\\\\\\\\\\\\"type\\\\\\\\\\\\\\\": 2, \\\\\\\\\\\\\\\"details\\\\\\\\\\\\\\\": {\\\\\\\\\\\\\\\"selectedColumn\\\\\\\\\\\\\\\": \\\\\\\\\\\\\\\"target\\\\\\\\\\\\\\\"}}, \\\\\\\\\\\\\\\"typeProperty\\\\\\\\\\\\\\\": 3}]}, \\\\\\\\\\\\\\\"localData\\\\\\\\\\\\\\\": {}, \\\\\\\\\\\\\\\"isEnabled\\\\\\\\\\\\\\\": true, \\\\\\\\\\\\\\\"name\\\\\\\\\\\\\\\": null, \\\\\\\\\\\\\\\"annotation\\\\\\\\\\\\\\\": null}, {\\\\\\\\\\\\\\\"id\\\\\\\\\\\\\\\": \\\\\\\\\\\\\\\"a5661a08-919b-4ad7-ba5d-2479a1ac0e36\\\\\\\\\\\\\\\", \\\\\\\\\\\\\\\"type\\\\\\\\\\\\\\\": \\\\\\\\\\\\\\\"Microsoft.DPrep.DropColumnsBlock\\\\\\\\\\\\\\\", \\\\\\\\\\\\\\\"arguments\\\\\\\\\\\\\\\": {\\\\\\\\\\\\\\\"columns\\\\\\\\\\\\\\\": {\\\\\\\\\\\\\\\"type\\\\\\\\\\\\\\\": 0, \\\\\\\\\\\\\\\"details\\\\\\\\\\\\\\\": {\\\\\\\\\\\\\\\"selectedColumns\\\\\\\\\\\\\\\": [\\\\\\\\\\\\\\\"enrollee_id\\\\\\\\\\\\\\\", \\\\\\\\\\\\\\\"city\\\\\\\\\\\\\\\"]}}}, \\\\\\\\\\\\\\\"localData\\\\\\\\\\\\\\\": {}, \\\\\\\\\\\\\\\"isEnabled\\\\\\\\\\\\\\\": true, \\\\\\\\\\\\\\\"name\\\\\\\\\\\\\\\": null, \\\\\\\\\\\\\\\"annotation\\\\\\\\\\\\\\\": null}], \\\\\\\\\\\\\\\"inspectors\\\\\\\\\\\\\\\": [], \\\\\\\\\\\\\\\"meta\\\\\\\\\\\\\\\": {\\\\\\\\\\\\\\\"savedDatasetId\\\\\\\\\\\\\\\": \\\\\\\\\\\\\\\"56233a8b-1aab-4042-9576-0fc15a576fa0\\\\\\\\\\\\\\\", \\\\\\\\\\\\\\\"datasetType\\\\\\\\\\\\\\\": \\\\\\\\\\\\\\\"tabular\\\\\\\\\\\\\\\", \\\\\\\\\\\\\\\"subscriptionId\\\\\\\\\\\\\\\": \\\\\\\\\\\\\\\"f9d5a085-54dc-4215-9ba6-dad5d86e60a0\\\\\\\\\\\\\\\", \\\\\\\\\\\\\\\"workspaceId\\\\\\\\\\\\\\\": \\\\\\\\\\\\\\\"5c8799cd-5e7d-4438-bd77-3c4cd5264485\\\\\\\\\\\\\\\", \\\\\\\\\\\\\\\"workspaceLocation\\\\\\\\\\\\\\\": \\\\\\\\\\\\\\\"southcentralus\\\\\\\\\\\\\\\"}}\\\\\\\", \\\\\\\"activities\\\\\\\": 0}\", \"EnableSubsampling\": null, \"runTemplate\": \"AutoML\", \"azureml.runsource\": \"automl\", \"display_task_type\": \"classification\", \"dependencies_versions\": \"{\\\"azureml-widgets\\\": \\\"1.20.0\\\", \\\"azureml-train\\\": \\\"1.20.0\\\", \\\"azureml-train-restclients-hyperdrive\\\": \\\"1.20.0\\\", \\\"azureml-train-core\\\": \\\"1.20.0\\\", \\\"azureml-train-automl\\\": \\\"1.20.0\\\", \\\"azureml-train-automl-runtime\\\": \\\"1.20.0\\\", \\\"azureml-train-automl-client\\\": \\\"1.20.0\\\", \\\"azureml-tensorboard\\\": \\\"1.20.0\\\", \\\"azureml-telemetry\\\": \\\"1.20.0\\\", \\\"azureml-sdk\\\": \\\"1.20.0\\\", \\\"azureml-samples\\\": \\\"0+unknown\\\", \\\"azureml-pipeline\\\": \\\"1.20.0\\\", \\\"azureml-pipeline-steps\\\": \\\"1.20.0\\\", \\\"azureml-pipeline-core\\\": \\\"1.20.0\\\", \\\"azureml-opendatasets\\\": \\\"1.20.0\\\", \\\"azureml-model-management-sdk\\\": \\\"1.0.1b6.post1\\\", \\\"azureml-mlflow\\\": \\\"1.20.0.post1\\\", \\\"azureml-interpret\\\": \\\"1.20.0\\\", \\\"azureml-explain-model\\\": \\\"1.20.0\\\", \\\"azureml-defaults\\\": \\\"1.20.0\\\", \\\"azureml-dataset-runtime\\\": \\\"1.20.0\\\", \\\"azureml-dataprep\\\": \\\"2.7.3\\\", \\\"azureml-dataprep-rslex\\\": \\\"1.5.0\\\", \\\"azureml-dataprep-native\\\": \\\"27.0.0\\\", \\\"azureml-datadrift\\\": \\\"1.20.0\\\", \\\"azureml-core\\\": \\\"1.20.0\\\", \\\"azureml-contrib-services\\\": \\\"1.20.0\\\", \\\"azureml-contrib-server\\\": \\\"1.20.0\\\", \\\"azureml-contrib-reinforcementlearning\\\": \\\"1.20.0\\\", \\\"azureml-contrib-pipeline-steps\\\": \\\"1.20.0\\\", \\\"azureml-contrib-notebook\\\": \\\"1.20.0\\\", \\\"azureml-contrib-interpret\\\": \\\"1.20.0\\\", \\\"azureml-contrib-gbdt\\\": \\\"1.20.0\\\", \\\"azureml-contrib-fairness\\\": \\\"1.20.0\\\", \\\"azureml-contrib-dataset\\\": \\\"1.20.0\\\", \\\"azureml-cli-common\\\": \\\"1.20.0\\\", \\\"azureml-automl-runtime\\\": \\\"1.20.0\\\", \\\"azureml-automl-core\\\": \\\"1.20.0\\\", \\\"azureml-accel-models\\\": \\\"1.20.0\\\"}\", \"_aml_system_scenario_identification\": \"Remote.Parent\", \"ClientType\": \"SDK\", \"environment_cpu_name\": \"AzureML-AutoML\", \"environment_cpu_label\": \"prod\", \"environment_gpu_name\": \"AzureML-AutoML-GPU\", \"environment_gpu_label\": \"prod\", \"root_attribution\": \"automl\", \"attribution\": \"AutoML\", \"Orchestrator\": \"AutoML\", \"CancelUri\": \"https://southcentralus.experiments.azureml.net/jasmine/v1.0/subscriptions/f9d5a085-54dc-4215-9ba6-dad5d86e60a0/resourceGroups/aml-quickstarts-137424/providers/Microsoft.MachineLearningServices/workspaces/quick-starts-ws-137424/experimentids/0044d0ba-0998-4403-948c-d0b2e243aec3/cancel/AutoML_0c070b7f-286b-4e1b-8072-1c188058bed8\", \"ClientSdkVersion\": \"1.21.0\", \"snapshotId\": \"00000000-0000-0000-0000-000000000000\", \"SetupRunId\": \"AutoML_0c070b7f-286b-4e1b-8072-1c188058bed8_setup\", \"SetupRunContainerId\": \"dcid.AutoML_0c070b7f-286b-4e1b-8072-1c188058bed8_setup\", \"FeaturizationRunJsonPath\": \"featurizer_container.json\", \"FeaturizationRunId\": \"AutoML_0c070b7f-286b-4e1b-8072-1c188058bed8_featurize\", \"ProblemInfoJsonString\": \"{\\\"dataset_num_categorical\\\": 0, \\\"is_sparse\\\": true, \\\"subsampling\\\": false, \\\"dataset_classes\\\": 2, \\\"dataset_features\\\": 78, \\\"dataset_samples\\\": 19158, \\\"single_frequency_class_detected\\\": false}\", \"ModelExplainRunId\": \"AutoML_0c070b7f-286b-4e1b-8072-1c188058bed8_ModelExplain\"}, \"tags\": {\"model_explain_run\": \"best_run\", \"_aml_system_azureml.automlComponent\": \"AutoML\", \"pipeline_id\": \"\", \"score\": \"\", \"predicted_cost\": \"\", \"fit_time\": \"\", \"training_percent\": \"\", \"iteration\": \"\", \"run_preprocessor\": \"\", \"run_algorithm\": \"\", \"dynamic_whitelisting_iterations\": \"<25>;<30>;<35>;\", \"automl_best_child_run_id\": \"AutoML_0c070b7f-286b-4e1b-8072-1c188058bed8_36\", \"model_explain_best_run_child_id\": \"AutoML_0c070b7f-286b-4e1b-8072-1c188058bed8_36\"}, \"end_time_utc\": \"2021-02-06T10:25:20.34444Z\", \"status\": \"Completed\", \"log_files\": {}, \"log_groups\": [], \"run_duration\": \"0:20:07\"}, \"child_runs\": [{\"run_id\": \"AutoML_0c070b7f-286b-4e1b-8072-1c188058bed8_0\", \"run_number\": 5, \"metric\": null, \"status\": \"Completed\", \"run_type\": \"azureml.scriptrun\", \"training_percent\": \"100\", \"start_time\": \"2021-02-06T10:10:37.467777Z\", \"end_time\": \"2021-02-06T10:11:35.513152Z\", \"created_time\": \"2021-02-06T10:10:24.569004Z\", \"created_time_dt\": \"2021-02-06T10:10:24.569004Z\", \"duration\": \"0:01:10\", \"iteration\": \"0\", \"goal\": \"accuracy_max\", \"run_name\": \"MaxAbsScaler, LightGBM\", \"run_properties\": \"copy=True\", \"primary_metric\": 0.79669068, \"best_metric\": 0.79669068}, {\"run_id\": \"AutoML_0c070b7f-286b-4e1b-8072-1c188058bed8_2\", \"run_number\": 6, \"metric\": null, \"status\": \"Completed\", \"run_type\": \"azureml.scriptrun\", \"training_percent\": \"100\", \"start_time\": \"2021-02-06T10:10:36.243379Z\", \"end_time\": \"2021-02-06T10:11:27.236068Z\", \"created_time\": \"2021-02-06T10:10:24.66131Z\", \"created_time_dt\": \"2021-02-06T10:10:24.66131Z\", \"duration\": \"0:01:02\", \"iteration\": \"2\", \"goal\": \"accuracy_max\", \"run_name\": \"MaxAbsScaler, RandomForest\", \"run_properties\": \"copy=True\", \"primary_metric\": 0.77575947, \"best_metric\": 0.79669068}, {\"run_id\": \"AutoML_0c070b7f-286b-4e1b-8072-1c188058bed8_3\", \"run_number\": 7, \"metric\": null, \"status\": \"Completed\", \"run_type\": \"azureml.scriptrun\", \"training_percent\": \"100\", \"start_time\": \"2021-02-06T10:10:38.514492Z\", \"end_time\": \"2021-02-06T10:11:28.149925Z\", \"created_time\": \"2021-02-06T10:10:24.683751Z\", \"created_time_dt\": \"2021-02-06T10:10:24.683751Z\", \"duration\": \"0:01:03\", \"iteration\": \"3\", \"goal\": \"accuracy_max\", \"run_name\": \"MaxAbsScaler, RandomForest\", \"run_properties\": \"copy=True\", \"primary_metric\": 0.76077879, \"best_metric\": 0.79669068}, {\"run_id\": \"AutoML_0c070b7f-286b-4e1b-8072-1c188058bed8_1\", \"run_number\": 8, \"metric\": null, \"status\": \"Completed\", \"run_type\": \"azureml.scriptrun\", \"training_percent\": \"100\", \"start_time\": \"2021-02-06T10:10:37.514322Z\", \"end_time\": \"2021-02-06T10:11:41.47549Z\", \"created_time\": \"2021-02-06T10:10:24.708485Z\", \"created_time_dt\": \"2021-02-06T10:10:24.708485Z\", \"duration\": \"0:01:16\", \"iteration\": \"1\", \"goal\": \"accuracy_max\", \"run_name\": \"MaxAbsScaler, XGBoostClassifier\", \"run_properties\": \"copy=True\", \"primary_metric\": 0.79288026, \"best_metric\": 0.79669068}, {\"run_id\": \"AutoML_0c070b7f-286b-4e1b-8072-1c188058bed8_4\", \"run_number\": 9, \"metric\": null, \"status\": \"Completed\", \"run_type\": \"azureml.scriptrun\", \"training_percent\": \"100\", \"start_time\": \"2021-02-06T10:11:45.760275Z\", \"end_time\": \"2021-02-06T10:12:43.907113Z\", \"created_time\": \"2021-02-06T10:11:31.03213Z\", \"created_time_dt\": \"2021-02-06T10:11:31.03213Z\", \"duration\": \"0:01:12\", \"iteration\": \"4\", \"goal\": \"accuracy_max\", \"run_name\": \"MaxAbsScaler, RandomForest\", \"run_properties\": \"copy=True\", \"primary_metric\": 0.75602881, \"best_metric\": 0.79669068}, {\"run_id\": \"AutoML_0c070b7f-286b-4e1b-8072-1c188058bed8_5\", \"run_number\": 10, \"metric\": null, \"status\": \"Completed\", \"run_type\": \"azureml.scriptrun\", \"training_percent\": \"100\", \"start_time\": \"2021-02-06T10:11:48.541339Z\", \"end_time\": \"2021-02-06T10:12:40.647651Z\", \"created_time\": \"2021-02-06T10:11:35.481153Z\", \"created_time_dt\": \"2021-02-06T10:11:35.481153Z\", \"duration\": \"0:01:05\", \"iteration\": \"5\", \"goal\": \"accuracy_max\", \"run_name\": \"MaxAbsScaler, RandomForest\", \"run_properties\": \"copy=True\", \"primary_metric\": 0.68665832, \"best_metric\": 0.79669068}, {\"run_id\": \"AutoML_0c070b7f-286b-4e1b-8072-1c188058bed8_6\", \"run_number\": 11, \"metric\": null, \"status\": \"Completed\", \"run_type\": \"azureml.scriptrun\", \"training_percent\": \"100\", \"start_time\": \"2021-02-06T10:11:51.036149Z\", \"end_time\": \"2021-02-06T10:12:56.826554Z\", \"created_time\": \"2021-02-06T10:11:40.231828Z\", \"created_time_dt\": \"2021-02-06T10:11:40.231828Z\", \"duration\": \"0:01:16\", \"iteration\": \"6\", \"goal\": \"accuracy_max\", \"run_name\": \"SparseNormalizer, XGBoostClassifier\", \"run_properties\": \"<azureml.automl.runtime.shared.model_wrappers.SparseNormalizer object at 0x7f299c672d68\", \"primary_metric\": 0.78087483, \"best_metric\": 0.79669068}, {\"run_id\": \"AutoML_0c070b7f-286b-4e1b-8072-1c188058bed8_7\", \"run_number\": 12, \"metric\": null, \"status\": \"Completed\", \"run_type\": \"azureml.scriptrun\", \"training_percent\": \"100\", \"start_time\": \"2021-02-06T10:11:57.391562Z\", \"end_time\": \"2021-02-06T10:13:18.307853Z\", \"created_time\": \"2021-02-06T10:11:44.911569Z\", \"created_time_dt\": \"2021-02-06T10:11:44.911569Z\", \"duration\": \"0:01:33\", \"iteration\": \"7\", \"goal\": \"accuracy_max\", \"run_name\": \"SparseNormalizer, XGBoostClassifier\", \"run_properties\": \"<azureml.automl.runtime.shared.model_wrappers.SparseNormalizer object at 0x7fa225975898\", \"primary_metric\": 0.78003967, \"best_metric\": 0.79669068}, {\"run_id\": \"AutoML_0c070b7f-286b-4e1b-8072-1c188058bed8_8\", \"run_number\": 13, \"metric\": null, \"status\": \"Completed\", \"run_type\": \"azureml.scriptrun\", \"training_percent\": \"100\", \"start_time\": \"2021-02-06T10:12:55.029028Z\", \"end_time\": \"2021-02-06T10:14:02.448855Z\", \"created_time\": \"2021-02-06T10:12:42.952161Z\", \"created_time_dt\": \"2021-02-06T10:12:42.952161Z\", \"duration\": \"0:01:19\", \"iteration\": \"8\", \"goal\": \"accuracy_max\", \"run_name\": \"SparseNormalizer, XGBoostClassifier\", \"run_properties\": \"<azureml.automl.runtime.shared.model_wrappers.SparseNormalizer object at 0x7fb7e2a62208\", \"primary_metric\": 0.78254515, \"best_metric\": 0.79669068}, {\"run_id\": \"AutoML_0c070b7f-286b-4e1b-8072-1c188058bed8_9\", \"run_number\": 14, \"metric\": null, \"status\": \"Completed\", \"run_type\": \"azureml.scriptrun\", \"training_percent\": \"100\", \"start_time\": \"2021-02-06T10:12:57.504577Z\", \"end_time\": \"2021-02-06T10:13:55.290046Z\", \"created_time\": \"2021-02-06T10:12:47.418882Z\", \"created_time_dt\": \"2021-02-06T10:12:47.418882Z\", \"duration\": \"0:01:07\", \"iteration\": \"9\", \"goal\": \"accuracy_max\", \"run_name\": \"SparseNormalizer, XGBoostClassifier\", \"run_properties\": \"<azureml.automl.runtime.shared.model_wrappers.SparseNormalizer object at 0x7f66716f2dd8\", \"primary_metric\": 0.78291053, \"best_metric\": 0.79669068}, {\"run_id\": \"AutoML_0c070b7f-286b-4e1b-8072-1c188058bed8_10\", \"run_number\": 15, \"metric\": null, \"status\": \"Completed\", \"run_type\": \"azureml.scriptrun\", \"training_percent\": \"100\", \"start_time\": \"2021-02-06T10:13:11.366026Z\", \"end_time\": \"2021-02-06T10:14:09.516241Z\", \"created_time\": \"2021-02-06T10:12:59.132234Z\", \"created_time_dt\": \"2021-02-06T10:12:59.132234Z\", \"duration\": \"0:01:10\", \"iteration\": \"10\", \"goal\": \"accuracy_max\", \"run_name\": \"StandardScalerWrapper, RandomForest\", \"run_properties\": \"<azureml.automl.runtime.shared.model_wrappers.StandardScalerWrapper object at 0x7fd48d048828\", \"primary_metric\": 0.77816056, \"best_metric\": 0.79669068}, {\"run_id\": \"AutoML_0c070b7f-286b-4e1b-8072-1c188058bed8_11\", \"run_number\": 16, \"metric\": null, \"status\": \"Completed\", \"run_type\": \"azureml.scriptrun\", \"training_percent\": \"100\", \"start_time\": \"2021-02-06T10:13:33.969294Z\", \"end_time\": \"2021-02-06T10:14:35.879786Z\", \"created_time\": \"2021-02-06T10:13:20.984675Z\", \"created_time_dt\": \"2021-02-06T10:13:20.984675Z\", \"duration\": \"0:01:14\", \"iteration\": \"11\", \"goal\": \"accuracy_max\", \"run_name\": \"MaxAbsScaler, RandomForest\", \"run_properties\": \"copy=True\", \"primary_metric\": 0.78233636, \"best_metric\": 0.79669068}, {\"run_id\": \"AutoML_0c070b7f-286b-4e1b-8072-1c188058bed8_12\", \"run_number\": 17, \"metric\": null, \"status\": \"Completed\", \"run_type\": \"azureml.scriptrun\", \"training_percent\": \"100\", \"start_time\": \"2021-02-06T10:14:11.190778Z\", \"end_time\": \"2021-02-06T10:14:59.759218Z\", \"created_time\": \"2021-02-06T10:13:58.002074Z\", \"created_time_dt\": \"2021-02-06T10:13:58.002074Z\", \"duration\": \"0:01:01\", \"iteration\": \"12\", \"goal\": \"accuracy_max\", \"run_name\": \"SparseNormalizer, XGBoostClassifier\", \"run_properties\": \"<azureml.automl.runtime.shared.model_wrappers.SparseNormalizer object at 0x7f97544a95f8\", \"primary_metric\": 0.75675958, \"best_metric\": 0.79669068}, {\"run_id\": \"AutoML_0c070b7f-286b-4e1b-8072-1c188058bed8_13\", \"run_number\": 18, \"metric\": null, \"status\": \"Completed\", \"run_type\": \"azureml.scriptrun\", \"training_percent\": \"100\", \"start_time\": \"2021-02-06T10:14:20.01997Z\", \"end_time\": \"2021-02-06T10:15:08.552065Z\", \"created_time\": \"2021-02-06T10:14:06.380394Z\", \"created_time_dt\": \"2021-02-06T10:14:06.380394Z\", \"duration\": \"0:01:02\", \"iteration\": \"13\", \"goal\": \"accuracy_max\", \"run_name\": \"MaxAbsScaler, LightGBM\", \"run_properties\": \"copy=True\", \"primary_metric\": 0.76203153, \"best_metric\": 0.79669068}, {\"run_id\": \"AutoML_0c070b7f-286b-4e1b-8072-1c188058bed8_14\", \"run_number\": 19, \"metric\": null, \"status\": \"Completed\", \"run_type\": \"azureml.scriptrun\", \"training_percent\": \"100\", \"start_time\": \"2021-02-06T10:14:26.880927Z\", \"end_time\": \"2021-02-06T10:15:51.714457Z\", \"created_time\": \"2021-02-06T10:14:12.647404Z\", \"created_time_dt\": \"2021-02-06T10:14:12.647404Z\", \"duration\": \"0:01:39\", \"iteration\": \"14\", \"goal\": \"accuracy_max\", \"run_name\": \"MaxAbsScaler, LogisticRegression\", \"run_properties\": \"copy=True\", \"primary_metric\": 0.77221004, \"best_metric\": 0.79669068}, {\"run_id\": \"AutoML_0c070b7f-286b-4e1b-8072-1c188058bed8_15\", \"run_number\": 20, \"metric\": null, \"status\": \"Completed\", \"run_type\": \"azureml.scriptrun\", \"training_percent\": \"100\", \"start_time\": \"2021-02-06T10:14:51.620661Z\", \"end_time\": \"2021-02-06T10:16:06.568311Z\", \"created_time\": \"2021-02-06T10:14:38.729073Z\", \"created_time_dt\": \"2021-02-06T10:14:38.729073Z\", \"duration\": \"0:01:27\", \"iteration\": \"15\", \"goal\": \"accuracy_max\", \"run_name\": \"MaxAbsScaler, ExtremeRandomTrees\", \"run_properties\": \"copy=True\", \"primary_metric\": 0.75498486, \"best_metric\": 0.79669068}, {\"run_id\": \"AutoML_0c070b7f-286b-4e1b-8072-1c188058bed8_16\", \"run_number\": 21, \"metric\": null, \"status\": \"Completed\", \"run_type\": \"azureml.scriptrun\", \"training_percent\": \"100\", \"start_time\": \"2021-02-06T10:15:20.610902Z\", \"end_time\": \"2021-02-06T10:16:23.161618Z\", \"created_time\": \"2021-02-06T10:15:05.23212Z\", \"created_time_dt\": \"2021-02-06T10:15:05.23212Z\", \"duration\": \"0:01:17\", \"iteration\": \"16\", \"goal\": \"accuracy_max\", \"run_name\": \"MaxAbsScaler, LightGBM\", \"run_properties\": \"copy=True\", \"primary_metric\": 0.77586387, \"best_metric\": 0.79669068}, {\"run_id\": \"AutoML_0c070b7f-286b-4e1b-8072-1c188058bed8_17\", \"run_number\": 22, \"metric\": null, \"status\": \"Completed\", \"run_type\": \"azureml.scriptrun\", \"training_percent\": \"100\", \"start_time\": \"2021-02-06T10:15:23.810342Z\", \"end_time\": \"2021-02-06T10:16:13.989775Z\", \"created_time\": \"2021-02-06T10:15:10.635232Z\", \"created_time_dt\": \"2021-02-06T10:15:10.635232Z\", \"duration\": \"0:01:03\", \"iteration\": \"17\", \"goal\": \"accuracy_max\", \"run_name\": \"MaxAbsScaler, LightGBM\", \"run_properties\": \"copy=True\", \"primary_metric\": 0.77633365, \"best_metric\": 0.79669068}, {\"run_id\": \"AutoML_0c070b7f-286b-4e1b-8072-1c188058bed8_18\", \"run_number\": 23, \"metric\": null, \"status\": \"Completed\", \"run_type\": \"azureml.scriptrun\", \"training_percent\": \"100\", \"start_time\": \"2021-02-06T10:16:08.890789Z\", \"end_time\": \"2021-02-06T10:17:01.241095Z\", \"created_time\": \"2021-02-06T10:15:54.441074Z\", \"created_time_dt\": \"2021-02-06T10:15:54.441074Z\", \"duration\": \"0:01:06\", \"iteration\": \"18\", \"goal\": \"accuracy_max\", \"run_name\": \"MaxAbsScaler, LightGBM\", \"run_properties\": \"copy=True\", \"primary_metric\": 0.76939138, \"best_metric\": 0.79669068}, {\"run_id\": \"AutoML_0c070b7f-286b-4e1b-8072-1c188058bed8_19\", \"run_number\": 24, \"metric\": null, \"status\": \"Completed\", \"run_type\": \"azureml.scriptrun\", \"training_percent\": \"100\", \"start_time\": \"2021-02-06T10:16:20.991252Z\", \"end_time\": \"2021-02-06T10:17:30.366747Z\", \"created_time\": \"2021-02-06T10:16:08.811443Z\", \"created_time_dt\": \"2021-02-06T10:16:08.811443Z\", \"duration\": \"0:01:21\", \"iteration\": \"19\", \"goal\": \"accuracy_max\", \"run_name\": \"SparseNormalizer, XGBoostClassifier\", \"run_properties\": \"<azureml.automl.runtime.shared.model_wrappers.SparseNormalizer object at 0x7fc2b5c594a8\", \"primary_metric\": 0.78275394, \"best_metric\": 0.79669068}, {\"run_id\": \"AutoML_0c070b7f-286b-4e1b-8072-1c188058bed8_20\", \"run_number\": 25, \"metric\": null, \"status\": \"Completed\", \"run_type\": \"azureml.scriptrun\", \"training_percent\": \"100\", \"start_time\": \"2021-02-06T10:16:29.857448Z\", \"end_time\": \"2021-02-06T10:17:18.755239Z\", \"created_time\": \"2021-02-06T10:16:16.039328Z\", \"created_time_dt\": \"2021-02-06T10:16:16.039328Z\", \"duration\": \"0:01:02\", \"iteration\": \"20\", \"goal\": \"accuracy_max\", \"run_name\": \"SparseNormalizer, LightGBM\", \"run_properties\": \"<azureml.automl.runtime.shared.model_wrappers.SparseNormalizer object at 0x7f6eaf53b278\", \"primary_metric\": 0.76735567, \"best_metric\": 0.79669068}, {\"run_id\": \"AutoML_0c070b7f-286b-4e1b-8072-1c188058bed8_21\", \"run_number\": 26, \"metric\": null, \"status\": \"Completed\", \"run_type\": \"azureml.scriptrun\", \"training_percent\": \"100\", \"start_time\": \"2021-02-06T10:16:37.427624Z\", \"end_time\": \"2021-02-06T10:17:25.730198Z\", \"created_time\": \"2021-02-06T10:16:25.389324Z\", \"created_time_dt\": \"2021-02-06T10:16:25.389324Z\", \"duration\": \"0:01:00\", \"iteration\": \"21\", \"goal\": \"accuracy_max\", \"run_name\": \"StandardScalerWrapper, LightGBM\", \"run_properties\": \"<azureml.automl.runtime.shared.model_wrappers.StandardScalerWrapper object at 0x7faeb4016b00\", \"primary_metric\": 0.78066604, \"best_metric\": 0.79669068}, {\"run_id\": \"AutoML_0c070b7f-286b-4e1b-8072-1c188058bed8_22\", \"run_number\": 27, \"metric\": null, \"status\": \"Completed\", \"run_type\": \"azureml.scriptrun\", \"training_percent\": \"100\", \"start_time\": \"2021-02-06T10:17:22.308831Z\", \"end_time\": \"2021-02-06T10:18:29.888185Z\", \"created_time\": \"2021-02-06T10:17:04.385183Z\", \"created_time_dt\": \"2021-02-06T10:17:04.385183Z\", \"duration\": \"0:01:25\", \"iteration\": \"22\", \"goal\": \"accuracy_max\", \"run_name\": \"MaxAbsScaler, ExtremeRandomTrees\", \"run_properties\": \"copy=True\", \"primary_metric\": 0.76036121, \"best_metric\": 0.79669068}, {\"run_id\": \"AutoML_0c070b7f-286b-4e1b-8072-1c188058bed8_23\", \"run_number\": 28, \"metric\": null, \"status\": \"Completed\", \"run_type\": \"azureml.scriptrun\", \"training_percent\": \"100\", \"start_time\": \"2021-02-06T10:17:35.109681Z\", \"end_time\": \"2021-02-06T10:19:15.571763Z\", \"created_time\": \"2021-02-06T10:17:22.138215Z\", \"created_time_dt\": \"2021-02-06T10:17:22.138215Z\", \"duration\": \"0:01:53\", \"iteration\": \"23\", \"goal\": \"accuracy_max\", \"run_name\": \"MaxAbsScaler, GradientBoosting\", \"run_properties\": \"copy=True\", \"primary_metric\": 0.77445454, \"best_metric\": 0.79669068}, {\"run_id\": \"AutoML_0c070b7f-286b-4e1b-8072-1c188058bed8_24\", \"run_number\": 29, \"metric\": null, \"status\": \"Completed\", \"run_type\": \"azureml.scriptrun\", \"training_percent\": \"100\", \"start_time\": \"2021-02-06T10:17:43.277721Z\", \"end_time\": \"2021-02-06T10:18:42.153358Z\", \"created_time\": \"2021-02-06T10:17:28.957672Z\", \"created_time_dt\": \"2021-02-06T10:17:28.957672Z\", \"duration\": \"0:01:13\", \"iteration\": \"24\", \"goal\": \"accuracy_max\", \"run_name\": \"MaxAbsScaler, LightGBM\", \"run_properties\": \"copy=True\", \"primary_metric\": 0.79335004, \"best_metric\": 0.79669068}, {\"run_id\": \"AutoML_0c070b7f-286b-4e1b-8072-1c188058bed8_25\", \"run_number\": 30, \"metric\": null, \"status\": \"Completed\", \"run_type\": \"azureml.scriptrun\", \"training_percent\": \"100\", \"start_time\": \"2021-02-06T10:17:49.455742Z\", \"end_time\": \"2021-02-06T10:19:14.389546Z\", \"created_time\": \"2021-02-06T10:17:37.266254Z\", \"created_time_dt\": \"2021-02-06T10:17:37.266254Z\", \"duration\": \"0:01:37\", \"iteration\": \"25\", \"goal\": \"accuracy_max\", \"run_name\": \"StandardScalerWrapper, LightGBM\", \"run_properties\": \"<azureml.automl.runtime.shared.model_wrappers.StandardScalerWrapper object at 0x7fde6f993630\", \"primary_metric\": 0.75065247, \"best_metric\": 0.79669068}, {\"run_id\": \"AutoML_0c070b7f-286b-4e1b-8072-1c188058bed8_26\", \"run_number\": 31, \"metric\": null, \"status\": \"Completed\", \"run_type\": \"azureml.scriptrun\", \"training_percent\": \"100\", \"start_time\": \"2021-02-06T10:18:47.709211Z\", \"end_time\": \"2021-02-06T10:19:39.65077Z\", \"created_time\": \"2021-02-06T10:18:32.06248Z\", \"created_time_dt\": \"2021-02-06T10:18:32.06248Z\", \"duration\": \"0:01:07\", \"iteration\": \"26\", \"goal\": \"accuracy_max\", \"run_name\": \"StandardScalerWrapper, XGBoostClassifier\", \"run_properties\": \"<azureml.automl.runtime.shared.model_wrappers.StandardScalerWrapper object at 0x7fc26bde2be0\", \"primary_metric\": 0.78437206, \"best_metric\": 0.79669068}, {\"run_id\": \"AutoML_0c070b7f-286b-4e1b-8072-1c188058bed8_27\", \"run_number\": 32, \"metric\": null, \"status\": \"Completed\", \"run_type\": \"azureml.scriptrun\", \"training_percent\": \"100\", \"start_time\": \"2021-02-06T10:18:56.509061Z\", \"end_time\": \"2021-02-06T10:19:39.5247Z\", \"created_time\": \"2021-02-06T10:18:44.371284Z\", \"created_time_dt\": \"2021-02-06T10:18:44.371284Z\", \"duration\": \"0:00:55\", \"iteration\": \"27\", \"goal\": \"accuracy_max\", \"run_name\": \"StandardScalerWrapper, LightGBM\", \"run_properties\": \"<azureml.automl.runtime.shared.model_wrappers.StandardScalerWrapper object at 0x7f1888242f98\", \"primary_metric\": 0.75065247, \"best_metric\": 0.79669068}, {\"run_id\": \"AutoML_0c070b7f-286b-4e1b-8072-1c188058bed8_28\", \"run_number\": 33, \"metric\": null, \"status\": \"Completed\", \"run_type\": \"azureml.scriptrun\", \"training_percent\": \"100\", \"start_time\": \"2021-02-06T10:19:29.35573Z\", \"end_time\": \"2021-02-06T10:20:31.703148Z\", \"created_time\": \"2021-02-06T10:19:16.906211Z\", \"created_time_dt\": \"2021-02-06T10:19:16.906211Z\", \"duration\": \"0:01:14\", \"iteration\": \"28\", \"goal\": \"accuracy_max\", \"run_name\": \"SparseNormalizer, LightGBM\", \"run_properties\": \"<azureml.automl.runtime.shared.model_wrappers.SparseNormalizer object at 0x7f923034ddd8\", \"primary_metric\": 0.77602046, \"best_metric\": 0.79669068}, {\"run_id\": \"AutoML_0c070b7f-286b-4e1b-8072-1c188058bed8_29\", \"run_number\": 34, \"metric\": null, \"status\": \"Completed\", \"run_type\": \"azureml.scriptrun\", \"training_percent\": \"100\", \"start_time\": \"2021-02-06T10:19:33.239149Z\", \"end_time\": \"2021-02-06T10:20:27.075716Z\", \"created_time\": \"2021-02-06T10:19:21.764747Z\", \"created_time_dt\": \"2021-02-06T10:19:21.764747Z\", \"duration\": \"0:01:05\", \"iteration\": \"29\", \"goal\": \"accuracy_max\", \"run_name\": \"TruncatedSVDWrapper, LightGBM\", \"run_properties\": \"n_components=0.5542105263157895, random_state=None\", \"primary_metric\": 0.77069631, \"best_metric\": 0.79669068}, {\"run_id\": \"AutoML_0c070b7f-286b-4e1b-8072-1c188058bed8_30\", \"run_number\": 35, \"metric\": null, \"status\": \"Completed\", \"run_type\": \"azureml.scriptrun\", \"training_percent\": \"100\", \"start_time\": \"2021-02-06T10:19:54.955299Z\", \"end_time\": \"2021-02-06T10:20:52.919111Z\", \"created_time\": \"2021-02-06T10:19:42.75366Z\", \"created_time_dt\": \"2021-02-06T10:19:42.75366Z\", \"duration\": \"0:01:10\", \"iteration\": \"30\", \"goal\": \"accuracy_max\", \"run_name\": \"MaxAbsScaler, LightGBM\", \"run_properties\": \"copy=True\", \"primary_metric\": 0.75065247, \"best_metric\": 0.79669068}, {\"run_id\": \"AutoML_0c070b7f-286b-4e1b-8072-1c188058bed8_31\", \"run_number\": 36, \"metric\": null, \"status\": \"Completed\", \"run_type\": \"azureml.scriptrun\", \"training_percent\": \"100\", \"start_time\": \"2021-02-06T10:19:57.538744Z\", \"end_time\": \"2021-02-06T10:20:47.121077Z\", \"created_time\": \"2021-02-06T10:19:42.914805Z\", \"created_time_dt\": \"2021-02-06T10:19:42.914805Z\", \"duration\": \"0:01:04\", \"iteration\": \"31\", \"goal\": \"accuracy_max\", \"run_name\": \"StandardScalerWrapper, XGBoostClassifier\", \"run_properties\": \"<azureml.automl.runtime.shared.model_wrappers.StandardScalerWrapper object at 0x7fb692632fd0\", \"primary_metric\": 0.75065247, \"best_metric\": 0.79669068}, {\"run_id\": \"AutoML_0c070b7f-286b-4e1b-8072-1c188058bed8_32\", \"run_number\": 37, \"metric\": null, \"status\": \"Canceled\", \"run_type\": \"azureml.scriptrun\", \"training_percent\": \"100\", \"start_time\": \"2021-02-06T10:20:39.406309Z\", \"end_time\": \"2021-02-06T10:21:44.269454Z\", \"created_time\": \"2021-02-06T10:20:29.312218Z\", \"created_time_dt\": \"2021-02-06T10:20:29.312218Z\", \"duration\": \"0:01:14\", \"iteration\": \"32\", \"goal\": \"accuracy_max\", \"run_name\": \"StandardScalerWrapper, ExtremeRandomTrees\", \"run_properties\": \"<azureml.automl.runtime.shared.model_wrappers.StandardScalerWrapper object at 0x7f11d57e6cc0\", \"primary_metric\": 0.7626057, \"best_metric\": 0.79669068}, {\"run_id\": \"AutoML_0c070b7f-286b-4e1b-8072-1c188058bed8_33\", \"run_number\": 38, \"metric\": null, \"status\": \"Completed\", \"run_type\": \"azureml.scriptrun\", \"training_percent\": \"100\", \"start_time\": \"2021-02-06T10:20:45.090466Z\", \"end_time\": \"2021-02-06T10:21:36.155003Z\", \"created_time\": \"2021-02-06T10:20:33.792313Z\", \"created_time_dt\": \"2021-02-06T10:20:33.792313Z\", \"duration\": \"0:01:02\", \"iteration\": \"33\", \"goal\": \"accuracy_max\", \"run_name\": \"StandardScalerWrapper, LightGBM\", \"run_properties\": \"<azureml.automl.runtime.shared.model_wrappers.StandardScalerWrapper object at 0x7f37be892908\", \"primary_metric\": 0.76584195, \"best_metric\": 0.79669068}, {\"run_id\": \"AutoML_0c070b7f-286b-4e1b-8072-1c188058bed8_34\", \"run_number\": 39, \"metric\": null, \"status\": \"Canceled\", \"run_type\": \"azureml.scriptrun\", \"training_percent\": \"100\", \"start_time\": \"2021-02-06T10:20:59.766773Z\", \"end_time\": \"2021-02-06T10:21:44.635882Z\", \"created_time\": \"2021-02-06T10:20:49.564024Z\", \"created_time_dt\": \"2021-02-06T10:20:49.564024Z\", \"duration\": \"0:00:55\", \"iteration\": \"34\", \"goal\": \"accuracy_max\", \"run_name\": \"SparseNormalizer, LightGBM\", \"run_properties\": \"<azureml.automl.runtime.shared.model_wrappers.SparseNormalizer object at 0x7f7eac5916a0\", \"primary_metric\": 0.75811671, \"best_metric\": 0.79669068}, {\"run_id\": \"AutoML_0c070b7f-286b-4e1b-8072-1c188058bed8_35\", \"run_number\": 40, \"metric\": null, \"status\": \"Canceled\", \"run_type\": \"azureml.scriptrun\", \"training_percent\": \"100\", \"start_time\": \"2021-02-06T10:21:08.811126Z\", \"end_time\": \"2021-02-06T10:21:46.027827Z\", \"created_time\": \"2021-02-06T10:20:56.658127Z\", \"created_time_dt\": \"2021-02-06T10:20:56.658127Z\", \"duration\": \"0:00:49\", \"iteration\": \"35\", \"goal\": \"accuracy_max\", \"run_name\": \"SparseNormalizer, LightGBM\", \"run_properties\": \"<azureml.automl.runtime.shared.model_wrappers.SparseNormalizer object at 0x7f3508f80940\", \"primary_metric\": 0.75065247, \"best_metric\": 0.79669068}, {\"run_id\": \"AutoML_0c070b7f-286b-4e1b-8072-1c188058bed8_36\", \"run_number\": 41, \"metric\": null, \"status\": \"Completed\", \"run_type\": \"azureml.scriptrun\", \"training_percent\": \"100\", \"start_time\": \"2021-02-06T10:22:06.48219Z\", \"end_time\": \"2021-02-06T10:23:51.738645Z\", \"created_time\": \"2021-02-06T10:21:49.143077Z\", \"created_time_dt\": \"2021-02-06T10:21:49.143077Z\", \"duration\": \"0:02:02\", \"iteration\": \"36\", \"goal\": \"accuracy_max\", \"run_name\": \"VotingEnsemble\", \"run_properties\": \"classification_labels=None,\\n                              estimators=[('0',\\n                                           Pipeline(memory=None,\\n                                                    steps=[('maxabsscaler',\\n                                                            MaxAbsScaler(copy=True\", \"primary_metric\": 0.79924836, \"best_metric\": 0.79924836}, {\"run_id\": \"AutoML_0c070b7f-286b-4e1b-8072-1c188058bed8_37\", \"run_number\": 42, \"metric\": null, \"status\": \"Completed\", \"run_type\": \"azureml.scriptrun\", \"training_percent\": \"100\", \"start_time\": \"2021-02-06T10:22:07.107347Z\", \"end_time\": \"2021-02-06T10:25:11.995108Z\", \"created_time\": \"2021-02-06T10:21:49.174894Z\", \"created_time_dt\": \"2021-02-06T10:21:49.174894Z\", \"duration\": \"0:03:22\", \"iteration\": \"37\", \"goal\": \"accuracy_max\", \"run_name\": \"StackEnsemble\", \"run_properties\": \"base_learners=[('0',\\n                                        Pipeline(memory=None,\\n                                                 steps=[('maxabsscaler',\\n                                                         MaxAbsScaler(copy=True\", \"primary_metric\": 0.79381981, \"best_metric\": 0.79924836}], \"children_metrics\": {\"categories\": [0], \"series\": {\"average_precision_score_weighted\": [{\"categories\": [\"0\", \"1\", \"2\", \"3\", \"4\", \"5\", \"6\", \"7\", \"8\", \"9\", \"10\", \"11\", \"12\", \"13\", \"14\", \"15\", \"16\", \"17\", \"18\", \"19\", \"20\", \"21\", \"22\", \"23\", \"24\", \"25\", \"26\", \"27\", \"28\", \"29\", \"30\", \"31\", \"32\", \"33\", \"34\", \"35\", \"36\", \"37\"], \"mode\": \"markers\", \"name\": \"average_precision_score_weighted\", \"stepped\": false, \"type\": \"scatter\", \"data\": [0.8150279171505724, 0.8126510495332506, 0.8079111400149346, 0.8012127708573246, 0.808956841793869, 0.7968665717279325, 0.809194323497429, 0.8054097259476639, 0.8083911733351125, 0.8069873911394191, 0.811017442267988, 0.8009397058104395, 0.7866679991677376, 0.8081608638545342, 0.8047150402633462, 0.8080638558605105, 0.811154314855521, 0.8079907334431645, 0.8091993842018339, 0.8097574096450927, 0.8003242011125993, 0.8068777500873233, 0.8089388825207315, 0.8069652809269887, 0.8134723976775867, 0.8015815418575224, 0.8119678119272646, 0.8069526667460519, 0.8051311365891712, 0.8061065057842907, 0.7737977808999336, 0.7740413158711682, 0.8079686244987937, 0.8065962890185631, 0.8008993605821132, 0.7940727816818022, 0.8138618536347471, 0.8156453326775566]}, {\"categories\": [\"0\", \"1\", \"2\", \"3\", \"4\", \"5\", \"6\", \"7\", \"8\", \"9\", \"10\", \"11\", \"12\", \"13\", \"14\", \"15\", \"16\", \"17\", \"18\", \"19\", \"20\", \"21\", \"22\", \"23\", \"24\", \"25\", \"26\", \"27\", \"28\", \"29\", \"30\", \"31\", \"32\", \"33\", \"34\", \"35\", \"36\", \"37\"], \"mode\": \"lines\", \"name\": \"average_precision_score_weighted_max\", \"stepped\": true, \"type\": \"scatter\", \"data\": [0.8150279171505724, 0.8150279171505724, 0.8150279171505724, 0.8150279171505724, 0.8150279171505724, 0.8150279171505724, 0.8150279171505724, 0.8150279171505724, 0.8150279171505724, 0.8150279171505724, 0.8150279171505724, 0.8150279171505724, 0.8150279171505724, 0.8150279171505724, 0.8150279171505724, 0.8150279171505724, 0.8150279171505724, 0.8150279171505724, 0.8150279171505724, 0.8150279171505724, 0.8150279171505724, 0.8150279171505724, 0.8150279171505724, 0.8150279171505724, 0.8150279171505724, 0.8150279171505724, 0.8150279171505724, 0.8150279171505724, 0.8150279171505724, 0.8150279171505724, 0.8150279171505724, 0.8150279171505724, 0.8150279171505724, 0.8150279171505724, 0.8150279171505724, 0.8150279171505724, 0.8150279171505724, 0.8156453326775566]}], \"accuracy\": [{\"categories\": [\"0\", \"1\", \"2\", \"3\", \"4\", \"5\", \"6\", \"7\", \"8\", \"9\", \"10\", \"11\", \"12\", \"13\", \"14\", \"15\", \"16\", \"17\", \"18\", \"19\", \"20\", \"21\", \"22\", \"23\", \"24\", \"25\", \"26\", \"27\", \"28\", \"29\", \"30\", \"31\", \"32\", \"33\", \"34\", \"35\", \"36\", \"37\"], \"mode\": \"markers\", \"name\": \"accuracy\", \"stepped\": false, \"type\": \"scatter\", \"data\": [0.7966906775237499, 0.7928802588996763, 0.7757594738490449, 0.7607787869297421, 0.7560288130284998, 0.686658315064203, 0.7808748303580749, 0.7800396701117028, 0.7825451508508193, 0.7829105334586074, 0.778160559557365, 0.7823363607892264, 0.7567595782440756, 0.7620315272993006, 0.7722100428019626, 0.7549848627205346, 0.7758638688798413, 0.7763336465184256, 0.7693913769704562, 0.7827539409124125, 0.7673556738699238, 0.7806660402964819, 0.760361206806556, 0.7744545359640881, 0.7933500365382607, 0.7506524689424784, 0.7843720638897588, 0.7506524689424784, 0.7760204614260361, 0.7706963148554129, 0.7506524689424784, 0.7506524689424784, 0.7626056999686815, 0.7658419459233742, 0.7581167136444305, 0.7506524689424784, 0.799248355778265, 0.7938198141768452]}, {\"categories\": [\"0\", \"1\", \"2\", \"3\", \"4\", \"5\", \"6\", \"7\", \"8\", \"9\", \"10\", \"11\", \"12\", \"13\", \"14\", \"15\", \"16\", \"17\", \"18\", \"19\", \"20\", \"21\", \"22\", \"23\", \"24\", \"25\", \"26\", \"27\", \"28\", \"29\", \"30\", \"31\", \"32\", \"33\", \"34\", \"35\", \"36\", \"37\"], \"mode\": \"lines\", \"name\": \"accuracy_max\", \"stepped\": true, \"type\": \"scatter\", \"data\": [0.7966906775237499, 0.7966906775237499, 0.7966906775237499, 0.7966906775237499, 0.7966906775237499, 0.7966906775237499, 0.7966906775237499, 0.7966906775237499, 0.7966906775237499, 0.7966906775237499, 0.7966906775237499, 0.7966906775237499, 0.7966906775237499, 0.7966906775237499, 0.7966906775237499, 0.7966906775237499, 0.7966906775237499, 0.7966906775237499, 0.7966906775237499, 0.7966906775237499, 0.7966906775237499, 0.7966906775237499, 0.7966906775237499, 0.7966906775237499, 0.7966906775237499, 0.7966906775237499, 0.7966906775237499, 0.7966906775237499, 0.7966906775237499, 0.7966906775237499, 0.7966906775237499, 0.7966906775237499, 0.7966906775237499, 0.7966906775237499, 0.7966906775237499, 0.7966906775237499, 0.799248355778265, 0.799248355778265]}], \"AUC_micro\": [{\"categories\": [\"0\", \"1\", \"2\", \"3\", \"4\", \"5\", \"6\", \"7\", \"8\", \"9\", \"10\", \"11\", \"12\", \"13\", \"14\", \"15\", \"16\", \"17\", \"18\", \"19\", \"20\", \"21\", \"22\", \"23\", \"24\", \"25\", \"26\", \"27\", \"28\", \"29\", \"30\", \"31\", \"32\", \"33\", \"34\", \"35\", \"36\", \"37\"], \"mode\": \"markers\", \"name\": \"AUC_micro\", \"stepped\": false, \"type\": \"scatter\", \"data\": [0.8760317346507837, 0.8750981298576752, 0.8633721942445938, 0.8561260740174174, 0.7945824733330856, 0.7731925429187654, 0.8680420573020499, 0.8658518132645249, 0.8683445347926274, 0.8678930826832513, 0.867734095230697, 0.8677118136104375, 0.8496571458594749, 0.8615660261624475, 0.8618735550254829, 0.8585687150292585, 0.8659042396446947, 0.8638619812032055, 0.8627005578774977, 0.8693793877259236, 0.8577806845783429, 0.866044893394299, 0.8608521969399668, 0.8637431513443173, 0.8747179037347036, 0.8548339689071512, 0.8721184331381542, 0.8594656360689834, 0.8636894335129366, 0.8619660654356421, 0.8364905882468721, 0.8452317675942327, 0.8608592100104667, 0.8611371335805531, 0.856133871767134, 0.8503005010798003, 0.8749409814970351, 0.8768018809545506]}, {\"categories\": [\"0\", \"1\", \"2\", \"3\", \"4\", \"5\", \"6\", \"7\", \"8\", \"9\", \"10\", \"11\", \"12\", \"13\", \"14\", \"15\", \"16\", \"17\", \"18\", \"19\", \"20\", \"21\", \"22\", \"23\", \"24\", \"25\", \"26\", \"27\", \"28\", \"29\", \"30\", \"31\", \"32\", \"33\", \"34\", \"35\", \"36\", \"37\"], \"mode\": \"lines\", \"name\": \"AUC_micro_max\", \"stepped\": true, \"type\": \"scatter\", \"data\": [0.8760317346507837, 0.8760317346507837, 0.8760317346507837, 0.8760317346507837, 0.8760317346507837, 0.8760317346507837, 0.8760317346507837, 0.8760317346507837, 0.8760317346507837, 0.8760317346507837, 0.8760317346507837, 0.8760317346507837, 0.8760317346507837, 0.8760317346507837, 0.8760317346507837, 0.8760317346507837, 0.8760317346507837, 0.8760317346507837, 0.8760317346507837, 0.8760317346507837, 0.8760317346507837, 0.8760317346507837, 0.8760317346507837, 0.8760317346507837, 0.8760317346507837, 0.8760317346507837, 0.8760317346507837, 0.8760317346507837, 0.8760317346507837, 0.8760317346507837, 0.8760317346507837, 0.8760317346507837, 0.8760317346507837, 0.8760317346507837, 0.8760317346507837, 0.8760317346507837, 0.8760317346507837, 0.8768018809545506]}], \"AUC_weighted\": [{\"categories\": [\"0\", \"1\", \"2\", \"3\", \"4\", \"5\", \"6\", \"7\", \"8\", \"9\", \"10\", \"11\", \"12\", \"13\", \"14\", \"15\", \"16\", \"17\", \"18\", \"19\", \"20\", \"21\", \"22\", \"23\", \"24\", \"25\", \"26\", \"27\", \"28\", \"29\", \"30\", \"31\", \"32\", \"33\", \"34\", \"35\", \"36\", \"37\"], \"mode\": \"markers\", \"name\": \"AUC_weighted\", \"stepped\": false, \"type\": \"scatter\", \"data\": [0.7996074621462127, 0.7988399095313269, 0.7892115600456151, 0.7785883983241811, 0.7918789117704175, 0.7734170829090764, 0.791538542442631, 0.7867025024107628, 0.7917685312256836, 0.7903073781801297, 0.7927374421346293, 0.78877384110713, 0.7626997538335004, 0.7896328141632805, 0.7868865238654162, 0.7879951763233429, 0.7942002354055631, 0.7915866056120614, 0.7912792071445668, 0.7926424612968841, 0.7768399047371769, 0.7886816211806548, 0.7899796311941926, 0.7880506675167056, 0.7981442077361588, 0.7783984056599437, 0.7969592524179722, 0.7907974596054546, 0.7853415791939343, 0.784067407593927, 0.7293694871990143, 0.752728295680399, 0.7896461644180954, 0.7880951128127354, 0.7797048826982537, 0.7662102333609305, 0.7980267697459086, 0.8013564645927408]}, {\"categories\": [\"0\", \"1\", \"2\", \"3\", \"4\", \"5\", \"6\", \"7\", \"8\", \"9\", \"10\", \"11\", \"12\", \"13\", \"14\", \"15\", \"16\", \"17\", \"18\", \"19\", \"20\", \"21\", \"22\", \"23\", \"24\", \"25\", \"26\", \"27\", \"28\", \"29\", \"30\", \"31\", \"32\", \"33\", \"34\", \"35\", \"36\", \"37\"], \"mode\": \"lines\", \"name\": \"AUC_weighted_max\", \"stepped\": true, \"type\": \"scatter\", \"data\": [0.7996074621462127, 0.7996074621462127, 0.7996074621462127, 0.7996074621462127, 0.7996074621462127, 0.7996074621462127, 0.7996074621462127, 0.7996074621462127, 0.7996074621462127, 0.7996074621462127, 0.7996074621462127, 0.7996074621462127, 0.7996074621462127, 0.7996074621462127, 0.7996074621462127, 0.7996074621462127, 0.7996074621462127, 0.7996074621462127, 0.7996074621462127, 0.7996074621462127, 0.7996074621462127, 0.7996074621462127, 0.7996074621462127, 0.7996074621462127, 0.7996074621462127, 0.7996074621462127, 0.7996074621462127, 0.7996074621462127, 0.7996074621462127, 0.7996074621462127, 0.7996074621462127, 0.7996074621462127, 0.7996074621462127, 0.7996074621462127, 0.7996074621462127, 0.7996074621462127, 0.7996074621462127, 0.8013564645927408]}], \"precision_score_micro\": [{\"categories\": [\"0\", \"1\", \"2\", \"3\", \"4\", \"5\", \"6\", \"7\", \"8\", \"9\", \"10\", \"11\", \"12\", \"13\", \"14\", \"15\", \"16\", \"17\", \"18\", \"19\", \"20\", \"21\", \"22\", \"23\", \"24\", \"25\", \"26\", \"27\", \"28\", \"29\", \"30\", \"31\", \"32\", \"33\", \"34\", \"35\", \"36\", \"37\"], \"mode\": \"markers\", \"name\": \"precision_score_micro\", \"stepped\": false, \"type\": \"scatter\", \"data\": [0.7966906775237499, 0.7928802588996763, 0.7757594738490449, 0.7607787869297421, 0.7560288130284998, 0.686658315064203, 0.7808748303580749, 0.7800396701117028, 0.7825451508508193, 0.7829105334586074, 0.778160559557365, 0.7823363607892264, 0.7567595782440756, 0.7620315272993006, 0.7722100428019626, 0.7549848627205346, 0.7758638688798413, 0.7763336465184256, 0.7693913769704562, 0.7827539409124125, 0.7673556738699238, 0.7806660402964819, 0.760361206806556, 0.7744545359640881, 0.7933500365382607, 0.7506524689424784, 0.7843720638897588, 0.7506524689424784, 0.7760204614260361, 0.7706963148554129, 0.7506524689424784, 0.7506524689424784, 0.7626056999686815, 0.7658419459233742, 0.7581167136444305, 0.7506524689424784, 0.799248355778265, 0.7938198141768452]}, {\"categories\": [\"0\", \"1\", \"2\", \"3\", \"4\", \"5\", \"6\", \"7\", \"8\", \"9\", \"10\", \"11\", \"12\", \"13\", \"14\", \"15\", \"16\", \"17\", \"18\", \"19\", \"20\", \"21\", \"22\", \"23\", \"24\", \"25\", \"26\", \"27\", \"28\", \"29\", \"30\", \"31\", \"32\", \"33\", \"34\", \"35\", \"36\", \"37\"], \"mode\": \"lines\", \"name\": \"precision_score_micro_max\", \"stepped\": true, \"type\": \"scatter\", \"data\": [0.7966906775237499, 0.7966906775237499, 0.7966906775237499, 0.7966906775237499, 0.7966906775237499, 0.7966906775237499, 0.7966906775237499, 0.7966906775237499, 0.7966906775237499, 0.7966906775237499, 0.7966906775237499, 0.7966906775237499, 0.7966906775237499, 0.7966906775237499, 0.7966906775237499, 0.7966906775237499, 0.7966906775237499, 0.7966906775237499, 0.7966906775237499, 0.7966906775237499, 0.7966906775237499, 0.7966906775237499, 0.7966906775237499, 0.7966906775237499, 0.7966906775237499, 0.7966906775237499, 0.7966906775237499, 0.7966906775237499, 0.7966906775237499, 0.7966906775237499, 0.7966906775237499, 0.7966906775237499, 0.7966906775237499, 0.7966906775237499, 0.7966906775237499, 0.7966906775237499, 0.799248355778265, 0.799248355778265]}], \"recall_score_weighted\": [{\"categories\": [\"0\", \"1\", \"2\", \"3\", \"4\", \"5\", \"6\", \"7\", \"8\", \"9\", \"10\", \"11\", \"12\", \"13\", \"14\", \"15\", \"16\", \"17\", \"18\", \"19\", \"20\", \"21\", \"22\", \"23\", \"24\", \"25\", \"26\", \"27\", \"28\", \"29\", \"30\", \"31\", \"32\", \"33\", \"34\", \"35\", \"36\", \"37\"], \"mode\": \"markers\", \"name\": \"recall_score_weighted\", \"stepped\": false, \"type\": \"scatter\", \"data\": [0.7966906775237499, 0.7928802588996763, 0.7757594738490449, 0.7607787869297421, 0.7560288130284998, 0.686658315064203, 0.7808748303580749, 0.7800396701117028, 0.7825451508508193, 0.7829105334586074, 0.778160559557365, 0.7823363607892264, 0.7567595782440756, 0.7620315272993006, 0.7722100428019626, 0.7549848627205346, 0.7758638688798413, 0.7763336465184256, 0.7693913769704562, 0.7827539409124125, 0.7673556738699238, 0.7806660402964819, 0.760361206806556, 0.7744545359640881, 0.7933500365382607, 0.7506524689424784, 0.7843720638897588, 0.7506524689424784, 0.7760204614260361, 0.7706963148554129, 0.7506524689424784, 0.7506524689424784, 0.7626056999686815, 0.7658419459233742, 0.7581167136444305, 0.7506524689424784, 0.799248355778265, 0.7938198141768452]}, {\"categories\": [\"0\", \"1\", \"2\", \"3\", \"4\", \"5\", \"6\", \"7\", \"8\", \"9\", \"10\", \"11\", \"12\", \"13\", \"14\", \"15\", \"16\", \"17\", \"18\", \"19\", \"20\", \"21\", \"22\", \"23\", \"24\", \"25\", \"26\", \"27\", \"28\", \"29\", \"30\", \"31\", \"32\", \"33\", \"34\", \"35\", \"36\", \"37\"], \"mode\": \"lines\", \"name\": \"recall_score_weighted_max\", \"stepped\": true, \"type\": \"scatter\", \"data\": [0.7966906775237499, 0.7966906775237499, 0.7966906775237499, 0.7966906775237499, 0.7966906775237499, 0.7966906775237499, 0.7966906775237499, 0.7966906775237499, 0.7966906775237499, 0.7966906775237499, 0.7966906775237499, 0.7966906775237499, 0.7966906775237499, 0.7966906775237499, 0.7966906775237499, 0.7966906775237499, 0.7966906775237499, 0.7966906775237499, 0.7966906775237499, 0.7966906775237499, 0.7966906775237499, 0.7966906775237499, 0.7966906775237499, 0.7966906775237499, 0.7966906775237499, 0.7966906775237499, 0.7966906775237499, 0.7966906775237499, 0.7966906775237499, 0.7966906775237499, 0.7966906775237499, 0.7966906775237499, 0.7966906775237499, 0.7966906775237499, 0.7966906775237499, 0.7966906775237499, 0.799248355778265, 0.799248355778265]}], \"average_precision_score_macro\": [{\"categories\": [\"0\", \"1\", \"2\", \"3\", \"4\", \"5\", \"6\", \"7\", \"8\", \"9\", \"10\", \"11\", \"12\", \"13\", \"14\", \"15\", \"16\", \"17\", \"18\", \"19\", \"20\", \"21\", \"22\", \"23\", \"24\", \"25\", \"26\", \"27\", \"28\", \"29\", \"30\", \"31\", \"32\", \"33\", \"34\", \"35\", \"36\", \"37\"], \"mode\": \"markers\", \"name\": \"average_precision_score_macro\", \"stepped\": false, \"type\": \"scatter\", \"data\": [0.725524164276503, 0.7225233247032788, 0.716637316874959, 0.7054319096232978, 0.7160297286597803, 0.700194765052179, 0.7161088745592151, 0.7115689785343188, 0.7156531928143197, 0.7119289696033059, 0.7194441907024874, 0.7051633471968654, 0.6867677818454037, 0.715355566517951, 0.7116348109779557, 0.7149445605895629, 0.7202929263973455, 0.716465839897651, 0.7167069144239865, 0.7160414998291627, 0.7035825617277514, 0.7151472815875103, 0.7160643173542116, 0.714523965090331, 0.72408010245156, 0.7070205629187006, 0.7186496337087248, 0.7136803265144148, 0.7117074933668417, 0.7099261731930877, 0.6756639052643226, 0.6715809080182445, 0.7137457859713345, 0.7133652048475408, 0.7055286594868121, 0.695523169716639, 0.7236586681023178, 0.7266568553993018]}, {\"categories\": [\"0\", \"1\", \"2\", \"3\", \"4\", \"5\", \"6\", \"7\", \"8\", \"9\", \"10\", \"11\", \"12\", \"13\", \"14\", \"15\", \"16\", \"17\", \"18\", \"19\", \"20\", \"21\", \"22\", \"23\", \"24\", \"25\", \"26\", \"27\", \"28\", \"29\", \"30\", \"31\", \"32\", \"33\", \"34\", \"35\", \"36\", \"37\"], \"mode\": \"lines\", \"name\": \"average_precision_score_macro_max\", \"stepped\": true, \"type\": \"scatter\", \"data\": [0.725524164276503, 0.725524164276503, 0.725524164276503, 0.725524164276503, 0.725524164276503, 0.725524164276503, 0.725524164276503, 0.725524164276503, 0.725524164276503, 0.725524164276503, 0.725524164276503, 0.725524164276503, 0.725524164276503, 0.725524164276503, 0.725524164276503, 0.725524164276503, 0.725524164276503, 0.725524164276503, 0.725524164276503, 0.725524164276503, 0.725524164276503, 0.725524164276503, 0.725524164276503, 0.725524164276503, 0.725524164276503, 0.725524164276503, 0.725524164276503, 0.725524164276503, 0.725524164276503, 0.725524164276503, 0.725524164276503, 0.725524164276503, 0.725524164276503, 0.725524164276503, 0.725524164276503, 0.725524164276503, 0.725524164276503, 0.7266568553993018]}], \"average_precision_score_micro\": [{\"categories\": [\"0\", \"1\", \"2\", \"3\", \"4\", \"5\", \"6\", \"7\", \"8\", \"9\", \"10\", \"11\", \"12\", \"13\", \"14\", \"15\", \"16\", \"17\", \"18\", \"19\", \"20\", \"21\", \"22\", \"23\", \"24\", \"25\", \"26\", \"27\", \"28\", \"29\", \"30\", \"31\", \"32\", \"33\", \"34\", \"35\", \"36\", \"37\"], \"mode\": \"markers\", \"name\": \"average_precision_score_micro\", \"stepped\": false, \"type\": \"scatter\", \"data\": [0.8631931352834181, 0.8612738775898308, 0.8510957335612331, 0.8458423795559127, 0.7571307750333215, 0.7649369879821166, 0.8565359174554886, 0.8535302911521355, 0.8559037290504773, 0.8561557800292312, 0.8564221947165226, 0.8498658426162562, 0.8343594739658416, 0.8509191028422535, 0.8485490730874069, 0.8490091292062286, 0.8543016641632754, 0.8511710878429919, 0.8520855555514927, 0.8581566720568873, 0.8474025067000857, 0.8529561907586108, 0.8508624953816413, 0.8518229755643173, 0.8612926775243895, 0.8442805535190788, 0.8600832990014166, 0.8485066939507359, 0.8515892660198413, 0.8530910584546308, 0.8219184072397349, 0.8223959198166716, 0.8509146856009688, 0.8499532228552183, 0.8450923154971041, 0.8403984146564913, 0.8622463549512309, 0.8636100288023111]}, {\"categories\": [\"0\", \"1\", \"2\", \"3\", \"4\", \"5\", \"6\", \"7\", \"8\", \"9\", \"10\", \"11\", \"12\", \"13\", \"14\", \"15\", \"16\", \"17\", \"18\", \"19\", \"20\", \"21\", \"22\", \"23\", \"24\", \"25\", \"26\", \"27\", \"28\", \"29\", \"30\", \"31\", \"32\", \"33\", \"34\", \"35\", \"36\", \"37\"], \"mode\": \"lines\", \"name\": \"average_precision_score_micro_max\", \"stepped\": true, \"type\": \"scatter\", \"data\": [0.8631931352834181, 0.8631931352834181, 0.8631931352834181, 0.8631931352834181, 0.8631931352834181, 0.8631931352834181, 0.8631931352834181, 0.8631931352834181, 0.8631931352834181, 0.8631931352834181, 0.8631931352834181, 0.8631931352834181, 0.8631931352834181, 0.8631931352834181, 0.8631931352834181, 0.8631931352834181, 0.8631931352834181, 0.8631931352834181, 0.8631931352834181, 0.8631931352834181, 0.8631931352834181, 0.8631931352834181, 0.8631931352834181, 0.8631931352834181, 0.8631931352834181, 0.8631931352834181, 0.8631931352834181, 0.8631931352834181, 0.8631931352834181, 0.8631931352834181, 0.8631931352834181, 0.8631931352834181, 0.8631931352834181, 0.8631931352834181, 0.8631931352834181, 0.8631931352834181, 0.8631931352834181, 0.8636100288023111]}], \"balanced_accuracy\": [{\"categories\": [\"0\", \"1\", \"2\", \"3\", \"4\", \"5\", \"6\", \"7\", \"8\", \"9\", \"10\", \"11\", \"12\", \"13\", \"14\", \"15\", \"16\", \"17\", \"18\", \"19\", \"20\", \"21\", \"22\", \"23\", \"24\", \"25\", \"26\", \"27\", \"28\", \"29\", \"30\", \"31\", \"32\", \"33\", \"34\", \"35\", \"36\", \"37\"], \"mode\": \"markers\", \"name\": \"balanced_accuracy\", \"stepped\": false, \"type\": \"scatter\", \"data\": [0.7248325554994094, 0.7092071903260377, 0.6144368900948559, 0.5419411063098544, 0.7561523671432692, 0.723597506644133, 0.6635513873585315, 0.6792676184115641, 0.6724714579262502, 0.6807886599902538, 0.6387921003273321, 0.6620927773348232, 0.5394805495187267, 0.5586594263805517, 0.6116565416946321, 0.518640094912404, 0.6180789121588517, 0.6210342445773555, 0.5929588856297506, 0.6847410636922923, 0.5945408965516998, 0.64565438957511, 0.5473541835891088, 0.6102126849955201, 0.7035398433869021, 0.5, 0.7055528706107793, 0.5, 0.6347286106946748, 0.6153218030146368, 0.5, 0.5, 0.5556614039488906, 0.5736495937276068, 0.533280735488734, 0.5, 0.7401585138612795, 0.7154212074856563]}, {\"categories\": [\"0\", \"1\", \"2\", \"3\", \"4\", \"5\", \"6\", \"7\", \"8\", \"9\", \"10\", \"11\", \"12\", \"13\", \"14\", \"15\", \"16\", \"17\", \"18\", \"19\", \"20\", \"21\", \"22\", \"23\", \"24\", \"25\", \"26\", \"27\", \"28\", \"29\", \"30\", \"31\", \"32\", \"33\", \"34\", \"35\", \"36\", \"37\"], \"mode\": \"lines\", \"name\": \"balanced_accuracy_max\", \"stepped\": true, \"type\": \"scatter\", \"data\": [0.7248325554994094, 0.7248325554994094, 0.7248325554994094, 0.7248325554994094, 0.7561523671432692, 0.7561523671432692, 0.7561523671432692, 0.7561523671432692, 0.7561523671432692, 0.7561523671432692, 0.7561523671432692, 0.7561523671432692, 0.7561523671432692, 0.7561523671432692, 0.7561523671432692, 0.7561523671432692, 0.7561523671432692, 0.7561523671432692, 0.7561523671432692, 0.7561523671432692, 0.7561523671432692, 0.7561523671432692, 0.7561523671432692, 0.7561523671432692, 0.7561523671432692, 0.7561523671432692, 0.7561523671432692, 0.7561523671432692, 0.7561523671432692, 0.7561523671432692, 0.7561523671432692, 0.7561523671432692, 0.7561523671432692, 0.7561523671432692, 0.7561523671432692, 0.7561523671432692, 0.7561523671432692, 0.7561523671432692]}], \"log_loss\": [{\"categories\": [\"0\", \"1\", \"2\", \"3\", \"4\", \"5\", \"6\", \"7\", \"8\", \"9\", \"10\", \"11\", \"12\", \"13\", \"14\", \"15\", \"16\", \"17\", \"18\", \"19\", \"20\", \"21\", \"22\", \"23\", \"24\", \"25\", \"26\", \"27\", \"28\", \"29\", \"30\", \"31\", \"32\", \"33\", \"34\", \"35\", \"36\", \"37\"], \"mode\": \"markers\", \"name\": \"log_loss\", \"stepped\": false, \"type\": \"scatter\", \"data\": [0.43824126799347396, 0.43882521179032835, 0.46109930941694754, 0.47679010241267955, 0.5550536743393656, 0.5879391788884912, 0.4503411519721005, 0.4539870034779321, 0.4506043939244591, 0.4946914675857101, 0.45203761095793143, 0.45054518830013973, 0.522995181033, 0.4678847142127971, 0.46358220952498064, 0.46572891509402076, 0.45799998056563423, 0.45731157865668903, 0.46210677628606306, 0.4505050381093902, 0.46725731485617356, 0.4556462994643933, 0.4598707815379628, 0.4613436531089313, 0.43968520533448135, 0.5453051016640047, 0.48986146487501236, 0.48596441334090185, 0.45757688300896643, 0.4615405865937899, 0.5454221928681853, 0.520081324328406, 0.4623312664704262, 0.46985732740400254, 0.4733263356376672, 0.5475940507202884, 0.4694051072647898, 0.43634836471006416]}, {\"categories\": [\"0\", \"1\", \"2\", \"3\", \"4\", \"5\", \"6\", \"7\", \"8\", \"9\", \"10\", \"11\", \"12\", \"13\", \"14\", \"15\", \"16\", \"17\", \"18\", \"19\", \"20\", \"21\", \"22\", \"23\", \"24\", \"25\", \"26\", \"27\", \"28\", \"29\", \"30\", \"31\", \"32\", \"33\", \"34\", \"35\", \"36\", \"37\"], \"mode\": \"lines\", \"name\": \"log_loss_min\", \"stepped\": true, \"type\": \"scatter\", \"data\": [0.43824126799347396, 0.43824126799347396, 0.43824126799347396, 0.43824126799347396, 0.43824126799347396, 0.43824126799347396, 0.43824126799347396, 0.43824126799347396, 0.43824126799347396, 0.43824126799347396, 0.43824126799347396, 0.43824126799347396, 0.43824126799347396, 0.43824126799347396, 0.43824126799347396, 0.43824126799347396, 0.43824126799347396, 0.43824126799347396, 0.43824126799347396, 0.43824126799347396, 0.43824126799347396, 0.43824126799347396, 0.43824126799347396, 0.43824126799347396, 0.43824126799347396, 0.43824126799347396, 0.43824126799347396, 0.43824126799347396, 0.43824126799347396, 0.43824126799347396, 0.43824126799347396, 0.43824126799347396, 0.43824126799347396, 0.43824126799347396, 0.43824126799347396, 0.43824126799347396, 0.43824126799347396, 0.43634836471006416]}], \"f1_score_macro\": [{\"categories\": [\"0\", \"1\", \"2\", \"3\", \"4\", \"5\", \"6\", \"7\", \"8\", \"9\", \"10\", \"11\", \"12\", \"13\", \"14\", \"15\", \"16\", \"17\", \"18\", \"19\", \"20\", \"21\", \"22\", \"23\", \"24\", \"25\", \"26\", \"27\", \"28\", \"29\", \"30\", \"31\", \"32\", \"33\", \"34\", \"35\", \"36\", \"37\"], \"mode\": \"markers\", \"name\": \"f1_score_macro\", \"stepped\": false, \"type\": \"scatter\", \"data\": [0.7263337755431367, 0.7149903217921084, 0.6276460656961294, 0.5132640793047242, 0.7150755902144542, 0.6579865525712533, 0.677063700526967, 0.688697183723523, 0.684716601445237, 0.6909076676015885, 0.6543462762815221, 0.6765113146901559, 0.5089261521390942, 0.550568572291063, 0.6245683445782699, 0.4728804709568515, 0.6317118238260879, 0.6352306934059211, 0.6004641949609894, 0.6936378303177392, 0.6019728807790191, 0.6615583328859179, 0.5292504110561748, 0.623093298806128, 0.711631593032834, 0.4287737471156044, 0.7080282644173966, 0.4287737471156044, 0.6490452438200108, 0.6286183087258125, 0.4287737471156044, 0.4287737471156044, 0.5416510258279659, 0.5720578503554364, 0.5025177584908269, 0.4287737471156044, 0.7361111517352673, 0.7192740419329157]}, {\"categories\": [\"0\", \"1\", \"2\", \"3\", \"4\", \"5\", \"6\", \"7\", \"8\", \"9\", \"10\", \"11\", \"12\", \"13\", \"14\", \"15\", \"16\", \"17\", \"18\", \"19\", \"20\", \"21\", \"22\", \"23\", \"24\", \"25\", \"26\", \"27\", \"28\", \"29\", \"30\", \"31\", \"32\", \"33\", \"34\", \"35\", \"36\", \"37\"], \"mode\": \"lines\", \"name\": \"f1_score_macro_max\", \"stepped\": true, \"type\": \"scatter\", \"data\": [0.7263337755431367, 0.7263337755431367, 0.7263337755431367, 0.7263337755431367, 0.7263337755431367, 0.7263337755431367, 0.7263337755431367, 0.7263337755431367, 0.7263337755431367, 0.7263337755431367, 0.7263337755431367, 0.7263337755431367, 0.7263337755431367, 0.7263337755431367, 0.7263337755431367, 0.7263337755431367, 0.7263337755431367, 0.7263337755431367, 0.7263337755431367, 0.7263337755431367, 0.7263337755431367, 0.7263337755431367, 0.7263337755431367, 0.7263337755431367, 0.7263337755431367, 0.7263337755431367, 0.7263337755431367, 0.7263337755431367, 0.7263337755431367, 0.7263337755431367, 0.7263337755431367, 0.7263337755431367, 0.7263337755431367, 0.7263337755431367, 0.7263337755431367, 0.7263337755431367, 0.7361111517352673, 0.7361111517352673]}], \"weighted_accuracy\": [{\"categories\": [\"0\", \"1\", \"2\", \"3\", \"4\", \"5\", \"6\", \"7\", \"8\", \"9\", \"10\", \"11\", \"12\", \"13\", \"14\", \"15\", \"16\", \"17\", \"18\", \"19\", \"20\", \"21\", \"22\", \"23\", \"24\", \"25\", \"26\", \"27\", \"28\", \"29\", \"30\", \"31\", \"32\", \"33\", \"34\", \"35\", \"36\", \"37\"], \"mode\": \"markers\", \"name\": \"weighted_accuracy\", \"stepped\": false, \"type\": \"scatter\", \"data\": [0.8397324309802427, 0.8430039215132908, 0.8720831420058278, 0.891283068745318, 0.756038727488675, 0.664581234486715, 0.8510460728085302, 0.8403045473332655, 0.8484031320121129, 0.8440546996752246, 0.8614721188263532, 0.8542036815639541, 0.8871146243032398, 0.8835031179969186, 0.8681699599818541, 0.8962768447844601, 0.8700831583150621, 0.8693033510194544, 0.8750247909072418, 0.8414168501413375, 0.8708115210511029, 0.8614036614912264, 0.8878748079679966, 0.8726385463253181, 0.8471508479305325, 0.9004644223796888, 0.831544325373241, 0.9004644223796888, 0.860622727647011, 0.8635850230644455, 0.9004644223796888, 0.9004644223796888, 0.8865061272219844, 0.8807715629552458, 0.8924889038334519, 0.9004644223796888, 0.8346321423286823, 0.8407902232868958]}, {\"categories\": [\"0\", \"1\", \"2\", \"3\", \"4\", \"5\", \"6\", \"7\", \"8\", \"9\", \"10\", \"11\", \"12\", \"13\", \"14\", \"15\", \"16\", \"17\", \"18\", \"19\", \"20\", \"21\", \"22\", \"23\", \"24\", \"25\", \"26\", \"27\", \"28\", \"29\", \"30\", \"31\", \"32\", \"33\", \"34\", \"35\", \"36\", \"37\"], \"mode\": \"lines\", \"name\": \"weighted_accuracy_max\", \"stepped\": true, \"type\": \"scatter\", \"data\": [0.8397324309802427, 0.8430039215132908, 0.8720831420058278, 0.891283068745318, 0.891283068745318, 0.891283068745318, 0.891283068745318, 0.891283068745318, 0.891283068745318, 0.891283068745318, 0.891283068745318, 0.891283068745318, 0.891283068745318, 0.891283068745318, 0.891283068745318, 0.8962768447844601, 0.8962768447844601, 0.8962768447844601, 0.8962768447844601, 0.8962768447844601, 0.8962768447844601, 0.8962768447844601, 0.8962768447844601, 0.8962768447844601, 0.8962768447844601, 0.9004644223796888, 0.9004644223796888, 0.9004644223796888, 0.9004644223796888, 0.9004644223796888, 0.9004644223796888, 0.9004644223796888, 0.9004644223796888, 0.9004644223796888, 0.9004644223796888, 0.9004644223796888, 0.9004644223796888, 0.9004644223796888]}], \"recall_score_micro\": [{\"categories\": [\"0\", \"1\", \"2\", \"3\", \"4\", \"5\", \"6\", \"7\", \"8\", \"9\", \"10\", \"11\", \"12\", \"13\", \"14\", \"15\", \"16\", \"17\", \"18\", \"19\", \"20\", \"21\", \"22\", \"23\", \"24\", \"25\", \"26\", \"27\", \"28\", \"29\", \"30\", \"31\", \"32\", \"33\", \"34\", \"35\", \"36\", \"37\"], \"mode\": \"markers\", \"name\": \"recall_score_micro\", \"stepped\": false, \"type\": \"scatter\", \"data\": [0.7966906775237499, 0.7928802588996763, 0.7757594738490449, 0.7607787869297421, 0.7560288130284998, 0.686658315064203, 0.7808748303580749, 0.7800396701117028, 0.7825451508508193, 0.7829105334586074, 0.778160559557365, 0.7823363607892264, 0.7567595782440756, 0.7620315272993006, 0.7722100428019626, 0.7549848627205346, 0.7758638688798413, 0.7763336465184256, 0.7693913769704562, 0.7827539409124125, 0.7673556738699238, 0.7806660402964819, 0.760361206806556, 0.7744545359640881, 0.7933500365382607, 0.7506524689424784, 0.7843720638897588, 0.7506524689424784, 0.7760204614260361, 0.7706963148554129, 0.7506524689424784, 0.7506524689424784, 0.7626056999686815, 0.7658419459233742, 0.7581167136444305, 0.7506524689424784, 0.799248355778265, 0.7938198141768452]}, {\"categories\": [\"0\", \"1\", \"2\", \"3\", \"4\", \"5\", \"6\", \"7\", \"8\", \"9\", \"10\", \"11\", \"12\", \"13\", \"14\", \"15\", \"16\", \"17\", \"18\", \"19\", \"20\", \"21\", \"22\", \"23\", \"24\", \"25\", \"26\", \"27\", \"28\", \"29\", \"30\", \"31\", \"32\", \"33\", \"34\", \"35\", \"36\", \"37\"], \"mode\": \"lines\", \"name\": \"recall_score_micro_max\", \"stepped\": true, \"type\": \"scatter\", \"data\": [0.7966906775237499, 0.7966906775237499, 0.7966906775237499, 0.7966906775237499, 0.7966906775237499, 0.7966906775237499, 0.7966906775237499, 0.7966906775237499, 0.7966906775237499, 0.7966906775237499, 0.7966906775237499, 0.7966906775237499, 0.7966906775237499, 0.7966906775237499, 0.7966906775237499, 0.7966906775237499, 0.7966906775237499, 0.7966906775237499, 0.7966906775237499, 0.7966906775237499, 0.7966906775237499, 0.7966906775237499, 0.7966906775237499, 0.7966906775237499, 0.7966906775237499, 0.7966906775237499, 0.7966906775237499, 0.7966906775237499, 0.7966906775237499, 0.7966906775237499, 0.7966906775237499, 0.7966906775237499, 0.7966906775237499, 0.7966906775237499, 0.7966906775237499, 0.7966906775237499, 0.799248355778265, 0.799248355778265]}], \"norm_macro_recall\": [{\"categories\": [\"0\", \"1\", \"2\", \"3\", \"4\", \"5\", \"6\", \"7\", \"8\", \"9\", \"10\", \"11\", \"12\", \"13\", \"14\", \"15\", \"16\", \"17\", \"18\", \"19\", \"20\", \"21\", \"22\", \"23\", \"24\", \"25\", \"26\", \"27\", \"28\", \"29\", \"30\", \"31\", \"32\", \"33\", \"34\", \"35\", \"36\", \"37\"], \"mode\": \"markers\", \"name\": \"norm_macro_recall\", \"stepped\": false, \"type\": \"scatter\", \"data\": [0.44966511099881856, 0.4184143806520753, 0.22887378018971186, 0.08388221261970892, 0.5123047342865383, 0.44719501328826583, 0.327102774717063, 0.35853523682312843, 0.34494291585250036, 0.3615773199805079, 0.27758420065466416, 0.3241855546696463, 0.07896109903745337, 0.1173188527611035, 0.22331308338926423, 0.037280189824808, 0.2361578243177033, 0.24206848915471083, 0.1859177712595013, 0.3694821273845846, 0.18908179310339965, 0.2913087791502201, 0.09470836717821755, 0.2204253699910402, 0.4070796867738042, 0.0, 0.4111057412215588, 0.0, 0.2694572213893496, 0.2306436060292735, 0.0, 0.0, 0.11132280789778141, 0.14729918745521364, 0.0665614709774679, 0.0, 0.4803170277225591, 0.4308424149713126]}, {\"categories\": [\"0\", \"1\", \"2\", \"3\", \"4\", \"5\", \"6\", \"7\", \"8\", \"9\", \"10\", \"11\", \"12\", \"13\", \"14\", \"15\", \"16\", \"17\", \"18\", \"19\", \"20\", \"21\", \"22\", \"23\", \"24\", \"25\", \"26\", \"27\", \"28\", \"29\", \"30\", \"31\", \"32\", \"33\", \"34\", \"35\", \"36\", \"37\"], \"mode\": \"lines\", \"name\": \"norm_macro_recall_max\", \"stepped\": true, \"type\": \"scatter\", \"data\": [0.44966511099881856, 0.44966511099881856, 0.44966511099881856, 0.44966511099881856, 0.5123047342865383, 0.5123047342865383, 0.5123047342865383, 0.5123047342865383, 0.5123047342865383, 0.5123047342865383, 0.5123047342865383, 0.5123047342865383, 0.5123047342865383, 0.5123047342865383, 0.5123047342865383, 0.5123047342865383, 0.5123047342865383, 0.5123047342865383, 0.5123047342865383, 0.5123047342865383, 0.5123047342865383, 0.5123047342865383, 0.5123047342865383, 0.5123047342865383, 0.5123047342865383, 0.5123047342865383, 0.5123047342865383, 0.5123047342865383, 0.5123047342865383, 0.5123047342865383, 0.5123047342865383, 0.5123047342865383, 0.5123047342865383, 0.5123047342865383, 0.5123047342865383, 0.5123047342865383, 0.5123047342865383, 0.5123047342865383]}], \"AUC_macro\": [{\"categories\": [\"0\", \"1\", \"2\", \"3\", \"4\", \"5\", \"6\", \"7\", \"8\", \"9\", \"10\", \"11\", \"12\", \"13\", \"14\", \"15\", \"16\", \"17\", \"18\", \"19\", \"20\", \"21\", \"22\", \"23\", \"24\", \"25\", \"26\", \"27\", \"28\", \"29\", \"30\", \"31\", \"32\", \"33\", \"34\", \"35\", \"36\", \"37\"], \"mode\": \"markers\", \"name\": \"AUC_macro\", \"stepped\": false, \"type\": \"scatter\", \"data\": [0.7996074621462127, 0.7988399095313269, 0.7892115600456151, 0.7785883983241811, 0.7918789117704175, 0.7734170829090764, 0.791538542442631, 0.7867025024107628, 0.7917685420390219, 0.7903073781801297, 0.7927374421346295, 0.78877384110713, 0.7626997538335005, 0.7896328141632803, 0.7868865238654162, 0.787995176323343, 0.794200235405563, 0.7915866056120615, 0.7912792071445668, 0.7926424612968841, 0.7768399047371769, 0.7886816211806548, 0.7899796311941923, 0.7880506675167056, 0.798144207736159, 0.7783984056599437, 0.796959252417972, 0.7907974596054546, 0.7853415791939343, 0.7840674075939269, 0.7293694871990143, 0.7527282956803991, 0.7896461644180954, 0.7880951128127353, 0.7797048826982537, 0.7662102333609305, 0.7980267697459086, 0.8013564645927408]}, {\"categories\": [\"0\", \"1\", \"2\", \"3\", \"4\", \"5\", \"6\", \"7\", \"8\", \"9\", \"10\", \"11\", \"12\", \"13\", \"14\", \"15\", \"16\", \"17\", \"18\", \"19\", \"20\", \"21\", \"22\", \"23\", \"24\", \"25\", \"26\", \"27\", \"28\", \"29\", \"30\", \"31\", \"32\", \"33\", \"34\", \"35\", \"36\", \"37\"], \"mode\": \"lines\", \"name\": \"AUC_macro_max\", \"stepped\": true, \"type\": \"scatter\", \"data\": [0.7996074621462127, 0.7996074621462127, 0.7996074621462127, 0.7996074621462127, 0.7996074621462127, 0.7996074621462127, 0.7996074621462127, 0.7996074621462127, 0.7996074621462127, 0.7996074621462127, 0.7996074621462127, 0.7996074621462127, 0.7996074621462127, 0.7996074621462127, 0.7996074621462127, 0.7996074621462127, 0.7996074621462127, 0.7996074621462127, 0.7996074621462127, 0.7996074621462127, 0.7996074621462127, 0.7996074621462127, 0.7996074621462127, 0.7996074621462127, 0.7996074621462127, 0.7996074621462127, 0.7996074621462127, 0.7996074621462127, 0.7996074621462127, 0.7996074621462127, 0.7996074621462127, 0.7996074621462127, 0.7996074621462127, 0.7996074621462127, 0.7996074621462127, 0.7996074621462127, 0.7996074621462127, 0.8013564645927408]}], \"matthews_correlation\": [{\"categories\": [\"0\", \"1\", \"2\", \"3\", \"4\", \"5\", \"6\", \"7\", \"8\", \"9\", \"10\", \"11\", \"12\", \"13\", \"14\", \"15\", \"16\", \"17\", \"18\", \"19\", \"20\", \"21\", \"22\", \"23\", \"24\", \"25\", \"26\", \"27\", \"28\", \"29\", \"30\", \"31\", \"32\", \"33\", \"34\", \"35\", \"36\", \"37\"], \"mode\": \"markers\", \"name\": \"matthews_correlation\", \"stepped\": false, \"type\": \"scatter\", \"data\": [0.4530817590453362, 0.4315313713358871, 0.3032762405999912, 0.16445907770345777, 0.4586850414361919, 0.3882360244147665, 0.36515696261194397, 0.3814056656214471, 0.37742649293178016, 0.38709669143232217, 0.3341009352464581, 0.36588258873692653, 0.1529706879428084, 0.20560100144468144, 0.29311010339454946, 0.11727532776271817, 0.30671765597367157, 0.312169748200307, 0.26686625969706607, 0.3911818242609841, 0.2637150834272603, 0.34584760525071023, 0.1842347839614937, 0.29653774496376983, 0.4260699874233091, 0.0, 0.41666083763262063, 0.0, 0.32617314592232816, 0.2945998336776152, 0.0, 0.0, 0.20008385511051138, 0.2338123995281308, 0.15460621933745453, 0.0, 0.4728026123177753, 0.4394323984499329]}, {\"categories\": [\"0\", \"1\", \"2\", \"3\", \"4\", \"5\", \"6\", \"7\", \"8\", \"9\", \"10\", \"11\", \"12\", \"13\", \"14\", \"15\", \"16\", \"17\", \"18\", \"19\", \"20\", \"21\", \"22\", \"23\", \"24\", \"25\", \"26\", \"27\", \"28\", \"29\", \"30\", \"31\", \"32\", \"33\", \"34\", \"35\", \"36\", \"37\"], \"mode\": \"lines\", \"name\": \"matthews_correlation_max\", \"stepped\": true, \"type\": \"scatter\", \"data\": [0.4530817590453362, 0.4530817590453362, 0.4530817590453362, 0.4530817590453362, 0.4586850414361919, 0.4586850414361919, 0.4586850414361919, 0.4586850414361919, 0.4586850414361919, 0.4586850414361919, 0.4586850414361919, 0.4586850414361919, 0.4586850414361919, 0.4586850414361919, 0.4586850414361919, 0.4586850414361919, 0.4586850414361919, 0.4586850414361919, 0.4586850414361919, 0.4586850414361919, 0.4586850414361919, 0.4586850414361919, 0.4586850414361919, 0.4586850414361919, 0.4586850414361919, 0.4586850414361919, 0.4586850414361919, 0.4586850414361919, 0.4586850414361919, 0.4586850414361919, 0.4586850414361919, 0.4586850414361919, 0.4586850414361919, 0.4586850414361919, 0.4586850414361919, 0.4586850414361919, 0.4728026123177753, 0.4728026123177753]}], \"precision_score_weighted\": [{\"categories\": [\"0\", \"1\", \"2\", \"3\", \"4\", \"5\", \"6\", \"7\", \"8\", \"9\", \"10\", \"11\", \"12\", \"13\", \"14\", \"15\", \"16\", \"17\", \"18\", \"19\", \"20\", \"21\", \"22\", \"23\", \"24\", \"25\", \"26\", \"27\", \"28\", \"29\", \"30\", \"31\", \"32\", \"33\", \"34\", \"35\", \"36\", \"37\"], \"mode\": \"markers\", \"name\": \"precision_score_weighted\", \"stepped\": false, \"type\": \"scatter\", \"data\": [0.7953768179739805, 0.7875824295873267, 0.7507261435431332, 0.7472115890923607, 0.8047186715452789, 0.7877372147212295, 0.7650542976196232, 0.7694239686863314, 0.7689451088223729, 0.7718780580676885, 0.7568169838794256, 0.7657971046854793, 0.7211817773611097, 0.727783028628258, 0.7456777450085159, 0.7217754574380945, 0.7507294445190329, 0.7524594986474158, 0.7410860045922597, 0.7730747099569624, 0.7382950844417403, 0.7606152440323215, 0.7264306333242269, 0.7486776281758437, 0.7858337434155701, 0.563536326250263, 0.7818421178894863, 0.563536326250263, 0.7544282690148091, 0.7445844210645606, 0.563536326250263, 0.563536326250263, 0.7302907892584197, 0.7348391215341384, 0.7247592908527908, 0.563536326250263, 0.8028231308403005, 0.7903753427232553]}, {\"categories\": [\"0\", \"1\", \"2\", \"3\", \"4\", \"5\", \"6\", \"7\", \"8\", \"9\", \"10\", \"11\", \"12\", \"13\", \"14\", \"15\", \"16\", \"17\", \"18\", \"19\", \"20\", \"21\", \"22\", \"23\", \"24\", \"25\", \"26\", \"27\", \"28\", \"29\", \"30\", \"31\", \"32\", \"33\", \"34\", \"35\", \"36\", \"37\"], \"mode\": \"lines\", \"name\": \"precision_score_weighted_max\", \"stepped\": true, \"type\": \"scatter\", \"data\": [0.7953768179739805, 0.7953768179739805, 0.7953768179739805, 0.7953768179739805, 0.8047186715452789, 0.8047186715452789, 0.8047186715452789, 0.8047186715452789, 0.8047186715452789, 0.8047186715452789, 0.8047186715452789, 0.8047186715452789, 0.8047186715452789, 0.8047186715452789, 0.8047186715452789, 0.8047186715452789, 0.8047186715452789, 0.8047186715452789, 0.8047186715452789, 0.8047186715452789, 0.8047186715452789, 0.8047186715452789, 0.8047186715452789, 0.8047186715452789, 0.8047186715452789, 0.8047186715452789, 0.8047186715452789, 0.8047186715452789, 0.8047186715452789, 0.8047186715452789, 0.8047186715452789, 0.8047186715452789, 0.8047186715452789, 0.8047186715452789, 0.8047186715452789, 0.8047186715452789, 0.8047186715452789, 0.8047186715452789]}], \"f1_score_weighted\": [{\"categories\": [\"0\", \"1\", \"2\", \"3\", \"4\", \"5\", \"6\", \"7\", \"8\", \"9\", \"10\", \"11\", \"12\", \"13\", \"14\", \"15\", \"16\", \"17\", \"18\", \"19\", \"20\", \"21\", \"22\", \"23\", \"24\", \"25\", \"26\", \"27\", \"28\", \"29\", \"30\", \"31\", \"32\", \"33\", \"34\", \"35\", \"36\", \"37\"], \"mode\": \"markers\", \"name\": \"f1_score_weighted\", \"stepped\": false, \"type\": \"scatter\", \"data\": [0.7958776613703908, 0.7896469204816093, 0.7454280478478926, 0.6874729096070734, 0.7692699341589598, 0.7075499996806595, 0.7688597258872725, 0.7732345999135845, 0.7727614272319223, 0.77541629167398, 0.75806983227328, 0.7692939213469919, 0.6829241515004817, 0.7052361151226729, 0.7426278278974449, 0.6661435119281577, 0.7472588777635241, 0.7488346564657059, 0.7304847478066266, 0.7764528772022593, 0.7303895839306471, 0.7622003920433893, 0.6942798967628598, 0.7428246213397673, 0.7885369036193427, 0.6437574436537479, 0.7828780688026095, 0.6437574436537479, 0.7547467911051261, 0.7437914091529771, 0.6437574436537479, 0.6437574436537479, 0.7007877488495415, 0.7162746697867414, 0.6812522354324354, 0.6437574436537479, 0.8008222852633803, 0.7917638713929094]}, {\"categories\": [\"0\", \"1\", \"2\", \"3\", \"4\", \"5\", \"6\", \"7\", \"8\", \"9\", \"10\", \"11\", \"12\", \"13\", \"14\", \"15\", \"16\", \"17\", \"18\", \"19\", \"20\", \"21\", \"22\", \"23\", \"24\", \"25\", \"26\", \"27\", \"28\", \"29\", \"30\", \"31\", \"32\", \"33\", \"34\", \"35\", \"36\", \"37\"], \"mode\": \"lines\", \"name\": \"f1_score_weighted_max\", \"stepped\": true, \"type\": \"scatter\", \"data\": [0.7958776613703908, 0.7958776613703908, 0.7958776613703908, 0.7958776613703908, 0.7958776613703908, 0.7958776613703908, 0.7958776613703908, 0.7958776613703908, 0.7958776613703908, 0.7958776613703908, 0.7958776613703908, 0.7958776613703908, 0.7958776613703908, 0.7958776613703908, 0.7958776613703908, 0.7958776613703908, 0.7958776613703908, 0.7958776613703908, 0.7958776613703908, 0.7958776613703908, 0.7958776613703908, 0.7958776613703908, 0.7958776613703908, 0.7958776613703908, 0.7958776613703908, 0.7958776613703908, 0.7958776613703908, 0.7958776613703908, 0.7958776613703908, 0.7958776613703908, 0.7958776613703908, 0.7958776613703908, 0.7958776613703908, 0.7958776613703908, 0.7958776613703908, 0.7958776613703908, 0.8008222852633803, 0.8008222852633803]}], \"f1_score_micro\": [{\"categories\": [\"0\", \"1\", \"2\", \"3\", \"4\", \"5\", \"6\", \"7\", \"8\", \"9\", \"10\", \"11\", \"12\", \"13\", \"14\", \"15\", \"16\", \"17\", \"18\", \"19\", \"20\", \"21\", \"22\", \"23\", \"24\", \"25\", \"26\", \"27\", \"28\", \"29\", \"30\", \"31\", \"32\", \"33\", \"34\", \"35\", \"36\", \"37\"], \"mode\": \"markers\", \"name\": \"f1_score_micro\", \"stepped\": false, \"type\": \"scatter\", \"data\": [0.7966906775237499, 0.7928802588996765, 0.7757594738490449, 0.7607787869297421, 0.7560288130284998, 0.686658315064203, 0.780874830358075, 0.7800396701117028, 0.7825451508508193, 0.7829105334586074, 0.778160559557365, 0.7823363607892264, 0.7567595782440756, 0.7620315272993006, 0.7722100428019627, 0.7549848627205346, 0.7758638688798413, 0.7763336465184256, 0.7693913769704562, 0.7827539409124126, 0.7673556738699238, 0.7806660402964819, 0.760361206806556, 0.7744545359640881, 0.7933500365382607, 0.7506524689424783, 0.7843720638897588, 0.7506524689424783, 0.776020461426036, 0.770696314855413, 0.7506524689424783, 0.7506524689424783, 0.7626056999686815, 0.7658419459233742, 0.7581167136444306, 0.7506524689424783, 0.7992483557782649, 0.7938198141768452]}, {\"categories\": [\"0\", \"1\", \"2\", \"3\", \"4\", \"5\", \"6\", \"7\", \"8\", \"9\", \"10\", \"11\", \"12\", \"13\", \"14\", \"15\", \"16\", \"17\", \"18\", \"19\", \"20\", \"21\", \"22\", \"23\", \"24\", \"25\", \"26\", \"27\", \"28\", \"29\", \"30\", \"31\", \"32\", \"33\", \"34\", \"35\", \"36\", \"37\"], \"mode\": \"lines\", \"name\": \"f1_score_micro_max\", \"stepped\": true, \"type\": \"scatter\", \"data\": [0.7966906775237499, 0.7966906775237499, 0.7966906775237499, 0.7966906775237499, 0.7966906775237499, 0.7966906775237499, 0.7966906775237499, 0.7966906775237499, 0.7966906775237499, 0.7966906775237499, 0.7966906775237499, 0.7966906775237499, 0.7966906775237499, 0.7966906775237499, 0.7966906775237499, 0.7966906775237499, 0.7966906775237499, 0.7966906775237499, 0.7966906775237499, 0.7966906775237499, 0.7966906775237499, 0.7966906775237499, 0.7966906775237499, 0.7966906775237499, 0.7966906775237499, 0.7966906775237499, 0.7966906775237499, 0.7966906775237499, 0.7966906775237499, 0.7966906775237499, 0.7966906775237499, 0.7966906775237499, 0.7966906775237499, 0.7966906775237499, 0.7966906775237499, 0.7966906775237499, 0.7992483557782649, 0.7992483557782649]}], \"precision_score_macro\": [{\"categories\": [\"0\", \"1\", \"2\", \"3\", \"4\", \"5\", \"6\", \"7\", \"8\", \"9\", \"10\", \"11\", \"12\", \"13\", \"14\", \"15\", \"16\", \"17\", \"18\", \"19\", \"20\", \"21\", \"22\", \"23\", \"24\", \"25\", \"26\", \"27\", \"28\", \"29\", \"30\", \"31\", \"32\", \"33\", \"34\", \"35\", \"36\", \"37\"], \"mode\": \"markers\", \"name\": \"precision_score_macro\", \"stepped\": false, \"type\": \"scatter\", \"data\": [0.7283224426213049, 0.7226091191324254, 0.7016494145074494, 0.7263080030302849, 0.7053755222973339, 0.668539545937115, 0.7038644065991265, 0.7028845356948245, 0.7065482878075237, 0.7073276823765852, 0.7011630699004145, 0.7065088209232648, 0.6754154497505618, 0.6808934452330023, 0.6924210597849565, 0.6857390114123018, 0.6997255378999654, 0.701738751548767, 0.6924676329655175, 0.7071774846311504, 0.6855516456718024, 0.7053704782621794, 0.6831770762001707, 0.6995725719244773, 0.7230632992526599, 0.3753262344712392, 0.7112102650013675, 0.3753262344712392, 0.6981069176427415, 0.6881886504018563, 0.3753262344712392, 0.3753262344712392, 0.6872449803114898, 0.6886014331954167, 0.6858627083495742, 0.3753262344712392, 0.7327425484380825, 0.7241691487070528]}, {\"categories\": [\"0\", \"1\", \"2\", \"3\", \"4\", \"5\", \"6\", \"7\", \"8\", \"9\", \"10\", \"11\", \"12\", \"13\", \"14\", \"15\", \"16\", \"17\", \"18\", \"19\", \"20\", \"21\", \"22\", \"23\", \"24\", \"25\", \"26\", \"27\", \"28\", \"29\", \"30\", \"31\", \"32\", \"33\", \"34\", \"35\", \"36\", \"37\"], \"mode\": \"lines\", \"name\": \"precision_score_macro_max\", \"stepped\": true, \"type\": \"scatter\", \"data\": [0.7283224426213049, 0.7283224426213049, 0.7283224426213049, 0.7283224426213049, 0.7283224426213049, 0.7283224426213049, 0.7283224426213049, 0.7283224426213049, 0.7283224426213049, 0.7283224426213049, 0.7283224426213049, 0.7283224426213049, 0.7283224426213049, 0.7283224426213049, 0.7283224426213049, 0.7283224426213049, 0.7283224426213049, 0.7283224426213049, 0.7283224426213049, 0.7283224426213049, 0.7283224426213049, 0.7283224426213049, 0.7283224426213049, 0.7283224426213049, 0.7283224426213049, 0.7283224426213049, 0.7283224426213049, 0.7283224426213049, 0.7283224426213049, 0.7283224426213049, 0.7283224426213049, 0.7283224426213049, 0.7283224426213049, 0.7283224426213049, 0.7283224426213049, 0.7283224426213049, 0.7327425484380825, 0.7327425484380825]}], \"recall_score_macro\": [{\"categories\": [\"0\", \"1\", \"2\", \"3\", \"4\", \"5\", \"6\", \"7\", \"8\", \"9\", \"10\", \"11\", \"12\", \"13\", \"14\", \"15\", \"16\", \"17\", \"18\", \"19\", \"20\", \"21\", \"22\", \"23\", \"24\", \"25\", \"26\", \"27\", \"28\", \"29\", \"30\", \"31\", \"32\", \"33\", \"34\", \"35\", \"36\", \"37\"], \"mode\": \"markers\", \"name\": \"recall_score_macro\", \"stepped\": false, \"type\": \"scatter\", \"data\": [0.7248325554994094, 0.7092071903260377, 0.6144368900948559, 0.5419411063098544, 0.7561523671432692, 0.723597506644133, 0.6635513873585315, 0.6792676184115641, 0.6724714579262502, 0.6807886599902538, 0.6387921003273321, 0.6620927773348232, 0.5394805495187267, 0.5586594263805517, 0.6116565416946321, 0.518640094912404, 0.6180789121588517, 0.6210342445773555, 0.5929588856297506, 0.6847410636922923, 0.5945408965516998, 0.64565438957511, 0.5473541835891088, 0.6102126849955201, 0.7035398433869021, 0.5, 0.7055528706107793, 0.5, 0.6347286106946748, 0.6153218030146368, 0.5, 0.5, 0.5556614039488906, 0.5736495937276068, 0.533280735488734, 0.5, 0.7401585138612795, 0.7154212074856563]}, {\"categories\": [\"0\", \"1\", \"2\", \"3\", \"4\", \"5\", \"6\", \"7\", \"8\", \"9\", \"10\", \"11\", \"12\", \"13\", \"14\", \"15\", \"16\", \"17\", \"18\", \"19\", \"20\", \"21\", \"22\", \"23\", \"24\", \"25\", \"26\", \"27\", \"28\", \"29\", \"30\", \"31\", \"32\", \"33\", \"34\", \"35\", \"36\", \"37\"], \"mode\": \"lines\", \"name\": \"recall_score_macro_max\", \"stepped\": true, \"type\": \"scatter\", \"data\": [0.7248325554994094, 0.7248325554994094, 0.7248325554994094, 0.7248325554994094, 0.7561523671432692, 0.7561523671432692, 0.7561523671432692, 0.7561523671432692, 0.7561523671432692, 0.7561523671432692, 0.7561523671432692, 0.7561523671432692, 0.7561523671432692, 0.7561523671432692, 0.7561523671432692, 0.7561523671432692, 0.7561523671432692, 0.7561523671432692, 0.7561523671432692, 0.7561523671432692, 0.7561523671432692, 0.7561523671432692, 0.7561523671432692, 0.7561523671432692, 0.7561523671432692, 0.7561523671432692, 0.7561523671432692, 0.7561523671432692, 0.7561523671432692, 0.7561523671432692, 0.7561523671432692, 0.7561523671432692, 0.7561523671432692, 0.7561523671432692, 0.7561523671432692, 0.7561523671432692, 0.7561523671432692, 0.7561523671432692]}]}, \"metricName\": null, \"primaryMetricName\": \"accuracy\", \"showLegend\": false}, \"run_metrics\": [{\"name\": \"experiment_status\", \"run_id\": \"AutoML_0c070b7f-286b-4e1b-8072-1c188058bed8\", \"categories\": [0, 1, 2, 3, 4, 5, 6, 7, 8, 9, 10, 11, 12, 13], \"series\": [{\"data\": [\"DatasetEvaluation\", \"FeaturesGeneration\", \"DatasetFeaturization\", \"DatasetFeaturizationCompleted\", \"DatasetCrossValidationSplit\", \"ModelSelection\", \"BestRunExplainModel\", \"ModelExplanationDataSetSetup\", \"PickSurrogateModel\", \"EngineeredFeatureExplanations\", \"EngineeredFeatureExplanations\", \"RawFeaturesExplanations\", \"RawFeaturesExplanations\", \"BestRunExplainModel\"]}]}, {\"name\": \"experiment_status_description\", \"run_id\": \"AutoML_0c070b7f-286b-4e1b-8072-1c188058bed8\", \"categories\": [0, 1, 2, 3, 4, 5, 6, 7, 8, 9, 10, 11, 12, 13], \"series\": [{\"data\": [\"Gathering dataset statistics.\", \"Generating features for the dataset.\", \"Beginning to fit featurizers and featurize the dataset.\", \"Completed fit featurizers and featurizing the dataset.\", \"Generating individually featurized CV splits.\", \"Beginning model selection.\", \"Best run model explanations started\", \"Model explanations data setup completed\", \"Choosing LightGBM as the surrogate model for explanations\", \"Computation of engineered features started\", \"Computation of engineered features completed\", \"Computation of raw features started\", \"Computation of raw features completed\", \"Best run model explanations completed\"]}]}, {\"name\": \"average_precision_score_micro\", \"run_id\": \"AutoML_0c070b7f-286b-4e1b-8072-1c188058bed8\", \"categories\": [0], \"series\": [{\"data\": [0.8622463549512309]}]}, {\"name\": \"f1_score_macro\", \"run_id\": \"AutoML_0c070b7f-286b-4e1b-8072-1c188058bed8\", \"categories\": [0], \"series\": [{\"data\": [0.7361111517352673]}]}, {\"name\": \"recall_score_weighted\", \"run_id\": \"AutoML_0c070b7f-286b-4e1b-8072-1c188058bed8\", \"categories\": [0], \"series\": [{\"data\": [0.799248355778265]}]}, {\"name\": \"log_loss\", \"run_id\": \"AutoML_0c070b7f-286b-4e1b-8072-1c188058bed8\", \"categories\": [0], \"series\": [{\"data\": [0.4694051072647898]}]}, {\"name\": \"precision_score_macro\", \"run_id\": \"AutoML_0c070b7f-286b-4e1b-8072-1c188058bed8\", \"categories\": [0], \"series\": [{\"data\": [0.7327425484380825]}]}, {\"name\": \"AUC_micro\", \"run_id\": \"AutoML_0c070b7f-286b-4e1b-8072-1c188058bed8\", \"categories\": [0], \"series\": [{\"data\": [0.8749409814970351]}]}, {\"name\": \"weighted_accuracy\", \"run_id\": \"AutoML_0c070b7f-286b-4e1b-8072-1c188058bed8\", \"categories\": [0], \"series\": [{\"data\": [0.8346321423286823]}]}, {\"name\": \"recall_score_macro\", \"run_id\": \"AutoML_0c070b7f-286b-4e1b-8072-1c188058bed8\", \"categories\": [0], \"series\": [{\"data\": [0.7401585138612795]}]}, {\"name\": \"precision_score_micro\", \"run_id\": \"AutoML_0c070b7f-286b-4e1b-8072-1c188058bed8\", \"categories\": [0], \"series\": [{\"data\": [0.799248355778265]}]}, {\"name\": \"balanced_accuracy\", \"run_id\": \"AutoML_0c070b7f-286b-4e1b-8072-1c188058bed8\", \"categories\": [0], \"series\": [{\"data\": [0.7401585138612795]}]}, {\"name\": \"f1_score_micro\", \"run_id\": \"AutoML_0c070b7f-286b-4e1b-8072-1c188058bed8\", \"categories\": [0], \"series\": [{\"data\": [0.7992483557782649]}]}, {\"name\": \"f1_score_weighted\", \"run_id\": \"AutoML_0c070b7f-286b-4e1b-8072-1c188058bed8\", \"categories\": [0], \"series\": [{\"data\": [0.8008222852633803]}]}, {\"name\": \"precision_score_weighted\", \"run_id\": \"AutoML_0c070b7f-286b-4e1b-8072-1c188058bed8\", \"categories\": [0], \"series\": [{\"data\": [0.8028231308403005]}]}, {\"name\": \"AUC_weighted\", \"run_id\": \"AutoML_0c070b7f-286b-4e1b-8072-1c188058bed8\", \"categories\": [0], \"series\": [{\"data\": [0.7980267697459086]}]}, {\"name\": \"accuracy\", \"run_id\": \"AutoML_0c070b7f-286b-4e1b-8072-1c188058bed8\", \"categories\": [0], \"series\": [{\"data\": [0.799248355778265]}]}, {\"name\": \"matthews_correlation\", \"run_id\": \"AutoML_0c070b7f-286b-4e1b-8072-1c188058bed8\", \"categories\": [0], \"series\": [{\"data\": [0.4728026123177753]}]}, {\"name\": \"average_precision_score_weighted\", \"run_id\": \"AutoML_0c070b7f-286b-4e1b-8072-1c188058bed8\", \"categories\": [0], \"series\": [{\"data\": [0.8138618536347471]}]}, {\"name\": \"norm_macro_recall\", \"run_id\": \"AutoML_0c070b7f-286b-4e1b-8072-1c188058bed8\", \"categories\": [0], \"series\": [{\"data\": [0.4803170277225591]}]}, {\"name\": \"AUC_macro\", \"run_id\": \"AutoML_0c070b7f-286b-4e1b-8072-1c188058bed8\", \"categories\": [0], \"series\": [{\"data\": [0.7980267697459086]}]}, {\"name\": \"recall_score_micro\", \"run_id\": \"AutoML_0c070b7f-286b-4e1b-8072-1c188058bed8\", \"categories\": [0], \"series\": [{\"data\": [0.799248355778265]}]}, {\"name\": \"average_precision_score_macro\", \"run_id\": \"AutoML_0c070b7f-286b-4e1b-8072-1c188058bed8\", \"categories\": [0], \"series\": [{\"data\": [0.7236586681023178]}]}], \"run_logs\": \"\\nRun is completed.\", \"graph\": {}, \"widget_settings\": {\"childWidgetDisplay\": \"popup\", \"send_telemetry\": false, \"log_level\": \"INFO\", \"sdk_version\": \"1.20.0\"}, \"loading\": false}"
          },
          "metadata": {}
        }
      ],
      "execution_count": 9,
      "metadata": {
        "gather": {
          "logged": 1612607177345
        },
        "jupyter": {
          "outputs_hidden": false,
          "source_hidden": false
        },
        "nteract": {
          "transient": {
            "deleting": false
          }
        },
        "id": "DVfWEweU1j--"
      }
    },
    {
      "cell_type": "code",
      "source": [
        "remote_run.wait_for_completion(show_output=True)"
      ],
      "outputs": [
        {
          "output_type": "stream",
          "name": "stdout",
          "text": [
            "\n",
            "\n",
            "****************************************************************************************************\n",
            "DATA GUARDRAILS: \n",
            "\n",
            "TYPE:         Class balancing detection\n",
            "STATUS:       PASSED\n",
            "DESCRIPTION:  Your inputs were analyzed, and all classes are balanced in your training data.\n",
            "              Learn more about imbalanced data: https://aka.ms/AutomatedMLImbalancedData\n",
            "\n",
            "****************************************************************************************************\n",
            "\n",
            "TYPE:         Missing feature values imputation\n",
            "STATUS:       DONE\n",
            "DESCRIPTION:  If the missing values are expected, let the run complete. Otherwise cancel the current run and use a script to customize the handling of missing feature values that may be more appropriate based on the data type and business requirement.\n",
            "              Learn more about missing value imputation: https://aka.ms/AutomatedMLFeaturization\n",
            "DETAILS:      \n",
            "+---------------------------------+---------------------------------+\n",
            "|Column name                      |Missing value count              |\n",
            "+=================================+=================================+\n",
            "|gender                           |4508                             |\n",
            "|enrolled_university              |386                              |\n",
            "|education_level                  |460                              |\n",
            "|major_discipline                 |2813                             |\n",
            "|experience                       |65                               |\n",
            "|company_size                     |5938                             |\n",
            "|company_type                     |6140                             |\n",
            "|last_new_job                     |423                              |\n",
            "+---------------------------------+---------------------------------+\n",
            "\n",
            "****************************************************************************************************\n",
            "\n",
            "TYPE:         High cardinality feature detection\n",
            "STATUS:       PASSED\n",
            "DESCRIPTION:  Your inputs were analyzed, and no high cardinality features were detected.\n",
            "              Learn more about high cardinality feature handling: https://aka.ms/AutomatedMLFeaturization\n",
            "\n",
            "****************************************************************************************************\n",
            "\n",
            "****************************************************************************************************\n",
            "ITERATION: The iteration being evaluated.\n",
            "PIPELINE: A summary description of the pipeline being evaluated.\n",
            "DURATION: Time taken for the current iteration.\n",
            "METRIC: The result of computing score on the fitted pipeline.\n",
            "BEST: The best observed score thus far.\n",
            "****************************************************************************************************\n",
            "\n",
            " ITERATION   PIPELINE                                       DURATION      METRIC      BEST\n",
            "         0   MaxAbsScaler LightGBM                          0:00:58       0.7967    0.7967\n",
            "         1   MaxAbsScaler XGBoostClassifier                 0:01:04       0.7929    0.7967\n",
            "         2   MaxAbsScaler RandomForest                      0:00:51       0.7758    0.7967\n",
            "         3   MaxAbsScaler RandomForest                      0:00:50       0.7608    0.7967\n",
            "         4   MaxAbsScaler RandomForest                      0:00:58       0.7560    0.7967\n",
            "         5   MaxAbsScaler RandomForest                      0:00:52       0.6867    0.7967\n",
            "         6   SparseNormalizer XGBoostClassifier             0:01:06       0.7809    0.7967\n",
            "         7   SparseNormalizer XGBoostClassifier             0:01:21       0.7800    0.7967\n",
            "        10   StandardScalerWrapper RandomForest             0:00:58       0.7782    0.7967\n",
            "        11   MaxAbsScaler RandomForest                      0:01:02       0.7823    0.7967\n",
            "         8   SparseNormalizer XGBoostClassifier             0:01:07       0.7825    0.7967\n",
            "         9   SparseNormalizer XGBoostClassifier             0:00:58       0.7829    0.7967\n",
            "        12   SparseNormalizer XGBoostClassifier             0:00:49       0.7568    0.7967\n",
            "        13   MaxAbsScaler LightGBM                          0:00:49       0.7620    0.7967\n",
            "        14   MaxAbsScaler LogisticRegression                0:01:25       0.7722    0.7967\n",
            "        15   MaxAbsScaler ExtremeRandomTrees                0:01:15       0.7550    0.7967\n",
            "        16   MaxAbsScaler LightGBM                          0:01:03       0.7759    0.7967\n",
            "        17   MaxAbsScaler LightGBM                          0:00:50       0.7763    0.7967\n",
            "        18   MaxAbsScaler LightGBM                          0:00:52       0.7694    0.7967\n",
            "        19   SparseNormalizer XGBoostClassifier             0:01:09       0.7828    0.7967\n",
            "        20   SparseNormalizer LightGBM                      0:00:49       0.7674    0.7967\n",
            "        21   StandardScalerWrapper LightGBM                 0:00:48       0.7807    0.7967\n",
            "        22   MaxAbsScaler ExtremeRandomTrees                0:01:08       0.7604    0.7967\n",
            "        23   MaxAbsScaler GradientBoosting                  0:01:40       0.7745    0.7967\n",
            "        24   MaxAbsScaler LightGBM                          0:00:59       0.7934    0.7967\n",
            "        25   StandardScalerWrapper LightGBM                 0:01:25       0.7507    0.7967\n",
            "        26   StandardScalerWrapper XGBoostClassifier        0:00:52       0.7844    0.7967\n",
            "        27   StandardScalerWrapper LightGBM                 0:00:43       0.7507    0.7967\n",
            "        28   SparseNormalizer LightGBM                      0:01:02       0.7760    0.7967\n",
            "        29   TruncatedSVDWrapper LightGBM                   0:00:54       0.7707    0.7967\n",
            "        30   MaxAbsScaler LightGBM                          0:00:58       0.7507    0.7967\n",
            "        31   StandardScalerWrapper XGBoostClassifier        0:00:50       0.7507    0.7967\n",
            "        32   StandardScalerWrapper ExtremeRandomTrees       0:01:05       0.7626    0.7967\n",
            "        33   StandardScalerWrapper LightGBM                 0:00:51       0.7658    0.7967\n",
            "        34   SparseNormalizer LightGBM                      0:00:45       0.7581    0.7967\n",
            "        35   SparseNormalizer LightGBM                      0:00:37       0.7507    0.7967\n",
            "        36    VotingEnsemble                                0:01:45       0.7992    0.7992\n",
            "        37    StackEnsemble                                 0:03:05       0.7938    0.7992\n"
          ]
        },
        {
          "output_type": "execute_result",
          "execution_count": 10,
          "data": {
            "text/plain": "{'runId': 'AutoML_0c070b7f-286b-4e1b-8072-1c188058bed8',\n 'target': 'compute-cluster',\n 'status': 'Completed',\n 'startTimeUtc': '2021-02-06T10:05:28.750458Z',\n 'endTimeUtc': '2021-02-06T10:25:20.34444Z',\n 'properties': {'num_iterations': '1000',\n  'training_type': 'TrainFull',\n  'acquisition_function': 'EI',\n  'primary_metric': 'accuracy',\n  'train_split': '0',\n  'acquisition_parameter': '0',\n  'num_cross_validation': '6',\n  'target': 'compute-cluster',\n  'AMLSettingsJsonString': '{\"path\":null,\"name\":\"automl_hr_analytics\",\"subscription_id\":\"f9d5a085-54dc-4215-9ba6-dad5d86e60a0\",\"resource_group\":\"aml-quickstarts-137424\",\"workspace_name\":\"quick-starts-ws-137424\",\"region\":\"southcentralus\",\"compute_target\":\"compute-cluster\",\"spark_service\":null,\"azure_service\":\"remote\",\"many_models\":false,\"pipeline_fetch_max_batch_size\":1,\"iterations\":1000,\"primary_metric\":\"accuracy\",\"task_type\":\"classification\",\"data_script\":null,\"validation_size\":0.0,\"n_cross_validations\":6,\"y_min\":null,\"y_max\":null,\"num_classes\":null,\"featurization\":\"auto\",\"_ignore_package_version_incompatibilities\":false,\"is_timeseries\":false,\"max_cores_per_iteration\":-1,\"max_concurrent_iterations\":4,\"iteration_timeout_minutes\":null,\"mem_in_mb\":null,\"enforce_time_on_windows\":false,\"experiment_timeout_minutes\":30,\"experiment_exit_score\":null,\"whitelist_models\":null,\"blacklist_algos\":[\"TensorFlowLinearClassifier\",\"TensorFlowDNN\"],\"supported_models\":[\"BernoulliNaiveBayes\",\"MultinomialNaiveBayes\",\"GradientBoosting\",\"KNN\",\"TensorFlowDNN\",\"TensorFlowLinearClassifier\",\"DecisionTree\",\"SGD\",\"AveragedPerceptronClassifier\",\"SVM\",\"XGBoostClassifier\",\"ExtremeRandomTrees\",\"RandomForest\",\"LinearSVM\",\"LogisticRegression\",\"LightGBM\"],\"auto_blacklist\":true,\"blacklist_samples_reached\":false,\"exclude_nan_labels\":true,\"verbosity\":20,\"_debug_log\":\"azureml_automl.log\",\"show_warnings\":false,\"model_explainability\":true,\"service_url\":null,\"sdk_url\":null,\"sdk_packages\":null,\"enable_onnx_compatible_models\":false,\"enable_split_onnx_featurizer_estimator_models\":false,\"vm_type\":\"STANDARD_DS3_V2\",\"telemetry_verbosity\":20,\"send_telemetry\":true,\"enable_dnn\":false,\"scenario\":\"SDK-1.13.0\",\"environment_label\":null,\"force_text_dnn\":false,\"enable_feature_sweeping\":true,\"enable_early_stopping\":true,\"early_stopping_n_iters\":10,\"metrics\":null,\"enable_ensembling\":true,\"enable_stack_ensembling\":true,\"ensemble_iterations\":15,\"enable_tf\":false,\"enable_subsampling\":null,\"subsample_seed\":null,\"enable_nimbusml\":false,\"enable_streaming\":false,\"force_streaming\":false,\"track_child_runs\":true,\"allowed_private_models\":[],\"label_column_name\":\"target\",\"weight_column_name\":null,\"cv_split_column_names\":null,\"enable_local_managed\":false,\"_local_managed_run_id\":null,\"cost_mode\":1,\"lag_length\":0,\"metric_operation\":\"maximize\",\"preprocess\":true}',\n  'DataPrepJsonString': '{\\\\\"training_data\\\\\": \\\\\"{\\\\\\\\\\\\\"blocks\\\\\\\\\\\\\": [{\\\\\\\\\\\\\"id\\\\\\\\\\\\\": \\\\\\\\\\\\\"3627aab8-d37e-4c05-b70a-417963e49ea4\\\\\\\\\\\\\", \\\\\\\\\\\\\"type\\\\\\\\\\\\\": \\\\\\\\\\\\\"Microsoft.DPrep.GetDatastoreFilesBlock\\\\\\\\\\\\\", \\\\\\\\\\\\\"arguments\\\\\\\\\\\\\": {\\\\\\\\\\\\\"datastores\\\\\\\\\\\\\": [{\\\\\\\\\\\\\"datastoreName\\\\\\\\\\\\\": \\\\\\\\\\\\\"workspaceblobstore\\\\\\\\\\\\\", \\\\\\\\\\\\\"path\\\\\\\\\\\\\": \\\\\\\\\\\\\"UI/02-06-2021_074509_UTC/data.csv\\\\\\\\\\\\\", \\\\\\\\\\\\\"resourceGroup\\\\\\\\\\\\\": \\\\\\\\\\\\\"aml-quickstarts-137424\\\\\\\\\\\\\", \\\\\\\\\\\\\"subscription\\\\\\\\\\\\\": \\\\\\\\\\\\\"f9d5a085-54dc-4215-9ba6-dad5d86e60a0\\\\\\\\\\\\\", \\\\\\\\\\\\\"workspaceName\\\\\\\\\\\\\": \\\\\\\\\\\\\"quick-starts-ws-137424\\\\\\\\\\\\\"}]}, \\\\\\\\\\\\\"localData\\\\\\\\\\\\\": {}, \\\\\\\\\\\\\"isEnabled\\\\\\\\\\\\\": true, \\\\\\\\\\\\\"name\\\\\\\\\\\\\": null, \\\\\\\\\\\\\"annotation\\\\\\\\\\\\\": null}, {\\\\\\\\\\\\\"id\\\\\\\\\\\\\": \\\\\\\\\\\\\"3552212f-5683-42e2-a7ff-0529a83c21a2\\\\\\\\\\\\\", \\\\\\\\\\\\\"type\\\\\\\\\\\\\": \\\\\\\\\\\\\"Microsoft.DPrep.ParseDelimitedBlock\\\\\\\\\\\\\", \\\\\\\\\\\\\"arguments\\\\\\\\\\\\\": {\\\\\\\\\\\\\"columnHeadersMode\\\\\\\\\\\\\": 1, \\\\\\\\\\\\\"fileEncoding\\\\\\\\\\\\\": 0, \\\\\\\\\\\\\"handleQuotedLineBreaks\\\\\\\\\\\\\": false, \\\\\\\\\\\\\"preview\\\\\\\\\\\\\": false, \\\\\\\\\\\\\"separator\\\\\\\\\\\\\": \\\\\\\\\\\\\",\\\\\\\\\\\\\", \\\\\\\\\\\\\"skipRows\\\\\\\\\\\\\": 0, \\\\\\\\\\\\\"skipRowsMode\\\\\\\\\\\\\": 0}, \\\\\\\\\\\\\"localData\\\\\\\\\\\\\": {}, \\\\\\\\\\\\\"isEnabled\\\\\\\\\\\\\": true, \\\\\\\\\\\\\"name\\\\\\\\\\\\\": null, \\\\\\\\\\\\\"annotation\\\\\\\\\\\\\": null}, {\\\\\\\\\\\\\"id\\\\\\\\\\\\\": \\\\\\\\\\\\\"2f1220d4-70df-4776-9668-70c48a66c04a\\\\\\\\\\\\\", \\\\\\\\\\\\\"type\\\\\\\\\\\\\": \\\\\\\\\\\\\"Microsoft.DPrep.DropColumnsBlock\\\\\\\\\\\\\", \\\\\\\\\\\\\"arguments\\\\\\\\\\\\\": {\\\\\\\\\\\\\"columns\\\\\\\\\\\\\": {\\\\\\\\\\\\\"type\\\\\\\\\\\\\": 0, \\\\\\\\\\\\\"details\\\\\\\\\\\\\": {\\\\\\\\\\\\\"selectedColumns\\\\\\\\\\\\\": [\\\\\\\\\\\\\"Path\\\\\\\\\\\\\"]}}}, \\\\\\\\\\\\\"localData\\\\\\\\\\\\\": {}, \\\\\\\\\\\\\"isEnabled\\\\\\\\\\\\\": true, \\\\\\\\\\\\\"name\\\\\\\\\\\\\": null, \\\\\\\\\\\\\"annotation\\\\\\\\\\\\\": null}, {\\\\\\\\\\\\\"id\\\\\\\\\\\\\": \\\\\\\\\\\\\"bac6154b-fe74-474f-ae38-0a23e49ab2ea\\\\\\\\\\\\\", \\\\\\\\\\\\\"type\\\\\\\\\\\\\": \\\\\\\\\\\\\"Microsoft.DPrep.SetColumnTypesBlock\\\\\\\\\\\\\", \\\\\\\\\\\\\"arguments\\\\\\\\\\\\\": {\\\\\\\\\\\\\"columnConversion\\\\\\\\\\\\\": [{\\\\\\\\\\\\\"column\\\\\\\\\\\\\": {\\\\\\\\\\\\\"type\\\\\\\\\\\\\": 2, \\\\\\\\\\\\\"details\\\\\\\\\\\\\": {\\\\\\\\\\\\\"selectedColumn\\\\\\\\\\\\\": \\\\\\\\\\\\\"Path\\\\\\\\\\\\\"}}, \\\\\\\\\\\\\"typeProperty\\\\\\\\\\\\\": 0}, {\\\\\\\\\\\\\"column\\\\\\\\\\\\\": {\\\\\\\\\\\\\"type\\\\\\\\\\\\\": 2, \\\\\\\\\\\\\"details\\\\\\\\\\\\\": {\\\\\\\\\\\\\"selectedColumn\\\\\\\\\\\\\": \\\\\\\\\\\\\"enrollee_id\\\\\\\\\\\\\"}}, \\\\\\\\\\\\\"typeProperty\\\\\\\\\\\\\": 2}, {\\\\\\\\\\\\\"column\\\\\\\\\\\\\": {\\\\\\\\\\\\\"type\\\\\\\\\\\\\": 2, \\\\\\\\\\\\\"details\\\\\\\\\\\\\": {\\\\\\\\\\\\\"selectedColumn\\\\\\\\\\\\\": \\\\\\\\\\\\\"city\\\\\\\\\\\\\"}}, \\\\\\\\\\\\\"typeProperty\\\\\\\\\\\\\": 0}, {\\\\\\\\\\\\\"column\\\\\\\\\\\\\": {\\\\\\\\\\\\\"type\\\\\\\\\\\\\": 2, \\\\\\\\\\\\\"details\\\\\\\\\\\\\": {\\\\\\\\\\\\\"selectedColumn\\\\\\\\\\\\\": \\\\\\\\\\\\\"city_development_index\\\\\\\\\\\\\"}}, \\\\\\\\\\\\\"typeProperty\\\\\\\\\\\\\": 3}, {\\\\\\\\\\\\\"column\\\\\\\\\\\\\": {\\\\\\\\\\\\\"type\\\\\\\\\\\\\": 2, \\\\\\\\\\\\\"details\\\\\\\\\\\\\": {\\\\\\\\\\\\\"selectedColumn\\\\\\\\\\\\\": \\\\\\\\\\\\\"gender\\\\\\\\\\\\\"}}, \\\\\\\\\\\\\"typeProperty\\\\\\\\\\\\\": 0}, {\\\\\\\\\\\\\"column\\\\\\\\\\\\\": {\\\\\\\\\\\\\"type\\\\\\\\\\\\\": 2, \\\\\\\\\\\\\"details\\\\\\\\\\\\\": {\\\\\\\\\\\\\"selectedColumn\\\\\\\\\\\\\": \\\\\\\\\\\\\"relevent_experience\\\\\\\\\\\\\"}}, \\\\\\\\\\\\\"typeProperty\\\\\\\\\\\\\": 0}, {\\\\\\\\\\\\\"column\\\\\\\\\\\\\": {\\\\\\\\\\\\\"type\\\\\\\\\\\\\": 2, \\\\\\\\\\\\\"details\\\\\\\\\\\\\": {\\\\\\\\\\\\\"selectedColumn\\\\\\\\\\\\\": \\\\\\\\\\\\\"enrolled_university\\\\\\\\\\\\\"}}, \\\\\\\\\\\\\"typeProperty\\\\\\\\\\\\\": 0}, {\\\\\\\\\\\\\"column\\\\\\\\\\\\\": {\\\\\\\\\\\\\"type\\\\\\\\\\\\\": 2, \\\\\\\\\\\\\"details\\\\\\\\\\\\\": {\\\\\\\\\\\\\"selectedColumn\\\\\\\\\\\\\": \\\\\\\\\\\\\"education_level\\\\\\\\\\\\\"}}, \\\\\\\\\\\\\"typeProperty\\\\\\\\\\\\\": 0}, {\\\\\\\\\\\\\"column\\\\\\\\\\\\\": {\\\\\\\\\\\\\"type\\\\\\\\\\\\\": 2, \\\\\\\\\\\\\"details\\\\\\\\\\\\\": {\\\\\\\\\\\\\"selectedColumn\\\\\\\\\\\\\": \\\\\\\\\\\\\"major_discipline\\\\\\\\\\\\\"}}, \\\\\\\\\\\\\"typeProperty\\\\\\\\\\\\\": 0}, {\\\\\\\\\\\\\"column\\\\\\\\\\\\\": {\\\\\\\\\\\\\"type\\\\\\\\\\\\\": 2, \\\\\\\\\\\\\"details\\\\\\\\\\\\\": {\\\\\\\\\\\\\"selectedColumn\\\\\\\\\\\\\": \\\\\\\\\\\\\"experience\\\\\\\\\\\\\"}}, \\\\\\\\\\\\\"typeProperty\\\\\\\\\\\\\": 0}, {\\\\\\\\\\\\\"column\\\\\\\\\\\\\": {\\\\\\\\\\\\\"type\\\\\\\\\\\\\": 2, \\\\\\\\\\\\\"details\\\\\\\\\\\\\": {\\\\\\\\\\\\\"selectedColumn\\\\\\\\\\\\\": \\\\\\\\\\\\\"company_size\\\\\\\\\\\\\"}}, \\\\\\\\\\\\\"typeProperty\\\\\\\\\\\\\": 0}, {\\\\\\\\\\\\\"column\\\\\\\\\\\\\": {\\\\\\\\\\\\\"type\\\\\\\\\\\\\": 2, \\\\\\\\\\\\\"details\\\\\\\\\\\\\": {\\\\\\\\\\\\\"selectedColumn\\\\\\\\\\\\\": \\\\\\\\\\\\\"company_type\\\\\\\\\\\\\"}}, \\\\\\\\\\\\\"typeProperty\\\\\\\\\\\\\": 0}, {\\\\\\\\\\\\\"column\\\\\\\\\\\\\": {\\\\\\\\\\\\\"type\\\\\\\\\\\\\": 2, \\\\\\\\\\\\\"details\\\\\\\\\\\\\": {\\\\\\\\\\\\\"selectedColumn\\\\\\\\\\\\\": \\\\\\\\\\\\\"last_new_job\\\\\\\\\\\\\"}}, \\\\\\\\\\\\\"typeProperty\\\\\\\\\\\\\": 0}, {\\\\\\\\\\\\\"column\\\\\\\\\\\\\": {\\\\\\\\\\\\\"type\\\\\\\\\\\\\": 2, \\\\\\\\\\\\\"details\\\\\\\\\\\\\": {\\\\\\\\\\\\\"selectedColumn\\\\\\\\\\\\\": \\\\\\\\\\\\\"training_hours\\\\\\\\\\\\\"}}, \\\\\\\\\\\\\"typeProperty\\\\\\\\\\\\\": 2}, {\\\\\\\\\\\\\"column\\\\\\\\\\\\\": {\\\\\\\\\\\\\"type\\\\\\\\\\\\\": 2, \\\\\\\\\\\\\"details\\\\\\\\\\\\\": {\\\\\\\\\\\\\"selectedColumn\\\\\\\\\\\\\": \\\\\\\\\\\\\"target\\\\\\\\\\\\\"}}, \\\\\\\\\\\\\"typeProperty\\\\\\\\\\\\\": 3}]}, \\\\\\\\\\\\\"localData\\\\\\\\\\\\\": {}, \\\\\\\\\\\\\"isEnabled\\\\\\\\\\\\\": true, \\\\\\\\\\\\\"name\\\\\\\\\\\\\": null, \\\\\\\\\\\\\"annotation\\\\\\\\\\\\\": null}, {\\\\\\\\\\\\\"id\\\\\\\\\\\\\": \\\\\\\\\\\\\"a5661a08-919b-4ad7-ba5d-2479a1ac0e36\\\\\\\\\\\\\", \\\\\\\\\\\\\"type\\\\\\\\\\\\\": \\\\\\\\\\\\\"Microsoft.DPrep.DropColumnsBlock\\\\\\\\\\\\\", \\\\\\\\\\\\\"arguments\\\\\\\\\\\\\": {\\\\\\\\\\\\\"columns\\\\\\\\\\\\\": {\\\\\\\\\\\\\"type\\\\\\\\\\\\\": 0, \\\\\\\\\\\\\"details\\\\\\\\\\\\\": {\\\\\\\\\\\\\"selectedColumns\\\\\\\\\\\\\": [\\\\\\\\\\\\\"enrollee_id\\\\\\\\\\\\\", \\\\\\\\\\\\\"city\\\\\\\\\\\\\"]}}}, \\\\\\\\\\\\\"localData\\\\\\\\\\\\\": {}, \\\\\\\\\\\\\"isEnabled\\\\\\\\\\\\\": true, \\\\\\\\\\\\\"name\\\\\\\\\\\\\": null, \\\\\\\\\\\\\"annotation\\\\\\\\\\\\\": null}], \\\\\\\\\\\\\"inspectors\\\\\\\\\\\\\": [], \\\\\\\\\\\\\"meta\\\\\\\\\\\\\": {\\\\\\\\\\\\\"savedDatasetId\\\\\\\\\\\\\": \\\\\\\\\\\\\"56233a8b-1aab-4042-9576-0fc15a576fa0\\\\\\\\\\\\\", \\\\\\\\\\\\\"datasetType\\\\\\\\\\\\\": \\\\\\\\\\\\\"tabular\\\\\\\\\\\\\", \\\\\\\\\\\\\"subscriptionId\\\\\\\\\\\\\": \\\\\\\\\\\\\"f9d5a085-54dc-4215-9ba6-dad5d86e60a0\\\\\\\\\\\\\", \\\\\\\\\\\\\"workspaceId\\\\\\\\\\\\\": \\\\\\\\\\\\\"5c8799cd-5e7d-4438-bd77-3c4cd5264485\\\\\\\\\\\\\", \\\\\\\\\\\\\"workspaceLocation\\\\\\\\\\\\\": \\\\\\\\\\\\\"southcentralus\\\\\\\\\\\\\"}}\\\\\", \\\\\"activities\\\\\": 0}',\n  'EnableSubsampling': None,\n  'runTemplate': 'AutoML',\n  'azureml.runsource': 'automl',\n  'display_task_type': 'classification',\n  'dependencies_versions': '{\"azureml-widgets\": \"1.20.0\", \"azureml-train\": \"1.20.0\", \"azureml-train-restclients-hyperdrive\": \"1.20.0\", \"azureml-train-core\": \"1.20.0\", \"azureml-train-automl\": \"1.20.0\", \"azureml-train-automl-runtime\": \"1.20.0\", \"azureml-train-automl-client\": \"1.20.0\", \"azureml-tensorboard\": \"1.20.0\", \"azureml-telemetry\": \"1.20.0\", \"azureml-sdk\": \"1.20.0\", \"azureml-samples\": \"0+unknown\", \"azureml-pipeline\": \"1.20.0\", \"azureml-pipeline-steps\": \"1.20.0\", \"azureml-pipeline-core\": \"1.20.0\", \"azureml-opendatasets\": \"1.20.0\", \"azureml-model-management-sdk\": \"1.0.1b6.post1\", \"azureml-mlflow\": \"1.20.0.post1\", \"azureml-interpret\": \"1.20.0\", \"azureml-explain-model\": \"1.20.0\", \"azureml-defaults\": \"1.20.0\", \"azureml-dataset-runtime\": \"1.20.0\", \"azureml-dataprep\": \"2.7.3\", \"azureml-dataprep-rslex\": \"1.5.0\", \"azureml-dataprep-native\": \"27.0.0\", \"azureml-datadrift\": \"1.20.0\", \"azureml-core\": \"1.20.0\", \"azureml-contrib-services\": \"1.20.0\", \"azureml-contrib-server\": \"1.20.0\", \"azureml-contrib-reinforcementlearning\": \"1.20.0\", \"azureml-contrib-pipeline-steps\": \"1.20.0\", \"azureml-contrib-notebook\": \"1.20.0\", \"azureml-contrib-interpret\": \"1.20.0\", \"azureml-contrib-gbdt\": \"1.20.0\", \"azureml-contrib-fairness\": \"1.20.0\", \"azureml-contrib-dataset\": \"1.20.0\", \"azureml-cli-common\": \"1.20.0\", \"azureml-automl-runtime\": \"1.20.0\", \"azureml-automl-core\": \"1.20.0\", \"azureml-accel-models\": \"1.20.0\"}',\n  '_aml_system_scenario_identification': 'Remote.Parent',\n  'ClientType': 'SDK',\n  'environment_cpu_name': 'AzureML-AutoML',\n  'environment_cpu_label': 'prod',\n  'environment_gpu_name': 'AzureML-AutoML-GPU',\n  'environment_gpu_label': 'prod',\n  'root_attribution': 'automl',\n  'attribution': 'AutoML',\n  'Orchestrator': 'AutoML',\n  'CancelUri': 'https://southcentralus.experiments.azureml.net/jasmine/v1.0/subscriptions/f9d5a085-54dc-4215-9ba6-dad5d86e60a0/resourceGroups/aml-quickstarts-137424/providers/Microsoft.MachineLearningServices/workspaces/quick-starts-ws-137424/experimentids/0044d0ba-0998-4403-948c-d0b2e243aec3/cancel/AutoML_0c070b7f-286b-4e1b-8072-1c188058bed8',\n  'ClientSdkVersion': '1.21.0',\n  'snapshotId': '00000000-0000-0000-0000-000000000000',\n  'SetupRunId': 'AutoML_0c070b7f-286b-4e1b-8072-1c188058bed8_setup',\n  'SetupRunContainerId': 'dcid.AutoML_0c070b7f-286b-4e1b-8072-1c188058bed8_setup',\n  'FeaturizationRunJsonPath': 'featurizer_container.json',\n  'FeaturizationRunId': 'AutoML_0c070b7f-286b-4e1b-8072-1c188058bed8_featurize',\n  'ProblemInfoJsonString': '{\"dataset_num_categorical\": 0, \"is_sparse\": true, \"subsampling\": false, \"dataset_classes\": 2, \"dataset_features\": 78, \"dataset_samples\": 19158, \"single_frequency_class_detected\": false}',\n  'ModelExplainRunId': 'AutoML_0c070b7f-286b-4e1b-8072-1c188058bed8_ModelExplain'},\n 'inputDatasets': [{'dataset': {'id': '56233a8b-1aab-4042-9576-0fc15a576fa0'}, 'consumptionDetails': {'type': 'RunInput', 'inputName': 'training_data', 'mechanism': 'Direct'}}],\n 'outputDatasets': [],\n 'logFiles': {},\n 'submittedBy': 'ODL_User 137424'}"
          },
          "metadata": {}
        }
      ],
      "execution_count": 10,
      "metadata": {
        "id": "g1MxACxl3P0W",
        "gather": {
          "logged": 1612607454457
        }
      }
    },
    {
      "cell_type": "markdown",
      "source": [
        "## Best Model\n",
        "\n",
        "TODO: In the cell below, get the best model from the automl experiments and display all the properties of the model.\n",
        "\n"
      ],
      "metadata": {
        "id": "Cae19_7u1j-_"
      }
    },
    {
      "cell_type": "code",
      "source": [
        "automl_best_run, model= remote_run.get_output()\n",
        "automl_best_run"
      ],
      "outputs": [
        {
          "output_type": "stream",
          "name": "stderr",
          "text": [
            "WARNING:root:The version of the SDK does not match the version the model was trained on.\n",
            "WARNING:root:The consistency in the result may not be guaranteed.\n",
            "WARNING:root:Package:azureml-automl-core, training version:1.21.0, current version:1.20.0\n",
            "Package:azureml-automl-runtime, training version:1.21.0, current version:1.20.0\n",
            "Package:azureml-core, training version:1.21.0.post1, current version:1.20.0\n",
            "Package:azureml-dataprep, training version:2.8.2, current version:2.7.3\n",
            "Package:azureml-dataprep-native, training version:28.0.0, current version:27.0.0\n",
            "Package:azureml-dataprep-rslex, training version:1.6.0, current version:1.5.0\n",
            "Package:azureml-dataset-runtime, training version:1.21.0, current version:1.20.0\n",
            "Package:azureml-defaults, training version:1.21.0, current version:1.20.0\n",
            "Package:azureml-interpret, training version:1.21.0, current version:1.20.0\n",
            "Package:azureml-pipeline-core, training version:1.21.0, current version:1.20.0\n",
            "Package:azureml-telemetry, training version:1.21.0, current version:1.20.0\n",
            "Package:azureml-train-automl-client, training version:1.21.0, current version:1.20.0\n",
            "Package:azureml-train-automl-runtime, training version:1.21.0, current version:1.20.0\n",
            "WARNING:root:Please ensure the version of your local conda dependencies match the version on which your model was trained in order to properly retrieve your model.\n"
          ]
        },
        {
          "output_type": "execute_result",
          "execution_count": 11,
          "data": {
            "text/plain": "Run(Experiment: automl_hr_analytics,\nId: AutoML_0c070b7f-286b-4e1b-8072-1c188058bed8_36,\nType: azureml.scriptrun,\nStatus: Completed)",
            "text/html": "<table style=\"width:100%\"><tr><th>Experiment</th><th>Id</th><th>Type</th><th>Status</th><th>Details Page</th><th>Docs Page</th></tr><tr><td>automl_hr_analytics</td><td>AutoML_0c070b7f-286b-4e1b-8072-1c188058bed8_36</td><td>azureml.scriptrun</td><td>Completed</td><td><a href=\"https://ml.azure.com/experiments/automl_hr_analytics/runs/AutoML_0c070b7f-286b-4e1b-8072-1c188058bed8_36?wsid=/subscriptions/f9d5a085-54dc-4215-9ba6-dad5d86e60a0/resourcegroups/aml-quickstarts-137424/workspaces/quick-starts-ws-137424\" target=\"_blank\" rel=\"noopener\">Link to Azure Machine Learning studio</a></td><td><a href=\"https://docs.microsoft.com/en-us/python/api/azureml-core/azureml.core.run.Run?view=azure-ml-py\" target=\"_blank\" rel=\"noopener\">Link to Documentation</a></td></tr></table>"
          },
          "metadata": {}
        }
      ],
      "execution_count": 11,
      "metadata": {
        "gather": {
          "logged": 1612607733446
        },
        "jupyter": {
          "outputs_hidden": false,
          "source_hidden": false
        },
        "nteract": {
          "transient": {
            "deleting": false
          }
        },
        "id": "Vph6kd9g1j-_"
      }
    },
    {
      "cell_type": "code",
      "source": [
        "metrics = automl_best_run.get_metrics()\n",
        "parameters = automl_best_run.get_details()\n",
        "\n",
        "print(\"Best run ID: \",automl_best_run.id)\n",
        "print(\"Accuracy: \",metrics[\"accuracy\"])"
      ],
      "outputs": [
        {
          "output_type": "stream",
          "name": "stdout",
          "text": [
            "Best run ID:  AutoML_0c070b7f-286b-4e1b-8072-1c188058bed8_36\n",
            "Accuracy:  0.799248355778265\n"
          ]
        }
      ],
      "execution_count": 12,
      "metadata": {
        "collapsed": true,
        "jupyter": {
          "source_hidden": false,
          "outputs_hidden": false
        },
        "nteract": {
          "transient": {
            "deleting": false
          }
        },
        "gather": {
          "logged": 1612607744112
        }
      }
    },
    {
      "cell_type": "code",
      "source": [
        "model._final_estimator"
      ],
      "outputs": [
        {
          "output_type": "execute_result",
          "execution_count": 13,
          "data": {
            "text/plain": "PreFittedSoftVotingClassifier(classification_labels=None,\n                              estimators=[('0',\n                                           Pipeline(memory=None,\n                                                    steps=[('maxabsscaler',\n                                                            MaxAbsScaler(copy=True)),\n                                                           ('lightgbmclassifier',\n                                                            LightGBMClassifier(boosting_type='gbdt',\n                                                                               class_weight=None,\n                                                                               colsample_bytree=1.0,\n                                                                               importance_type='split',\n                                                                               learning_rate=0.1,\n                                                                               max_depth=-1,\n                                                                               min_child_samples=20,\n                                                                               min_child_weight=0.001,\n                                                                               min_spl...\n                                                                                   min_samples_leaf=0.01,\n                                                                                   min_samples_split=0.01,\n                                                                                   min_weight_fraction_leaf=0.0,\n                                                                                   n_estimators=25,\n                                                                                   n_jobs=-1,\n                                                                                   oob_score=True,\n                                                                                   random_state=None,\n                                                                                   verbose=0,\n                                                                                   warm_start=False))],\n                                                    verbose=False))],\n                              flatten_transform=None,\n                              weights=[0.09090909090909091, 0.2727272727272727,\n                                       0.09090909090909091, 0.18181818181818182,\n                                       0.09090909090909091, 0.18181818181818182,\n                                       0.09090909090909091])"
          },
          "metadata": {}
        }
      ],
      "execution_count": 13,
      "metadata": {
        "id": "xMBpHhUF32yA",
        "gather": {
          "logged": 1612607749947
        }
      }
    },
    {
      "cell_type": "code",
      "source": [
        "#TODO: Save the best model\n",
        "joblib.dump(model, filename=\"outputs/automl_model.joblib\")"
      ],
      "outputs": [
        {
          "output_type": "execute_result",
          "execution_count": 14,
          "data": {
            "text/plain": "['outputs/automl_model.joblib']"
          },
          "metadata": {}
        }
      ],
      "execution_count": 14,
      "metadata": {
        "gather": {
          "logged": 1612607756474
        },
        "jupyter": {
          "outputs_hidden": false,
          "source_hidden": false
        },
        "nteract": {
          "transient": {
            "deleting": false
          }
        },
        "id": "pTKezbld1j_A"
      }
    },
    {
      "cell_type": "code",
      "source": [
        "model_name = automl_best_run.properties['model_name']\n",
        "model_name"
      ],
      "outputs": [
        {
          "output_type": "execute_result",
          "execution_count": 15,
          "data": {
            "text/plain": "'AutoML0c070b7f236'"
          },
          "metadata": {}
        }
      ],
      "execution_count": 15,
      "metadata": {
        "collapsed": true,
        "jupyter": {
          "source_hidden": false,
          "outputs_hidden": false
        },
        "nteract": {
          "transient": {
            "deleting": false
          }
        },
        "gather": {
          "logged": 1612607771109
        }
      }
    },
    {
      "cell_type": "markdown",
      "source": [
        "## Model Deployment\n",
        "\n",
        "Remember you have to deploy only one of the two models you trained.. Perform the steps in the rest of this notebook only if you wish to deploy this model.\n",
        "\n",
        "TODO: In the cell below, register the model, create an inference config and deploy the model as a web service."
      ],
      "metadata": {
        "id": "TtJKGYlA1j_B"
      }
    },
    {
      "cell_type": "code",
      "source": [
        "from azureml.core.environment import Environment\n",
        "from azureml.core.model import InferenceConfig, Model\n",
        "from azureml.core.webservice.aci import AciWebservice\n",
        "from azureml.core.webservice import Webservice\n",
        "from azureml.core.model import Model"
      ],
      "outputs": [],
      "execution_count": 23,
      "metadata": {
        "collapsed": true,
        "jupyter": {
          "source_hidden": false,
          "outputs_hidden": false
        },
        "nteract": {
          "transient": {
            "deleting": false
          }
        },
        "gather": {
          "logged": 1612608055712
        }
      }
    },
    {
      "cell_type": "code",
      "source": [
        "env = automl_best_run.get_environment().save_to_directory(path='environments')\n",
        "\n",
        "script_file= 'score.py'\n",
        "\n",
        "automl_best_run.download_file('outputs/scoring_file_v_1_0_0.py', script_file)"
      ],
      "outputs": [],
      "execution_count": 16,
      "metadata": {
        "gather": {
          "logged": 1612607811562
        },
        "jupyter": {
          "outputs_hidden": false,
          "source_hidden": false
        },
        "nteract": {
          "transient": {
            "deleting": false
          }
        },
        "id": "3ahNqWie1j_B"
      }
    },
    {
      "cell_type": "code",
      "source": [
        "model = remote_run.register_model(model_name = model_name, description = 'AutoML best model')\n",
        "\n",
        "model.id"
      ],
      "outputs": [
        {
          "output_type": "execute_result",
          "execution_count": 17,
          "data": {
            "text/plain": "'AutoML0c070b7f236:1'"
          },
          "metadata": {}
        }
      ],
      "execution_count": 17,
      "metadata": {
        "collapsed": true,
        "jupyter": {
          "source_hidden": false,
          "outputs_hidden": false
        },
        "nteract": {
          "transient": {
            "deleting": false
          }
        },
        "gather": {
          "logged": 1612607834412
        }
      }
    },
    {
      "cell_type": "code",
      "source": [
        "inference_config= InferenceConfig(entry_script = script_file, environment = env)\n",
        "aci_config= AciWebservice.deploy_configuration(cpu_cores = 1, memory_gb = 1)"
      ],
      "outputs": [],
      "execution_count": 25,
      "metadata": {
        "collapsed": true,
        "jupyter": {
          "source_hidden": false,
          "outputs_hidden": false
        },
        "nteract": {
          "transient": {
            "deleting": false
          }
        },
        "gather": {
          "logged": 1612608200110
        }
      }
    },
    {
      "cell_type": "code",
      "source": [
        "service = Model.deploy(ws, 'analytics-api', [model], inference_config, aci_config)\n",
        "service.wait_for_deployment(True)"
      ],
      "outputs": [
        {
          "output_type": "stream",
          "name": "stdout",
          "text": [
            "Tips: You can try get_logs(): https://aka.ms/debugimage#dockerlog or local deployment: https://aka.ms/debugimage#debug-locally to debug if deployment takes longer than 10 minutes.\n",
            "Running.........................................\n",
            "Succeeded\n",
            "ACI service creation operation finished, operation \"Succeeded\"\n"
          ]
        }
      ],
      "execution_count": 26,
      "metadata": {
        "collapsed": true,
        "jupyter": {
          "source_hidden": false,
          "outputs_hidden": false
        },
        "nteract": {
          "transient": {
            "deleting": false
          }
        },
        "gather": {
          "logged": 1612608488355
        }
      }
    },
    {
      "cell_type": "code",
      "source": [
        "print(\"State: \" + service.state)\n",
        "print(\"Scoring URI: \" + service.scoring_uri)"
      ],
      "outputs": [
        {
          "output_type": "stream",
          "name": "stdout",
          "text": [
            "State: Healthy\n",
            "Scoring URI: http://808cb467-696a-4c00-b51a-dc2a8dda2daf.southcentralus.azurecontainer.io/score\n"
          ]
        }
      ],
      "execution_count": 27,
      "metadata": {
        "collapsed": true,
        "jupyter": {
          "source_hidden": false,
          "outputs_hidden": false
        },
        "nteract": {
          "transient": {
            "deleting": false
          }
        },
        "gather": {
          "logged": 1612608565840
        }
      }
    },
    {
      "cell_type": "markdown",
      "source": [
        "TODO: In the cell below, send a request to the web service you deployed to test it."
      ],
      "metadata": {
        "collapsed": true,
        "gather": {
          "logged": 1598431657736
        },
        "jupyter": {
          "outputs_hidden": false,
          "source_hidden": false
        },
        "nteract": {
          "transient": {
            "deleting": false
          }
        },
        "id": "LBqGm4_d1j_B"
      }
    },
    {
      "cell_type": "code",
      "source": [
        "%run endpoint.py"
      ],
      "outputs": [],
      "execution_count": null,
      "metadata": {
        "gather": {
          "logged": 1598432707604
        },
        "jupyter": {
          "outputs_hidden": false,
          "source_hidden": false
        },
        "nteract": {
          "transient": {
            "deleting": false
          }
        },
        "id": "Od_Xb4qw1j_C"
      }
    },
    {
      "cell_type": "markdown",
      "source": [
        "TODO: In the cell below, print the logs of the web service and delete the service"
      ],
      "metadata": {
        "collapsed": true,
        "gather": {
          "logged": 1598432765711
        },
        "jupyter": {
          "outputs_hidden": false,
          "source_hidden": false
        },
        "nteract": {
          "transient": {
            "deleting": false
          }
        },
        "id": "UE9PTjhg1j_C"
      }
    },
    {
      "cell_type": "code",
      "source": [
        "logs = service.get_logs()\n",
        "\n",
        "for line in logs.split('\\n'):\n",
        "    print(line)"
      ],
      "outputs": [],
      "execution_count": null,
      "metadata": {
        "jupyter": {
          "outputs_hidden": false,
          "source_hidden": false
        },
        "nteract": {
          "transient": {
            "deleting": false
          }
        },
        "id": "9eV9vqyn1j_D"
      }
    },
    {
      "cell_type": "code",
      "source": [
        "service.delete()"
      ],
      "outputs": [],
      "execution_count": null,
      "metadata": {
        "id": "xCzopZtyx2L_"
      }
    }
  ],
  "metadata": {
    "kernel_info": {
      "name": "python3"
    },
    "kernelspec": {
      "name": "python3",
      "language": "python",
      "display_name": "Python 3"
    },
    "language_info": {
      "name": "python",
      "version": "3.6.9",
      "mimetype": "text/x-python",
      "codemirror_mode": {
        "name": "ipython",
        "version": 3
      },
      "pygments_lexer": "ipython3",
      "nbconvert_exporter": "python",
      "file_extension": ".py"
    },
    "nteract": {
      "version": "nteract-front-end@1.0.0"
    },
    "colab": {
      "name": "automl.ipynb",
      "provenance": []
    }
  },
  "nbformat": 4,
  "nbformat_minor": 0
}