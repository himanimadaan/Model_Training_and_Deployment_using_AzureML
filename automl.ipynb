{
 "cells": [
  {
   "cell_type": "markdown",
   "metadata": {
    "id": "m16UdA-A1j-o"
   },
   "source": [
    "# Automated ML\n",
    "\n",
    "Import all the dependencies."
   ]
  },
  {
   "cell_type": "code",
   "execution_count": 1,
   "metadata": {
    "gather": {
     "logged": 1612764720319
    },
    "id": "CnAPTg4q1j-7",
    "jupyter": {
     "outputs_hidden": false,
     "source_hidden": false
    },
    "nteract": {
     "transient": {
      "deleting": false
     }
    }
   },
   "outputs": [],
   "source": [
    "from azureml.core import Workspace, Experiment\n",
    "from azureml.core.compute import ComputeTarget, AmlCompute\n",
    "from azureml.core.compute_target import ComputeTargetException\n",
    "from azureml.core import Dataset\n",
    "from azureml.train.automl.utilities import get_primary_metrics\n",
    "from azureml.train.automl import AutoMLConfig\n",
    "from azureml.pipeline.steps import AutoMLStep\n",
    "from azureml.widgets import RunDetails\n",
    "import os\n",
    "import joblib"
   ]
  },
  {
   "cell_type": "code",
   "execution_count": 2,
   "metadata": {
    "gather": {
     "logged": 1612764724655
    },
    "id": "jySGoEP91j-8",
    "jupyter": {
     "outputs_hidden": false,
     "source_hidden": false
    },
    "nteract": {
     "transient": {
      "deleting": false
     }
    }
   },
   "outputs": [],
   "source": [
    "ws = Workspace.from_config()\n",
    "\n",
    "# choose a name for experiment\n",
    "experiment_name = 'automl_hr_analytics'\n",
    "\n",
    "experiment=Experiment(ws, experiment_name)"
   ]
  },
  {
   "cell_type": "code",
   "execution_count": 3,
   "metadata": {
    "gather": {
     "logged": 1612764726830
    },
    "id": "NVvCYLMA1-XM",
    "outputId": "d488f53a-4344-4fb9-e2d7-10a7fc6f77ab"
   },
   "outputs": [
    {
     "data": {
      "text/plain": [
       "Workspace.create(name='quick-starts-ws-138112', subscription_id='2c48c51c-bd47-40d4-abbe-fb8eabd19c8c', resource_group='aml-quickstarts-138112')"
      ]
     },
     "execution_count": 3,
     "metadata": {},
     "output_type": "execute_result"
    }
   ],
   "source": [
    "ws"
   ]
  },
  {
   "cell_type": "code",
   "execution_count": 4,
   "metadata": {
    "collapsed": true,
    "gather": {
     "logged": 1612764729246
    },
    "jupyter": {
     "outputs_hidden": false,
     "source_hidden": false
    },
    "nteract": {
     "transient": {
      "deleting": false
     }
    }
   },
   "outputs": [
    {
     "data": {
      "text/html": [
       "<table style=\"width:100%\"><tr><th>Name</th><th>Workspace</th><th>Report Page</th><th>Docs Page</th></tr><tr><td>automl_hr_analytics</td><td>quick-starts-ws-138112</td><td><a href=\"https://ml.azure.com/experiments/automl_hr_analytics?wsid=/subscriptions/2c48c51c-bd47-40d4-abbe-fb8eabd19c8c/resourcegroups/aml-quickstarts-138112/workspaces/quick-starts-ws-138112\" target=\"_blank\" rel=\"noopener\">Link to Azure Machine Learning studio</a></td><td><a href=\"https://docs.microsoft.com/en-us/python/api/azureml-core/azureml.core.experiment.Experiment?view=azure-ml-py\" target=\"_blank\" rel=\"noopener\">Link to Documentation</a></td></tr></table>"
      ],
      "text/plain": [
       "Experiment(Name: automl_hr_analytics,\n",
       "Workspace: quick-starts-ws-138112)"
      ]
     },
     "execution_count": 4,
     "metadata": {},
     "output_type": "execute_result"
    }
   ],
   "source": [
    "experiment"
   ]
  },
  {
   "cell_type": "markdown",
   "metadata": {
    "id": "CIa6e7wo5HKj"
   },
   "source": [
    "#Configuring the Compute Cluster"
   ]
  },
  {
   "cell_type": "code",
   "execution_count": 5,
   "metadata": {
    "gather": {
     "logged": 1612764738682
    },
    "id": "tLovR45p1j-9",
    "jupyter": {
     "outputs_hidden": false,
     "source_hidden": false
    },
    "nteract": {
     "transient": {
      "deleting": false
     }
    },
    "outputId": "aaa667dc-58c8-480a-c8ce-91777443097c"
   },
   "outputs": [
    {
     "name": "stdout",
     "output_type": "stream",
     "text": [
      "Found already existing\n",
      "\n",
      "Running\n"
     ]
    }
   ],
   "source": [
    "cpu_cluster_name = \"compute-clust\"\n",
    "vm_size = \"Standard_DS3_V2\"\n",
    "try:\n",
    "    compute_target = ComputeTarget(workspace = ws, name= cpu_cluster_name)\n",
    "    print(\"Found already existing\")\n",
    "except ComputeTargetException:\n",
    "    compute_config = AmlCompute.provisioning_configuration(vm_size=vm_size, max_nodes=4)\n",
    "    compute_target = ComputeTarget.create(ws, cpu_cluster_name, compute_config)\n",
    "\n",
    "compute_target.wait_for_completion(show_output=True)"
   ]
  },
  {
   "cell_type": "markdown",
   "metadata": {
    "id": "VqJfYVVO1j-8"
   },
   "source": [
    "## Dataset\n",
    "\n",
    "### Overview\n",
    "The dataset is taken from kaggle : \"https://www.kaggle.com/arashnic/hr-analytics-job-change-of-data-scientists\".\n",
    "\n",
    "The task is to predict whether the employee will leave the current job or not, based on the following factors-\n",
    "\n",
    "1.  enrollee_id : Unique ID for candidate\n",
    "2.  city: City code\n",
    "3.  city_ development _index : Developement index of the city (scaled)\n",
    "4.  gender: Gender of candidate\n",
    "5.  relevent_experience: Relevant experience of candidate\n",
    "6.  enrolled_university: Type of University course enrolled if any\n",
    "7.  education_level: Education level of candidate\n",
    "8.  major_discipline :Education major discipline of candidate\n",
    "9.  experience: Candidate total experience in years\n",
    "10. company_size: No of employees in current employer's company\n",
    "11. company_type : Type of current employer\n",
    "12. lastnewjob: Difference in years between previous job and current job\n",
    "13. training_hours: training hours completed\n",
    "14. target: 0 – Not looking for job change, 1 – Looking for a job change\n"
   ]
  },
  {
   "cell_type": "code",
   "execution_count": 6,
   "metadata": {
    "gather": {
     "logged": 1612764755685
    },
    "id": "PEZ0rTEU2IO8",
    "outputId": "6e1d3cb8-9541-43d2-d659-2c9545c99783"
   },
   "outputs": [
    {
     "data": {
      "text/html": [
       "<div>\n",
       "<style scoped>\n",
       "    .dataframe tbody tr th:only-of-type {\n",
       "        vertical-align: middle;\n",
       "    }\n",
       "\n",
       "    .dataframe tbody tr th {\n",
       "        vertical-align: top;\n",
       "    }\n",
       "\n",
       "    .dataframe thead th {\n",
       "        text-align: right;\n",
       "    }\n",
       "</style>\n",
       "<table border=\"1\" class=\"dataframe\">\n",
       "  <thead>\n",
       "    <tr style=\"text-align: right;\">\n",
       "      <th></th>\n",
       "      <th>enrollee_id</th>\n",
       "      <th>city</th>\n",
       "      <th>city_development_index</th>\n",
       "      <th>gender</th>\n",
       "      <th>relevent_experience</th>\n",
       "      <th>enrolled_university</th>\n",
       "      <th>education_level</th>\n",
       "      <th>major_discipline</th>\n",
       "      <th>experience</th>\n",
       "      <th>company_size</th>\n",
       "      <th>company_type</th>\n",
       "      <th>last_new_job</th>\n",
       "      <th>training_hours</th>\n",
       "      <th>target</th>\n",
       "    </tr>\n",
       "  </thead>\n",
       "  <tbody>\n",
       "    <tr>\n",
       "      <th>0</th>\n",
       "      <td>8949</td>\n",
       "      <td>city_103</td>\n",
       "      <td>0.920</td>\n",
       "      <td>Male</td>\n",
       "      <td>Has relevent experience</td>\n",
       "      <td>no_enrollment</td>\n",
       "      <td>Graduate</td>\n",
       "      <td>STEM</td>\n",
       "      <td>&gt;20</td>\n",
       "      <td>None</td>\n",
       "      <td>None</td>\n",
       "      <td>1</td>\n",
       "      <td>36</td>\n",
       "      <td>1.0</td>\n",
       "    </tr>\n",
       "    <tr>\n",
       "      <th>1</th>\n",
       "      <td>29725</td>\n",
       "      <td>city_40</td>\n",
       "      <td>0.776</td>\n",
       "      <td>Male</td>\n",
       "      <td>No relevent experience</td>\n",
       "      <td>no_enrollment</td>\n",
       "      <td>Graduate</td>\n",
       "      <td>STEM</td>\n",
       "      <td>15</td>\n",
       "      <td>50-99</td>\n",
       "      <td>Pvt Ltd</td>\n",
       "      <td>&gt;4</td>\n",
       "      <td>47</td>\n",
       "      <td>0.0</td>\n",
       "    </tr>\n",
       "    <tr>\n",
       "      <th>2</th>\n",
       "      <td>11561</td>\n",
       "      <td>city_21</td>\n",
       "      <td>0.624</td>\n",
       "      <td>None</td>\n",
       "      <td>No relevent experience</td>\n",
       "      <td>Full time course</td>\n",
       "      <td>Graduate</td>\n",
       "      <td>STEM</td>\n",
       "      <td>5</td>\n",
       "      <td>None</td>\n",
       "      <td>None</td>\n",
       "      <td>never</td>\n",
       "      <td>83</td>\n",
       "      <td>0.0</td>\n",
       "    </tr>\n",
       "    <tr>\n",
       "      <th>3</th>\n",
       "      <td>33241</td>\n",
       "      <td>city_115</td>\n",
       "      <td>0.789</td>\n",
       "      <td>None</td>\n",
       "      <td>No relevent experience</td>\n",
       "      <td>None</td>\n",
       "      <td>Graduate</td>\n",
       "      <td>Business Degree</td>\n",
       "      <td>&lt;1</td>\n",
       "      <td>None</td>\n",
       "      <td>Pvt Ltd</td>\n",
       "      <td>never</td>\n",
       "      <td>52</td>\n",
       "      <td>1.0</td>\n",
       "    </tr>\n",
       "    <tr>\n",
       "      <th>4</th>\n",
       "      <td>666</td>\n",
       "      <td>city_162</td>\n",
       "      <td>0.767</td>\n",
       "      <td>Male</td>\n",
       "      <td>Has relevent experience</td>\n",
       "      <td>no_enrollment</td>\n",
       "      <td>Masters</td>\n",
       "      <td>STEM</td>\n",
       "      <td>&gt;20</td>\n",
       "      <td>50-99</td>\n",
       "      <td>Funded Startup</td>\n",
       "      <td>4</td>\n",
       "      <td>8</td>\n",
       "      <td>0.0</td>\n",
       "    </tr>\n",
       "    <tr>\n",
       "      <th>...</th>\n",
       "      <td>...</td>\n",
       "      <td>...</td>\n",
       "      <td>...</td>\n",
       "      <td>...</td>\n",
       "      <td>...</td>\n",
       "      <td>...</td>\n",
       "      <td>...</td>\n",
       "      <td>...</td>\n",
       "      <td>...</td>\n",
       "      <td>...</td>\n",
       "      <td>...</td>\n",
       "      <td>...</td>\n",
       "      <td>...</td>\n",
       "      <td>...</td>\n",
       "    </tr>\n",
       "    <tr>\n",
       "      <th>19153</th>\n",
       "      <td>7386</td>\n",
       "      <td>city_173</td>\n",
       "      <td>0.878</td>\n",
       "      <td>Male</td>\n",
       "      <td>No relevent experience</td>\n",
       "      <td>no_enrollment</td>\n",
       "      <td>Graduate</td>\n",
       "      <td>Humanities</td>\n",
       "      <td>14</td>\n",
       "      <td>None</td>\n",
       "      <td>None</td>\n",
       "      <td>1</td>\n",
       "      <td>42</td>\n",
       "      <td>1.0</td>\n",
       "    </tr>\n",
       "    <tr>\n",
       "      <th>19154</th>\n",
       "      <td>31398</td>\n",
       "      <td>city_103</td>\n",
       "      <td>0.920</td>\n",
       "      <td>Male</td>\n",
       "      <td>Has relevent experience</td>\n",
       "      <td>no_enrollment</td>\n",
       "      <td>Graduate</td>\n",
       "      <td>STEM</td>\n",
       "      <td>14</td>\n",
       "      <td>None</td>\n",
       "      <td>None</td>\n",
       "      <td>4</td>\n",
       "      <td>52</td>\n",
       "      <td>1.0</td>\n",
       "    </tr>\n",
       "    <tr>\n",
       "      <th>19155</th>\n",
       "      <td>24576</td>\n",
       "      <td>city_103</td>\n",
       "      <td>0.920</td>\n",
       "      <td>Male</td>\n",
       "      <td>Has relevent experience</td>\n",
       "      <td>no_enrollment</td>\n",
       "      <td>Graduate</td>\n",
       "      <td>STEM</td>\n",
       "      <td>&gt;20</td>\n",
       "      <td>50-99</td>\n",
       "      <td>Pvt Ltd</td>\n",
       "      <td>4</td>\n",
       "      <td>44</td>\n",
       "      <td>0.0</td>\n",
       "    </tr>\n",
       "    <tr>\n",
       "      <th>19156</th>\n",
       "      <td>5756</td>\n",
       "      <td>city_65</td>\n",
       "      <td>0.802</td>\n",
       "      <td>Male</td>\n",
       "      <td>Has relevent experience</td>\n",
       "      <td>no_enrollment</td>\n",
       "      <td>High School</td>\n",
       "      <td>None</td>\n",
       "      <td>&lt;1</td>\n",
       "      <td>500-999</td>\n",
       "      <td>Pvt Ltd</td>\n",
       "      <td>2</td>\n",
       "      <td>97</td>\n",
       "      <td>0.0</td>\n",
       "    </tr>\n",
       "    <tr>\n",
       "      <th>19157</th>\n",
       "      <td>23834</td>\n",
       "      <td>city_67</td>\n",
       "      <td>0.855</td>\n",
       "      <td>None</td>\n",
       "      <td>No relevent experience</td>\n",
       "      <td>no_enrollment</td>\n",
       "      <td>Primary School</td>\n",
       "      <td>None</td>\n",
       "      <td>2</td>\n",
       "      <td>None</td>\n",
       "      <td>None</td>\n",
       "      <td>1</td>\n",
       "      <td>127</td>\n",
       "      <td>0.0</td>\n",
       "    </tr>\n",
       "  </tbody>\n",
       "</table>\n",
       "<p>19158 rows × 14 columns</p>\n",
       "</div>"
      ],
      "text/plain": [
       "       enrollee_id      city  city_development_index gender  \\\n",
       "0             8949  city_103                   0.920   Male   \n",
       "1            29725   city_40                   0.776   Male   \n",
       "2            11561   city_21                   0.624   None   \n",
       "3            33241  city_115                   0.789   None   \n",
       "4              666  city_162                   0.767   Male   \n",
       "...            ...       ...                     ...    ...   \n",
       "19153         7386  city_173                   0.878   Male   \n",
       "19154        31398  city_103                   0.920   Male   \n",
       "19155        24576  city_103                   0.920   Male   \n",
       "19156         5756   city_65                   0.802   Male   \n",
       "19157        23834   city_67                   0.855   None   \n",
       "\n",
       "           relevent_experience enrolled_university education_level  \\\n",
       "0      Has relevent experience       no_enrollment        Graduate   \n",
       "1       No relevent experience       no_enrollment        Graduate   \n",
       "2       No relevent experience    Full time course        Graduate   \n",
       "3       No relevent experience                None        Graduate   \n",
       "4      Has relevent experience       no_enrollment         Masters   \n",
       "...                        ...                 ...             ...   \n",
       "19153   No relevent experience       no_enrollment        Graduate   \n",
       "19154  Has relevent experience       no_enrollment        Graduate   \n",
       "19155  Has relevent experience       no_enrollment        Graduate   \n",
       "19156  Has relevent experience       no_enrollment     High School   \n",
       "19157   No relevent experience       no_enrollment  Primary School   \n",
       "\n",
       "      major_discipline experience company_size    company_type last_new_job  \\\n",
       "0                 STEM        >20         None            None            1   \n",
       "1                 STEM         15        50-99         Pvt Ltd           >4   \n",
       "2                 STEM          5         None            None        never   \n",
       "3      Business Degree         <1         None         Pvt Ltd        never   \n",
       "4                 STEM        >20        50-99  Funded Startup            4   \n",
       "...                ...        ...          ...             ...          ...   \n",
       "19153       Humanities         14         None            None            1   \n",
       "19154             STEM         14         None            None            4   \n",
       "19155             STEM        >20        50-99         Pvt Ltd            4   \n",
       "19156             None         <1      500-999         Pvt Ltd            2   \n",
       "19157             None          2         None            None            1   \n",
       "\n",
       "       training_hours  target  \n",
       "0                  36     1.0  \n",
       "1                  47     0.0  \n",
       "2                  83     0.0  \n",
       "3                  52     1.0  \n",
       "4                   8     0.0  \n",
       "...               ...     ...  \n",
       "19153              42     1.0  \n",
       "19154              52     1.0  \n",
       "19155              44     0.0  \n",
       "19156              97     0.0  \n",
       "19157             127     0.0  \n",
       "\n",
       "[19158 rows x 14 columns]"
      ]
     },
     "execution_count": 6,
     "metadata": {},
     "output_type": "execute_result"
    }
   ],
   "source": [
    "dataset = Dataset.get_by_name(ws, name='data')\n",
    "dataset.to_pandas_dataframe()"
   ]
  },
  {
   "cell_type": "code",
   "execution_count": 7,
   "metadata": {
    "gather": {
     "logged": 1612764763165
    },
    "id": "1lnyck-m2L_S"
   },
   "outputs": [],
   "source": [
    "dataset =dataset.drop_columns([\"enrollee_id\",\"city\"])"
   ]
  },
  {
   "cell_type": "markdown",
   "metadata": {
    "id": "qo5Drc4y1j-9"
   },
   "source": [
    "## AutoML Configuration\n",
    "\n",
    "1. The task is Binary classification, hence we use 'accuracy' as primary metric.\n",
    "2. Cross validation of 6 folds is choosen, as it gave better accuracy than 3 or 4 fold.\n",
    "3. Iterations are processed concurrently so as to speed up our training time.\n",
    "4. Early stopping is enabled to prevent overfitting.\n",
    "5. Experiment timeout is set to be 30 minutes.\n",
    "6. Featurization parameter is set to be \"auto\" for auto feature scaling."
   ]
  },
  {
   "cell_type": "code",
   "execution_count": 8,
   "metadata": {
    "gather": {
     "logged": 1612764767380
    },
    "id": "iokpiJb52M4Y"
   },
   "outputs": [],
   "source": [
    "automl_settings = {\n",
    "    \"experiment_timeout_minutes\": 30,\n",
    "    \"task\": \"classification\", \n",
    "    \"primary_metric\": \"accuracy\",\n",
    "    \"training_data\": dataset,\n",
    "    \"label_column_name\": \"target\"    \n",
    "}\n",
    "\n",
    "automl_config = AutoMLConfig(\n",
    "    n_cross_validations= 6,\n",
    "    enable_early_stopping= True,\n",
    "    compute_target= compute_target,\n",
    "    max_cores_per_iteration= -1,\n",
    "    max_concurrent_iterations= 4,\n",
    "    featurization= \"auto\",\n",
    "    \n",
    "    **automl_settings\n",
    "    )"
   ]
  },
  {
   "cell_type": "code",
   "execution_count": 9,
   "metadata": {
    "gather": {
     "logged": 1612766002445
    },
    "id": "rFgQUK0s1j--",
    "jupyter": {
     "outputs_hidden": false,
     "source_hidden": false
    },
    "nteract": {
     "transient": {
      "deleting": false
     }
    },
    "outputId": "6613c178-c91e-4328-a2a2-2df72175e886"
   },
   "outputs": [
    {
     "name": "stdout",
     "output_type": "stream",
     "text": [
      "Running on remote.\n",
      "No run_configuration provided, running on compute-clust with default configuration\n",
      "Running on remote compute: compute-clust\n",
      "Parent Run ID: AutoML_14a5f20c-4824-4e9b-9277-358463cc13f6\n",
      "\n",
      "Current status: FeaturesGeneration. Generating features for the dataset.\n",
      "Current status: DatasetFeaturization. Beginning to fit featurizers and featurize the dataset.\n",
      "Current status: DatasetCrossValidationSplit. Generating individually featurized CV splits.\n",
      "Current status: ModelSelection. Beginning model selection.\n",
      "\n",
      "****************************************************************************************************\n",
      "DATA GUARDRAILS: \n",
      "\n",
      "TYPE:         Class balancing detection\n",
      "STATUS:       PASSED\n",
      "DESCRIPTION:  Your inputs were analyzed, and all classes are balanced in your training data.\n",
      "              Learn more about imbalanced data: https://aka.ms/AutomatedMLImbalancedData\n",
      "\n",
      "****************************************************************************************************\n",
      "\n",
      "TYPE:         Missing feature values imputation\n",
      "STATUS:       DONE\n",
      "DESCRIPTION:  If the missing values are expected, let the run complete. Otherwise cancel the current run and use a script to customize the handling of missing feature values that may be more appropriate based on the data type and business requirement.\n",
      "              Learn more about missing value imputation: https://aka.ms/AutomatedMLFeaturization\n",
      "DETAILS:      \n",
      "+---------------------------------+---------------------------------+\n",
      "|Column name                      |Missing value count              |\n",
      "+=================================+=================================+\n",
      "|gender                           |4508                             |\n",
      "|enrolled_university              |386                              |\n",
      "|education_level                  |460                              |\n",
      "|major_discipline                 |2813                             |\n",
      "|experience                       |65                               |\n",
      "|company_size                     |5938                             |\n",
      "|company_type                     |6140                             |\n",
      "|last_new_job                     |423                              |\n",
      "+---------------------------------+---------------------------------+\n",
      "\n",
      "****************************************************************************************************\n",
      "\n",
      "TYPE:         High cardinality feature detection\n",
      "STATUS:       PASSED\n",
      "DESCRIPTION:  Your inputs were analyzed, and no high cardinality features were detected.\n",
      "              Learn more about high cardinality feature handling: https://aka.ms/AutomatedMLFeaturization\n",
      "\n",
      "****************************************************************************************************\n",
      "\n",
      "****************************************************************************************************\n",
      "ITERATION: The iteration being evaluated.\n",
      "PIPELINE: A summary description of the pipeline being evaluated.\n",
      "DURATION: Time taken for the current iteration.\n",
      "METRIC: The result of computing score on the fitted pipeline.\n",
      "BEST: The best observed score thus far.\n",
      "****************************************************************************************************\n",
      "\n",
      " ITERATION   PIPELINE                                       DURATION      METRIC      BEST\n",
      "         3   MaxAbsScaler RandomForest                      0:01:00       0.7629    0.7629\n",
      "         2   MaxAbsScaler RandomForest                      0:01:00       0.7727    0.7727\n",
      "         0   MaxAbsScaler LightGBM                          0:01:17       0.7967    0.7967\n",
      "         1   MaxAbsScaler XGBoostClassifier                 0:01:19       0.7929    0.7967\n",
      "         4   MaxAbsScaler RandomForest                      0:00:57       0.7541    0.7967\n",
      "         5   MaxAbsScaler RandomForest                      0:01:08       0.6925    0.7967\n",
      "         7   SparseNormalizer XGBoostClassifier             0:01:03       0.7800    0.7967\n",
      "         6   SparseNormalizer XGBoostClassifier             0:01:13       0.7809    0.7967\n",
      "         9   SparseNormalizer XGBoostClassifier             0:00:57       0.7829    0.7967\n",
      "         8   SparseNormalizer XGBoostClassifier             0:01:22       0.7825    0.7967\n",
      "        11   StandardScalerWrapper RandomForest             0:00:56       0.7797    0.7967\n",
      "        10   MaxAbsScaler RandomForest                      0:01:22       0.7563    0.7967\n",
      "        12   MaxAbsScaler RandomForest                      0:01:03       0.7823    0.7967\n",
      "        13   SparseNormalizer XGBoostClassifier             0:00:55       0.7568    0.7967\n",
      "        14   MaxAbsScaler LogisticRegression                0:01:01       0.7722    0.7967\n",
      "        15   StandardScalerWrapper LogisticRegression       0:01:12       0.7737    0.7967\n",
      "        16   MaxAbsScaler LightGBM                          0:01:14       0.7759    0.7967\n",
      "        17   MaxAbsScaler LogisticRegression                0:01:12       0.7739    0.7967\n",
      "        18   SparseNormalizer LightGBM                      0:00:58       0.7674    0.7967\n",
      "        19   SparseNormalizer XGBoostClassifier             0:01:01       0.7794    0.7967\n",
      "        22   StandardScalerWrapper LightGBM                 0:01:05       0.7941    0.7967\n",
      "        20   MaxAbsScaler LightGBM                          0:01:08       0.7932    0.7967\n",
      "        21   SparseNormalizer XGBoostClassifier             0:01:04       0.7789    0.7967\n",
      "        23   SparseNormalizer XGBoostClassifier             0:01:05       0.7799    0.7967\n",
      "        24   StandardScalerWrapper LightGBM                 0:01:02       0.7507    0.7967\n",
      "        25   StandardScalerWrapper ExtremeRandomTrees       0:01:09       0.7507    0.7967\n",
      "        26   StandardScalerWrapper RandomForest             0:01:06       0.7527    0.7967\n",
      "        27   StandardScalerWrapper LightGBM                 0:00:55       0.7842    0.7967\n",
      "        28   SparseNormalizer RandomForest                  0:01:03       0.7507    0.7967\n",
      "        30   SparseNormalizer LightGBM                      0:01:02       0.7507    0.7967\n",
      "        31   StandardScalerWrapper LightGBM                 0:00:57       0.7960    0.7967\n",
      "        29   SparseNormalizer XGBoostClassifier             0:01:46       0.7783    0.7967\n",
      "        32   SparseNormalizer LightGBM                      0:00:57       0.7581    0.7967\n",
      "        33   StandardScalerWrapper XGBoostClassifier        0:00:55       0.7844    0.7967\n",
      "        34   SparseNormalizer XGBoostClassifier             0:00:53          nan    0.7967\n",
      "        35                                                  0:00:22          nan    0.7967\n",
      "        36    VotingEnsemble                                0:02:09       0.8017    0.8017\n",
      "        37    StackEnsemble                                 0:02:09       0.7973    0.8017\n"
     ]
    }
   ],
   "source": [
    "#Submit the experiment\n",
    "remote_run = experiment.submit(automl_config, show_output=True)"
   ]
  },
  {
   "cell_type": "markdown",
   "metadata": {
    "id": "GPleLBD31j--"
   },
   "source": [
    "## Run Details\n"
   ]
  },
  {
   "cell_type": "code",
   "execution_count": 10,
   "metadata": {
    "colab": {
     "referenced_widgets": [
      "23862b7609bc400e99f6570fa4121d14"
     ]
    },
    "gather": {
     "logged": 1612766044448
    },
    "id": "DVfWEweU1j--",
    "jupyter": {
     "outputs_hidden": false,
     "source_hidden": false
    },
    "nteract": {
     "transient": {
      "deleting": false
     }
    },
    "outputId": "0bfd7aed-29f0-44f3-b61f-6fb3c1b0f469"
   },
   "outputs": [
    {
     "data": {
      "application/vnd.jupyter.widget-view+json": {
       "model_id": "14724f2ae7734d01892e620af4066300",
       "version_major": 2,
       "version_minor": 0
      },
      "text/plain": [
       "_AutoMLWidget(widget_settings={'childWidgetDisplay': 'popup', 'send_telemetry': False, 'log_level': 'INFO', 's…"
      ]
     },
     "metadata": {},
     "output_type": "display_data"
    },
    {
     "data": {
      "application/aml.mini.widget.v1": "{\"status\": \"Completed\", \"workbench_run_details_uri\": \"https://ml.azure.com/experiments/automl_hr_analytics/runs/AutoML_14a5f20c-4824-4e9b-9277-358463cc13f6?wsid=/subscriptions/2c48c51c-bd47-40d4-abbe-fb8eabd19c8c/resourcegroups/aml-quickstarts-138112/workspaces/quick-starts-ws-138112\", \"run_id\": \"AutoML_14a5f20c-4824-4e9b-9277-358463cc13f6\", \"run_properties\": {\"run_id\": \"AutoML_14a5f20c-4824-4e9b-9277-358463cc13f6\", \"created_utc\": \"2021-02-08T06:12:55.362611Z\", \"properties\": {\"num_iterations\": \"1000\", \"training_type\": \"TrainFull\", \"acquisition_function\": \"EI\", \"primary_metric\": \"accuracy\", \"train_split\": \"0\", \"acquisition_parameter\": \"0\", \"num_cross_validation\": \"6\", \"target\": \"compute-clust\", \"AMLSettingsJsonString\": \"{\\\"path\\\":null,\\\"name\\\":\\\"automl_hr_analytics\\\",\\\"subscription_id\\\":\\\"2c48c51c-bd47-40d4-abbe-fb8eabd19c8c\\\",\\\"resource_group\\\":\\\"aml-quickstarts-138112\\\",\\\"workspace_name\\\":\\\"quick-starts-ws-138112\\\",\\\"region\\\":\\\"southcentralus\\\",\\\"compute_target\\\":\\\"compute-clust\\\",\\\"spark_service\\\":null,\\\"azure_service\\\":\\\"remote\\\",\\\"many_models\\\":false,\\\"pipeline_fetch_max_batch_size\\\":1,\\\"iterations\\\":1000,\\\"primary_metric\\\":\\\"accuracy\\\",\\\"task_type\\\":\\\"classification\\\",\\\"data_script\\\":null,\\\"validation_size\\\":0.0,\\\"n_cross_validations\\\":6,\\\"y_min\\\":null,\\\"y_max\\\":null,\\\"num_classes\\\":null,\\\"featurization\\\":\\\"auto\\\",\\\"_ignore_package_version_incompatibilities\\\":false,\\\"is_timeseries\\\":false,\\\"max_cores_per_iteration\\\":-1,\\\"max_concurrent_iterations\\\":4,\\\"iteration_timeout_minutes\\\":null,\\\"mem_in_mb\\\":null,\\\"enforce_time_on_windows\\\":false,\\\"experiment_timeout_minutes\\\":30,\\\"experiment_exit_score\\\":null,\\\"whitelist_models\\\":null,\\\"blacklist_algos\\\":[\\\"TensorFlowLinearClassifier\\\",\\\"TensorFlowDNN\\\"],\\\"supported_models\\\":[\\\"ExtremeRandomTrees\\\",\\\"KNN\\\",\\\"LogisticRegression\\\",\\\"AveragedPerceptronClassifier\\\",\\\"DecisionTree\\\",\\\"BernoulliNaiveBayes\\\",\\\"TensorFlowLinearClassifier\\\",\\\"MultinomialNaiveBayes\\\",\\\"SVM\\\",\\\"TensorFlowDNN\\\",\\\"RandomForest\\\",\\\"LightGBM\\\",\\\"XGBoostClassifier\\\",\\\"LinearSVM\\\",\\\"GradientBoosting\\\",\\\"SGD\\\"],\\\"auto_blacklist\\\":true,\\\"blacklist_samples_reached\\\":false,\\\"exclude_nan_labels\\\":true,\\\"verbosity\\\":20,\\\"_debug_log\\\":\\\"azureml_automl.log\\\",\\\"show_warnings\\\":false,\\\"model_explainability\\\":true,\\\"service_url\\\":null,\\\"sdk_url\\\":null,\\\"sdk_packages\\\":null,\\\"enable_onnx_compatible_models\\\":false,\\\"enable_split_onnx_featurizer_estimator_models\\\":false,\\\"vm_type\\\":\\\"STANDARD_DS3_V2\\\",\\\"telemetry_verbosity\\\":20,\\\"send_telemetry\\\":true,\\\"enable_dnn\\\":false,\\\"scenario\\\":\\\"SDK-1.13.0\\\",\\\"environment_label\\\":null,\\\"force_text_dnn\\\":false,\\\"enable_feature_sweeping\\\":true,\\\"enable_early_stopping\\\":true,\\\"early_stopping_n_iters\\\":10,\\\"metrics\\\":null,\\\"enable_ensembling\\\":true,\\\"enable_stack_ensembling\\\":true,\\\"ensemble_iterations\\\":15,\\\"enable_tf\\\":false,\\\"enable_subsampling\\\":null,\\\"subsample_seed\\\":null,\\\"enable_nimbusml\\\":false,\\\"enable_streaming\\\":false,\\\"force_streaming\\\":false,\\\"track_child_runs\\\":true,\\\"allowed_private_models\\\":[],\\\"label_column_name\\\":\\\"target\\\",\\\"weight_column_name\\\":null,\\\"cv_split_column_names\\\":null,\\\"enable_local_managed\\\":false,\\\"_local_managed_run_id\\\":null,\\\"cost_mode\\\":1,\\\"lag_length\\\":0,\\\"metric_operation\\\":\\\"maximize\\\",\\\"preprocess\\\":true}\", \"DataPrepJsonString\": \"{\\\\\\\"training_data\\\\\\\": \\\\\\\"{\\\\\\\\\\\\\\\"blocks\\\\\\\\\\\\\\\": [{\\\\\\\\\\\\\\\"id\\\\\\\\\\\\\\\": \\\\\\\\\\\\\\\"f925630c-8053-426f-99b5-0c0757ff562d\\\\\\\\\\\\\\\", \\\\\\\\\\\\\\\"type\\\\\\\\\\\\\\\": \\\\\\\\\\\\\\\"Microsoft.DPrep.GetDatastoreFilesBlock\\\\\\\\\\\\\\\", \\\\\\\\\\\\\\\"arguments\\\\\\\\\\\\\\\": {\\\\\\\\\\\\\\\"datastores\\\\\\\\\\\\\\\": [{\\\\\\\\\\\\\\\"datastoreName\\\\\\\\\\\\\\\": \\\\\\\\\\\\\\\"workspaceblobstore\\\\\\\\\\\\\\\", \\\\\\\\\\\\\\\"path\\\\\\\\\\\\\\\": \\\\\\\\\\\\\\\"UI/02-08-2021_055728_UTC/data.csv\\\\\\\\\\\\\\\", \\\\\\\\\\\\\\\"resourceGroup\\\\\\\\\\\\\\\": \\\\\\\\\\\\\\\"aml-quickstarts-138112\\\\\\\\\\\\\\\", \\\\\\\\\\\\\\\"subscription\\\\\\\\\\\\\\\": \\\\\\\\\\\\\\\"2c48c51c-bd47-40d4-abbe-fb8eabd19c8c\\\\\\\\\\\\\\\", \\\\\\\\\\\\\\\"workspaceName\\\\\\\\\\\\\\\": \\\\\\\\\\\\\\\"quick-starts-ws-138112\\\\\\\\\\\\\\\"}]}, \\\\\\\\\\\\\\\"localData\\\\\\\\\\\\\\\": {}, \\\\\\\\\\\\\\\"isEnabled\\\\\\\\\\\\\\\": true, \\\\\\\\\\\\\\\"name\\\\\\\\\\\\\\\": null, \\\\\\\\\\\\\\\"annotation\\\\\\\\\\\\\\\": null}, {\\\\\\\\\\\\\\\"id\\\\\\\\\\\\\\\": \\\\\\\\\\\\\\\"123d170b-2e72-4043-9bfb-5de4abd379d8\\\\\\\\\\\\\\\", \\\\\\\\\\\\\\\"type\\\\\\\\\\\\\\\": \\\\\\\\\\\\\\\"Microsoft.DPrep.ParseDelimitedBlock\\\\\\\\\\\\\\\", \\\\\\\\\\\\\\\"arguments\\\\\\\\\\\\\\\": {\\\\\\\\\\\\\\\"columnHeadersMode\\\\\\\\\\\\\\\": 1, \\\\\\\\\\\\\\\"fileEncoding\\\\\\\\\\\\\\\": 0, \\\\\\\\\\\\\\\"handleQuotedLineBreaks\\\\\\\\\\\\\\\": false, \\\\\\\\\\\\\\\"preview\\\\\\\\\\\\\\\": false, \\\\\\\\\\\\\\\"separator\\\\\\\\\\\\\\\": \\\\\\\\\\\\\\\",\\\\\\\\\\\\\\\", \\\\\\\\\\\\\\\"skipRows\\\\\\\\\\\\\\\": 0, \\\\\\\\\\\\\\\"skipRowsMode\\\\\\\\\\\\\\\": 0}, \\\\\\\\\\\\\\\"localData\\\\\\\\\\\\\\\": {}, \\\\\\\\\\\\\\\"isEnabled\\\\\\\\\\\\\\\": true, \\\\\\\\\\\\\\\"name\\\\\\\\\\\\\\\": null, \\\\\\\\\\\\\\\"annotation\\\\\\\\\\\\\\\": null}, {\\\\\\\\\\\\\\\"id\\\\\\\\\\\\\\\": \\\\\\\\\\\\\\\"6aef262b-4963-4fc7-a2a6-d8a704b09a87\\\\\\\\\\\\\\\", \\\\\\\\\\\\\\\"type\\\\\\\\\\\\\\\": \\\\\\\\\\\\\\\"Microsoft.DPrep.DropColumnsBlock\\\\\\\\\\\\\\\", \\\\\\\\\\\\\\\"arguments\\\\\\\\\\\\\\\": {\\\\\\\\\\\\\\\"columns\\\\\\\\\\\\\\\": {\\\\\\\\\\\\\\\"type\\\\\\\\\\\\\\\": 0, \\\\\\\\\\\\\\\"details\\\\\\\\\\\\\\\": {\\\\\\\\\\\\\\\"selectedColumns\\\\\\\\\\\\\\\": [\\\\\\\\\\\\\\\"Path\\\\\\\\\\\\\\\"]}}}, \\\\\\\\\\\\\\\"localData\\\\\\\\\\\\\\\": {}, \\\\\\\\\\\\\\\"isEnabled\\\\\\\\\\\\\\\": true, \\\\\\\\\\\\\\\"name\\\\\\\\\\\\\\\": null, \\\\\\\\\\\\\\\"annotation\\\\\\\\\\\\\\\": null}, {\\\\\\\\\\\\\\\"id\\\\\\\\\\\\\\\": \\\\\\\\\\\\\\\"083aa9c8-ace5-452a-9979-89059afc78e0\\\\\\\\\\\\\\\", \\\\\\\\\\\\\\\"type\\\\\\\\\\\\\\\": \\\\\\\\\\\\\\\"Microsoft.DPrep.SetColumnTypesBlock\\\\\\\\\\\\\\\", \\\\\\\\\\\\\\\"arguments\\\\\\\\\\\\\\\": {\\\\\\\\\\\\\\\"columnConversion\\\\\\\\\\\\\\\": [{\\\\\\\\\\\\\\\"column\\\\\\\\\\\\\\\": {\\\\\\\\\\\\\\\"type\\\\\\\\\\\\\\\": 2, \\\\\\\\\\\\\\\"details\\\\\\\\\\\\\\\": {\\\\\\\\\\\\\\\"selectedColumn\\\\\\\\\\\\\\\": \\\\\\\\\\\\\\\"Path\\\\\\\\\\\\\\\"}}, \\\\\\\\\\\\\\\"typeProperty\\\\\\\\\\\\\\\": 0}, {\\\\\\\\\\\\\\\"column\\\\\\\\\\\\\\\": {\\\\\\\\\\\\\\\"type\\\\\\\\\\\\\\\": 2, \\\\\\\\\\\\\\\"details\\\\\\\\\\\\\\\": {\\\\\\\\\\\\\\\"selectedColumn\\\\\\\\\\\\\\\": \\\\\\\\\\\\\\\"enrollee_id\\\\\\\\\\\\\\\"}}, \\\\\\\\\\\\\\\"typeProperty\\\\\\\\\\\\\\\": 2}, {\\\\\\\\\\\\\\\"column\\\\\\\\\\\\\\\": {\\\\\\\\\\\\\\\"type\\\\\\\\\\\\\\\": 2, \\\\\\\\\\\\\\\"details\\\\\\\\\\\\\\\": {\\\\\\\\\\\\\\\"selectedColumn\\\\\\\\\\\\\\\": \\\\\\\\\\\\\\\"city\\\\\\\\\\\\\\\"}}, \\\\\\\\\\\\\\\"typeProperty\\\\\\\\\\\\\\\": 0}, {\\\\\\\\\\\\\\\"column\\\\\\\\\\\\\\\": {\\\\\\\\\\\\\\\"type\\\\\\\\\\\\\\\": 2, \\\\\\\\\\\\\\\"details\\\\\\\\\\\\\\\": {\\\\\\\\\\\\\\\"selectedColumn\\\\\\\\\\\\\\\": \\\\\\\\\\\\\\\"city_development_index\\\\\\\\\\\\\\\"}}, \\\\\\\\\\\\\\\"typeProperty\\\\\\\\\\\\\\\": 3}, {\\\\\\\\\\\\\\\"column\\\\\\\\\\\\\\\": {\\\\\\\\\\\\\\\"type\\\\\\\\\\\\\\\": 2, \\\\\\\\\\\\\\\"details\\\\\\\\\\\\\\\": {\\\\\\\\\\\\\\\"selectedColumn\\\\\\\\\\\\\\\": \\\\\\\\\\\\\\\"gender\\\\\\\\\\\\\\\"}}, \\\\\\\\\\\\\\\"typeProperty\\\\\\\\\\\\\\\": 0}, {\\\\\\\\\\\\\\\"column\\\\\\\\\\\\\\\": {\\\\\\\\\\\\\\\"type\\\\\\\\\\\\\\\": 2, \\\\\\\\\\\\\\\"details\\\\\\\\\\\\\\\": {\\\\\\\\\\\\\\\"selectedColumn\\\\\\\\\\\\\\\": \\\\\\\\\\\\\\\"relevent_experience\\\\\\\\\\\\\\\"}}, \\\\\\\\\\\\\\\"typeProperty\\\\\\\\\\\\\\\": 0}, {\\\\\\\\\\\\\\\"column\\\\\\\\\\\\\\\": {\\\\\\\\\\\\\\\"type\\\\\\\\\\\\\\\": 2, \\\\\\\\\\\\\\\"details\\\\\\\\\\\\\\\": {\\\\\\\\\\\\\\\"selectedColumn\\\\\\\\\\\\\\\": \\\\\\\\\\\\\\\"enrolled_university\\\\\\\\\\\\\\\"}}, \\\\\\\\\\\\\\\"typeProperty\\\\\\\\\\\\\\\": 0}, {\\\\\\\\\\\\\\\"column\\\\\\\\\\\\\\\": {\\\\\\\\\\\\\\\"type\\\\\\\\\\\\\\\": 2, \\\\\\\\\\\\\\\"details\\\\\\\\\\\\\\\": {\\\\\\\\\\\\\\\"selectedColumn\\\\\\\\\\\\\\\": \\\\\\\\\\\\\\\"education_level\\\\\\\\\\\\\\\"}}, \\\\\\\\\\\\\\\"typeProperty\\\\\\\\\\\\\\\": 0}, {\\\\\\\\\\\\\\\"column\\\\\\\\\\\\\\\": {\\\\\\\\\\\\\\\"type\\\\\\\\\\\\\\\": 2, \\\\\\\\\\\\\\\"details\\\\\\\\\\\\\\\": {\\\\\\\\\\\\\\\"selectedColumn\\\\\\\\\\\\\\\": \\\\\\\\\\\\\\\"major_discipline\\\\\\\\\\\\\\\"}}, \\\\\\\\\\\\\\\"typeProperty\\\\\\\\\\\\\\\": 0}, {\\\\\\\\\\\\\\\"column\\\\\\\\\\\\\\\": {\\\\\\\\\\\\\\\"type\\\\\\\\\\\\\\\": 2, \\\\\\\\\\\\\\\"details\\\\\\\\\\\\\\\": {\\\\\\\\\\\\\\\"selectedColumn\\\\\\\\\\\\\\\": \\\\\\\\\\\\\\\"experience\\\\\\\\\\\\\\\"}}, \\\\\\\\\\\\\\\"typeProperty\\\\\\\\\\\\\\\": 0}, {\\\\\\\\\\\\\\\"column\\\\\\\\\\\\\\\": {\\\\\\\\\\\\\\\"type\\\\\\\\\\\\\\\": 2, \\\\\\\\\\\\\\\"details\\\\\\\\\\\\\\\": {\\\\\\\\\\\\\\\"selectedColumn\\\\\\\\\\\\\\\": \\\\\\\\\\\\\\\"company_size\\\\\\\\\\\\\\\"}}, \\\\\\\\\\\\\\\"typeProperty\\\\\\\\\\\\\\\": 0}, {\\\\\\\\\\\\\\\"column\\\\\\\\\\\\\\\": {\\\\\\\\\\\\\\\"type\\\\\\\\\\\\\\\": 2, \\\\\\\\\\\\\\\"details\\\\\\\\\\\\\\\": {\\\\\\\\\\\\\\\"selectedColumn\\\\\\\\\\\\\\\": \\\\\\\\\\\\\\\"company_type\\\\\\\\\\\\\\\"}}, \\\\\\\\\\\\\\\"typeProperty\\\\\\\\\\\\\\\": 0}, {\\\\\\\\\\\\\\\"column\\\\\\\\\\\\\\\": {\\\\\\\\\\\\\\\"type\\\\\\\\\\\\\\\": 2, \\\\\\\\\\\\\\\"details\\\\\\\\\\\\\\\": {\\\\\\\\\\\\\\\"selectedColumn\\\\\\\\\\\\\\\": \\\\\\\\\\\\\\\"last_new_job\\\\\\\\\\\\\\\"}}, \\\\\\\\\\\\\\\"typeProperty\\\\\\\\\\\\\\\": 0}, {\\\\\\\\\\\\\\\"column\\\\\\\\\\\\\\\": {\\\\\\\\\\\\\\\"type\\\\\\\\\\\\\\\": 2, \\\\\\\\\\\\\\\"details\\\\\\\\\\\\\\\": {\\\\\\\\\\\\\\\"selectedColumn\\\\\\\\\\\\\\\": \\\\\\\\\\\\\\\"training_hours\\\\\\\\\\\\\\\"}}, \\\\\\\\\\\\\\\"typeProperty\\\\\\\\\\\\\\\": 2}, {\\\\\\\\\\\\\\\"column\\\\\\\\\\\\\\\": {\\\\\\\\\\\\\\\"type\\\\\\\\\\\\\\\": 2, \\\\\\\\\\\\\\\"details\\\\\\\\\\\\\\\": {\\\\\\\\\\\\\\\"selectedColumn\\\\\\\\\\\\\\\": \\\\\\\\\\\\\\\"target\\\\\\\\\\\\\\\"}}, \\\\\\\\\\\\\\\"typeProperty\\\\\\\\\\\\\\\": 3}]}, \\\\\\\\\\\\\\\"localData\\\\\\\\\\\\\\\": {}, \\\\\\\\\\\\\\\"isEnabled\\\\\\\\\\\\\\\": true, \\\\\\\\\\\\\\\"name\\\\\\\\\\\\\\\": null, \\\\\\\\\\\\\\\"annotation\\\\\\\\\\\\\\\": null}, {\\\\\\\\\\\\\\\"id\\\\\\\\\\\\\\\": \\\\\\\\\\\\\\\"ae328f51-2a65-4f4b-a910-a0009e19a07b\\\\\\\\\\\\\\\", \\\\\\\\\\\\\\\"type\\\\\\\\\\\\\\\": \\\\\\\\\\\\\\\"Microsoft.DPrep.DropColumnsBlock\\\\\\\\\\\\\\\", \\\\\\\\\\\\\\\"arguments\\\\\\\\\\\\\\\": {\\\\\\\\\\\\\\\"columns\\\\\\\\\\\\\\\": {\\\\\\\\\\\\\\\"type\\\\\\\\\\\\\\\": 0, \\\\\\\\\\\\\\\"details\\\\\\\\\\\\\\\": {\\\\\\\\\\\\\\\"selectedColumns\\\\\\\\\\\\\\\": [\\\\\\\\\\\\\\\"enrollee_id\\\\\\\\\\\\\\\", \\\\\\\\\\\\\\\"city\\\\\\\\\\\\\\\"]}}}, \\\\\\\\\\\\\\\"localData\\\\\\\\\\\\\\\": {}, \\\\\\\\\\\\\\\"isEnabled\\\\\\\\\\\\\\\": true, \\\\\\\\\\\\\\\"name\\\\\\\\\\\\\\\": null, \\\\\\\\\\\\\\\"annotation\\\\\\\\\\\\\\\": null}], \\\\\\\\\\\\\\\"inspectors\\\\\\\\\\\\\\\": [], \\\\\\\\\\\\\\\"meta\\\\\\\\\\\\\\\": {\\\\\\\\\\\\\\\"savedDatasetId\\\\\\\\\\\\\\\": \\\\\\\\\\\\\\\"c541fe14-0fd4-47f5-8a4b-a5075ed29685\\\\\\\\\\\\\\\", \\\\\\\\\\\\\\\"datasetType\\\\\\\\\\\\\\\": \\\\\\\\\\\\\\\"tabular\\\\\\\\\\\\\\\", \\\\\\\\\\\\\\\"subscriptionId\\\\\\\\\\\\\\\": \\\\\\\\\\\\\\\"2c48c51c-bd47-40d4-abbe-fb8eabd19c8c\\\\\\\\\\\\\\\", \\\\\\\\\\\\\\\"workspaceId\\\\\\\\\\\\\\\": \\\\\\\\\\\\\\\"82096da9-2e38-48b4-8d97-fd5d17648299\\\\\\\\\\\\\\\", \\\\\\\\\\\\\\\"workspaceLocation\\\\\\\\\\\\\\\": \\\\\\\\\\\\\\\"southcentralus\\\\\\\\\\\\\\\"}}\\\\\\\", \\\\\\\"activities\\\\\\\": 0}\", \"EnableSubsampling\": null, \"runTemplate\": \"AutoML\", \"azureml.runsource\": \"automl\", \"display_task_type\": \"classification\", \"dependencies_versions\": \"{\\\"azureml-widgets\\\": \\\"1.20.0\\\", \\\"azureml-train\\\": \\\"1.20.0\\\", \\\"azureml-train-restclients-hyperdrive\\\": \\\"1.20.0\\\", \\\"azureml-train-core\\\": \\\"1.20.0\\\", \\\"azureml-train-automl\\\": \\\"1.20.0\\\", \\\"azureml-train-automl-runtime\\\": \\\"1.20.0\\\", \\\"azureml-train-automl-client\\\": \\\"1.20.0\\\", \\\"azureml-tensorboard\\\": \\\"1.20.0\\\", \\\"azureml-telemetry\\\": \\\"1.20.0\\\", \\\"azureml-sdk\\\": \\\"1.20.0\\\", \\\"azureml-samples\\\": \\\"0+unknown\\\", \\\"azureml-pipeline\\\": \\\"1.20.0\\\", \\\"azureml-pipeline-steps\\\": \\\"1.20.0\\\", \\\"azureml-pipeline-core\\\": \\\"1.20.0\\\", \\\"azureml-opendatasets\\\": \\\"1.20.0\\\", \\\"azureml-model-management-sdk\\\": \\\"1.0.1b6.post1\\\", \\\"azureml-mlflow\\\": \\\"1.20.0.post1\\\", \\\"azureml-interpret\\\": \\\"1.20.0\\\", \\\"azureml-explain-model\\\": \\\"1.20.0\\\", \\\"azureml-defaults\\\": \\\"1.20.0\\\", \\\"azureml-dataset-runtime\\\": \\\"1.20.0\\\", \\\"azureml-dataprep\\\": \\\"2.7.3\\\", \\\"azureml-dataprep-rslex\\\": \\\"1.5.0\\\", \\\"azureml-dataprep-native\\\": \\\"27.0.0\\\", \\\"azureml-datadrift\\\": \\\"1.20.0\\\", \\\"azureml-core\\\": \\\"1.20.0\\\", \\\"azureml-contrib-services\\\": \\\"1.20.0\\\", \\\"azureml-contrib-server\\\": \\\"1.20.0\\\", \\\"azureml-contrib-reinforcementlearning\\\": \\\"1.20.0\\\", \\\"azureml-contrib-pipeline-steps\\\": \\\"1.20.0\\\", \\\"azureml-contrib-notebook\\\": \\\"1.20.0\\\", \\\"azureml-contrib-interpret\\\": \\\"1.20.0\\\", \\\"azureml-contrib-gbdt\\\": \\\"1.20.0\\\", \\\"azureml-contrib-fairness\\\": \\\"1.20.0\\\", \\\"azureml-contrib-dataset\\\": \\\"1.20.0\\\", \\\"azureml-cli-common\\\": \\\"1.20.0\\\", \\\"azureml-automl-runtime\\\": \\\"1.20.0\\\", \\\"azureml-automl-core\\\": \\\"1.20.0\\\", \\\"azureml-accel-models\\\": \\\"1.20.0\\\"}\", \"_aml_system_scenario_identification\": \"Remote.Parent\", \"ClientType\": \"SDK\", \"environment_cpu_name\": \"AzureML-AutoML\", \"environment_cpu_label\": \"prod\", \"environment_gpu_name\": \"AzureML-AutoML-GPU\", \"environment_gpu_label\": \"prod\", \"root_attribution\": \"automl\", \"attribution\": \"AutoML\", \"Orchestrator\": \"AutoML\", \"CancelUri\": \"https://southcentralus.experiments.azureml.net/jasmine/v1.0/subscriptions/2c48c51c-bd47-40d4-abbe-fb8eabd19c8c/resourceGroups/aml-quickstarts-138112/providers/Microsoft.MachineLearningServices/workspaces/quick-starts-ws-138112/experimentids/ab6d6498-f5ae-457e-bee9-05ebb9e98c2d/cancel/AutoML_14a5f20c-4824-4e9b-9277-358463cc13f6\", \"ClientSdkVersion\": \"1.21.0\", \"snapshotId\": \"00000000-0000-0000-0000-000000000000\", \"SetupRunId\": \"AutoML_14a5f20c-4824-4e9b-9277-358463cc13f6_setup\", \"SetupRunContainerId\": \"dcid.AutoML_14a5f20c-4824-4e9b-9277-358463cc13f6_setup\", \"FeaturizationRunJsonPath\": \"featurizer_container.json\", \"FeaturizationRunId\": \"AutoML_14a5f20c-4824-4e9b-9277-358463cc13f6_featurize\", \"ProblemInfoJsonString\": \"{\\\"dataset_num_categorical\\\": 0, \\\"is_sparse\\\": true, \\\"subsampling\\\": false, \\\"dataset_classes\\\": 2, \\\"dataset_features\\\": 78, \\\"dataset_samples\\\": 19158, \\\"single_frequency_class_detected\\\": false}\", \"ModelExplainRunId\": \"AutoML_14a5f20c-4824-4e9b-9277-358463cc13f6_ModelExplain\"}, \"tags\": {\"model_explain_run\": \"best_run\", \"_aml_system_azureml.automlComponent\": \"AutoML\", \"pipeline_id\": \"\", \"score\": \"\", \"predicted_cost\": \"\", \"fit_time\": \"\", \"training_percent\": \"\", \"iteration\": \"\", \"run_preprocessor\": \"\", \"run_algorithm\": \"\", \"dynamic_whitelisting_iterations\": \"<24>;<30>;<35>;\", \"automl_best_child_run_id\": \"AutoML_14a5f20c-4824-4e9b-9277-358463cc13f6_36\", \"model_explain_best_run_child_id\": \"AutoML_14a5f20c-4824-4e9b-9277-358463cc13f6_36\"}, \"end_time_utc\": \"2021-02-08T06:33:13.104987Z\", \"status\": \"Completed\", \"log_files\": {}, \"log_groups\": [], \"run_duration\": \"0:20:17\"}, \"child_runs\": [{\"run_id\": \"AutoML_14a5f20c-4824-4e9b-9277-358463cc13f6_0\", \"run_number\": 5, \"metric\": null, \"status\": \"Completed\", \"run_type\": \"azureml.scriptrun\", \"training_percent\": \"100\", \"start_time\": \"2021-02-08T06:18:44.226849Z\", \"end_time\": \"2021-02-08T06:20:01.285803Z\", \"created_time\": \"2021-02-08T06:18:25.992207Z\", \"created_time_dt\": \"2021-02-08T06:18:25.992207Z\", \"duration\": \"0:01:35\", \"iteration\": \"0\", \"goal\": \"accuracy_max\", \"run_name\": \"MaxAbsScaler, LightGBM\", \"run_properties\": \"copy=True\", \"primary_metric\": 0.79669068, \"best_metric\": 0.79669068}, {\"run_id\": \"AutoML_14a5f20c-4824-4e9b-9277-358463cc13f6_1\", \"run_number\": 6, \"metric\": null, \"status\": \"Completed\", \"run_type\": \"azureml.scriptrun\", \"training_percent\": \"100\", \"start_time\": \"2021-02-08T06:18:42.720454Z\", \"end_time\": \"2021-02-08T06:20:01.250158Z\", \"created_time\": \"2021-02-08T06:18:26.118669Z\", \"created_time_dt\": \"2021-02-08T06:18:26.118669Z\", \"duration\": \"0:01:35\", \"iteration\": \"1\", \"goal\": \"accuracy_max\", \"run_name\": \"MaxAbsScaler, XGBoostClassifier\", \"run_properties\": \"copy=True\", \"primary_metric\": 0.79288026, \"best_metric\": 0.79669068}, {\"run_id\": \"AutoML_14a5f20c-4824-4e9b-9277-358463cc13f6_3\", \"run_number\": 7, \"metric\": null, \"status\": \"Completed\", \"run_type\": \"azureml.scriptrun\", \"training_percent\": \"100\", \"start_time\": \"2021-02-08T06:18:43.941236Z\", \"end_time\": \"2021-02-08T06:19:44.142229Z\", \"created_time\": \"2021-02-08T06:18:26.148234Z\", \"created_time_dt\": \"2021-02-08T06:18:26.148234Z\", \"duration\": \"0:01:17\", \"iteration\": \"3\", \"goal\": \"accuracy_max\", \"run_name\": \"MaxAbsScaler, RandomForest\", \"run_properties\": \"copy=True\", \"primary_metric\": 0.76286669, \"best_metric\": 0.79669068}, {\"run_id\": \"AutoML_14a5f20c-4824-4e9b-9277-358463cc13f6_2\", \"run_number\": 8, \"metric\": null, \"status\": \"Completed\", \"run_type\": \"azureml.scriptrun\", \"training_percent\": \"100\", \"start_time\": \"2021-02-08T06:18:44.341954Z\", \"end_time\": \"2021-02-08T06:19:44.651938Z\", \"created_time\": \"2021-02-08T06:18:26.155425Z\", \"created_time_dt\": \"2021-02-08T06:18:26.155425Z\", \"duration\": \"0:01:18\", \"iteration\": \"2\", \"goal\": \"accuracy_max\", \"run_name\": \"MaxAbsScaler, RandomForest\", \"run_properties\": \"copy=True\", \"primary_metric\": 0.77273202, \"best_metric\": 0.79669068}, {\"run_id\": \"AutoML_14a5f20c-4824-4e9b-9277-358463cc13f6_5\", \"run_number\": 9, \"metric\": null, \"status\": \"Completed\", \"run_type\": \"azureml.scriptrun\", \"training_percent\": \"100\", \"start_time\": \"2021-02-08T06:20:03.345002Z\", \"end_time\": \"2021-02-08T06:21:11.116001Z\", \"created_time\": \"2021-02-08T06:19:48.264933Z\", \"created_time_dt\": \"2021-02-08T06:19:48.264933Z\", \"duration\": \"0:01:22\", \"iteration\": \"5\", \"goal\": \"accuracy_max\", \"run_name\": \"MaxAbsScaler, RandomForest\", \"run_properties\": \"copy=True\", \"primary_metric\": 0.69245224, \"best_metric\": 0.79669068}, {\"run_id\": \"AutoML_14a5f20c-4824-4e9b-9277-358463cc13f6_4\", \"run_number\": 10, \"metric\": null, \"status\": \"Completed\", \"run_type\": \"azureml.scriptrun\", \"training_percent\": \"100\", \"start_time\": \"2021-02-08T06:20:00.423095Z\", \"end_time\": \"2021-02-08T06:20:57.879543Z\", \"created_time\": \"2021-02-08T06:19:48.285846Z\", \"created_time_dt\": \"2021-02-08T06:19:48.285846Z\", \"duration\": \"0:01:09\", \"iteration\": \"4\", \"goal\": \"accuracy_max\", \"run_name\": \"MaxAbsScaler, RandomForest\", \"run_properties\": \"copy=True\", \"primary_metric\": 0.7540975, \"best_metric\": 0.79669068}, {\"run_id\": \"AutoML_14a5f20c-4824-4e9b-9277-358463cc13f6_6\", \"run_number\": 11, \"metric\": null, \"status\": \"Completed\", \"run_type\": \"azureml.scriptrun\", \"training_percent\": \"100\", \"start_time\": \"2021-02-08T06:20:15.649558Z\", \"end_time\": \"2021-02-08T06:21:29.017348Z\", \"created_time\": \"2021-02-08T06:20:04.104444Z\", \"created_time_dt\": \"2021-02-08T06:20:04.104444Z\", \"duration\": \"0:01:24\", \"iteration\": \"6\", \"goal\": \"accuracy_max\", \"run_name\": \"SparseNormalizer, XGBoostClassifier\", \"run_properties\": \"<azureml.automl.runtime.shared.model_wrappers.SparseNormalizer object at 0x7f2edc068358\", \"primary_metric\": 0.78087483, \"best_metric\": 0.79669068}, {\"run_id\": \"AutoML_14a5f20c-4824-4e9b-9277-358463cc13f6_7\", \"run_number\": 12, \"metric\": null, \"status\": \"Completed\", \"run_type\": \"azureml.scriptrun\", \"training_percent\": \"100\", \"start_time\": \"2021-02-08T06:20:17.091314Z\", \"end_time\": \"2021-02-08T06:21:19.802136Z\", \"created_time\": \"2021-02-08T06:20:04.241097Z\", \"created_time_dt\": \"2021-02-08T06:20:04.241097Z\", \"duration\": \"0:01:15\", \"iteration\": \"7\", \"goal\": \"accuracy_max\", \"run_name\": \"SparseNormalizer, XGBoostClassifier\", \"run_properties\": \"<azureml.automl.runtime.shared.model_wrappers.SparseNormalizer object at 0x7eff2e414f28\", \"primary_metric\": 0.78003967, \"best_metric\": 0.79669068}, {\"run_id\": \"AutoML_14a5f20c-4824-4e9b-9277-358463cc13f6_8\", \"run_number\": 13, \"metric\": null, \"status\": \"Completed\", \"run_type\": \"azureml.scriptrun\", \"training_percent\": \"100\", \"start_time\": \"2021-02-08T06:21:12.338337Z\", \"end_time\": \"2021-02-08T06:22:34.765174Z\", \"created_time\": \"2021-02-08T06:21:00.478856Z\", \"created_time_dt\": \"2021-02-08T06:21:00.478856Z\", \"duration\": \"0:01:34\", \"iteration\": \"8\", \"goal\": \"accuracy_max\", \"run_name\": \"SparseNormalizer, XGBoostClassifier\", \"run_properties\": \"<azureml.automl.runtime.shared.model_wrappers.SparseNormalizer object at 0x7f37831a74a8\", \"primary_metric\": 0.78254515, \"best_metric\": 0.79669068}, {\"run_id\": \"AutoML_14a5f20c-4824-4e9b-9277-358463cc13f6_9\", \"run_number\": 14, \"metric\": null, \"status\": \"Completed\", \"run_type\": \"azureml.scriptrun\", \"training_percent\": \"100\", \"start_time\": \"2021-02-08T06:21:23.912171Z\", \"end_time\": \"2021-02-08T06:22:21.159793Z\", \"created_time\": \"2021-02-08T06:21:13.264587Z\", \"created_time_dt\": \"2021-02-08T06:21:13.264587Z\", \"duration\": \"0:01:07\", \"iteration\": \"9\", \"goal\": \"accuracy_max\", \"run_name\": \"SparseNormalizer, XGBoostClassifier\", \"run_properties\": \"<azureml.automl.runtime.shared.model_wrappers.SparseNormalizer object at 0x7f86f589ac88\", \"primary_metric\": 0.78291053, \"best_metric\": 0.79669068}, {\"run_id\": \"AutoML_14a5f20c-4824-4e9b-9277-358463cc13f6_10\", \"run_number\": 15, \"metric\": null, \"status\": \"Completed\", \"run_type\": \"azureml.scriptrun\", \"training_percent\": \"100\", \"start_time\": \"2021-02-08T06:21:35.248602Z\", \"end_time\": \"2021-02-08T06:22:56.75322Z\", \"created_time\": \"2021-02-08T06:21:22.243063Z\", \"created_time_dt\": \"2021-02-08T06:21:22.243063Z\", \"duration\": \"0:01:34\", \"iteration\": \"10\", \"goal\": \"accuracy_max\", \"run_name\": \"MaxAbsScaler, RandomForest\", \"run_properties\": \"copy=True\", \"primary_metric\": 0.7562898, \"best_metric\": 0.79669068}, {\"run_id\": \"AutoML_14a5f20c-4824-4e9b-9277-358463cc13f6_11\", \"run_number\": 16, \"metric\": null, \"status\": \"Completed\", \"run_type\": \"azureml.scriptrun\", \"training_percent\": \"100\", \"start_time\": \"2021-02-08T06:21:43.597904Z\", \"end_time\": \"2021-02-08T06:22:40.048884Z\", \"created_time\": \"2021-02-08T06:21:32.53815Z\", \"created_time_dt\": \"2021-02-08T06:21:32.53815Z\", \"duration\": \"0:01:07\", \"iteration\": \"11\", \"goal\": \"accuracy_max\", \"run_name\": \"StandardScalerWrapper, RandomForest\", \"run_properties\": \"<azureml.automl.runtime.shared.model_wrappers.StandardScalerWrapper object at 0x7f082c557908\", \"primary_metric\": 0.77972649, \"best_metric\": 0.79669068}, {\"run_id\": \"AutoML_14a5f20c-4824-4e9b-9277-358463cc13f6_12\", \"run_number\": 17, \"metric\": null, \"status\": \"Completed\", \"run_type\": \"azureml.scriptrun\", \"training_percent\": \"100\", \"start_time\": \"2021-02-08T06:22:34.201053Z\", \"end_time\": \"2021-02-08T06:23:37.579303Z\", \"created_time\": \"2021-02-08T06:22:23.790256Z\", \"created_time_dt\": \"2021-02-08T06:22:23.790256Z\", \"duration\": \"0:01:13\", \"iteration\": \"12\", \"goal\": \"accuracy_max\", \"run_name\": \"MaxAbsScaler, RandomForest\", \"run_properties\": \"copy=True\", \"primary_metric\": 0.78233636, \"best_metric\": 0.79669068}, {\"run_id\": \"AutoML_14a5f20c-4824-4e9b-9277-358463cc13f6_13\", \"run_number\": 18, \"metric\": null, \"status\": \"Completed\", \"run_type\": \"azureml.scriptrun\", \"training_percent\": \"100\", \"start_time\": \"2021-02-08T06:22:48.964773Z\", \"end_time\": \"2021-02-08T06:23:43.472944Z\", \"created_time\": \"2021-02-08T06:22:37.016571Z\", \"created_time_dt\": \"2021-02-08T06:22:37.016571Z\", \"duration\": \"0:01:06\", \"iteration\": \"13\", \"goal\": \"accuracy_max\", \"run_name\": \"SparseNormalizer, XGBoostClassifier\", \"run_properties\": \"<azureml.automl.runtime.shared.model_wrappers.SparseNormalizer object at 0x7fa94178b0f0\", \"primary_metric\": 0.75675958, \"best_metric\": 0.79669068}, {\"run_id\": \"AutoML_14a5f20c-4824-4e9b-9277-358463cc13f6_14\", \"run_number\": 19, \"metric\": null, \"status\": \"Completed\", \"run_type\": \"azureml.scriptrun\", \"training_percent\": \"100\", \"start_time\": \"2021-02-08T06:22:53.619119Z\", \"end_time\": \"2021-02-08T06:23:55.036138Z\", \"created_time\": \"2021-02-08T06:22:42.282983Z\", \"created_time_dt\": \"2021-02-08T06:22:42.282983Z\", \"duration\": \"0:01:12\", \"iteration\": \"14\", \"goal\": \"accuracy_max\", \"run_name\": \"MaxAbsScaler, LogisticRegression\", \"run_properties\": \"copy=True\", \"primary_metric\": 0.77221004, \"best_metric\": 0.79669068}, {\"run_id\": \"AutoML_14a5f20c-4824-4e9b-9277-358463cc13f6_15\", \"run_number\": 20, \"metric\": null, \"status\": \"Completed\", \"run_type\": \"azureml.scriptrun\", \"training_percent\": \"100\", \"start_time\": \"2021-02-08T06:23:10.625083Z\", \"end_time\": \"2021-02-08T06:24:22.943241Z\", \"created_time\": \"2021-02-08T06:22:59.159603Z\", \"created_time_dt\": \"2021-02-08T06:22:59.159603Z\", \"duration\": \"0:01:23\", \"iteration\": \"15\", \"goal\": \"accuracy_max\", \"run_name\": \"StandardScalerWrapper, LogisticRegression\", \"run_properties\": \"<azureml.automl.runtime.shared.model_wrappers.StandardScalerWrapper object at 0x7f2144399d30\", \"primary_metric\": 0.77367157, \"best_metric\": 0.79669068}, {\"run_id\": \"AutoML_14a5f20c-4824-4e9b-9277-358463cc13f6_16\", \"run_number\": 21, \"metric\": null, \"status\": \"Completed\", \"run_type\": \"azureml.scriptrun\", \"training_percent\": \"100\", \"start_time\": \"2021-02-08T06:23:53.338005Z\", \"end_time\": \"2021-02-08T06:25:07.589892Z\", \"created_time\": \"2021-02-08T06:23:39.843703Z\", \"created_time_dt\": \"2021-02-08T06:23:39.843703Z\", \"duration\": \"0:01:27\", \"iteration\": \"16\", \"goal\": \"accuracy_max\", \"run_name\": \"MaxAbsScaler, LightGBM\", \"run_properties\": \"copy=True\", \"primary_metric\": 0.77586387, \"best_metric\": 0.79669068}, {\"run_id\": \"AutoML_14a5f20c-4824-4e9b-9277-358463cc13f6_17\", \"run_number\": 22, \"metric\": null, \"status\": \"Completed\", \"run_type\": \"azureml.scriptrun\", \"training_percent\": \"100\", \"start_time\": \"2021-02-08T06:23:55.509004Z\", \"end_time\": \"2021-02-08T06:25:07.604734Z\", \"created_time\": \"2021-02-08T06:23:45.504431Z\", \"created_time_dt\": \"2021-02-08T06:23:45.504431Z\", \"duration\": \"0:01:22\", \"iteration\": \"17\", \"goal\": \"accuracy_max\", \"run_name\": \"MaxAbsScaler, LogisticRegression\", \"run_properties\": \"copy=True\", \"primary_metric\": 0.77388036, \"best_metric\": 0.79669068}, {\"run_id\": \"AutoML_14a5f20c-4824-4e9b-9277-358463cc13f6_18\", \"run_number\": 23, \"metric\": null, \"status\": \"Completed\", \"run_type\": \"azureml.scriptrun\", \"training_percent\": \"100\", \"start_time\": \"2021-02-08T06:24:09.743424Z\", \"end_time\": \"2021-02-08T06:25:07.648416Z\", \"created_time\": \"2021-02-08T06:23:57.722699Z\", \"created_time_dt\": \"2021-02-08T06:23:57.722699Z\", \"duration\": \"0:01:09\", \"iteration\": \"18\", \"goal\": \"accuracy_max\", \"run_name\": \"SparseNormalizer, LightGBM\", \"run_properties\": \"<azureml.automl.runtime.shared.model_wrappers.SparseNormalizer object at 0x7f86808b90b8\", \"primary_metric\": 0.76735567, \"best_metric\": 0.79669068}, {\"run_id\": \"AutoML_14a5f20c-4824-4e9b-9277-358463cc13f6_19\", \"run_number\": 24, \"metric\": null, \"status\": \"Completed\", \"run_type\": \"azureml.scriptrun\", \"training_percent\": \"100\", \"start_time\": \"2021-02-08T06:24:38.257529Z\", \"end_time\": \"2021-02-08T06:25:39.20687Z\", \"created_time\": \"2021-02-08T06:24:25.14114Z\", \"created_time_dt\": \"2021-02-08T06:24:25.14114Z\", \"duration\": \"0:01:14\", \"iteration\": \"19\", \"goal\": \"accuracy_max\", \"run_name\": \"SparseNormalizer, XGBoostClassifier\", \"run_properties\": \"<azureml.automl.runtime.shared.model_wrappers.SparseNormalizer object at 0x7fb41be7c8d0\", \"primary_metric\": 0.7794133, \"best_metric\": 0.79669068}, {\"run_id\": \"AutoML_14a5f20c-4824-4e9b-9277-358463cc13f6_22\", \"run_number\": 25, \"metric\": null, \"status\": \"Completed\", \"run_type\": \"azureml.scriptrun\", \"training_percent\": \"100\", \"start_time\": \"2021-02-08T06:25:24.371193Z\", \"end_time\": \"2021-02-08T06:26:29.517076Z\", \"created_time\": \"2021-02-08T06:25:11.255122Z\", \"created_time_dt\": \"2021-02-08T06:25:11.255122Z\", \"duration\": \"0:01:18\", \"iteration\": \"22\", \"goal\": \"accuracy_max\", \"run_name\": \"StandardScalerWrapper, LightGBM\", \"run_properties\": \"<azureml.automl.runtime.shared.model_wrappers.StandardScalerWrapper object at 0x7f5e537a12e8\", \"primary_metric\": 0.7940808, \"best_metric\": 0.79669068}, {\"run_id\": \"AutoML_14a5f20c-4824-4e9b-9277-358463cc13f6_21\", \"run_number\": 26, \"metric\": null, \"status\": \"Completed\", \"run_type\": \"azureml.scriptrun\", \"training_percent\": \"100\", \"start_time\": \"2021-02-08T06:25:25.478576Z\", \"end_time\": \"2021-02-08T06:26:29.743646Z\", \"created_time\": \"2021-02-08T06:25:11.289158Z\", \"created_time_dt\": \"2021-02-08T06:25:11.289158Z\", \"duration\": \"0:01:18\", \"iteration\": \"21\", \"goal\": \"accuracy_max\", \"run_name\": \"SparseNormalizer, XGBoostClassifier\", \"run_properties\": \"<azureml.automl.runtime.shared.model_wrappers.SparseNormalizer object at 0x7fc9e03a8da0\", \"primary_metric\": 0.77894352, \"best_metric\": 0.79669068}, {\"run_id\": \"AutoML_14a5f20c-4824-4e9b-9277-358463cc13f6_20\", \"run_number\": 27, \"metric\": null, \"status\": \"Completed\", \"run_type\": \"azureml.scriptrun\", \"training_percent\": \"100\", \"start_time\": \"2021-02-08T06:25:22.822488Z\", \"end_time\": \"2021-02-08T06:26:31.005918Z\", \"created_time\": \"2021-02-08T06:25:11.325289Z\", \"created_time_dt\": \"2021-02-08T06:25:11.325289Z\", \"duration\": \"0:01:19\", \"iteration\": \"20\", \"goal\": \"accuracy_max\", \"run_name\": \"MaxAbsScaler, LightGBM\", \"run_properties\": \"copy=True\", \"primary_metric\": 0.79324564, \"best_metric\": 0.79669068}, {\"run_id\": \"AutoML_14a5f20c-4824-4e9b-9277-358463cc13f6_23\", \"run_number\": 28, \"metric\": null, \"status\": \"Completed\", \"run_type\": \"azureml.scriptrun\", \"training_percent\": \"100\", \"start_time\": \"2021-02-08T06:25:58.508966Z\", \"end_time\": \"2021-02-08T06:27:03.377045Z\", \"created_time\": \"2021-02-08T06:25:41.524634Z\", \"created_time_dt\": \"2021-02-08T06:25:41.524634Z\", \"duration\": \"0:01:21\", \"iteration\": \"23\", \"goal\": \"accuracy_max\", \"run_name\": \"SparseNormalizer, XGBoostClassifier\", \"run_properties\": \"<azureml.automl.runtime.shared.model_wrappers.SparseNormalizer object at 0x7f4a28699940\", \"primary_metric\": 0.77988308, \"best_metric\": 0.79669068}, {\"run_id\": \"AutoML_14a5f20c-4824-4e9b-9277-358463cc13f6_24\", \"run_number\": 29, \"metric\": null, \"status\": \"Completed\", \"run_type\": \"azureml.scriptrun\", \"training_percent\": \"100\", \"start_time\": \"2021-02-08T06:26:47.766159Z\", \"end_time\": \"2021-02-08T06:27:49.822183Z\", \"created_time\": \"2021-02-08T06:26:33.769821Z\", \"created_time_dt\": \"2021-02-08T06:26:33.769821Z\", \"duration\": \"0:01:16\", \"iteration\": \"24\", \"goal\": \"accuracy_max\", \"run_name\": \"StandardScalerWrapper, LightGBM\", \"run_properties\": \"<azureml.automl.runtime.shared.model_wrappers.StandardScalerWrapper object at 0x7fb009bce6d8\", \"primary_metric\": 0.75065247, \"best_metric\": 0.79669068}, {\"run_id\": \"AutoML_14a5f20c-4824-4e9b-9277-358463cc13f6_25\", \"run_number\": 30, \"metric\": null, \"status\": \"Completed\", \"run_type\": \"azureml.scriptrun\", \"training_percent\": \"100\", \"start_time\": \"2021-02-08T06:26:45.906363Z\", \"end_time\": \"2021-02-08T06:27:55.073084Z\", \"created_time\": \"2021-02-08T06:26:33.988128Z\", \"created_time_dt\": \"2021-02-08T06:26:33.988128Z\", \"duration\": \"0:01:21\", \"iteration\": \"25\", \"goal\": \"accuracy_max\", \"run_name\": \"StandardScalerWrapper, ExtremeRandomTrees\", \"run_properties\": \"<azureml.automl.runtime.shared.model_wrappers.StandardScalerWrapper object at 0x7fa056873b70\", \"primary_metric\": 0.75065247, \"best_metric\": 0.79669068}, {\"run_id\": \"AutoML_14a5f20c-4824-4e9b-9277-358463cc13f6_26\", \"run_number\": 31, \"metric\": null, \"status\": \"Completed\", \"run_type\": \"azureml.scriptrun\", \"training_percent\": \"100\", \"start_time\": \"2021-02-08T06:26:51.962235Z\", \"end_time\": \"2021-02-08T06:27:57.542075Z\", \"created_time\": \"2021-02-08T06:26:40.185867Z\", \"created_time_dt\": \"2021-02-08T06:26:40.185867Z\", \"duration\": \"0:01:17\", \"iteration\": \"26\", \"goal\": \"accuracy_max\", \"run_name\": \"StandardScalerWrapper, RandomForest\", \"run_properties\": \"<azureml.automl.runtime.shared.model_wrappers.StandardScalerWrapper object at 0x7f1096fbea20\", \"primary_metric\": 0.75268817, \"best_metric\": 0.79669068}, {\"run_id\": \"AutoML_14a5f20c-4824-4e9b-9277-358463cc13f6_27\", \"run_number\": 32, \"metric\": null, \"status\": \"Completed\", \"run_type\": \"azureml.scriptrun\", \"training_percent\": \"100\", \"start_time\": \"2021-02-08T06:27:19.085045Z\", \"end_time\": \"2021-02-08T06:28:14.413696Z\", \"created_time\": \"2021-02-08T06:27:05.612285Z\", \"created_time_dt\": \"2021-02-08T06:27:05.612285Z\", \"duration\": \"0:01:08\", \"iteration\": \"27\", \"goal\": \"accuracy_max\", \"run_name\": \"StandardScalerWrapper, LightGBM\", \"run_properties\": \"<azureml.automl.runtime.shared.model_wrappers.StandardScalerWrapper object at 0x7f43e45542b0\", \"primary_metric\": 0.78416327, \"best_metric\": 0.79669068}, {\"run_id\": \"AutoML_14a5f20c-4824-4e9b-9277-358463cc13f6_28\", \"run_number\": 33, \"metric\": null, \"status\": \"Completed\", \"run_type\": \"azureml.scriptrun\", \"training_percent\": \"100\", \"start_time\": \"2021-02-08T06:28:06.211719Z\", \"end_time\": \"2021-02-08T06:29:08.952815Z\", \"created_time\": \"2021-02-08T06:27:53.007967Z\", \"created_time_dt\": \"2021-02-08T06:27:53.007967Z\", \"duration\": \"0:01:15\", \"iteration\": \"28\", \"goal\": \"accuracy_max\", \"run_name\": \"SparseNormalizer, RandomForest\", \"run_properties\": \"<azureml.automl.runtime.shared.model_wrappers.SparseNormalizer object at 0x7f8b2951e7f0\", \"primary_metric\": 0.75065247, \"best_metric\": 0.79669068}, {\"run_id\": \"AutoML_14a5f20c-4824-4e9b-9277-358463cc13f6_29\", \"run_number\": 34, \"metric\": null, \"status\": \"Completed\", \"run_type\": \"azureml.scriptrun\", \"training_percent\": \"100\", \"start_time\": \"2021-02-08T06:28:10.49161Z\", \"end_time\": \"2021-02-08T06:29:56.892944Z\", \"created_time\": \"2021-02-08T06:27:57.876987Z\", \"created_time_dt\": \"2021-02-08T06:27:57.876987Z\", \"duration\": \"0:01:59\", \"iteration\": \"29\", \"goal\": \"accuracy_max\", \"run_name\": \"SparseNormalizer, XGBoostClassifier\", \"run_properties\": \"<azureml.automl.runtime.shared.model_wrappers.SparseNormalizer object at 0x7fa7683470b8\", \"primary_metric\": 0.77831715, \"best_metric\": 0.79669068}, {\"run_id\": \"AutoML_14a5f20c-4824-4e9b-9277-358463cc13f6_30\", \"run_number\": 35, \"metric\": null, \"status\": \"Completed\", \"run_type\": \"azureml.scriptrun\", \"training_percent\": \"100\", \"start_time\": \"2021-02-08T06:28:20.162056Z\", \"end_time\": \"2021-02-08T06:29:22.099196Z\", \"created_time\": \"2021-02-08T06:28:03.592065Z\", \"created_time_dt\": \"2021-02-08T06:28:03.592065Z\", \"duration\": \"0:01:18\", \"iteration\": \"30\", \"goal\": \"accuracy_max\", \"run_name\": \"SparseNormalizer, LightGBM\", \"run_properties\": \"<azureml.automl.runtime.shared.model_wrappers.SparseNormalizer object at 0x7f5d846cd5c0\", \"primary_metric\": 0.75065247, \"best_metric\": 0.79669068}, {\"run_id\": \"AutoML_14a5f20c-4824-4e9b-9277-358463cc13f6_31\", \"run_number\": 36, \"metric\": null, \"status\": \"Completed\", \"run_type\": \"azureml.scriptrun\", \"training_percent\": \"100\", \"start_time\": \"2021-02-08T06:28:29.441324Z\", \"end_time\": \"2021-02-08T06:29:26.539422Z\", \"created_time\": \"2021-02-08T06:28:16.474782Z\", \"created_time_dt\": \"2021-02-08T06:28:16.474782Z\", \"duration\": \"0:01:10\", \"iteration\": \"31\", \"goal\": \"accuracy_max\", \"run_name\": \"StandardScalerWrapper, LightGBM\", \"run_properties\": \"<azureml.automl.runtime.shared.model_wrappers.StandardScalerWrapper object at 0x7fad487c4860\", \"primary_metric\": 0.79601211, \"best_metric\": 0.79669068}, {\"run_id\": \"AutoML_14a5f20c-4824-4e9b-9277-358463cc13f6_32\", \"run_number\": 37, \"metric\": null, \"status\": \"Completed\", \"run_type\": \"azureml.scriptrun\", \"training_percent\": \"100\", \"start_time\": \"2021-02-08T06:29:27.522676Z\", \"end_time\": \"2021-02-08T06:30:24.256164Z\", \"created_time\": \"2021-02-08T06:29:11.689118Z\", \"created_time_dt\": \"2021-02-08T06:29:11.689118Z\", \"duration\": \"0:01:12\", \"iteration\": \"32\", \"goal\": \"accuracy_max\", \"run_name\": \"SparseNormalizer, LightGBM\", \"run_properties\": \"<azureml.automl.runtime.shared.model_wrappers.SparseNormalizer object at 0x7fce293028d0\", \"primary_metric\": 0.75811671, \"best_metric\": 0.79669068}, {\"run_id\": \"AutoML_14a5f20c-4824-4e9b-9277-358463cc13f6_33\", \"run_number\": 38, \"metric\": null, \"status\": \"Canceled\", \"run_type\": \"azureml.scriptrun\", \"training_percent\": \"100\", \"start_time\": \"2021-02-08T06:29:38.105235Z\", \"end_time\": \"2021-02-08T06:30:32.844956Z\", \"created_time\": \"2021-02-08T06:29:24.635906Z\", \"created_time_dt\": \"2021-02-08T06:29:24.635906Z\", \"duration\": \"0:01:08\", \"iteration\": \"33\", \"goal\": \"accuracy_max\", \"run_name\": \"StandardScalerWrapper, XGBoostClassifier\", \"run_properties\": \"<azureml.automl.runtime.shared.model_wrappers.StandardScalerWrapper object at 0x7fd0be90a358\", \"primary_metric\": 0.78437206, \"best_metric\": 0.79669068}, {\"run_id\": \"AutoML_14a5f20c-4824-4e9b-9277-358463cc13f6_34\", \"run_number\": 39, \"metric\": null, \"status\": \"Canceled\", \"run_type\": \"azureml.scriptrun\", \"training_percent\": \"100\", \"start_time\": \"2021-02-08T06:29:41.109347Z\", \"end_time\": \"2021-02-08T06:30:34.364572Z\", \"created_time\": \"2021-02-08T06:29:29.254618Z\", \"created_time_dt\": \"2021-02-08T06:29:29.254618Z\", \"duration\": \"0:01:05\", \"iteration\": \"34\", \"goal\": null, \"run_name\": \"SparseNormalizer, XGBoostClassifier\", \"run_properties\": null}, {\"run_id\": \"AutoML_14a5f20c-4824-4e9b-9277-358463cc13f6_35\", \"run_number\": 40, \"metric\": null, \"status\": \"Canceled\", \"run_type\": \"azureml.scriptrun\", \"training_percent\": \"100\", \"start_time\": \"2021-02-08T06:30:11.457633Z\", \"end_time\": \"2021-02-08T06:30:33.132023Z\", \"created_time\": \"2021-02-08T06:30:00.361559Z\", \"created_time_dt\": \"2021-02-08T06:30:00.361559Z\", \"duration\": \"0:00:32\", \"iteration\": \"35\", \"goal\": null, \"run_name\": \"Canceled\", \"run_properties\": null}, {\"run_id\": \"AutoML_14a5f20c-4824-4e9b-9277-358463cc13f6_36\", \"run_number\": 41, \"metric\": null, \"status\": \"Completed\", \"run_type\": \"azureml.scriptrun\", \"training_percent\": \"100\", \"start_time\": \"2021-02-08T06:30:51.747245Z\", \"end_time\": \"2021-02-08T06:33:00.594632Z\", \"created_time\": \"2021-02-08T06:30:35.951897Z\", \"created_time_dt\": \"2021-02-08T06:30:35.951897Z\", \"duration\": \"0:02:24\", \"iteration\": \"36\", \"goal\": \"accuracy_max\", \"run_name\": \"VotingEnsemble\", \"run_properties\": \"classification_labels=None,\\n                              estimators=[('0',\\n                                           Pipeline(memory=None,\\n                                                    steps=[('maxabsscaler',\\n                                                            MaxAbsScaler(copy=True\", \"primary_metric\": 0.80170164, \"best_metric\": 0.80170164}, {\"run_id\": \"AutoML_14a5f20c-4824-4e9b-9277-358463cc13f6_37\", \"run_number\": 42, \"metric\": null, \"status\": \"Completed\", \"run_type\": \"azureml.scriptrun\", \"training_percent\": \"100\", \"start_time\": \"2021-02-08T06:30:50.256086Z\", \"end_time\": \"2021-02-08T06:32:59.157027Z\", \"created_time\": \"2021-02-08T06:30:36.119241Z\", \"created_time_dt\": \"2021-02-08T06:30:36.119241Z\", \"duration\": \"0:02:23\", \"iteration\": \"37\", \"goal\": \"accuracy_max\", \"run_name\": \"StackEnsemble\", \"run_properties\": \"base_learners=[('0',\\n                                        Pipeline(memory=None,\\n                                                 steps=[('maxabsscaler',\\n                                                         MaxAbsScaler(copy=True\", \"primary_metric\": 0.79726485, \"best_metric\": 0.80170164}], \"children_metrics\": {\"categories\": [0], \"series\": {\"precision_score_weighted\": [{\"categories\": [\"0\", \"1\", \"2\", \"3\", \"4\", \"5\", \"6\", \"7\", \"8\", \"9\", \"10\", \"11\", \"12\", \"13\", \"14\", \"15\", \"16\", \"17\", \"18\", \"19\", \"20\", \"21\", \"22\", \"23\", \"24\", \"25\", \"26\", \"27\", \"28\", \"29\", \"30\", \"31\", \"32\", \"33\", \"36\", \"37\"], \"mode\": \"markers\", \"name\": \"precision_score_weighted\", \"stepped\": false, \"type\": \"scatter\", \"data\": [0.7953768179739805, 0.7875824295873267, 0.7475789209311294, 0.7360062560340075, 0.8044088723656876, 0.7859480400698647, 0.7650542976196232, 0.7694239686863314, 0.7689451088223729, 0.7718780580676885, 0.7259815405543333, 0.7599400230462523, 0.7657971046854793, 0.7211817773611097, 0.7456777450085159, 0.7481157527715468, 0.7507294445190329, 0.7484801900514823, 0.7382950844417403, 0.7634069659069862, 0.7865576965945502, 0.7651655505670835, 0.7896360783310993, 0.7650134422195757, 0.563536326250263, 0.563536326250263, 0.683968367889238, 0.7686054272711758, 0.563536326250263, 0.7641474617949294, 0.563536326250263, 0.7944549884296417, 0.7247592908527908, 0.7818421178894863, 0.8080207450574403, 0.7960546251931927]}, {\"categories\": [\"0\", \"1\", \"2\", \"3\", \"4\", \"5\", \"6\", \"7\", \"8\", \"9\", \"10\", \"11\", \"12\", \"13\", \"14\", \"15\", \"16\", \"17\", \"18\", \"19\", \"20\", \"21\", \"22\", \"23\", \"24\", \"25\", \"26\", \"27\", \"28\", \"29\", \"30\", \"31\", \"32\", \"33\", \"36\", \"37\"], \"mode\": \"lines\", \"name\": \"precision_score_weighted_max\", \"stepped\": true, \"type\": \"scatter\", \"data\": [0.7953768179739805, 0.7953768179739805, 0.7953768179739805, 0.7953768179739805, 0.8044088723656876, 0.8044088723656876, 0.8044088723656876, 0.8044088723656876, 0.8044088723656876, 0.8044088723656876, 0.8044088723656876, 0.8044088723656876, 0.8044088723656876, 0.8044088723656876, 0.8044088723656876, 0.8044088723656876, 0.8044088723656876, 0.8044088723656876, 0.8044088723656876, 0.8044088723656876, 0.8044088723656876, 0.8044088723656876, 0.8044088723656876, 0.8044088723656876, 0.8044088723656876, 0.8044088723656876, 0.8044088723656876, 0.8044088723656876, 0.8044088723656876, 0.8044088723656876, 0.8044088723656876, 0.8044088723656876, 0.8044088723656876, 0.8044088723656876, 0.8080207450574403, 0.8080207450574403]}], \"AUC_weighted\": [{\"categories\": [\"0\", \"1\", \"2\", \"3\", \"4\", \"5\", \"6\", \"7\", \"8\", \"9\", \"10\", \"11\", \"12\", \"13\", \"14\", \"15\", \"16\", \"17\", \"18\", \"19\", \"20\", \"21\", \"22\", \"23\", \"24\", \"25\", \"26\", \"27\", \"28\", \"29\", \"30\", \"31\", \"32\", \"33\", \"36\", \"37\"], \"mode\": \"markers\", \"name\": \"AUC_weighted\", \"stepped\": false, \"type\": \"scatter\", \"data\": [0.7996074621462127, 0.7988399095313269, 0.7897482191783453, 0.7777465030324816, 0.792796566556293, 0.7730192200635488, 0.791538542442631, 0.7867025024107628, 0.7917685312256836, 0.7903073781801297, 0.7871261486930101, 0.7935071838866422, 0.7893937705049409, 0.7626997538335004, 0.7868849165874644, 0.7868442999700145, 0.7942002354055631, 0.7867678363822894, 0.7768399047371769, 0.7862805187219885, 0.798005709284939, 0.7899263276993879, 0.7983076030618742, 0.7886461710609937, 0.7783984056599437, 0.7833937356541941, 0.7881236114578454, 0.7928498515598325, 0.7733323294539304, 0.7859483674886419, 0.7856769423583766, 0.801315608898434, 0.7797048826982537, 0.7969592524179722, 0.799444245011999, 0.802495882894484]}, {\"categories\": [\"0\", \"1\", \"2\", \"3\", \"4\", \"5\", \"6\", \"7\", \"8\", \"9\", \"10\", \"11\", \"12\", \"13\", \"14\", \"15\", \"16\", \"17\", \"18\", \"19\", \"20\", \"21\", \"22\", \"23\", \"24\", \"25\", \"26\", \"27\", \"28\", \"29\", \"30\", \"31\", \"32\", \"33\", \"36\", \"37\"], \"mode\": \"lines\", \"name\": \"AUC_weighted_max\", \"stepped\": true, \"type\": \"scatter\", \"data\": [0.7996074621462127, 0.7996074621462127, 0.7996074621462127, 0.7996074621462127, 0.7996074621462127, 0.7996074621462127, 0.7996074621462127, 0.7996074621462127, 0.7996074621462127, 0.7996074621462127, 0.7996074621462127, 0.7996074621462127, 0.7996074621462127, 0.7996074621462127, 0.7996074621462127, 0.7996074621462127, 0.7996074621462127, 0.7996074621462127, 0.7996074621462127, 0.7996074621462127, 0.7996074621462127, 0.7996074621462127, 0.7996074621462127, 0.7996074621462127, 0.7996074621462127, 0.7996074621462127, 0.7996074621462127, 0.7996074621462127, 0.7996074621462127, 0.7996074621462127, 0.7996074621462127, 0.801315608898434, 0.801315608898434, 0.801315608898434, 0.801315608898434, 0.802495882894484]}], \"precision_score_macro\": [{\"categories\": [\"0\", \"1\", \"2\", \"3\", \"4\", \"5\", \"6\", \"7\", \"8\", \"9\", \"10\", \"11\", \"12\", \"13\", \"14\", \"15\", \"16\", \"17\", \"18\", \"19\", \"20\", \"21\", \"22\", \"23\", \"24\", \"25\", \"26\", \"27\", \"28\", \"29\", \"30\", \"31\", \"32\", \"33\", \"36\", \"37\"], \"mode\": \"markers\", \"name\": \"precision_score_macro\", \"stepped\": false, \"type\": \"scatter\", \"data\": [0.7283224426213049, 0.7226091191324254, 0.7001652753832733, 0.6947028198425335, 0.7043764168456718, 0.668746289270147, 0.7038644065991265, 0.7028845356948245, 0.7065482878075237, 0.7073276823765852, 0.691860903793455, 0.703172467278575, 0.7065088209232648, 0.6754154497505618, 0.6924210597849565, 0.6952504671691928, 0.6997255378999654, 0.6955470993171922, 0.6855516456718024, 0.7018808771380525, 0.7229748525912646, 0.7008405757462398, 0.724319856035753, 0.7022416892805232, 0.3753262344712392, 0.3753262344712392, 0.6112444125650357, 0.7098197046811859, 0.3753262344712392, 0.6997856219643931, 0.3753262344712392, 0.7273873354347122, 0.6858627083495742, 0.7112102650013675, 0.7365992963891689, 0.7292274992586029]}, {\"categories\": [\"0\", \"1\", \"2\", \"3\", \"4\", \"5\", \"6\", \"7\", \"8\", \"9\", \"10\", \"11\", \"12\", \"13\", \"14\", \"15\", \"16\", \"17\", \"18\", \"19\", \"20\", \"21\", \"22\", \"23\", \"24\", \"25\", \"26\", \"27\", \"28\", \"29\", \"30\", \"31\", \"32\", \"33\", \"36\", \"37\"], \"mode\": \"lines\", \"name\": \"precision_score_macro_max\", \"stepped\": true, \"type\": \"scatter\", \"data\": [0.7283224426213049, 0.7283224426213049, 0.7283224426213049, 0.7283224426213049, 0.7283224426213049, 0.7283224426213049, 0.7283224426213049, 0.7283224426213049, 0.7283224426213049, 0.7283224426213049, 0.7283224426213049, 0.7283224426213049, 0.7283224426213049, 0.7283224426213049, 0.7283224426213049, 0.7283224426213049, 0.7283224426213049, 0.7283224426213049, 0.7283224426213049, 0.7283224426213049, 0.7283224426213049, 0.7283224426213049, 0.7283224426213049, 0.7283224426213049, 0.7283224426213049, 0.7283224426213049, 0.7283224426213049, 0.7283224426213049, 0.7283224426213049, 0.7283224426213049, 0.7283224426213049, 0.7283224426213049, 0.7283224426213049, 0.7283224426213049, 0.7365992963891689, 0.7365992963891689]}], \"norm_macro_recall\": [{\"categories\": [\"0\", \"1\", \"2\", \"3\", \"4\", \"5\", \"6\", \"7\", \"8\", \"9\", \"10\", \"11\", \"12\", \"13\", \"14\", \"15\", \"16\", \"17\", \"18\", \"19\", \"20\", \"21\", \"22\", \"23\", \"24\", \"25\", \"26\", \"27\", \"28\", \"29\", \"30\", \"31\", \"32\", \"33\", \"36\", \"37\"], \"mode\": \"markers\", \"name\": \"norm_macro_recall\", \"stepped\": false, \"type\": \"scatter\", \"data\": [0.44966511099881856, 0.4184143806520753, 0.2066408633994817, 0.1261558151810818, 0.5109464845845626, 0.4463201312673611, 0.327102774717063, 0.35853523682312843, 0.34494291585250036, 0.3615773199805079, 0.04856930411701199, 0.2938244444162593, 0.3241855546696463, 0.07896109903745337, 0.22331308338926423, 0.23181949191824602, 0.2361578243177033, 0.23362422194043495, 0.18908179310339965, 0.3214038640478109, 0.41138819191826004, 0.3370595352698178, 0.4261290095613943, 0.33199079974792967, 0.0, 0.0, 0.0232953497650763, 0.33274453775325696, 0.0, 0.3333170877048513, 0.0, 0.4463059030571745, 0.0665614709774679, 0.4111057412215588, 0.4995857773686345, 0.45135208326896564]}, {\"categories\": [\"0\", \"1\", \"2\", \"3\", \"4\", \"5\", \"6\", \"7\", \"8\", \"9\", \"10\", \"11\", \"12\", \"13\", \"14\", \"15\", \"16\", \"17\", \"18\", \"19\", \"20\", \"21\", \"22\", \"23\", \"24\", \"25\", \"26\", \"27\", \"28\", \"29\", \"30\", \"31\", \"32\", \"33\", \"36\", \"37\"], \"mode\": \"lines\", \"name\": \"norm_macro_recall_max\", \"stepped\": true, \"type\": \"scatter\", \"data\": [0.44966511099881856, 0.44966511099881856, 0.44966511099881856, 0.44966511099881856, 0.5109464845845626, 0.5109464845845626, 0.5109464845845626, 0.5109464845845626, 0.5109464845845626, 0.5109464845845626, 0.5109464845845626, 0.5109464845845626, 0.5109464845845626, 0.5109464845845626, 0.5109464845845626, 0.5109464845845626, 0.5109464845845626, 0.5109464845845626, 0.5109464845845626, 0.5109464845845626, 0.5109464845845626, 0.5109464845845626, 0.5109464845845626, 0.5109464845845626, 0.5109464845845626, 0.5109464845845626, 0.5109464845845626, 0.5109464845845626, 0.5109464845845626, 0.5109464845845626, 0.5109464845845626, 0.5109464845845626, 0.5109464845845626, 0.5109464845845626, 0.5109464845845626, 0.5109464845845626]}], \"log_loss\": [{\"categories\": [\"0\", \"1\", \"2\", \"3\", \"4\", \"5\", \"6\", \"7\", \"8\", \"9\", \"10\", \"11\", \"12\", \"13\", \"14\", \"15\", \"16\", \"17\", \"18\", \"19\", \"20\", \"21\", \"22\", \"23\", \"24\", \"25\", \"26\", \"27\", \"28\", \"29\", \"30\", \"31\", \"32\", \"33\", \"36\", \"37\"], \"mode\": \"markers\", \"name\": \"log_loss\", \"stepped\": false, \"type\": \"scatter\", \"data\": [0.43824126799347396, 0.43882521179032835, 0.46263324625625407, 0.47588133725819565, 0.5547452646226597, 0.5908974995848499, 0.4503411519721005, 0.4539870034779321, 0.4506043939244591, 0.4946914675857101, 0.47454161951131596, 0.4509135943553854, 0.45050049669767667, 0.522995181033, 0.4635827076873303, 0.46356536856264347, 0.45799998056563423, 0.46363849317650013, 0.46725731485617356, 0.4578782692494316, 0.43968342920214293, 0.4544982134839006, 0.43904546948232964, 0.4540098291309525, 0.5453051016640047, 0.4876201400640163, 0.4723817130713253, 0.448202720131365, 0.4851365276367023, 0.46376411675901713, 0.5615921474775054, 0.43585640547778465, 0.4733263356376672, 0.48986146487501236, 0.457068908987813, 0.43564201108848644]}, {\"categories\": [\"0\", \"1\", \"2\", \"3\", \"4\", \"5\", \"6\", \"7\", \"8\", \"9\", \"10\", \"11\", \"12\", \"13\", \"14\", \"15\", \"16\", \"17\", \"18\", \"19\", \"20\", \"21\", \"22\", \"23\", \"24\", \"25\", \"26\", \"27\", \"28\", \"29\", \"30\", \"31\", \"32\", \"33\", \"36\", \"37\"], \"mode\": \"lines\", \"name\": \"log_loss_min\", \"stepped\": true, \"type\": \"scatter\", \"data\": [0.43824126799347396, 0.43824126799347396, 0.43824126799347396, 0.43824126799347396, 0.43824126799347396, 0.43824126799347396, 0.43824126799347396, 0.43824126799347396, 0.43824126799347396, 0.43824126799347396, 0.43824126799347396, 0.43824126799347396, 0.43824126799347396, 0.43824126799347396, 0.43824126799347396, 0.43824126799347396, 0.43824126799347396, 0.43824126799347396, 0.43824126799347396, 0.43824126799347396, 0.43824126799347396, 0.43824126799347396, 0.43824126799347396, 0.43824126799347396, 0.43824126799347396, 0.43824126799347396, 0.43824126799347396, 0.43824126799347396, 0.43824126799347396, 0.43824126799347396, 0.43824126799347396, 0.43585640547778465, 0.43585640547778465, 0.43585640547778465, 0.43585640547778465, 0.43564201108848644]}], \"average_precision_score_weighted\": [{\"categories\": [\"0\", \"1\", \"2\", \"3\", \"4\", \"5\", \"6\", \"7\", \"8\", \"9\", \"10\", \"11\", \"12\", \"13\", \"14\", \"15\", \"16\", \"17\", \"18\", \"19\", \"20\", \"21\", \"22\", \"23\", \"24\", \"25\", \"26\", \"27\", \"28\", \"29\", \"30\", \"31\", \"32\", \"33\", \"36\", \"37\"], \"mode\": \"markers\", \"name\": \"average_precision_score_weighted\", \"stepped\": false, \"type\": \"scatter\", \"data\": [0.8150279171505724, 0.8126510495332506, 0.8082150703531853, 0.7993841281151716, 0.8107996327373325, 0.7969460949336762, 0.809194323497429, 0.8054097259476639, 0.8083911733351125, 0.8069873911394191, 0.8072126659250598, 0.811789068052078, 0.8011760053649395, 0.7866679991677376, 0.8047118204087068, 0.8043560301433684, 0.811154314855521, 0.8042614056220719, 0.8003242011125993, 0.8034423082892513, 0.8133707129119824, 0.8087776774267059, 0.8127899462328099, 0.8060551040090923, 0.8015815418575224, 0.8038663253622477, 0.80654591125459, 0.8086338979782425, 0.7975189545843905, 0.8055235027253266, 0.8051000168256318, 0.8153576339561712, 0.8008993605821132, 0.8119678119272646, 0.8150521477627334, 0.8167770465281113]}, {\"categories\": [\"0\", \"1\", \"2\", \"3\", \"4\", \"5\", \"6\", \"7\", \"8\", \"9\", \"10\", \"11\", \"12\", \"13\", \"14\", \"15\", \"16\", \"17\", \"18\", \"19\", \"20\", \"21\", \"22\", \"23\", \"24\", \"25\", \"26\", \"27\", \"28\", \"29\", \"30\", \"31\", \"32\", \"33\", \"36\", \"37\"], \"mode\": \"lines\", \"name\": \"average_precision_score_weighted_max\", \"stepped\": true, \"type\": \"scatter\", \"data\": [0.8150279171505724, 0.8150279171505724, 0.8150279171505724, 0.8150279171505724, 0.8150279171505724, 0.8150279171505724, 0.8150279171505724, 0.8150279171505724, 0.8150279171505724, 0.8150279171505724, 0.8150279171505724, 0.8150279171505724, 0.8150279171505724, 0.8150279171505724, 0.8150279171505724, 0.8150279171505724, 0.8150279171505724, 0.8150279171505724, 0.8150279171505724, 0.8150279171505724, 0.8150279171505724, 0.8150279171505724, 0.8150279171505724, 0.8150279171505724, 0.8150279171505724, 0.8150279171505724, 0.8150279171505724, 0.8150279171505724, 0.8150279171505724, 0.8150279171505724, 0.8150279171505724, 0.8153576339561712, 0.8153576339561712, 0.8153576339561712, 0.8153576339561712, 0.8167770465281113]}], \"weighted_accuracy\": [{\"categories\": [\"0\", \"1\", \"2\", \"3\", \"4\", \"5\", \"6\", \"7\", \"8\", \"9\", \"10\", \"11\", \"12\", \"13\", \"14\", \"15\", \"16\", \"17\", \"18\", \"19\", \"20\", \"21\", \"22\", \"23\", \"24\", \"25\", \"26\", \"27\", \"28\", \"29\", \"30\", \"31\", \"32\", \"33\", \"36\", \"37\"], \"mode\": \"markers\", \"name\": \"weighted_accuracy\", \"stepped\": false, \"type\": \"scatter\", \"data\": [0.8397324309802427, 0.8430039215132908, 0.8739546491669925, 0.8822691960849102, 0.7533880544137453, 0.6741497488303049, 0.8510460728085302, 0.8403045473332655, 0.8484031320121129, 0.8440546996752246, 0.8948923374222799, 0.8591483317880205, 0.8542036815639541, 0.8871146243032398, 0.8681699599818541, 0.8679637618464374, 0.8700831583150621, 0.8677556186807207, 0.8708115210511029, 0.8505002575867668, 0.8456944430090506, 0.8450180504004664, 0.8426142686891623, 0.8480042839976886, 0.9004644223796888, 0.9004644223796888, 0.8968145330847158, 0.854560528312804, 0.9004644223796888, 0.8450912335865949, 0.9004644223796888, 0.8396716441586953, 0.8924889038334519, 0.831544325373241, 0.8328049540892456, 0.8401898986928465]}, {\"categories\": [\"0\", \"1\", \"2\", \"3\", \"4\", \"5\", \"6\", \"7\", \"8\", \"9\", \"10\", \"11\", \"12\", \"13\", \"14\", \"15\", \"16\", \"17\", \"18\", \"19\", \"20\", \"21\", \"22\", \"23\", \"24\", \"25\", \"26\", \"27\", \"28\", \"29\", \"30\", \"31\", \"32\", \"33\", \"36\", \"37\"], \"mode\": \"lines\", \"name\": \"weighted_accuracy_max\", \"stepped\": true, \"type\": \"scatter\", \"data\": [0.8397324309802427, 0.8430039215132908, 0.8739546491669925, 0.8822691960849102, 0.8822691960849102, 0.8822691960849102, 0.8822691960849102, 0.8822691960849102, 0.8822691960849102, 0.8822691960849102, 0.8948923374222799, 0.8948923374222799, 0.8948923374222799, 0.8948923374222799, 0.8948923374222799, 0.8948923374222799, 0.8948923374222799, 0.8948923374222799, 0.8948923374222799, 0.8948923374222799, 0.8948923374222799, 0.8948923374222799, 0.8948923374222799, 0.8948923374222799, 0.9004644223796888, 0.9004644223796888, 0.9004644223796888, 0.9004644223796888, 0.9004644223796888, 0.9004644223796888, 0.9004644223796888, 0.9004644223796888, 0.9004644223796888, 0.9004644223796888, 0.9004644223796888, 0.9004644223796888]}], \"f1_score_micro\": [{\"categories\": [\"0\", \"1\", \"2\", \"3\", \"4\", \"5\", \"6\", \"7\", \"8\", \"9\", \"10\", \"11\", \"12\", \"13\", \"14\", \"15\", \"16\", \"17\", \"18\", \"19\", \"20\", \"21\", \"22\", \"23\", \"24\", \"25\", \"26\", \"27\", \"28\", \"29\", \"30\", \"31\", \"32\", \"33\", \"36\", \"37\"], \"mode\": \"markers\", \"name\": \"f1_score_micro\", \"stepped\": false, \"type\": \"scatter\", \"data\": [0.7966906775237499, 0.7928802588996765, 0.7727320179559453, 0.7628666875456728, 0.7540975049587639, 0.6924522392734106, 0.780874830358075, 0.7800396701117028, 0.7825451508508193, 0.7829105334586074, 0.7562898006054911, 0.7797264850193132, 0.7823363607892264, 0.7567595782440756, 0.7722100428019627, 0.7736715732331141, 0.7758638688798413, 0.7738803632947073, 0.7673556738699238, 0.7794132999269235, 0.7932456415074641, 0.7789435222883391, 0.7940808017538364, 0.779883077565508, 0.7506524689424783, 0.7506524689424783, 0.7526881720430109, 0.7841632738281658, 0.7506524689424783, 0.7783171521035599, 0.7506524689424783, 0.7960121098235725, 0.7581167136444306, 0.7843720638897588, 0.8017016390019834, 0.7972648501931308]}, {\"categories\": [\"0\", \"1\", \"2\", \"3\", \"4\", \"5\", \"6\", \"7\", \"8\", \"9\", \"10\", \"11\", \"12\", \"13\", \"14\", \"15\", \"16\", \"17\", \"18\", \"19\", \"20\", \"21\", \"22\", \"23\", \"24\", \"25\", \"26\", \"27\", \"28\", \"29\", \"30\", \"31\", \"32\", \"33\", \"36\", \"37\"], \"mode\": \"lines\", \"name\": \"f1_score_micro_max\", \"stepped\": true, \"type\": \"scatter\", \"data\": [0.7966906775237499, 0.7966906775237499, 0.7966906775237499, 0.7966906775237499, 0.7966906775237499, 0.7966906775237499, 0.7966906775237499, 0.7966906775237499, 0.7966906775237499, 0.7966906775237499, 0.7966906775237499, 0.7966906775237499, 0.7966906775237499, 0.7966906775237499, 0.7966906775237499, 0.7966906775237499, 0.7966906775237499, 0.7966906775237499, 0.7966906775237499, 0.7966906775237499, 0.7966906775237499, 0.7966906775237499, 0.7966906775237499, 0.7966906775237499, 0.7966906775237499, 0.7966906775237499, 0.7966906775237499, 0.7966906775237499, 0.7966906775237499, 0.7966906775237499, 0.7966906775237499, 0.7966906775237499, 0.7966906775237499, 0.7966906775237499, 0.8017016390019834, 0.8017016390019834]}], \"AUC_micro\": [{\"categories\": [\"0\", \"1\", \"2\", \"3\", \"4\", \"5\", \"6\", \"7\", \"8\", \"9\", \"10\", \"11\", \"12\", \"13\", \"14\", \"15\", \"16\", \"17\", \"18\", \"19\", \"20\", \"21\", \"22\", \"23\", \"24\", \"25\", \"26\", \"27\", \"28\", \"29\", \"30\", \"31\", \"32\", \"33\", \"36\", \"37\"], \"mode\": \"markers\", \"name\": \"AUC_micro\", \"stepped\": false, \"type\": \"scatter\", \"data\": [0.8760317346507837, 0.8750981298576752, 0.8625686173366961, 0.856372626766317, 0.7969235474288072, 0.7717047747763036, 0.8680420573020499, 0.8658518132645249, 0.8683445347926274, 0.8678930826832513, 0.8585231218972681, 0.8684455540680435, 0.8679465144336674, 0.8496571458594749, 0.8618734242456134, 0.8618114999774241, 0.8659042396446947, 0.8617819764218934, 0.8577806845783429, 0.8651755505595465, 0.8745921261952502, 0.8666637437365843, 0.8750226044830621, 0.8663532968477115, 0.8548339689071512, 0.8566958982561387, 0.8585807140822815, 0.8690668238379137, 0.8529353067623296, 0.8640328614501388, 0.857557476036142, 0.8769512642604412, 0.856133871767134, 0.8721184331381542, 0.876013997630988, 0.877560355154968]}, {\"categories\": [\"0\", \"1\", \"2\", \"3\", \"4\", \"5\", \"6\", \"7\", \"8\", \"9\", \"10\", \"11\", \"12\", \"13\", \"14\", \"15\", \"16\", \"17\", \"18\", \"19\", \"20\", \"21\", \"22\", \"23\", \"24\", \"25\", \"26\", \"27\", \"28\", \"29\", \"30\", \"31\", \"32\", \"33\", \"36\", \"37\"], \"mode\": \"lines\", \"name\": \"AUC_micro_max\", \"stepped\": true, \"type\": \"scatter\", \"data\": [0.8760317346507837, 0.8760317346507837, 0.8760317346507837, 0.8760317346507837, 0.8760317346507837, 0.8760317346507837, 0.8760317346507837, 0.8760317346507837, 0.8760317346507837, 0.8760317346507837, 0.8760317346507837, 0.8760317346507837, 0.8760317346507837, 0.8760317346507837, 0.8760317346507837, 0.8760317346507837, 0.8760317346507837, 0.8760317346507837, 0.8760317346507837, 0.8760317346507837, 0.8760317346507837, 0.8760317346507837, 0.8760317346507837, 0.8760317346507837, 0.8760317346507837, 0.8760317346507837, 0.8760317346507837, 0.8760317346507837, 0.8760317346507837, 0.8760317346507837, 0.8760317346507837, 0.8769512642604412, 0.8769512642604412, 0.8769512642604412, 0.8769512642604412, 0.877560355154968]}], \"precision_score_micro\": [{\"categories\": [\"0\", \"1\", \"2\", \"3\", \"4\", \"5\", \"6\", \"7\", \"8\", \"9\", \"10\", \"11\", \"12\", \"13\", \"14\", \"15\", \"16\", \"17\", \"18\", \"19\", \"20\", \"21\", \"22\", \"23\", \"24\", \"25\", \"26\", \"27\", \"28\", \"29\", \"30\", \"31\", \"32\", \"33\", \"36\", \"37\"], \"mode\": \"markers\", \"name\": \"precision_score_micro\", \"stepped\": false, \"type\": \"scatter\", \"data\": [0.7966906775237499, 0.7928802588996763, 0.7727320179559453, 0.7628666875456728, 0.7540975049587639, 0.6924522392734106, 0.7808748303580749, 0.7800396701117028, 0.7825451508508193, 0.7829105334586074, 0.7562898006054911, 0.7797264850193132, 0.7823363607892264, 0.7567595782440756, 0.7722100428019626, 0.7736715732331141, 0.7758638688798413, 0.7738803632947073, 0.7673556738699238, 0.7794132999269235, 0.7932456415074641, 0.7789435222883391, 0.7940808017538364, 0.779883077565508, 0.7506524689424784, 0.7506524689424784, 0.7526881720430109, 0.7841632738281659, 0.7506524689424784, 0.7783171521035599, 0.7506524689424784, 0.7960121098235725, 0.7581167136444305, 0.7843720638897588, 0.8017016390019834, 0.7972648501931308]}, {\"categories\": [\"0\", \"1\", \"2\", \"3\", \"4\", \"5\", \"6\", \"7\", \"8\", \"9\", \"10\", \"11\", \"12\", \"13\", \"14\", \"15\", \"16\", \"17\", \"18\", \"19\", \"20\", \"21\", \"22\", \"23\", \"24\", \"25\", \"26\", \"27\", \"28\", \"29\", \"30\", \"31\", \"32\", \"33\", \"36\", \"37\"], \"mode\": \"lines\", \"name\": \"precision_score_micro_max\", \"stepped\": true, \"type\": \"scatter\", \"data\": [0.7966906775237499, 0.7966906775237499, 0.7966906775237499, 0.7966906775237499, 0.7966906775237499, 0.7966906775237499, 0.7966906775237499, 0.7966906775237499, 0.7966906775237499, 0.7966906775237499, 0.7966906775237499, 0.7966906775237499, 0.7966906775237499, 0.7966906775237499, 0.7966906775237499, 0.7966906775237499, 0.7966906775237499, 0.7966906775237499, 0.7966906775237499, 0.7966906775237499, 0.7966906775237499, 0.7966906775237499, 0.7966906775237499, 0.7966906775237499, 0.7966906775237499, 0.7966906775237499, 0.7966906775237499, 0.7966906775237499, 0.7966906775237499, 0.7966906775237499, 0.7966906775237499, 0.7966906775237499, 0.7966906775237499, 0.7966906775237499, 0.8017016390019834, 0.8017016390019834]}], \"recall_score_micro\": [{\"categories\": [\"0\", \"1\", \"2\", \"3\", \"4\", \"5\", \"6\", \"7\", \"8\", \"9\", \"10\", \"11\", \"12\", \"13\", \"14\", \"15\", \"16\", \"17\", \"18\", \"19\", \"20\", \"21\", \"22\", \"23\", \"24\", \"25\", \"26\", \"27\", \"28\", \"29\", \"30\", \"31\", \"32\", \"33\", \"36\", \"37\"], \"mode\": \"markers\", \"name\": \"recall_score_micro\", \"stepped\": false, \"type\": \"scatter\", \"data\": [0.7966906775237499, 0.7928802588996763, 0.7727320179559453, 0.7628666875456728, 0.7540975049587639, 0.6924522392734106, 0.7808748303580749, 0.7800396701117028, 0.7825451508508193, 0.7829105334586074, 0.7562898006054911, 0.7797264850193132, 0.7823363607892264, 0.7567595782440756, 0.7722100428019626, 0.7736715732331141, 0.7758638688798413, 0.7738803632947073, 0.7673556738699238, 0.7794132999269235, 0.7932456415074641, 0.7789435222883391, 0.7940808017538364, 0.779883077565508, 0.7506524689424784, 0.7506524689424784, 0.7526881720430109, 0.7841632738281659, 0.7506524689424784, 0.7783171521035599, 0.7506524689424784, 0.7960121098235725, 0.7581167136444305, 0.7843720638897588, 0.8017016390019834, 0.7972648501931308]}, {\"categories\": [\"0\", \"1\", \"2\", \"3\", \"4\", \"5\", \"6\", \"7\", \"8\", \"9\", \"10\", \"11\", \"12\", \"13\", \"14\", \"15\", \"16\", \"17\", \"18\", \"19\", \"20\", \"21\", \"22\", \"23\", \"24\", \"25\", \"26\", \"27\", \"28\", \"29\", \"30\", \"31\", \"32\", \"33\", \"36\", \"37\"], \"mode\": \"lines\", \"name\": \"recall_score_micro_max\", \"stepped\": true, \"type\": \"scatter\", \"data\": [0.7966906775237499, 0.7966906775237499, 0.7966906775237499, 0.7966906775237499, 0.7966906775237499, 0.7966906775237499, 0.7966906775237499, 0.7966906775237499, 0.7966906775237499, 0.7966906775237499, 0.7966906775237499, 0.7966906775237499, 0.7966906775237499, 0.7966906775237499, 0.7966906775237499, 0.7966906775237499, 0.7966906775237499, 0.7966906775237499, 0.7966906775237499, 0.7966906775237499, 0.7966906775237499, 0.7966906775237499, 0.7966906775237499, 0.7966906775237499, 0.7966906775237499, 0.7966906775237499, 0.7966906775237499, 0.7966906775237499, 0.7966906775237499, 0.7966906775237499, 0.7966906775237499, 0.7966906775237499, 0.7966906775237499, 0.7966906775237499, 0.8017016390019834, 0.8017016390019834]}], \"recall_score_weighted\": [{\"categories\": [\"0\", \"1\", \"2\", \"3\", \"4\", \"5\", \"6\", \"7\", \"8\", \"9\", \"10\", \"11\", \"12\", \"13\", \"14\", \"15\", \"16\", \"17\", \"18\", \"19\", \"20\", \"21\", \"22\", \"23\", \"24\", \"25\", \"26\", \"27\", \"28\", \"29\", \"30\", \"31\", \"32\", \"33\", \"36\", \"37\"], \"mode\": \"markers\", \"name\": \"recall_score_weighted\", \"stepped\": false, \"type\": \"scatter\", \"data\": [0.7966906775237499, 0.7928802588996763, 0.7727320179559453, 0.7628666875456728, 0.7540975049587639, 0.6924522392734106, 0.7808748303580749, 0.7800396701117028, 0.7825451508508193, 0.7829105334586074, 0.7562898006054911, 0.7797264850193132, 0.7823363607892264, 0.7567595782440756, 0.7722100428019626, 0.7736715732331141, 0.7758638688798413, 0.7738803632947073, 0.7673556738699238, 0.7794132999269235, 0.7932456415074641, 0.7789435222883391, 0.7940808017538364, 0.779883077565508, 0.7506524689424784, 0.7506524689424784, 0.7526881720430109, 0.7841632738281659, 0.7506524689424784, 0.7783171521035599, 0.7506524689424784, 0.7960121098235725, 0.7581167136444305, 0.7843720638897588, 0.8017016390019834, 0.7972648501931308]}, {\"categories\": [\"0\", \"1\", \"2\", \"3\", \"4\", \"5\", \"6\", \"7\", \"8\", \"9\", \"10\", \"11\", \"12\", \"13\", \"14\", \"15\", \"16\", \"17\", \"18\", \"19\", \"20\", \"21\", \"22\", \"23\", \"24\", \"25\", \"26\", \"27\", \"28\", \"29\", \"30\", \"31\", \"32\", \"33\", \"36\", \"37\"], \"mode\": \"lines\", \"name\": \"recall_score_weighted_max\", \"stepped\": true, \"type\": \"scatter\", \"data\": [0.7966906775237499, 0.7966906775237499, 0.7966906775237499, 0.7966906775237499, 0.7966906775237499, 0.7966906775237499, 0.7966906775237499, 0.7966906775237499, 0.7966906775237499, 0.7966906775237499, 0.7966906775237499, 0.7966906775237499, 0.7966906775237499, 0.7966906775237499, 0.7966906775237499, 0.7966906775237499, 0.7966906775237499, 0.7966906775237499, 0.7966906775237499, 0.7966906775237499, 0.7966906775237499, 0.7966906775237499, 0.7966906775237499, 0.7966906775237499, 0.7966906775237499, 0.7966906775237499, 0.7966906775237499, 0.7966906775237499, 0.7966906775237499, 0.7966906775237499, 0.7966906775237499, 0.7966906775237499, 0.7966906775237499, 0.7966906775237499, 0.8017016390019834, 0.8017016390019834]}], \"f1_score_macro\": [{\"categories\": [\"0\", \"1\", \"2\", \"3\", \"4\", \"5\", \"6\", \"7\", \"8\", \"9\", \"10\", \"11\", \"12\", \"13\", \"14\", \"15\", \"16\", \"17\", \"18\", \"19\", \"20\", \"21\", \"22\", \"23\", \"24\", \"25\", \"26\", \"27\", \"28\", \"29\", \"30\", \"31\", \"32\", \"33\", \"36\", \"37\"], \"mode\": \"markers\", \"name\": \"f1_score_macro\", \"stepped\": false, \"type\": \"scatter\", \"data\": [0.7263337755431367, 0.7149903217921084, 0.6116116523381686, 0.5478906909215532, 0.7135269826699875, 0.6616273773946343, 0.677063700526967, 0.688697183723523, 0.684716601445237, 0.6909076676015885, 0.48447690279657846, 0.6624056131535898, 0.6765113146901559, 0.5089261521390942, 0.6245683445782699, 0.6296129770721579, 0.6317118238260879, 0.6306657138095152, 0.6019728807790191, 0.6736272047022794, 0.7129130214703882, 0.6801910155901781, 0.7179648129646566, 0.678636465057644, 0.4287737471156044, 0.4287737471156044, 0.4567343502836894, 0.6804989384382356, 0.4287737471156044, 0.678537403312626, 0.4287737471156044, 0.7249296510217258, 0.5025177584908269, 0.7080282644173966, 0.7424319707334553, 0.7270959036797752]}, {\"categories\": [\"0\", \"1\", \"2\", \"3\", \"4\", \"5\", \"6\", \"7\", \"8\", \"9\", \"10\", \"11\", \"12\", \"13\", \"14\", \"15\", \"16\", \"17\", \"18\", \"19\", \"20\", \"21\", \"22\", \"23\", \"24\", \"25\", \"26\", \"27\", \"28\", \"29\", \"30\", \"31\", \"32\", \"33\", \"36\", \"37\"], \"mode\": \"lines\", \"name\": \"f1_score_macro_max\", \"stepped\": true, \"type\": \"scatter\", \"data\": [0.7263337755431367, 0.7263337755431367, 0.7263337755431367, 0.7263337755431367, 0.7263337755431367, 0.7263337755431367, 0.7263337755431367, 0.7263337755431367, 0.7263337755431367, 0.7263337755431367, 0.7263337755431367, 0.7263337755431367, 0.7263337755431367, 0.7263337755431367, 0.7263337755431367, 0.7263337755431367, 0.7263337755431367, 0.7263337755431367, 0.7263337755431367, 0.7263337755431367, 0.7263337755431367, 0.7263337755431367, 0.7263337755431367, 0.7263337755431367, 0.7263337755431367, 0.7263337755431367, 0.7263337755431367, 0.7263337755431367, 0.7263337755431367, 0.7263337755431367, 0.7263337755431367, 0.7263337755431367, 0.7263337755431367, 0.7263337755431367, 0.7424319707334553, 0.7424319707334553]}], \"average_precision_score_macro\": [{\"categories\": [\"0\", \"1\", \"2\", \"3\", \"4\", \"5\", \"6\", \"7\", \"8\", \"9\", \"10\", \"11\", \"12\", \"13\", \"14\", \"15\", \"16\", \"17\", \"18\", \"19\", \"20\", \"21\", \"22\", \"23\", \"24\", \"25\", \"26\", \"27\", \"28\", \"29\", \"30\", \"31\", \"32\", \"33\", \"36\", \"37\"], \"mode\": \"markers\", \"name\": \"average_precision_score_macro\", \"stepped\": false, \"type\": \"scatter\", \"data\": [0.725524164276503, 0.7225233247032788, 0.7145864094243852, 0.7052296902838587, 0.719434812837718, 0.7004700353808881, 0.7161088745592151, 0.7115689785343188, 0.7156531928143197, 0.7119289696033059, 0.7146207353508262, 0.7199518838547888, 0.705425842020262, 0.6867677818454037, 0.7116325450595369, 0.7113668339814229, 0.7202929263973455, 0.7112620256701878, 0.7035825617277514, 0.7088341892307918, 0.7228339764615795, 0.7139959981135169, 0.7227321706004955, 0.7113073884710331, 0.7070205629187006, 0.7083617556867469, 0.7138031660755053, 0.7161119863533824, 0.6985690292976336, 0.7103507442836275, 0.7095672129615925, 0.7254693059118065, 0.7055286594868121, 0.7186496337087248, 0.7256943647534363, 0.7275104298402826]}, {\"categories\": [\"0\", \"1\", \"2\", \"3\", \"4\", \"5\", \"6\", \"7\", \"8\", \"9\", \"10\", \"11\", \"12\", \"13\", \"14\", \"15\", \"16\", \"17\", \"18\", \"19\", \"20\", \"21\", \"22\", \"23\", \"24\", \"25\", \"26\", \"27\", \"28\", \"29\", \"30\", \"31\", \"32\", \"33\", \"36\", \"37\"], \"mode\": \"lines\", \"name\": \"average_precision_score_macro_max\", \"stepped\": true, \"type\": \"scatter\", \"data\": [0.725524164276503, 0.725524164276503, 0.725524164276503, 0.725524164276503, 0.725524164276503, 0.725524164276503, 0.725524164276503, 0.725524164276503, 0.725524164276503, 0.725524164276503, 0.725524164276503, 0.725524164276503, 0.725524164276503, 0.725524164276503, 0.725524164276503, 0.725524164276503, 0.725524164276503, 0.725524164276503, 0.725524164276503, 0.725524164276503, 0.725524164276503, 0.725524164276503, 0.725524164276503, 0.725524164276503, 0.725524164276503, 0.725524164276503, 0.725524164276503, 0.725524164276503, 0.725524164276503, 0.725524164276503, 0.725524164276503, 0.725524164276503, 0.725524164276503, 0.725524164276503, 0.7256943647534363, 0.7275104298402826]}], \"balanced_accuracy\": [{\"categories\": [\"0\", \"1\", \"2\", \"3\", \"4\", \"5\", \"6\", \"7\", \"8\", \"9\", \"10\", \"11\", \"12\", \"13\", \"14\", \"15\", \"16\", \"17\", \"18\", \"19\", \"20\", \"21\", \"22\", \"23\", \"24\", \"25\", \"26\", \"27\", \"28\", \"29\", \"30\", \"31\", \"32\", \"33\", \"36\", \"37\"], \"mode\": \"markers\", \"name\": \"balanced_accuracy\", \"stepped\": false, \"type\": \"scatter\", \"data\": [0.7248325554994094, 0.7092071903260377, 0.6033204316997408, 0.563077907590541, 0.7554732422922813, 0.7231600656336806, 0.6635513873585315, 0.6792676184115641, 0.6724714579262502, 0.6807886599902538, 0.524284652058506, 0.6469122222081297, 0.6620927773348232, 0.5394805495187267, 0.6116565416946321, 0.6159097459591231, 0.6180789121588517, 0.6168121109702174, 0.5945408965516998, 0.6607019320239055, 0.7056940959591301, 0.6685297676349089, 0.713064504780697, 0.6659953998739648, 0.5, 0.5, 0.5116476748825382, 0.6663722688766285, 0.5, 0.6666585438524256, 0.5, 0.7231529515285873, 0.533280735488734, 0.7055528706107793, 0.7497928886843171, 0.7256760416344828]}, {\"categories\": [\"0\", \"1\", \"2\", \"3\", \"4\", \"5\", \"6\", \"7\", \"8\", \"9\", \"10\", \"11\", \"12\", \"13\", \"14\", \"15\", \"16\", \"17\", \"18\", \"19\", \"20\", \"21\", \"22\", \"23\", \"24\", \"25\", \"26\", \"27\", \"28\", \"29\", \"30\", \"31\", \"32\", \"33\", \"36\", \"37\"], \"mode\": \"lines\", \"name\": \"balanced_accuracy_max\", \"stepped\": true, \"type\": \"scatter\", \"data\": [0.7248325554994094, 0.7248325554994094, 0.7248325554994094, 0.7248325554994094, 0.7554732422922813, 0.7554732422922813, 0.7554732422922813, 0.7554732422922813, 0.7554732422922813, 0.7554732422922813, 0.7554732422922813, 0.7554732422922813, 0.7554732422922813, 0.7554732422922813, 0.7554732422922813, 0.7554732422922813, 0.7554732422922813, 0.7554732422922813, 0.7554732422922813, 0.7554732422922813, 0.7554732422922813, 0.7554732422922813, 0.7554732422922813, 0.7554732422922813, 0.7554732422922813, 0.7554732422922813, 0.7554732422922813, 0.7554732422922813, 0.7554732422922813, 0.7554732422922813, 0.7554732422922813, 0.7554732422922813, 0.7554732422922813, 0.7554732422922813, 0.7554732422922813, 0.7554732422922813]}], \"AUC_macro\": [{\"categories\": [\"0\", \"1\", \"2\", \"3\", \"4\", \"5\", \"6\", \"7\", \"8\", \"9\", \"10\", \"11\", \"12\", \"13\", \"14\", \"15\", \"16\", \"17\", \"18\", \"19\", \"20\", \"21\", \"22\", \"23\", \"24\", \"25\", \"26\", \"27\", \"28\", \"29\", \"30\", \"31\", \"32\", \"33\", \"36\", \"37\"], \"mode\": \"markers\", \"name\": \"AUC_macro\", \"stepped\": false, \"type\": \"scatter\", \"data\": [0.7996074621462127, 0.7988399095313269, 0.7897482191783451, 0.7777465030324816, 0.792796566556293, 0.7730192200635488, 0.791538542442631, 0.7867025024107628, 0.7917685420390219, 0.7903073781801297, 0.7871261486930101, 0.7935071838866422, 0.7893937705049409, 0.7626997538335005, 0.7868849165874644, 0.7868442999700145, 0.794200235405563, 0.7867678363822893, 0.7768399047371769, 0.7862805187219882, 0.798005709284939, 0.7899263276993879, 0.7983076030618742, 0.7886461948737805, 0.7783984056599437, 0.7833937356541939, 0.7881236114578455, 0.7928498515598325, 0.7733323294539304, 0.7859483674886419, 0.7856769423583766, 0.801315608898434, 0.7797048826982537, 0.796959252417972, 0.799444245011999, 0.802495882894484]}, {\"categories\": [\"0\", \"1\", \"2\", \"3\", \"4\", \"5\", \"6\", \"7\", \"8\", \"9\", \"10\", \"11\", \"12\", \"13\", \"14\", \"15\", \"16\", \"17\", \"18\", \"19\", \"20\", \"21\", \"22\", \"23\", \"24\", \"25\", \"26\", \"27\", \"28\", \"29\", \"30\", \"31\", \"32\", \"33\", \"36\", \"37\"], \"mode\": \"lines\", \"name\": \"AUC_macro_max\", \"stepped\": true, \"type\": \"scatter\", \"data\": [0.7996074621462127, 0.7996074621462127, 0.7996074621462127, 0.7996074621462127, 0.7996074621462127, 0.7996074621462127, 0.7996074621462127, 0.7996074621462127, 0.7996074621462127, 0.7996074621462127, 0.7996074621462127, 0.7996074621462127, 0.7996074621462127, 0.7996074621462127, 0.7996074621462127, 0.7996074621462127, 0.7996074621462127, 0.7996074621462127, 0.7996074621462127, 0.7996074621462127, 0.7996074621462127, 0.7996074621462127, 0.7996074621462127, 0.7996074621462127, 0.7996074621462127, 0.7996074621462127, 0.7996074621462127, 0.7996074621462127, 0.7996074621462127, 0.7996074621462127, 0.7996074621462127, 0.801315608898434, 0.801315608898434, 0.801315608898434, 0.801315608898434, 0.802495882894484]}], \"f1_score_weighted\": [{\"categories\": [\"0\", \"1\", \"2\", \"3\", \"4\", \"5\", \"6\", \"7\", \"8\", \"9\", \"10\", \"11\", \"12\", \"13\", \"14\", \"15\", \"16\", \"17\", \"18\", \"19\", \"20\", \"21\", \"22\", \"23\", \"24\", \"25\", \"26\", \"27\", \"28\", \"29\", \"30\", \"31\", \"32\", \"33\", \"36\", \"37\"], \"mode\": \"markers\", \"name\": \"f1_score_weighted\", \"stepped\": false, \"type\": \"scatter\", \"data\": [0.7958776613703908, 0.7896469204816093, 0.7369113771204673, 0.7039293511371404, 0.7675982109515371, 0.712826451683836, 0.7688597258872725, 0.7732345999135845, 0.7727614272319223, 0.77541629167398, 0.6722384038892213, 0.7621643016585088, 0.7692939213469919, 0.6829241515004817, 0.7426278278974449, 0.7454514232142498, 0.7472588777635241, 0.7460016780337769, 0.7303895839306471, 0.7666910355748477, 0.7889998264473496, 0.7692492799647002, 0.7913928648637581, 0.7690498105876995, 0.6437574436537479, 0.6437574436537479, 0.6576354956083064, 0.7717465237425641, 0.6437574436537479, 0.768318617292063, 0.6437574436537479, 0.7950148417005649, 0.6812522354324354, 0.7828780688026095, 0.8043753545604031, 0.7964315331340353]}, {\"categories\": [\"0\", \"1\", \"2\", \"3\", \"4\", \"5\", \"6\", \"7\", \"8\", \"9\", \"10\", \"11\", \"12\", \"13\", \"14\", \"15\", \"16\", \"17\", \"18\", \"19\", \"20\", \"21\", \"22\", \"23\", \"24\", \"25\", \"26\", \"27\", \"28\", \"29\", \"30\", \"31\", \"32\", \"33\", \"36\", \"37\"], \"mode\": \"lines\", \"name\": \"f1_score_weighted_max\", \"stepped\": true, \"type\": \"scatter\", \"data\": [0.7958776613703908, 0.7958776613703908, 0.7958776613703908, 0.7958776613703908, 0.7958776613703908, 0.7958776613703908, 0.7958776613703908, 0.7958776613703908, 0.7958776613703908, 0.7958776613703908, 0.7958776613703908, 0.7958776613703908, 0.7958776613703908, 0.7958776613703908, 0.7958776613703908, 0.7958776613703908, 0.7958776613703908, 0.7958776613703908, 0.7958776613703908, 0.7958776613703908, 0.7958776613703908, 0.7958776613703908, 0.7958776613703908, 0.7958776613703908, 0.7958776613703908, 0.7958776613703908, 0.7958776613703908, 0.7958776613703908, 0.7958776613703908, 0.7958776613703908, 0.7958776613703908, 0.7958776613703908, 0.7958776613703908, 0.7958776613703908, 0.8043753545604031, 0.8043753545604031]}], \"matthews_correlation\": [{\"categories\": [\"0\", \"1\", \"2\", \"3\", \"4\", \"5\", \"6\", \"7\", \"8\", \"9\", \"10\", \"11\", \"12\", \"13\", \"14\", \"15\", \"16\", \"17\", \"18\", \"19\", \"20\", \"21\", \"22\", \"23\", \"24\", \"25\", \"26\", \"27\", \"28\", \"29\", \"30\", \"31\", \"32\", \"33\", \"36\", \"37\"], \"mode\": \"markers\", \"name\": \"matthews_correlation\", \"stepped\": false, \"type\": \"scatter\", \"data\": [0.4530817590453362, 0.4315313713358871, 0.2843052534287406, 0.20165647491569683, 0.45694666525750915, 0.38808974711822897, 0.36515696261194397, 0.3814056656214471, 0.37742649293178016, 0.38709669143232217, 0.1331128729622624, 0.3454756362627574, 0.36588258873692653, 0.1529706879428084, 0.29311010339454946, 0.30082492094174434, 0.30671765597367157, 0.3022282279008457, 0.2637150834272603, 0.3599094584868683, 0.4282175956450736, 0.3679034469863433, 0.43716130704906897, 0.3664080973992445, 0.0, 0.0, 0.07328093329696453, 0.37348548312760615, 0.0, 0.3649062292399765, 0.0, 0.4504390695788365, 0.15460621933745453, 0.41666083763262063, 0.4861738327165188, 0.4547977200611684]}, {\"categories\": [\"0\", \"1\", \"2\", \"3\", \"4\", \"5\", \"6\", \"7\", \"8\", \"9\", \"10\", \"11\", \"12\", \"13\", \"14\", \"15\", \"16\", \"17\", \"18\", \"19\", \"20\", \"21\", \"22\", \"23\", \"24\", \"25\", \"26\", \"27\", \"28\", \"29\", \"30\", \"31\", \"32\", \"33\", \"36\", \"37\"], \"mode\": \"lines\", \"name\": \"matthews_correlation_max\", \"stepped\": true, \"type\": \"scatter\", \"data\": [0.4530817590453362, 0.4530817590453362, 0.4530817590453362, 0.4530817590453362, 0.45694666525750915, 0.45694666525750915, 0.45694666525750915, 0.45694666525750915, 0.45694666525750915, 0.45694666525750915, 0.45694666525750915, 0.45694666525750915, 0.45694666525750915, 0.45694666525750915, 0.45694666525750915, 0.45694666525750915, 0.45694666525750915, 0.45694666525750915, 0.45694666525750915, 0.45694666525750915, 0.45694666525750915, 0.45694666525750915, 0.45694666525750915, 0.45694666525750915, 0.45694666525750915, 0.45694666525750915, 0.45694666525750915, 0.45694666525750915, 0.45694666525750915, 0.45694666525750915, 0.45694666525750915, 0.45694666525750915, 0.45694666525750915, 0.45694666525750915, 0.4861738327165188, 0.4861738327165188]}], \"average_precision_score_micro\": [{\"categories\": [\"0\", \"1\", \"2\", \"3\", \"4\", \"5\", \"6\", \"7\", \"8\", \"9\", \"10\", \"11\", \"12\", \"13\", \"14\", \"15\", \"16\", \"17\", \"18\", \"19\", \"20\", \"21\", \"22\", \"23\", \"24\", \"25\", \"26\", \"27\", \"28\", \"29\", \"30\", \"31\", \"32\", \"33\", \"36\", \"37\"], \"mode\": \"markers\", \"name\": \"average_precision_score_micro\", \"stepped\": false, \"type\": \"scatter\", \"data\": [0.8631931352834181, 0.8612738775898308, 0.852291710093303, 0.84358117494375, 0.7686725393023961, 0.762958675296126, 0.8565359174554886, 0.8535302911521355, 0.8559037290504773, 0.8561557800292312, 0.848195457517305, 0.8575634351356305, 0.8500699621008353, 0.8343594739658416, 0.848546368464229, 0.8480580559667473, 0.8543016641632754, 0.8480117626690112, 0.8474025067000857, 0.8519483005757783, 0.8619292052387865, 0.8567235810405025, 0.8614477405027691, 0.8546098771806733, 0.8442805535190788, 0.8470399847004494, 0.8476621183842211, 0.8564209608503927, 0.8438803730700456, 0.8531761444302233, 0.8481793064608286, 0.8640989028118127, 0.8450923154971041, 0.8600832990014166, 0.8630768414788581, 0.8649868696034684]}, {\"categories\": [\"0\", \"1\", \"2\", \"3\", \"4\", \"5\", \"6\", \"7\", \"8\", \"9\", \"10\", \"11\", \"12\", \"13\", \"14\", \"15\", \"16\", \"17\", \"18\", \"19\", \"20\", \"21\", \"22\", \"23\", \"24\", \"25\", \"26\", \"27\", \"28\", \"29\", \"30\", \"31\", \"32\", \"33\", \"36\", \"37\"], \"mode\": \"lines\", \"name\": \"average_precision_score_micro_max\", \"stepped\": true, \"type\": \"scatter\", \"data\": [0.8631931352834181, 0.8631931352834181, 0.8631931352834181, 0.8631931352834181, 0.8631931352834181, 0.8631931352834181, 0.8631931352834181, 0.8631931352834181, 0.8631931352834181, 0.8631931352834181, 0.8631931352834181, 0.8631931352834181, 0.8631931352834181, 0.8631931352834181, 0.8631931352834181, 0.8631931352834181, 0.8631931352834181, 0.8631931352834181, 0.8631931352834181, 0.8631931352834181, 0.8631931352834181, 0.8631931352834181, 0.8631931352834181, 0.8631931352834181, 0.8631931352834181, 0.8631931352834181, 0.8631931352834181, 0.8631931352834181, 0.8631931352834181, 0.8631931352834181, 0.8631931352834181, 0.8640989028118127, 0.8640989028118127, 0.8640989028118127, 0.8640989028118127, 0.8649868696034684]}], \"accuracy\": [{\"categories\": [\"0\", \"1\", \"2\", \"3\", \"4\", \"5\", \"6\", \"7\", \"8\", \"9\", \"10\", \"11\", \"12\", \"13\", \"14\", \"15\", \"16\", \"17\", \"18\", \"19\", \"20\", \"21\", \"22\", \"23\", \"24\", \"25\", \"26\", \"27\", \"28\", \"29\", \"30\", \"31\", \"32\", \"33\", \"36\", \"37\"], \"mode\": \"markers\", \"name\": \"accuracy\", \"stepped\": false, \"type\": \"scatter\", \"data\": [0.7966906775237499, 0.7928802588996763, 0.7727320179559453, 0.7628666875456728, 0.7540975049587639, 0.6924522392734106, 0.7808748303580749, 0.7800396701117028, 0.7825451508508193, 0.7829105334586074, 0.7562898006054911, 0.7797264850193132, 0.7823363607892264, 0.7567595782440756, 0.7722100428019626, 0.7736715732331141, 0.7758638688798413, 0.7738803632947073, 0.7673556738699238, 0.7794132999269235, 0.7932456415074641, 0.7789435222883391, 0.7940808017538364, 0.779883077565508, 0.7506524689424784, 0.7506524689424784, 0.7526881720430109, 0.7841632738281659, 0.7506524689424784, 0.7783171521035599, 0.7506524689424784, 0.7960121098235725, 0.7581167136444305, 0.7843720638897588, 0.8017016390019834, 0.7972648501931308]}, {\"categories\": [\"0\", \"1\", \"2\", \"3\", \"4\", \"5\", \"6\", \"7\", \"8\", \"9\", \"10\", \"11\", \"12\", \"13\", \"14\", \"15\", \"16\", \"17\", \"18\", \"19\", \"20\", \"21\", \"22\", \"23\", \"24\", \"25\", \"26\", \"27\", \"28\", \"29\", \"30\", \"31\", \"32\", \"33\", \"36\", \"37\"], \"mode\": \"lines\", \"name\": \"accuracy_max\", \"stepped\": true, \"type\": \"scatter\", \"data\": [0.7966906775237499, 0.7966906775237499, 0.7966906775237499, 0.7966906775237499, 0.7966906775237499, 0.7966906775237499, 0.7966906775237499, 0.7966906775237499, 0.7966906775237499, 0.7966906775237499, 0.7966906775237499, 0.7966906775237499, 0.7966906775237499, 0.7966906775237499, 0.7966906775237499, 0.7966906775237499, 0.7966906775237499, 0.7966906775237499, 0.7966906775237499, 0.7966906775237499, 0.7966906775237499, 0.7966906775237499, 0.7966906775237499, 0.7966906775237499, 0.7966906775237499, 0.7966906775237499, 0.7966906775237499, 0.7966906775237499, 0.7966906775237499, 0.7966906775237499, 0.7966906775237499, 0.7966906775237499, 0.7966906775237499, 0.7966906775237499, 0.8017016390019834, 0.8017016390019834]}], \"recall_score_macro\": [{\"categories\": [\"0\", \"1\", \"2\", \"3\", \"4\", \"5\", \"6\", \"7\", \"8\", \"9\", \"10\", \"11\", \"12\", \"13\", \"14\", \"15\", \"16\", \"17\", \"18\", \"19\", \"20\", \"21\", \"22\", \"23\", \"24\", \"25\", \"26\", \"27\", \"28\", \"29\", \"30\", \"31\", \"32\", \"33\", \"36\", \"37\"], \"mode\": \"markers\", \"name\": \"recall_score_macro\", \"stepped\": false, \"type\": \"scatter\", \"data\": [0.7248325554994094, 0.7092071903260377, 0.6033204316997408, 0.563077907590541, 0.7554732422922813, 0.7231600656336806, 0.6635513873585315, 0.6792676184115641, 0.6724714579262502, 0.6807886599902538, 0.524284652058506, 0.6469122222081297, 0.6620927773348232, 0.5394805495187267, 0.6116565416946321, 0.6159097459591231, 0.6180789121588517, 0.6168121109702174, 0.5945408965516998, 0.6607019320239055, 0.7056940959591301, 0.6685297676349089, 0.713064504780697, 0.6659953998739648, 0.5, 0.5, 0.5116476748825382, 0.6663722688766285, 0.5, 0.6666585438524256, 0.5, 0.7231529515285873, 0.533280735488734, 0.7055528706107793, 0.7497928886843171, 0.7256760416344828]}, {\"categories\": [\"0\", \"1\", \"2\", \"3\", \"4\", \"5\", \"6\", \"7\", \"8\", \"9\", \"10\", \"11\", \"12\", \"13\", \"14\", \"15\", \"16\", \"17\", \"18\", \"19\", \"20\", \"21\", \"22\", \"23\", \"24\", \"25\", \"26\", \"27\", \"28\", \"29\", \"30\", \"31\", \"32\", \"33\", \"36\", \"37\"], \"mode\": \"lines\", \"name\": \"recall_score_macro_max\", \"stepped\": true, \"type\": \"scatter\", \"data\": [0.7248325554994094, 0.7248325554994094, 0.7248325554994094, 0.7248325554994094, 0.7554732422922813, 0.7554732422922813, 0.7554732422922813, 0.7554732422922813, 0.7554732422922813, 0.7554732422922813, 0.7554732422922813, 0.7554732422922813, 0.7554732422922813, 0.7554732422922813, 0.7554732422922813, 0.7554732422922813, 0.7554732422922813, 0.7554732422922813, 0.7554732422922813, 0.7554732422922813, 0.7554732422922813, 0.7554732422922813, 0.7554732422922813, 0.7554732422922813, 0.7554732422922813, 0.7554732422922813, 0.7554732422922813, 0.7554732422922813, 0.7554732422922813, 0.7554732422922813, 0.7554732422922813, 0.7554732422922813, 0.7554732422922813, 0.7554732422922813, 0.7554732422922813, 0.7554732422922813]}]}, \"metricName\": null, \"primaryMetricName\": \"accuracy\", \"showLegend\": false}, \"run_metrics\": [{\"name\": \"experiment_status\", \"run_id\": \"AutoML_14a5f20c-4824-4e9b-9277-358463cc13f6\", \"categories\": [0, 1, 2, 3, 4, 5, 6, 7, 8, 9, 10, 11, 12, 13], \"series\": [{\"data\": [\"DatasetEvaluation\", \"FeaturesGeneration\", \"DatasetFeaturization\", \"DatasetFeaturizationCompleted\", \"DatasetCrossValidationSplit\", \"ModelSelection\", \"BestRunExplainModel\", \"ModelExplanationDataSetSetup\", \"PickSurrogateModel\", \"EngineeredFeatureExplanations\", \"EngineeredFeatureExplanations\", \"RawFeaturesExplanations\", \"RawFeaturesExplanations\", \"BestRunExplainModel\"]}]}, {\"name\": \"experiment_status_description\", \"run_id\": \"AutoML_14a5f20c-4824-4e9b-9277-358463cc13f6\", \"categories\": [0, 1, 2, 3, 4, 5, 6, 7, 8, 9, 10, 11, 12, 13], \"series\": [{\"data\": [\"Gathering dataset statistics.\", \"Generating features for the dataset.\", \"Beginning to fit featurizers and featurize the dataset.\", \"Completed fit featurizers and featurizing the dataset.\", \"Generating individually featurized CV splits.\", \"Beginning model selection.\", \"Best run model explanations started\", \"Model explanations data setup completed\", \"Choosing LightGBM as the surrogate model for explanations\", \"Computation of engineered features started\", \"Computation of engineered features completed\", \"Computation of raw features started\", \"Computation of raw features completed\", \"Best run model explanations completed\"]}]}, {\"name\": \"AUC_micro\", \"run_id\": \"AutoML_14a5f20c-4824-4e9b-9277-358463cc13f6\", \"categories\": [0], \"series\": [{\"data\": [0.876013997630988]}]}, {\"name\": \"f1_score_micro\", \"run_id\": \"AutoML_14a5f20c-4824-4e9b-9277-358463cc13f6\", \"categories\": [0], \"series\": [{\"data\": [0.8017016390019834]}]}, {\"name\": \"AUC_weighted\", \"run_id\": \"AutoML_14a5f20c-4824-4e9b-9277-358463cc13f6\", \"categories\": [0], \"series\": [{\"data\": [0.799444245011999]}]}, {\"name\": \"norm_macro_recall\", \"run_id\": \"AutoML_14a5f20c-4824-4e9b-9277-358463cc13f6\", \"categories\": [0], \"series\": [{\"data\": [0.4995857773686345]}]}, {\"name\": \"log_loss\", \"run_id\": \"AutoML_14a5f20c-4824-4e9b-9277-358463cc13f6\", \"categories\": [0], \"series\": [{\"data\": [0.457068908987813]}]}, {\"name\": \"accuracy\", \"run_id\": \"AutoML_14a5f20c-4824-4e9b-9277-358463cc13f6\", \"categories\": [0], \"series\": [{\"data\": [0.8017016390019834]}]}, {\"name\": \"precision_score_weighted\", \"run_id\": \"AutoML_14a5f20c-4824-4e9b-9277-358463cc13f6\", \"categories\": [0], \"series\": [{\"data\": [0.8080207450574403]}]}, {\"name\": \"matthews_correlation\", \"run_id\": \"AutoML_14a5f20c-4824-4e9b-9277-358463cc13f6\", \"categories\": [0], \"series\": [{\"data\": [0.4861738327165188]}]}, {\"name\": \"f1_score_macro\", \"run_id\": \"AutoML_14a5f20c-4824-4e9b-9277-358463cc13f6\", \"categories\": [0], \"series\": [{\"data\": [0.7424319707334553]}]}, {\"name\": \"f1_score_weighted\", \"run_id\": \"AutoML_14a5f20c-4824-4e9b-9277-358463cc13f6\", \"categories\": [0], \"series\": [{\"data\": [0.8043753545604031]}]}, {\"name\": \"recall_score_weighted\", \"run_id\": \"AutoML_14a5f20c-4824-4e9b-9277-358463cc13f6\", \"categories\": [0], \"series\": [{\"data\": [0.8017016390019834]}]}, {\"name\": \"average_precision_score_micro\", \"run_id\": \"AutoML_14a5f20c-4824-4e9b-9277-358463cc13f6\", \"categories\": [0], \"series\": [{\"data\": [0.8630768414788581]}]}, {\"name\": \"average_precision_score_weighted\", \"run_id\": \"AutoML_14a5f20c-4824-4e9b-9277-358463cc13f6\", \"categories\": [0], \"series\": [{\"data\": [0.8150521477627334]}]}, {\"name\": \"average_precision_score_macro\", \"run_id\": \"AutoML_14a5f20c-4824-4e9b-9277-358463cc13f6\", \"categories\": [0], \"series\": [{\"data\": [0.7256943647534363]}]}, {\"name\": \"recall_score_macro\", \"run_id\": \"AutoML_14a5f20c-4824-4e9b-9277-358463cc13f6\", \"categories\": [0], \"series\": [{\"data\": [0.7497928886843171]}]}, {\"name\": \"recall_score_micro\", \"run_id\": \"AutoML_14a5f20c-4824-4e9b-9277-358463cc13f6\", \"categories\": [0], \"series\": [{\"data\": [0.8017016390019834]}]}, {\"name\": \"AUC_macro\", \"run_id\": \"AutoML_14a5f20c-4824-4e9b-9277-358463cc13f6\", \"categories\": [0], \"series\": [{\"data\": [0.799444245011999]}]}, {\"name\": \"precision_score_macro\", \"run_id\": \"AutoML_14a5f20c-4824-4e9b-9277-358463cc13f6\", \"categories\": [0], \"series\": [{\"data\": [0.7365992963891689]}]}, {\"name\": \"precision_score_micro\", \"run_id\": \"AutoML_14a5f20c-4824-4e9b-9277-358463cc13f6\", \"categories\": [0], \"series\": [{\"data\": [0.8017016390019834]}]}, {\"name\": \"weighted_accuracy\", \"run_id\": \"AutoML_14a5f20c-4824-4e9b-9277-358463cc13f6\", \"categories\": [0], \"series\": [{\"data\": [0.8328049540892456]}]}, {\"name\": \"balanced_accuracy\", \"run_id\": \"AutoML_14a5f20c-4824-4e9b-9277-358463cc13f6\", \"categories\": [0], \"series\": [{\"data\": [0.7497928886843171]}]}], \"run_logs\": \"\\nRun is completed.\", \"graph\": {}, \"widget_settings\": {\"childWidgetDisplay\": \"popup\", \"send_telemetry\": false, \"log_level\": \"INFO\", \"sdk_version\": \"1.20.0\"}, \"loading\": false}"
     },
     "metadata": {},
     "output_type": "display_data"
    }
   ],
   "source": [
    "RunDetails(remote_run).show()"
   ]
  },
  {
   "cell_type": "code",
   "execution_count": 11,
   "metadata": {
    "gather": {
     "logged": 1612766426694
    },
    "id": "g1MxACxl3P0W",
    "outputId": "55681e07-37de-4922-fde2-246d86073cda"
   },
   "outputs": [
    {
     "name": "stdout",
     "output_type": "stream",
     "text": [
      "\n",
      "\n",
      "****************************************************************************************************\n",
      "DATA GUARDRAILS: \n",
      "\n",
      "TYPE:         Class balancing detection\n",
      "STATUS:       PASSED\n",
      "DESCRIPTION:  Your inputs were analyzed, and all classes are balanced in your training data.\n",
      "              Learn more about imbalanced data: https://aka.ms/AutomatedMLImbalancedData\n",
      "\n",
      "****************************************************************************************************\n",
      "\n",
      "TYPE:         Missing feature values imputation\n",
      "STATUS:       DONE\n",
      "DESCRIPTION:  If the missing values are expected, let the run complete. Otherwise cancel the current run and use a script to customize the handling of missing feature values that may be more appropriate based on the data type and business requirement.\n",
      "              Learn more about missing value imputation: https://aka.ms/AutomatedMLFeaturization\n",
      "DETAILS:      \n",
      "+---------------------------------+---------------------------------+\n",
      "|Column name                      |Missing value count              |\n",
      "+=================================+=================================+\n",
      "|gender                           |4508                             |\n",
      "|enrolled_university              |386                              |\n",
      "|education_level                  |460                              |\n",
      "|major_discipline                 |2813                             |\n",
      "|experience                       |65                               |\n",
      "|company_size                     |5938                             |\n",
      "|company_type                     |6140                             |\n",
      "|last_new_job                     |423                              |\n",
      "+---------------------------------+---------------------------------+\n",
      "\n",
      "****************************************************************************************************\n",
      "\n",
      "TYPE:         High cardinality feature detection\n",
      "STATUS:       PASSED\n",
      "DESCRIPTION:  Your inputs were analyzed, and no high cardinality features were detected.\n",
      "              Learn more about high cardinality feature handling: https://aka.ms/AutomatedMLFeaturization\n",
      "\n",
      "****************************************************************************************************\n",
      "\n",
      "****************************************************************************************************\n",
      "ITERATION: The iteration being evaluated.\n",
      "PIPELINE: A summary description of the pipeline being evaluated.\n",
      "DURATION: Time taken for the current iteration.\n",
      "METRIC: The result of computing score on the fitted pipeline.\n",
      "BEST: The best observed score thus far.\n",
      "****************************************************************************************************\n",
      "\n",
      " ITERATION   PIPELINE                                       DURATION      METRIC      BEST\n",
      "         0   MaxAbsScaler LightGBM                          0:01:17       0.7967    0.7967\n",
      "         1   MaxAbsScaler XGBoostClassifier                 0:01:19       0.7929    0.7967\n",
      "         2   MaxAbsScaler RandomForest                      0:01:00       0.7727    0.7967\n",
      "         3   MaxAbsScaler RandomForest                      0:01:00       0.7629    0.7967\n",
      "         4   MaxAbsScaler RandomForest                      0:00:57       0.7541    0.7967\n",
      "         5   MaxAbsScaler RandomForest                      0:01:08       0.6925    0.7967\n",
      "         6   SparseNormalizer XGBoostClassifier             0:01:13       0.7809    0.7967\n",
      "         7   SparseNormalizer XGBoostClassifier             0:01:03       0.7800    0.7967\n",
      "        10   MaxAbsScaler RandomForest                      0:01:22       0.7563    0.7967\n",
      "        11   StandardScalerWrapper RandomForest             0:00:56       0.7797    0.7967\n",
      "         8   SparseNormalizer XGBoostClassifier             0:01:22       0.7825    0.7967\n",
      "         9   SparseNormalizer XGBoostClassifier             0:00:57       0.7829    0.7967\n",
      "        12   MaxAbsScaler RandomForest                      0:01:03       0.7823    0.7967\n",
      "        13   SparseNormalizer XGBoostClassifier             0:00:55       0.7568    0.7967\n",
      "        14   MaxAbsScaler LogisticRegression                0:01:01       0.7722    0.7967\n",
      "        15   StandardScalerWrapper LogisticRegression       0:01:12       0.7737    0.7967\n",
      "        16   MaxAbsScaler LightGBM                          0:01:14       0.7759    0.7967\n",
      "        17   MaxAbsScaler LogisticRegression                0:01:12       0.7739    0.7967\n",
      "        18   SparseNormalizer LightGBM                      0:00:58       0.7674    0.7967\n",
      "        19   SparseNormalizer XGBoostClassifier             0:01:01       0.7794    0.7967\n",
      "        20   MaxAbsScaler LightGBM                          0:01:08       0.7932    0.7967\n",
      "        21   SparseNormalizer XGBoostClassifier             0:01:04       0.7789    0.7967\n",
      "        22   StandardScalerWrapper LightGBM                 0:01:05       0.7941    0.7967\n",
      "        23   SparseNormalizer XGBoostClassifier             0:01:05       0.7799    0.7967\n",
      "        24   StandardScalerWrapper LightGBM                 0:01:02       0.7507    0.7967\n",
      "        25   StandardScalerWrapper ExtremeRandomTrees       0:01:09       0.7507    0.7967\n",
      "        26   StandardScalerWrapper RandomForest             0:01:06       0.7527    0.7967\n",
      "        27   StandardScalerWrapper LightGBM                 0:00:55       0.7842    0.7967\n",
      "        28   SparseNormalizer RandomForest                  0:01:03       0.7507    0.7967\n",
      "        29   SparseNormalizer XGBoostClassifier             0:01:46       0.7783    0.7967\n",
      "        30   SparseNormalizer LightGBM                      0:01:02       0.7507    0.7967\n",
      "        31   StandardScalerWrapper LightGBM                 0:00:57       0.7960    0.7967\n",
      "        32   SparseNormalizer LightGBM                      0:00:57       0.7581    0.7967\n",
      "        33   StandardScalerWrapper XGBoostClassifier        0:00:55       0.7844    0.7967\n",
      "        34   SparseNormalizer XGBoostClassifier             0:00:53          nan    0.7967\n",
      "        35                                                  0:00:22          nan    0.7967\n",
      "        36    VotingEnsemble                                0:02:09       0.8017    0.8017\n",
      "        37    StackEnsemble                                 0:02:09       0.7973    0.8017\n"
     ]
    },
    {
     "data": {
      "text/plain": [
       "{'runId': 'AutoML_14a5f20c-4824-4e9b-9277-358463cc13f6',\n",
       " 'target': 'compute-clust',\n",
       " 'status': 'Completed',\n",
       " 'startTimeUtc': '2021-02-08T06:13:13.753831Z',\n",
       " 'endTimeUtc': '2021-02-08T06:33:13.104987Z',\n",
       " 'properties': {'num_iterations': '1000',\n",
       "  'training_type': 'TrainFull',\n",
       "  'acquisition_function': 'EI',\n",
       "  'primary_metric': 'accuracy',\n",
       "  'train_split': '0',\n",
       "  'acquisition_parameter': '0',\n",
       "  'num_cross_validation': '6',\n",
       "  'target': 'compute-clust',\n",
       "  'AMLSettingsJsonString': '{\"path\":null,\"name\":\"automl_hr_analytics\",\"subscription_id\":\"2c48c51c-bd47-40d4-abbe-fb8eabd19c8c\",\"resource_group\":\"aml-quickstarts-138112\",\"workspace_name\":\"quick-starts-ws-138112\",\"region\":\"southcentralus\",\"compute_target\":\"compute-clust\",\"spark_service\":null,\"azure_service\":\"remote\",\"many_models\":false,\"pipeline_fetch_max_batch_size\":1,\"iterations\":1000,\"primary_metric\":\"accuracy\",\"task_type\":\"classification\",\"data_script\":null,\"validation_size\":0.0,\"n_cross_validations\":6,\"y_min\":null,\"y_max\":null,\"num_classes\":null,\"featurization\":\"auto\",\"_ignore_package_version_incompatibilities\":false,\"is_timeseries\":false,\"max_cores_per_iteration\":-1,\"max_concurrent_iterations\":4,\"iteration_timeout_minutes\":null,\"mem_in_mb\":null,\"enforce_time_on_windows\":false,\"experiment_timeout_minutes\":30,\"experiment_exit_score\":null,\"whitelist_models\":null,\"blacklist_algos\":[\"TensorFlowLinearClassifier\",\"TensorFlowDNN\"],\"supported_models\":[\"ExtremeRandomTrees\",\"KNN\",\"LogisticRegression\",\"AveragedPerceptronClassifier\",\"DecisionTree\",\"BernoulliNaiveBayes\",\"TensorFlowLinearClassifier\",\"MultinomialNaiveBayes\",\"SVM\",\"TensorFlowDNN\",\"RandomForest\",\"LightGBM\",\"XGBoostClassifier\",\"LinearSVM\",\"GradientBoosting\",\"SGD\"],\"auto_blacklist\":true,\"blacklist_samples_reached\":false,\"exclude_nan_labels\":true,\"verbosity\":20,\"_debug_log\":\"azureml_automl.log\",\"show_warnings\":false,\"model_explainability\":true,\"service_url\":null,\"sdk_url\":null,\"sdk_packages\":null,\"enable_onnx_compatible_models\":false,\"enable_split_onnx_featurizer_estimator_models\":false,\"vm_type\":\"STANDARD_DS3_V2\",\"telemetry_verbosity\":20,\"send_telemetry\":true,\"enable_dnn\":false,\"scenario\":\"SDK-1.13.0\",\"environment_label\":null,\"force_text_dnn\":false,\"enable_feature_sweeping\":true,\"enable_early_stopping\":true,\"early_stopping_n_iters\":10,\"metrics\":null,\"enable_ensembling\":true,\"enable_stack_ensembling\":true,\"ensemble_iterations\":15,\"enable_tf\":false,\"enable_subsampling\":null,\"subsample_seed\":null,\"enable_nimbusml\":false,\"enable_streaming\":false,\"force_streaming\":false,\"track_child_runs\":true,\"allowed_private_models\":[],\"label_column_name\":\"target\",\"weight_column_name\":null,\"cv_split_column_names\":null,\"enable_local_managed\":false,\"_local_managed_run_id\":null,\"cost_mode\":1,\"lag_length\":0,\"metric_operation\":\"maximize\",\"preprocess\":true}',\n",
       "  'DataPrepJsonString': '{\\\\\"training_data\\\\\": \\\\\"{\\\\\\\\\\\\\"blocks\\\\\\\\\\\\\": [{\\\\\\\\\\\\\"id\\\\\\\\\\\\\": \\\\\\\\\\\\\"f925630c-8053-426f-99b5-0c0757ff562d\\\\\\\\\\\\\", \\\\\\\\\\\\\"type\\\\\\\\\\\\\": \\\\\\\\\\\\\"Microsoft.DPrep.GetDatastoreFilesBlock\\\\\\\\\\\\\", \\\\\\\\\\\\\"arguments\\\\\\\\\\\\\": {\\\\\\\\\\\\\"datastores\\\\\\\\\\\\\": [{\\\\\\\\\\\\\"datastoreName\\\\\\\\\\\\\": \\\\\\\\\\\\\"workspaceblobstore\\\\\\\\\\\\\", \\\\\\\\\\\\\"path\\\\\\\\\\\\\": \\\\\\\\\\\\\"UI/02-08-2021_055728_UTC/data.csv\\\\\\\\\\\\\", \\\\\\\\\\\\\"resourceGroup\\\\\\\\\\\\\": \\\\\\\\\\\\\"aml-quickstarts-138112\\\\\\\\\\\\\", \\\\\\\\\\\\\"subscription\\\\\\\\\\\\\": \\\\\\\\\\\\\"2c48c51c-bd47-40d4-abbe-fb8eabd19c8c\\\\\\\\\\\\\", \\\\\\\\\\\\\"workspaceName\\\\\\\\\\\\\": \\\\\\\\\\\\\"quick-starts-ws-138112\\\\\\\\\\\\\"}]}, \\\\\\\\\\\\\"localData\\\\\\\\\\\\\": {}, \\\\\\\\\\\\\"isEnabled\\\\\\\\\\\\\": true, \\\\\\\\\\\\\"name\\\\\\\\\\\\\": null, \\\\\\\\\\\\\"annotation\\\\\\\\\\\\\": null}, {\\\\\\\\\\\\\"id\\\\\\\\\\\\\": \\\\\\\\\\\\\"123d170b-2e72-4043-9bfb-5de4abd379d8\\\\\\\\\\\\\", \\\\\\\\\\\\\"type\\\\\\\\\\\\\": \\\\\\\\\\\\\"Microsoft.DPrep.ParseDelimitedBlock\\\\\\\\\\\\\", \\\\\\\\\\\\\"arguments\\\\\\\\\\\\\": {\\\\\\\\\\\\\"columnHeadersMode\\\\\\\\\\\\\": 1, \\\\\\\\\\\\\"fileEncoding\\\\\\\\\\\\\": 0, \\\\\\\\\\\\\"handleQuotedLineBreaks\\\\\\\\\\\\\": false, \\\\\\\\\\\\\"preview\\\\\\\\\\\\\": false, \\\\\\\\\\\\\"separator\\\\\\\\\\\\\": \\\\\\\\\\\\\",\\\\\\\\\\\\\", \\\\\\\\\\\\\"skipRows\\\\\\\\\\\\\": 0, \\\\\\\\\\\\\"skipRowsMode\\\\\\\\\\\\\": 0}, \\\\\\\\\\\\\"localData\\\\\\\\\\\\\": {}, \\\\\\\\\\\\\"isEnabled\\\\\\\\\\\\\": true, \\\\\\\\\\\\\"name\\\\\\\\\\\\\": null, \\\\\\\\\\\\\"annotation\\\\\\\\\\\\\": null}, {\\\\\\\\\\\\\"id\\\\\\\\\\\\\": \\\\\\\\\\\\\"6aef262b-4963-4fc7-a2a6-d8a704b09a87\\\\\\\\\\\\\", \\\\\\\\\\\\\"type\\\\\\\\\\\\\": \\\\\\\\\\\\\"Microsoft.DPrep.DropColumnsBlock\\\\\\\\\\\\\", \\\\\\\\\\\\\"arguments\\\\\\\\\\\\\": {\\\\\\\\\\\\\"columns\\\\\\\\\\\\\": {\\\\\\\\\\\\\"type\\\\\\\\\\\\\": 0, \\\\\\\\\\\\\"details\\\\\\\\\\\\\": {\\\\\\\\\\\\\"selectedColumns\\\\\\\\\\\\\": [\\\\\\\\\\\\\"Path\\\\\\\\\\\\\"]}}}, \\\\\\\\\\\\\"localData\\\\\\\\\\\\\": {}, \\\\\\\\\\\\\"isEnabled\\\\\\\\\\\\\": true, \\\\\\\\\\\\\"name\\\\\\\\\\\\\": null, \\\\\\\\\\\\\"annotation\\\\\\\\\\\\\": null}, {\\\\\\\\\\\\\"id\\\\\\\\\\\\\": \\\\\\\\\\\\\"083aa9c8-ace5-452a-9979-89059afc78e0\\\\\\\\\\\\\", \\\\\\\\\\\\\"type\\\\\\\\\\\\\": \\\\\\\\\\\\\"Microsoft.DPrep.SetColumnTypesBlock\\\\\\\\\\\\\", \\\\\\\\\\\\\"arguments\\\\\\\\\\\\\": {\\\\\\\\\\\\\"columnConversion\\\\\\\\\\\\\": [{\\\\\\\\\\\\\"column\\\\\\\\\\\\\": {\\\\\\\\\\\\\"type\\\\\\\\\\\\\": 2, \\\\\\\\\\\\\"details\\\\\\\\\\\\\": {\\\\\\\\\\\\\"selectedColumn\\\\\\\\\\\\\": \\\\\\\\\\\\\"Path\\\\\\\\\\\\\"}}, \\\\\\\\\\\\\"typeProperty\\\\\\\\\\\\\": 0}, {\\\\\\\\\\\\\"column\\\\\\\\\\\\\": {\\\\\\\\\\\\\"type\\\\\\\\\\\\\": 2, \\\\\\\\\\\\\"details\\\\\\\\\\\\\": {\\\\\\\\\\\\\"selectedColumn\\\\\\\\\\\\\": \\\\\\\\\\\\\"enrollee_id\\\\\\\\\\\\\"}}, \\\\\\\\\\\\\"typeProperty\\\\\\\\\\\\\": 2}, {\\\\\\\\\\\\\"column\\\\\\\\\\\\\": {\\\\\\\\\\\\\"type\\\\\\\\\\\\\": 2, \\\\\\\\\\\\\"details\\\\\\\\\\\\\": {\\\\\\\\\\\\\"selectedColumn\\\\\\\\\\\\\": \\\\\\\\\\\\\"city\\\\\\\\\\\\\"}}, \\\\\\\\\\\\\"typeProperty\\\\\\\\\\\\\": 0}, {\\\\\\\\\\\\\"column\\\\\\\\\\\\\": {\\\\\\\\\\\\\"type\\\\\\\\\\\\\": 2, \\\\\\\\\\\\\"details\\\\\\\\\\\\\": {\\\\\\\\\\\\\"selectedColumn\\\\\\\\\\\\\": \\\\\\\\\\\\\"city_development_index\\\\\\\\\\\\\"}}, \\\\\\\\\\\\\"typeProperty\\\\\\\\\\\\\": 3}, {\\\\\\\\\\\\\"column\\\\\\\\\\\\\": {\\\\\\\\\\\\\"type\\\\\\\\\\\\\": 2, \\\\\\\\\\\\\"details\\\\\\\\\\\\\": {\\\\\\\\\\\\\"selectedColumn\\\\\\\\\\\\\": \\\\\\\\\\\\\"gender\\\\\\\\\\\\\"}}, \\\\\\\\\\\\\"typeProperty\\\\\\\\\\\\\": 0}, {\\\\\\\\\\\\\"column\\\\\\\\\\\\\": {\\\\\\\\\\\\\"type\\\\\\\\\\\\\": 2, \\\\\\\\\\\\\"details\\\\\\\\\\\\\": {\\\\\\\\\\\\\"selectedColumn\\\\\\\\\\\\\": \\\\\\\\\\\\\"relevent_experience\\\\\\\\\\\\\"}}, \\\\\\\\\\\\\"typeProperty\\\\\\\\\\\\\": 0}, {\\\\\\\\\\\\\"column\\\\\\\\\\\\\": {\\\\\\\\\\\\\"type\\\\\\\\\\\\\": 2, \\\\\\\\\\\\\"details\\\\\\\\\\\\\": {\\\\\\\\\\\\\"selectedColumn\\\\\\\\\\\\\": \\\\\\\\\\\\\"enrolled_university\\\\\\\\\\\\\"}}, \\\\\\\\\\\\\"typeProperty\\\\\\\\\\\\\": 0}, {\\\\\\\\\\\\\"column\\\\\\\\\\\\\": {\\\\\\\\\\\\\"type\\\\\\\\\\\\\": 2, \\\\\\\\\\\\\"details\\\\\\\\\\\\\": {\\\\\\\\\\\\\"selectedColumn\\\\\\\\\\\\\": \\\\\\\\\\\\\"education_level\\\\\\\\\\\\\"}}, \\\\\\\\\\\\\"typeProperty\\\\\\\\\\\\\": 0}, {\\\\\\\\\\\\\"column\\\\\\\\\\\\\": {\\\\\\\\\\\\\"type\\\\\\\\\\\\\": 2, \\\\\\\\\\\\\"details\\\\\\\\\\\\\": {\\\\\\\\\\\\\"selectedColumn\\\\\\\\\\\\\": \\\\\\\\\\\\\"major_discipline\\\\\\\\\\\\\"}}, \\\\\\\\\\\\\"typeProperty\\\\\\\\\\\\\": 0}, {\\\\\\\\\\\\\"column\\\\\\\\\\\\\": {\\\\\\\\\\\\\"type\\\\\\\\\\\\\": 2, \\\\\\\\\\\\\"details\\\\\\\\\\\\\": {\\\\\\\\\\\\\"selectedColumn\\\\\\\\\\\\\": \\\\\\\\\\\\\"experience\\\\\\\\\\\\\"}}, \\\\\\\\\\\\\"typeProperty\\\\\\\\\\\\\": 0}, {\\\\\\\\\\\\\"column\\\\\\\\\\\\\": {\\\\\\\\\\\\\"type\\\\\\\\\\\\\": 2, \\\\\\\\\\\\\"details\\\\\\\\\\\\\": {\\\\\\\\\\\\\"selectedColumn\\\\\\\\\\\\\": \\\\\\\\\\\\\"company_size\\\\\\\\\\\\\"}}, \\\\\\\\\\\\\"typeProperty\\\\\\\\\\\\\": 0}, {\\\\\\\\\\\\\"column\\\\\\\\\\\\\": {\\\\\\\\\\\\\"type\\\\\\\\\\\\\": 2, \\\\\\\\\\\\\"details\\\\\\\\\\\\\": {\\\\\\\\\\\\\"selectedColumn\\\\\\\\\\\\\": \\\\\\\\\\\\\"company_type\\\\\\\\\\\\\"}}, \\\\\\\\\\\\\"typeProperty\\\\\\\\\\\\\": 0}, {\\\\\\\\\\\\\"column\\\\\\\\\\\\\": {\\\\\\\\\\\\\"type\\\\\\\\\\\\\": 2, \\\\\\\\\\\\\"details\\\\\\\\\\\\\": {\\\\\\\\\\\\\"selectedColumn\\\\\\\\\\\\\": \\\\\\\\\\\\\"last_new_job\\\\\\\\\\\\\"}}, \\\\\\\\\\\\\"typeProperty\\\\\\\\\\\\\": 0}, {\\\\\\\\\\\\\"column\\\\\\\\\\\\\": {\\\\\\\\\\\\\"type\\\\\\\\\\\\\": 2, \\\\\\\\\\\\\"details\\\\\\\\\\\\\": {\\\\\\\\\\\\\"selectedColumn\\\\\\\\\\\\\": \\\\\\\\\\\\\"training_hours\\\\\\\\\\\\\"}}, \\\\\\\\\\\\\"typeProperty\\\\\\\\\\\\\": 2}, {\\\\\\\\\\\\\"column\\\\\\\\\\\\\": {\\\\\\\\\\\\\"type\\\\\\\\\\\\\": 2, \\\\\\\\\\\\\"details\\\\\\\\\\\\\": {\\\\\\\\\\\\\"selectedColumn\\\\\\\\\\\\\": \\\\\\\\\\\\\"target\\\\\\\\\\\\\"}}, \\\\\\\\\\\\\"typeProperty\\\\\\\\\\\\\": 3}]}, \\\\\\\\\\\\\"localData\\\\\\\\\\\\\": {}, \\\\\\\\\\\\\"isEnabled\\\\\\\\\\\\\": true, \\\\\\\\\\\\\"name\\\\\\\\\\\\\": null, \\\\\\\\\\\\\"annotation\\\\\\\\\\\\\": null}, {\\\\\\\\\\\\\"id\\\\\\\\\\\\\": \\\\\\\\\\\\\"ae328f51-2a65-4f4b-a910-a0009e19a07b\\\\\\\\\\\\\", \\\\\\\\\\\\\"type\\\\\\\\\\\\\": \\\\\\\\\\\\\"Microsoft.DPrep.DropColumnsBlock\\\\\\\\\\\\\", \\\\\\\\\\\\\"arguments\\\\\\\\\\\\\": {\\\\\\\\\\\\\"columns\\\\\\\\\\\\\": {\\\\\\\\\\\\\"type\\\\\\\\\\\\\": 0, \\\\\\\\\\\\\"details\\\\\\\\\\\\\": {\\\\\\\\\\\\\"selectedColumns\\\\\\\\\\\\\": [\\\\\\\\\\\\\"enrollee_id\\\\\\\\\\\\\", \\\\\\\\\\\\\"city\\\\\\\\\\\\\"]}}}, \\\\\\\\\\\\\"localData\\\\\\\\\\\\\": {}, \\\\\\\\\\\\\"isEnabled\\\\\\\\\\\\\": true, \\\\\\\\\\\\\"name\\\\\\\\\\\\\": null, \\\\\\\\\\\\\"annotation\\\\\\\\\\\\\": null}], \\\\\\\\\\\\\"inspectors\\\\\\\\\\\\\": [], \\\\\\\\\\\\\"meta\\\\\\\\\\\\\": {\\\\\\\\\\\\\"savedDatasetId\\\\\\\\\\\\\": \\\\\\\\\\\\\"c541fe14-0fd4-47f5-8a4b-a5075ed29685\\\\\\\\\\\\\", \\\\\\\\\\\\\"datasetType\\\\\\\\\\\\\": \\\\\\\\\\\\\"tabular\\\\\\\\\\\\\", \\\\\\\\\\\\\"subscriptionId\\\\\\\\\\\\\": \\\\\\\\\\\\\"2c48c51c-bd47-40d4-abbe-fb8eabd19c8c\\\\\\\\\\\\\", \\\\\\\\\\\\\"workspaceId\\\\\\\\\\\\\": \\\\\\\\\\\\\"82096da9-2e38-48b4-8d97-fd5d17648299\\\\\\\\\\\\\", \\\\\\\\\\\\\"workspaceLocation\\\\\\\\\\\\\": \\\\\\\\\\\\\"southcentralus\\\\\\\\\\\\\"}}\\\\\", \\\\\"activities\\\\\": 0}',\n",
       "  'EnableSubsampling': None,\n",
       "  'runTemplate': 'AutoML',\n",
       "  'azureml.runsource': 'automl',\n",
       "  'display_task_type': 'classification',\n",
       "  'dependencies_versions': '{\"azureml-widgets\": \"1.20.0\", \"azureml-train\": \"1.20.0\", \"azureml-train-restclients-hyperdrive\": \"1.20.0\", \"azureml-train-core\": \"1.20.0\", \"azureml-train-automl\": \"1.20.0\", \"azureml-train-automl-runtime\": \"1.20.0\", \"azureml-train-automl-client\": \"1.20.0\", \"azureml-tensorboard\": \"1.20.0\", \"azureml-telemetry\": \"1.20.0\", \"azureml-sdk\": \"1.20.0\", \"azureml-samples\": \"0+unknown\", \"azureml-pipeline\": \"1.20.0\", \"azureml-pipeline-steps\": \"1.20.0\", \"azureml-pipeline-core\": \"1.20.0\", \"azureml-opendatasets\": \"1.20.0\", \"azureml-model-management-sdk\": \"1.0.1b6.post1\", \"azureml-mlflow\": \"1.20.0.post1\", \"azureml-interpret\": \"1.20.0\", \"azureml-explain-model\": \"1.20.0\", \"azureml-defaults\": \"1.20.0\", \"azureml-dataset-runtime\": \"1.20.0\", \"azureml-dataprep\": \"2.7.3\", \"azureml-dataprep-rslex\": \"1.5.0\", \"azureml-dataprep-native\": \"27.0.0\", \"azureml-datadrift\": \"1.20.0\", \"azureml-core\": \"1.20.0\", \"azureml-contrib-services\": \"1.20.0\", \"azureml-contrib-server\": \"1.20.0\", \"azureml-contrib-reinforcementlearning\": \"1.20.0\", \"azureml-contrib-pipeline-steps\": \"1.20.0\", \"azureml-contrib-notebook\": \"1.20.0\", \"azureml-contrib-interpret\": \"1.20.0\", \"azureml-contrib-gbdt\": \"1.20.0\", \"azureml-contrib-fairness\": \"1.20.0\", \"azureml-contrib-dataset\": \"1.20.0\", \"azureml-cli-common\": \"1.20.0\", \"azureml-automl-runtime\": \"1.20.0\", \"azureml-automl-core\": \"1.20.0\", \"azureml-accel-models\": \"1.20.0\"}',\n",
       "  '_aml_system_scenario_identification': 'Remote.Parent',\n",
       "  'ClientType': 'SDK',\n",
       "  'environment_cpu_name': 'AzureML-AutoML',\n",
       "  'environment_cpu_label': 'prod',\n",
       "  'environment_gpu_name': 'AzureML-AutoML-GPU',\n",
       "  'environment_gpu_label': 'prod',\n",
       "  'root_attribution': 'automl',\n",
       "  'attribution': 'AutoML',\n",
       "  'Orchestrator': 'AutoML',\n",
       "  'CancelUri': 'https://southcentralus.experiments.azureml.net/jasmine/v1.0/subscriptions/2c48c51c-bd47-40d4-abbe-fb8eabd19c8c/resourceGroups/aml-quickstarts-138112/providers/Microsoft.MachineLearningServices/workspaces/quick-starts-ws-138112/experimentids/ab6d6498-f5ae-457e-bee9-05ebb9e98c2d/cancel/AutoML_14a5f20c-4824-4e9b-9277-358463cc13f6',\n",
       "  'ClientSdkVersion': '1.21.0',\n",
       "  'snapshotId': '00000000-0000-0000-0000-000000000000',\n",
       "  'SetupRunId': 'AutoML_14a5f20c-4824-4e9b-9277-358463cc13f6_setup',\n",
       "  'SetupRunContainerId': 'dcid.AutoML_14a5f20c-4824-4e9b-9277-358463cc13f6_setup',\n",
       "  'FeaturizationRunJsonPath': 'featurizer_container.json',\n",
       "  'FeaturizationRunId': 'AutoML_14a5f20c-4824-4e9b-9277-358463cc13f6_featurize',\n",
       "  'ProblemInfoJsonString': '{\"dataset_num_categorical\": 0, \"is_sparse\": true, \"subsampling\": false, \"dataset_classes\": 2, \"dataset_features\": 78, \"dataset_samples\": 19158, \"single_frequency_class_detected\": false}',\n",
       "  'ModelExplainRunId': 'AutoML_14a5f20c-4824-4e9b-9277-358463cc13f6_ModelExplain'},\n",
       " 'inputDatasets': [{'dataset': {'id': 'c541fe14-0fd4-47f5-8a4b-a5075ed29685'}, 'consumptionDetails': {'type': 'RunInput', 'inputName': 'training_data', 'mechanism': 'Direct'}}],\n",
       " 'outputDatasets': [],\n",
       " 'logFiles': {},\n",
       " 'submittedBy': 'ODL_User 138112'}"
      ]
     },
     "execution_count": 11,
     "metadata": {},
     "output_type": "execute_result"
    }
   ],
   "source": [
    "remote_run.wait_for_completion(show_output=True)"
   ]
  },
  {
   "cell_type": "markdown",
   "metadata": {
    "id": "Cae19_7u1j-_"
   },
   "source": [
    "## Best Model\n",
    "\n",
    "\n"
   ]
  },
  {
   "cell_type": "code",
   "execution_count": 12,
   "metadata": {
    "gather": {
     "logged": 1612766696626
    },
    "id": "Vph6kd9g1j-_",
    "jupyter": {
     "outputs_hidden": false,
     "source_hidden": false
    },
    "nteract": {
     "transient": {
      "deleting": false
     }
    },
    "outputId": "f261999f-f880-4174-fa8e-3eb87a90808c"
   },
   "outputs": [
    {
     "name": "stderr",
     "output_type": "stream",
     "text": [
      "WARNING:root:The version of the SDK does not match the version the model was trained on.\n",
      "WARNING:root:The consistency in the result may not be guaranteed.\n",
      "WARNING:root:Package:azureml-automl-core, training version:1.21.0, current version:1.20.0\n",
      "Package:azureml-automl-runtime, training version:1.21.0, current version:1.20.0\n",
      "Package:azureml-core, training version:1.21.0.post1, current version:1.20.0\n",
      "Package:azureml-dataprep, training version:2.8.2, current version:2.7.3\n",
      "Package:azureml-dataprep-native, training version:28.0.0, current version:27.0.0\n",
      "Package:azureml-dataprep-rslex, training version:1.6.0, current version:1.5.0\n",
      "Package:azureml-dataset-runtime, training version:1.21.0, current version:1.20.0\n",
      "Package:azureml-defaults, training version:1.21.0, current version:1.20.0\n",
      "Package:azureml-interpret, training version:1.21.0, current version:1.20.0\n",
      "Package:azureml-pipeline-core, training version:1.21.0, current version:1.20.0\n",
      "Package:azureml-telemetry, training version:1.21.0, current version:1.20.0\n",
      "Package:azureml-train-automl-client, training version:1.21.0, current version:1.20.0\n",
      "Package:azureml-train-automl-runtime, training version:1.21.0, current version:1.20.0\n",
      "WARNING:root:Please ensure the version of your local conda dependencies match the version on which your model was trained in order to properly retrieve your model.\n"
     ]
    },
    {
     "data": {
      "text/html": [
       "<table style=\"width:100%\"><tr><th>Experiment</th><th>Id</th><th>Type</th><th>Status</th><th>Details Page</th><th>Docs Page</th></tr><tr><td>automl_hr_analytics</td><td>AutoML_14a5f20c-4824-4e9b-9277-358463cc13f6_36</td><td>azureml.scriptrun</td><td>Completed</td><td><a href=\"https://ml.azure.com/experiments/automl_hr_analytics/runs/AutoML_14a5f20c-4824-4e9b-9277-358463cc13f6_36?wsid=/subscriptions/2c48c51c-bd47-40d4-abbe-fb8eabd19c8c/resourcegroups/aml-quickstarts-138112/workspaces/quick-starts-ws-138112\" target=\"_blank\" rel=\"noopener\">Link to Azure Machine Learning studio</a></td><td><a href=\"https://docs.microsoft.com/en-us/python/api/azureml-core/azureml.core.run.Run?view=azure-ml-py\" target=\"_blank\" rel=\"noopener\">Link to Documentation</a></td></tr></table>"
      ],
      "text/plain": [
       "Run(Experiment: automl_hr_analytics,\n",
       "Id: AutoML_14a5f20c-4824-4e9b-9277-358463cc13f6_36,\n",
       "Type: azureml.scriptrun,\n",
       "Status: Completed)"
      ]
     },
     "execution_count": 12,
     "metadata": {},
     "output_type": "execute_result"
    }
   ],
   "source": [
    "automl_best_run, model= remote_run.get_output()\n",
    "automl_best_run"
   ]
  },
  {
   "cell_type": "code",
   "execution_count": 13,
   "metadata": {
    "gather": {
     "logged": 1612766714949
    },
    "id": "J6amlY9z4eOA",
    "jupyter": {
     "outputs_hidden": false,
     "source_hidden": false
    },
    "nteract": {
     "transient": {
      "deleting": false
     }
    },
    "outputId": "eb040b4f-05c4-42db-bb01-5052124905c6"
   },
   "outputs": [
    {
     "name": "stdout",
     "output_type": "stream",
     "text": [
      "Best run ID:  AutoML_14a5f20c-4824-4e9b-9277-358463cc13f6_36\n",
      "Accuracy:  0.8017016390019834\n"
     ]
    }
   ],
   "source": [
    "metrics = automl_best_run.get_metrics()\n",
    "parameters = automl_best_run.get_details()\n",
    "\n",
    "print(\"Best run ID: \",automl_best_run.id)\n",
    "print(\"Accuracy: \",metrics[\"accuracy\"])"
   ]
  },
  {
   "cell_type": "code",
   "execution_count": 14,
   "metadata": {
    "gather": {
     "logged": 1612766726776
    },
    "id": "xMBpHhUF32yA",
    "outputId": "73c21bb3-054c-4ac4-bc15-0c8c090a1f69"
   },
   "outputs": [
    {
     "data": {
      "text/plain": [
       "PreFittedSoftVotingClassifier(classification_labels=None,\n",
       "                              estimators=[('0',\n",
       "                                           Pipeline(memory=None,\n",
       "                                                    steps=[('maxabsscaler',\n",
       "                                                            MaxAbsScaler(copy=True)),\n",
       "                                                           ('lightgbmclassifier',\n",
       "                                                            LightGBMClassifier(boosting_type='gbdt',\n",
       "                                                                               class_weight=None,\n",
       "                                                                               colsample_bytree=1.0,\n",
       "                                                                               importance_type='split',\n",
       "                                                                               learning_rate=0.1,\n",
       "                                                                               max_depth=-1,\n",
       "                                                                               min_child_samples=20,\n",
       "                                                                               min_child_weight=0.001,\n",
       "                                                                               min_spl...\n",
       "                                                                                   min_impurity_split=None,\n",
       "                                                                                   min_samples_leaf=0.01,\n",
       "                                                                                   min_samples_split=0.01,\n",
       "                                                                                   min_weight_fraction_leaf=0.0,\n",
       "                                                                                   n_estimators=25,\n",
       "                                                                                   n_jobs=-1,\n",
       "                                                                                   oob_score=True,\n",
       "                                                                                   random_state=None,\n",
       "                                                                                   verbose=0,\n",
       "                                                                                   warm_start=False))],\n",
       "                                                    verbose=False))],\n",
       "                              flatten_transform=None,\n",
       "                              weights=[0.25, 0.16666666666666666,\n",
       "                                       0.08333333333333333, 0.08333333333333333,\n",
       "                                       0.08333333333333333, 0.16666666666666666,\n",
       "                                       0.16666666666666666])"
      ]
     },
     "execution_count": 14,
     "metadata": {},
     "output_type": "execute_result"
    }
   ],
   "source": [
    "model._final_estimator"
   ]
  },
  {
   "cell_type": "code",
   "execution_count": 15,
   "metadata": {
    "gather": {
     "logged": 1612766830444
    },
    "id": "pTKezbld1j_A",
    "jupyter": {
     "outputs_hidden": false,
     "source_hidden": false
    },
    "nteract": {
     "transient": {
      "deleting": false
     }
    },
    "outputId": "81e0f98a-eb62-4760-c459-c04cc5c37ed4"
   },
   "outputs": [
    {
     "data": {
      "text/plain": [
       "['outputs/automl_model.joblib']"
      ]
     },
     "execution_count": 15,
     "metadata": {},
     "output_type": "execute_result"
    }
   ],
   "source": [
    "# Save the best model\n",
    "joblib.dump(model, filename=\"outputs/automl_model.joblib\")"
   ]
  },
  {
   "cell_type": "code",
   "execution_count": 16,
   "metadata": {
    "gather": {
     "logged": 1612766832600
    },
    "id": "wVXQmaLO4eOB",
    "jupyter": {
     "outputs_hidden": false,
     "source_hidden": false
    },
    "nteract": {
     "transient": {
      "deleting": false
     }
    },
    "outputId": "8f774c6d-60d1-4f2c-e1c5-f4c95be6898a"
   },
   "outputs": [
    {
     "data": {
      "text/plain": [
       "'AutoML14a5f20c436'"
      ]
     },
     "execution_count": 16,
     "metadata": {},
     "output_type": "execute_result"
    }
   ],
   "source": [
    "model_name = automl_best_run.properties['model_name']\n",
    "model_name"
   ]
  },
  {
   "cell_type": "markdown",
   "metadata": {
    "id": "TtJKGYlA1j_B"
   },
   "source": [
    "## Model Deployment\n",
    "\n"
   ]
  },
  {
   "cell_type": "code",
   "execution_count": 17,
   "metadata": {
    "collapsed": true,
    "gather": {
     "logged": 1612766835627
    },
    "id": "iWSN7wNG4eOB",
    "jupyter": {
     "outputs_hidden": false,
     "source_hidden": false
    },
    "nteract": {
     "transient": {
      "deleting": false
     }
    }
   },
   "outputs": [],
   "source": [
    "from azureml.core.environment import Environment\n",
    "from azureml.core.model import InferenceConfig, Model\n",
    "from azureml.core.webservice.aci import AciWebservice\n",
    "from azureml.core.webservice import Webservice\n",
    "from azureml.core.model import Model"
   ]
  },
  {
   "cell_type": "code",
   "execution_count": 18,
   "metadata": {
    "gather": {
     "logged": 1612766838945
    },
    "id": "3ahNqWie1j_B",
    "jupyter": {
     "outputs_hidden": false,
     "source_hidden": false
    },
    "nteract": {
     "transient": {
      "deleting": false
     }
    }
   },
   "outputs": [],
   "source": [
    "env = automl_best_run.get_environment().save_to_directory(path='environments')\n",
    "\n",
    "script_file= 'score.py'\n",
    "\n",
    "automl_best_run.download_file('outputs/scoring_file_v_1_0_0.py', script_file)"
   ]
  },
  {
   "cell_type": "code",
   "execution_count": 19,
   "metadata": {
    "gather": {
     "logged": 1612766844663
    },
    "id": "easQ8YBN4eOC",
    "jupyter": {
     "outputs_hidden": false,
     "source_hidden": false
    },
    "nteract": {
     "transient": {
      "deleting": false
     }
    },
    "outputId": "61acaeba-bcfe-4c6e-9c81-828844686904"
   },
   "outputs": [
    {
     "data": {
      "text/plain": [
       "'AutoML14a5f20c436:1'"
      ]
     },
     "execution_count": 19,
     "metadata": {},
     "output_type": "execute_result"
    }
   ],
   "source": [
    "model = remote_run.register_model(model_name = model_name, description = 'AutoML best model')\n",
    "\n",
    "model.id"
   ]
  },
  {
   "cell_type": "markdown",
   "metadata": {
    "id": "KsqG1Y1d-ZUI"
   },
   "source": [
    "# Setting Inference Config and ACI Config"
   ]
  },
  {
   "cell_type": "code",
   "execution_count": 20,
   "metadata": {
    "collapsed": true,
    "gather": {
     "logged": 1612766857047
    },
    "id": "Mofpxk-G4eOC",
    "jupyter": {
     "outputs_hidden": false,
     "source_hidden": false
    },
    "nteract": {
     "transient": {
      "deleting": false
     }
    }
   },
   "outputs": [],
   "source": [
    "inference_config= InferenceConfig(entry_script = script_file, environment = env)\n",
    "aci_config= AciWebservice.deploy_configuration(cpu_cores = 1, memory_gb = 1)"
   ]
  },
  {
   "cell_type": "code",
   "execution_count": 21,
   "metadata": {
    "gather": {
     "logged": 1612767097575
    },
    "id": "EHabhRVr4eOD",
    "jupyter": {
     "outputs_hidden": false,
     "source_hidden": false
    },
    "nteract": {
     "transient": {
      "deleting": false
     }
    }
   },
   "outputs": [
    {
     "name": "stdout",
     "output_type": "stream",
     "text": [
      "Tips: You can try get_logs(): https://aka.ms/debugimage#dockerlog or local deployment: https://aka.ms/debugimage#debug-locally to debug if deployment takes longer than 10 minutes.\n",
      "Running.............................................\n",
      "Succeeded\n",
      "ACI service creation operation finished, operation \"Succeeded\"\n"
     ]
    }
   ],
   "source": [
    "service = Model.deploy(ws, 'analytics-api', [model], inference_config, aci_config)\n",
    "service.wait_for_deployment(True)"
   ]
  },
  {
   "cell_type": "code",
   "execution_count": 22,
   "metadata": {
    "gather": {
     "logged": 1612767137345
    },
    "id": "sG1-pCwK4eOD",
    "jupyter": {
     "outputs_hidden": false,
     "source_hidden": false
    },
    "nteract": {
     "transient": {
      "deleting": false
     }
    },
    "outputId": "5eb08bd2-df47-4320-dceb-de15065e6ab5"
   },
   "outputs": [
    {
     "name": "stdout",
     "output_type": "stream",
     "text": [
      "State: Healthy\n",
      "Scoring URI: http://df7346c6-e47f-45e9-ada9-a40aeee9e464.southcentralus.azurecontainer.io/score\n"
     ]
    }
   ],
   "source": [
    "print(\"State: \" + service.state)\n",
    "print(\"Scoring URI: \" + service.scoring_uri)"
   ]
  },
  {
   "cell_type": "markdown",
   "metadata": {
    "collapsed": true,
    "gather": {
     "logged": 1598431657736
    },
    "id": "LBqGm4_d1j_B",
    "jupyter": {
     "outputs_hidden": false,
     "source_hidden": false
    },
    "nteract": {
     "transient": {
      "deleting": false
     }
    }
   },
   "source": [
    "#Testing the Endpoint"
   ]
  },
  {
   "cell_type": "code",
   "execution_count": 29,
   "metadata": {
    "gather": {
     "logged": 1598432707604
    },
    "id": "Od_Xb4qw1j_C",
    "jupyter": {
     "outputs_hidden": false,
     "source_hidden": false
    },
    "nteract": {
     "transient": {
      "deleting": false
     }
    }
   },
   "outputs": [
    {
     "name": "stdout",
     "output_type": "stream",
     "text": [
      "{\"result\": [0.0, 0.0]}\n"
     ]
    }
   ],
   "source": [
    "%run endpoint.py"
   ]
  },
  {
   "cell_type": "markdown",
   "metadata": {
    "collapsed": true,
    "gather": {
     "logged": 1598432765711
    },
    "id": "UE9PTjhg1j_C",
    "jupyter": {
     "outputs_hidden": false,
     "source_hidden": false
    },
    "nteract": {
     "transient": {
      "deleting": false
     }
    }
   },
   "source": [
    "# Logs of webservice"
   ]
  },
  {
   "cell_type": "code",
   "execution_count": 27,
   "metadata": {
    "gather": {
     "logged": 1612767237811
    },
    "id": "9eV9vqyn1j_D",
    "jupyter": {
     "outputs_hidden": false,
     "source_hidden": false
    },
    "nteract": {
     "transient": {
      "deleting": false
     }
    }
   },
   "outputs": [
    {
     "name": "stdout",
     "output_type": "stream",
     "text": [
      "2021-02-08T06:51:22,089234993+00:00 - iot-server/run \n",
      "2021-02-08T06:51:22,091179316+00:00 - gunicorn/run \n",
      "2021-02-08T06:51:22,092843635+00:00 - rsyslog/run \n",
      "2021-02-08T06:51:22,099531612+00:00 - nginx/run \n",
      "/usr/sbin/nginx: /azureml-envs/azureml_20a8278aa8b20dd48cc50f56a6d2586c/lib/libcrypto.so.1.0.0: no version information available (required by /usr/sbin/nginx)\n",
      "/usr/sbin/nginx: /azureml-envs/azureml_20a8278aa8b20dd48cc50f56a6d2586c/lib/libcrypto.so.1.0.0: no version information available (required by /usr/sbin/nginx)\n",
      "/usr/sbin/nginx: /azureml-envs/azureml_20a8278aa8b20dd48cc50f56a6d2586c/lib/libssl.so.1.0.0: no version information available (required by /usr/sbin/nginx)\n",
      "/usr/sbin/nginx: /azureml-envs/azureml_20a8278aa8b20dd48cc50f56a6d2586c/lib/libssl.so.1.0.0: no version information available (required by /usr/sbin/nginx)\n",
      "/usr/sbin/nginx: /azureml-envs/azureml_20a8278aa8b20dd48cc50f56a6d2586c/lib/libssl.so.1.0.0: no version information available (required by /usr/sbin/nginx)\n",
      "rsyslogd: /azureml-envs/azureml_20a8278aa8b20dd48cc50f56a6d2586c/lib/libuuid.so.1: no version information available (required by rsyslogd)\n",
      "EdgeHubConnectionString and IOTEDGE_IOTHUBHOSTNAME are not set. Exiting...\n",
      "2021-02-08T06:51:22,242453767+00:00 - iot-server/finish 1 0\n",
      "2021-02-08T06:51:22,243836083+00:00 - Exit code 1 is normal. Not restarting iot-server.\n",
      "Starting gunicorn 19.9.0\n",
      "Listening at: http://127.0.0.1:31311 (13)\n",
      "Using worker: sync\n",
      "worker timeout is set to 300\n",
      "Booting worker with pid: 43\n",
      "SPARK_HOME not set. Skipping PySpark Initialization.\n",
      "Generating new fontManager, this may take some time...\n",
      "Initializing logger\n",
      "2021-02-08 06:51:23,596 | root | INFO | Starting up app insights client\n",
      "2021-02-08 06:51:23,596 | root | INFO | Starting up request id generator\n",
      "2021-02-08 06:51:23,597 | root | INFO | Starting up app insight hooks\n",
      "2021-02-08 06:51:23,597 | root | INFO | Invoking user's init function\n",
      "2021-02-08 06:51:26,634 | root | INFO | Users's init has completed successfully\n",
      "2021-02-08 06:51:26,637 | root | INFO | Skipping middleware: dbg_model_info as it's not enabled.\n",
      "2021-02-08 06:51:26,637 | root | INFO | Skipping middleware: dbg_resource_usage as it's not enabled.\n",
      "2021-02-08 06:51:26,638 | root | INFO | Scoring timeout is found from os.environ: 60000 ms\n",
      "2021-02-08 06:51:31,220 | root | INFO | 200\n",
      "127.0.0.1 - - [08/Feb/2021:06:51:31 +0000] \"GET /swagger.json HTTP/1.0\" 200 2785 \"-\" \"Go-http-client/1.1\"\n",
      "2021-02-08 06:51:36,066 | root | INFO | 200\n",
      "127.0.0.1 - - [08/Feb/2021:06:51:36 +0000] \"GET /swagger.json HTTP/1.0\" 200 2785 \"-\" \"Go-http-client/1.1\"\n",
      "2021-02-08 06:53:12,550 | root | INFO | Validation Request Content-Type\n",
      "2021-02-08 06:53:12,551 | root | INFO | Scoring Timer is set to 60.0 seconds\n",
      "2021-02-08 06:53:12,631 | root | INFO | 200\n",
      "127.0.0.1 - - [08/Feb/2021:06:53:12 +0000] \"POST /score HTTP/1.0\" 200 31 \"-\" \"python-requests/2.25.1\"\n",
      "2021-02-08 06:53:45,035 | root | INFO | Validation Request Content-Type\n",
      "2021-02-08 06:53:45,035 | root | INFO | Scoring Timer is set to 60.0 seconds\n",
      "2021-02-08 06:53:45,093 | root | INFO | 200\n",
      "127.0.0.1 - - [08/Feb/2021:06:53:45 +0000] \"POST /score HTTP/1.0\" 200 26 \"-\" \"python-requests/2.25.1\"\n",
      "\n"
     ]
    }
   ],
   "source": [
    "logs = service.get_logs()\n",
    "\n",
    "for line in logs.split('\\n'):\n",
    "    print(line)"
   ]
  },
  {
   "cell_type": "code",
   "execution_count": 30,
   "metadata": {
    "id": "xCzopZtyx2L_"
   },
   "outputs": [],
   "source": [
    "service.delete()"
   ]
  },
  {
   "cell_type": "code",
   "execution_count": null,
   "metadata": {},
   "outputs": [],
   "source": []
  }
 ],
 "metadata": {
  "colab": {
   "name": "automl.ipynb",
   "provenance": []
  },
  "kernel_info": {
   "name": "python3"
  },
  "kernelspec": {
   "display_name": "Python 3",
   "language": "python",
   "name": "python3"
  },
  "language_info": {
   "codemirror_mode": {
    "name": "ipython",
    "version": 3
   },
   "file_extension": ".py",
   "mimetype": "text/x-python",
   "name": "python",
   "nbconvert_exporter": "python",
   "pygments_lexer": "ipython3",
   "version": "3.6.9"
  },
  "nteract": {
   "version": "nteract-front-end@1.0.0"
  }
 },
 "nbformat": 4,
 "nbformat_minor": 1
}
